{
  "nbformat": 4,
  "nbformat_minor": 0,
  "metadata": {
    "colab": {
      "name": "Tribe_Q_learning_v9.ipynb",
      "provenance": [],
      "collapsed_sections": [
        "sDFzrYFGtX-L",
        "JLakcETXe6xT",
        "HGbgNnT6iG-D",
        "WN0Uvkx4QUKk",
        "dS9-CE1TREDS",
        "ATtZ6GQZrena",
        "zwxlkfbQrgxP",
        "hX98tewahdjb",
        "9QONOYm58pQl",
        "EJDLDu5YB6-S",
        "K6azrSUejWrB",
        "qLZIbPEdjaAH",
        "htaVTOsyjcwL",
        "XQIocPf_KUyz",
        "N5OIV8UJSQfv",
        "aPChDgEkRDgV",
        "lrUaW0GQpBUO"
      ],
      "authorship_tag": "ABX9TyOJuY1Pjv3gzqXBq0ldc9+R",
      "include_colab_link": true
    },
    "kernelspec": {
      "name": "python3",
      "display_name": "Python 3"
    },
    "language_info": {
      "name": "python"
    }
  },
  "cells": [
    {
      "cell_type": "markdown",
      "metadata": {
        "id": "view-in-github",
        "colab_type": "text"
      },
      "source": [
        "<a href=\"https://colab.research.google.com/github/inforeqd512/QLearning/blob/main/Tribe_Q_learning_v9.ipynb\" target=\"_parent\"><img src=\"https://colab.research.google.com/assets/colab-badge.svg\" alt=\"Open In Colab\"/></a>"
      ]
    },
    {
      "cell_type": "code",
      "metadata": {
        "colab": {
          "base_uri": "https://localhost:8080/"
        },
        "id": "Pcq1xIvKhnoh",
        "outputId": "52ee7085-708c-49c2-e444-3b6e32e1ca72"
      },
      "source": [
        "import numpy as np\n",
        "import copy #for deepcopy()\n",
        "# importing functools for reduce()\n",
        "import functools\n",
        "\n",
        "import unittest\n",
        "!python -V"
      ],
      "execution_count": 414,
      "outputs": [
        {
          "output_type": "stream",
          "text": [
            "Python 3.7.11\n"
          ],
          "name": "stdout"
        }
      ]
    },
    {
      "cell_type": "markdown",
      "metadata": {
        "id": "sDFzrYFGtX-L"
      },
      "source": [
        "# Business Rules"
      ]
    },
    {
      "cell_type": "code",
      "metadata": {
        "id": "QT9HctaStavV"
      },
      "source": [
        "class Business_rules:\n",
        "  def __init__(self):\n",
        "    self.target_dr_per_lead = 4\n",
        "    self.target_max_reassign = 4\n",
        "    self.target_max_promote = 4\n",
        "    self.target_max_hire = 4\n",
        "    self.actions = ['reassign', 'promote_cascade',  'promote_leaders', 'hire']\n",
        "\n",
        "    #for simulations\n",
        "    self.ceil_total_people_in_grade = {\"3\" : 4, \"4.1\" : 10, \"4.2\" : 16, \"4.3\" : 64, \"4.4\" : 64, \"5.1\" : 26, \"5.2\": 16, \"MS\":100}\n",
        "\n",
        "    return"
      ],
      "execution_count": 415,
      "outputs": []
    },
    {
      "cell_type": "markdown",
      "metadata": {
        "id": "3cb74F54_mbJ"
      },
      "source": [
        "# Chapter"
      ]
    },
    {
      "cell_type": "code",
      "metadata": {
        "id": "a9Cnq6rzdk98"
      },
      "source": [
        "class Allocated_leads:\n",
        "  def __init__(self):\n",
        "    self.allocated_leaders_gradewise = {\"3\":0, \"4.1\":0, \"4.2\":0}\n",
        "    return\n",
        "\n",
        "  def total_leaders_leading(self):\n",
        "    total = functools.reduce(lambda x, value:x + value, self.allocated_leaders_gradewise.values(), 0)\n",
        "    return total \n",
        "\n",
        "  def allocate_leaders(self, allocated_leaders_gradewise = {\"3\":0, \"4.1\":0, \"4.2\":0}):\n",
        "    for grade in allocated_leaders_gradewise:\n",
        "      self.allocated_leaders_gradewise[grade] += allocated_leaders_gradewise[grade]\n",
        "    return\n",
        "\n",
        "  def promote_leaders(self, higher_grade, lower_grade, target):\n",
        "    if higher_grade in self.allocated_leaders_gradewise and \\\n",
        "      lower_grade in self.allocated_leaders_gradewise:\n",
        "      num_in_lower_grade = self.allocated_leaders_gradewise[lower_grade]\n",
        "      actually_promote = target\n",
        "      if num_in_lower_grade < target:\n",
        "        actually_promote = num_in_lower_grade\n",
        "      self.allocated_leaders_gradewise[higher_grade] += actually_promote\n",
        "      self.allocated_leaders_gradewise[lower_grade] -= actually_promote\n",
        "    return"
      ],
      "execution_count": 416,
      "outputs": []
    },
    {
      "cell_type": "code",
      "metadata": {
        "id": "v_Owab5me5nB"
      },
      "source": [
        "class Successor:\n",
        "  def __init__(self, \n",
        "               people_remaining_gradewise = {\"3\":0, \"4.1\":2, \"4.2\":0, \"4.3\":0, \"4.4\":0, \"5.1\":0, \"5.2\":0, \"MS\":0},\n",
        "               leader_successor_grades = {\"3\":\"4.1\", \"4.1\":\"4.2\", \"4.2\":\"4.3\"}\n",
        "               ):\n",
        "    self.people_remaining_gradewise = people_remaining_gradewise\n",
        "    self.leader_successor_grades = leader_successor_grades\n",
        "    self.engineer_successor_grades = {\"4.3\":\"4.4\", \"4.4\":\"5.1\", \"5.1\":\"5.2\"}\n",
        "    return\n",
        "\n",
        "  def successor_ratio_for_grade(self, kv_tuple):\n",
        "    k = kv_tuple[0]\n",
        "    v = kv_tuple[1]\n",
        "    total_successors = self.people_remaining_gradewise[v]\n",
        "    total_leaders = self.people_remaining_gradewise[k]\n",
        "    ratio = 0\n",
        "    if total_leaders <= 0:\n",
        "      total_leaders = 1\n",
        "    ratio = total_successors / total_leaders\n",
        "    return ratio\n",
        "\n",
        "  def dict_successor_per_lead(self):\n",
        "    d = dict(map(lambda kv: (kv[0], self.successor_ratio_for_grade(kv)) , self.leader_successor_grades.items()))\n",
        "    return d  \n",
        "\n",
        "\n",
        "  def total_successors_for_lead_grades(self):\n",
        "    d = self.dict_successor_per_lead()\n",
        "    total = functools.reduce(lambda x, value: x + value, d.values(), 0)\n",
        "    return total\n",
        "\n",
        "\n",
        "  def dict_successor_per_engineer(self):\n",
        "    d = dict(map(lambda kv: (kv[0], self.successor_ratio_for_grade(kv)) , self.engineer_successor_grades.items()))\n",
        "    return d  \n",
        "\n",
        "\n",
        "  def total_successors_for_engineer_grades(self):\n",
        "    d = self.dict_successor_per_engineer()\n",
        "    total = functools.reduce(lambda x, value: x + value, d.values(), 0)\n",
        "    return total\n",
        "\n",
        "\n",
        "  def diff_successor_ratio_for_leader_engineer_grades(self):\n",
        "    l = self.total_successors_for_lead_grades()\n",
        "    e = self.total_successors_for_engineer_grades()\n",
        "    diff = l - e\n",
        "    return diff\n",
        "\n",
        "  def is_num_people_immediate_promotable_to_higher_grade_lt_those_to_lower_grade(self):\n",
        "    promotable_to_higher_grade = self.total_successors_for_lead_grades()\n",
        "    promotable_to_lower_grade = self.total_successors_for_engineer_grades()\n",
        "    diff = promotable_to_higher_grade - promotable_to_lower_grade\n",
        "    rule = diff > 0\n",
        "    return rule  \n",
        "\n",
        "  def is_num_immediate_promotable_to_leader_grades_gt_zero(self):\n",
        "    rule = self.total_successors_for_lead_grades() > 0\n",
        "    return rule  "
      ],
      "execution_count": 417,
      "outputs": []
    },
    {
      "cell_type": "code",
      "metadata": {
        "id": "ItSuE429iKFY"
      },
      "source": [
        "class DR_per_lead:\n",
        "  def __init__(self, allocated_leads, business_rules, people_remaining_gradewise = {\"3\":0, \"4.1\":2, \"4.2\":0, \"4.3\":0, \"4.4\":0, \"5.1\":0, \"5.2\":0, \"MS\":0}):\n",
        "    self.people_remaining_gradewise = people_remaining_gradewise\n",
        "    self.allocated_leads = allocated_leads\n",
        "    return\n",
        "\n",
        "  def total_people_remaining(self):\n",
        "    total = functools.reduce(lambda x, value:x + value, self.people_remaining_gradewise.values(), 0)\n",
        "    return total\n",
        "\n",
        "  def dr_per_lead(self):\n",
        "    total = self.allocated_leads.total_leaders_leading()\n",
        "    ratio = 999 #some infinitely big number\n",
        "    if total > 0:\n",
        "      ratio = self.total_people_remaining() / total\n",
        "    return ratio\n",
        "\n",
        "  def is_overall_dr_per_lead_gt_target(self):\n",
        "    rule = self.dr_per_lead() > self.business_rules.target_dr_per_lead\n",
        "    return rule"
      ],
      "execution_count": 418,
      "outputs": []
    },
    {
      "cell_type": "code",
      "metadata": {
        "id": "3Fsk2uzklOe7"
      },
      "source": [
        "class DR_per_lead_for_this_leader_grade_wrt_higher_grades:\n",
        "  def __init__(self, allocated_leads, business_rules, ranked_grades=[\"3\",\"4.1\",\"4.2\"]):\n",
        "    self.allocated_leads = allocated_leads\n",
        "    self.ranked_grades = ranked_grades\n",
        "    self.business_rules = business_rules\n",
        "    return\n",
        "\n",
        "  def dr_per_lead_for_this_grade_wrt_higher_grades(self, grade):\n",
        "    total_leading_in_grade = self.allocated_leads.allocated_leaders_gradewise[grade]\n",
        "    total_leading_in_higher_grades = 0\n",
        "    for local_grade in self.ranked_grades:\n",
        "      if local_grade == grade:\n",
        "        break\n",
        "      total_leading_in_higher_grades += self.allocated_leads.allocated_leaders_gradewise[local_grade]\n",
        "\n",
        "    dr_per_lead_higher_grade = 0\n",
        "    if total_leading_in_higher_grades > 0:\n",
        "      dr_per_lead_higher_grade = total_leading_in_grade / total_leading_in_higher_grades\n",
        "\n",
        "    return dr_per_lead_higher_grade\n",
        "\n",
        "  def dict_dr_per_lead_for_this_grade_wrt_higher_grade(self):\n",
        "    dict_dr = {}\n",
        "    for grade in self.ranked_grades:\n",
        "      dr_per_lead_higher_grade = self.dr_per_lead_for_this_grade_wrt_higher_grades(grade)\n",
        "      dict_dr[grade] = dr_per_lead_higher_grade\n",
        "    return dict_dr\n",
        "\n",
        "  def max_dr_per_lead_in_leader_grades(self):\n",
        "    vals = self.dict_dr_per_lead_for_this_grade_wrt_higher_grade().values()\n",
        "    max_val = max(vals)\n",
        "    if max_val > 10:\n",
        "      print(\"max_dr_per_lead_in_leader_grades :\", max_val)\n",
        "    return max_val\n",
        "\n",
        "  def is_max_dr_per_lead_in_leader_grades_gt_target(self):\n",
        "    rule = False\n",
        "    second_highest_grade = self.ranked_grades[1]\n",
        "    max_val = self.max_dr_per_lead_in_leader_grades()\n",
        "    if max_val > self.business_rules.target_dr_per_lead:\n",
        "       if max_val == self.dict_dr_per_lead_for_this_grade_wrt_higher_grade()[second_highest_grade]:\n",
        "         #no more promotions possible\n",
        "         rule = False\n",
        "       else:\n",
        "         rule = True\n",
        "    return rule"
      ],
      "execution_count": 419,
      "outputs": []
    },
    {
      "cell_type": "code",
      "metadata": {
        "id": "tfycxTaY_mC9"
      },
      "source": [
        "class Chapter:\n",
        "  def __init__(self, people_gradewise = {\"3\":0, \"4.1\":2, \"4.2\":0, \"4.3\":0, \"4.4\":0, \"5.1\":0, \"5.2\":0, \"MS\":0}):\n",
        "    self.people_gradewise = people_gradewise\n",
        "    self.allocated_leads = Allocated_leads()\n",
        "    self.business_rules = Business_rules()\n",
        "    self.people_remaining_gradewise = copy.copy(self.people_gradewise)\n",
        "    self.leader_successor_grades = {\"3\":\"4.1\", \"4.1\":\"4.2\", \"4.2\":\"4.3\"}\n",
        "    self.ranked_leader_grades = list(self.leader_successor_grades.keys())\n",
        "    self.ranked_perm_promotable_grades = list(self.people_gradewise.keys())[:-1]\n",
        "    self.successor = Successor(people_remaining_gradewise = self.people_remaining_gradewise, \n",
        "                   leader_successor_grades = self.leader_successor_grades)\n",
        "    self.dr_per_lead = DR_per_lead(people_remaining_gradewise = self.people_remaining_gradewise,\n",
        "                                   business_rules = self.business_rules,\n",
        "                                   allocated_leads = self.allocated_leads)\n",
        "    self.dr_per_lead_for_this_leader_grade_wrt_higher_grades = DR_per_lead_for_this_leader_grade_wrt_higher_grades(allocated_leads = self.allocated_leads,\n",
        "                                                                                                                   business_rules = self.business_rules)\n",
        "    return\n",
        "  \n",
        "  def allocate_leaders(self, allocated_leaders_gradewise = {\"3\":0, \"4.1\":0, \"4.2\":0}):\n",
        "    self.allocated_leads.allocate_leaders(allocated_leaders_gradewise=allocated_leaders_gradewise)\n",
        "    for grade in allocated_leaders_gradewise:\n",
        "      self.people_remaining_gradewise[grade] -= allocated_leaders_gradewise[grade]\n",
        "    self.update_chapter_state()\n",
        "\n",
        "  def update_chapter_state(self):\n",
        "    self.successor = Successor(people_remaining_gradewise = self.people_remaining_gradewise, \n",
        "                   leader_successor_grades = self.leader_successor_grades)\n",
        "    self.dr_per_lead = DR_per_lead(people_remaining_gradewise = self.people_remaining_gradewise,\n",
        "                                  business_rules = self.business_rules,\n",
        "                                  allocated_leads = self.allocated_leads)\n",
        "    self.dr_per_lead_for_this_leader_grade_wrt_higher_grades = DR_per_lead_for_this_leader_grade_wrt_higher_grades(allocated_leads = self.allocated_leads,\n",
        "                                                                                                                business_rules = self.business_rules)\n",
        "\n",
        "  def total_people(self):\n",
        "    total = functools.reduce(lambda x, value:x + value, self.people_gradewise.values(), 0)\n",
        "    return total\n",
        "    \n",
        "  #Hire section :-\n",
        "  def hire(self):\n",
        "    idx = len(self.ranked_leader_grades) - 1 #always hire the lowest leader grades\n",
        "    grade = self.ranked_leader_grades[idx]\n",
        "    if grade in self.people_remaining_gradewise:\n",
        "      self.people_remaining_gradewise[grade] += self.business_rules.target_max_hire\n",
        "\n",
        "    self.update_chapter_state()\n",
        "\n",
        "  #Promote section :-\n",
        "  def promote_cascade(self):\n",
        "    if self.successor.is_num_immediate_promotable_to_leader_grades_gt_zero():\n",
        "      n = len(self.ranked_perm_promotable_grades)-1 #ignore grade for the most junior\n",
        "      for i in range(1, n): #ignore grade for top boss\n",
        "        grade = self.ranked_perm_promotable_grades[i]\n",
        "        lower_grade = self.ranked_perm_promotable_grades[i+1]\n",
        "        num_in_grade = self.people_remaining_gradewise[grade]\n",
        "        num_in_lower_grade = self.people_remaining_gradewise[lower_grade]\n",
        "        target_num_to_promote = self.business_rules.target_max_promote\n",
        "        num_to_promote = target_num_to_promote\n",
        "        if num_in_lower_grade < target_num_to_promote:\n",
        "          num_to_promote = num_in_lower_grade\n",
        "\n",
        "        self.people_remaining_gradewise[grade] += num_to_promote\n",
        "        self.people_remaining_gradewise[lower_grade] -= num_to_promote\n",
        "\n",
        "      self.update_chapter_state()\n",
        "\n",
        "\n",
        "  def promote_leaders(self):\n",
        "    if self.dr_per_lead_for_this_leader_grade_wrt_higher_grades.is_max_dr_per_lead_in_leader_grades_gt_target():\n",
        "      n = len(self.ranked_leader_grades)-1 #ignore grade for the most junior\n",
        "      for i in range(1, n): #ignore grade for top boss\n",
        "        grade = self.ranked_perm_promotable_grades[i]\n",
        "        lower_grade = self.ranked_perm_promotable_grades[i+1]\n",
        "        self.allocated_leads.promote_leaders(\"4.1\", \"4.2\", self.business_rules.target_max_promote)\n",
        "\n",
        "      self.update_chapter_state()\n",
        "    \n",
        "\n",
        "  #Reassign section :-\n",
        "  def reassign_leaders(self):\n",
        "    d = self.dict_leaders_that_can_be_reassigned()\n",
        "    self.allocate_leaders(allocated_leaders_gradewise = d)\n",
        "    return\n",
        "\n",
        "  def dict_leaders_that_can_be_reassigned(self):\n",
        "    d = dict(map(lambda k: (k, self.people_remaining_gradewise[k]) , self.ranked_leader_grades))\n",
        "    return d\n",
        "\n",
        "  def total_leaders_that_can_be_reassigned(self):\n",
        "    total = functools.reduce(lambda x, k:x + self.people_remaining_gradewise[k], self.ranked_leader_grades, 0)\n",
        "    return total\n",
        "\n",
        "\n",
        "  #State producer :-\n",
        "  def is_overall_dr_per_lead_gt_target(self):\n",
        "    rule = self.dr_per_lead.dr_per_lead() > self.business_rules.target_dr_per_lead\n",
        "    return rule\n",
        "\n",
        "  def is_num_reassignable_leaders_gt_zero(self):\n",
        "    rule = self.total_leaders_that_can_be_reassigned() > 0\n",
        "    return rule\n",
        "\n",
        "  def produce_state(self):\n",
        "    state = State()\n",
        "    state.is_overall_dr_per_lead_gt_target = self.is_overall_dr_per_lead_gt_target()\n",
        "    state.is_num_reassignable_leaders_gt_zero = self.is_num_reassignable_leaders_gt_zero()\n",
        "    state.is_num_immediate_promotable_to_leader_grades_gt_zero = self.successor.is_num_immediate_promotable_to_leader_grades_gt_zero()\n",
        "    state.is_num_people_immediate_promotable_to_higher_grade_lt_those_to_lower_grade = self.successor.is_num_people_immediate_promotable_to_higher_grade_lt_those_to_lower_grade()\n",
        "    state.is_max_dr_per_lead_in_leader_grades_gt_target = False #self.dr_per_lead_for_this_leader_grade_wrt_higher_grades.is_max_dr_per_lead_in_leader_grades_gt_target()\n",
        "    return state\n",
        "\n",
        "  def favorability(self):\n",
        "    target_dr_per_lead = self.business_rules.target_dr_per_pead\n",
        "    dr_per_lead = abs(target_dr_per_lead - self.dr_per_lead.dr_per_lead())\n",
        "    punishment = -dr_per_lead\n",
        "\n",
        "  def print_info(self):\n",
        "    print(self.people_remaining_gradewise)\n",
        "    print(self.allocated_leads.allocated_leaders_gradewise)"
      ],
      "execution_count": 420,
      "outputs": []
    },
    {
      "cell_type": "markdown",
      "metadata": {
        "id": "JLakcETXe6xT"
      },
      "source": [
        "# State"
      ]
    },
    {
      "cell_type": "code",
      "metadata": {
        "id": "YLszFBm-eqxI"
      },
      "source": [
        "class State:\n",
        "\n",
        "  def __init__(self, is_overall_dr_per_lead_gt_target = False, \n",
        "                is_num_reassignable_leaders_gt_zero = False,\n",
        "                is_num_immediate_promotable_to_leader_grades_gt_zero = False,\n",
        "                is_num_people_immediate_promotable_to_higher_grade_lt_those_to_lower_grade = False,\n",
        "                is_max_dr_per_lead_in_leader_grades_gt_target = False):\n",
        "    self.is_overall_dr_per_lead_gt_target = is_overall_dr_per_lead_gt_target\n",
        "    self.is_num_reassignable_leaders_gt_zero = is_num_reassignable_leaders_gt_zero\n",
        "    self.is_num_immediate_promotable_to_leader_grades_gt_zero = is_num_immediate_promotable_to_leader_grades_gt_zero \n",
        "    self.is_num_people_immediate_promotable_to_higher_grade_lt_those_to_lower_grade = is_num_people_immediate_promotable_to_higher_grade_lt_those_to_lower_grade\n",
        "    self.is_max_dr_per_lead_in_leader_grades_gt_target = is_max_dr_per_lead_in_leader_grades_gt_target\n",
        "\n",
        "  def state_copy(self):\n",
        "    new_state = copy.deepcopy(self)\n",
        "    return new_state\n",
        "\n",
        "  def state_tuple(self):\n",
        "    return ((self.is_overall_dr_per_lead_gt_target, \n",
        "                        self.is_num_reassignable_leaders_gt_zero, \n",
        "                        self.is_num_immediate_promotable_to_leader_grades_gt_zero, \n",
        "                        self.is_num_people_immediate_promotable_to_higher_grade_lt_those_to_lower_grade,\n",
        "                        self.is_max_dr_per_lead_in_leader_grades_gt_target))\n",
        "\n",
        "  def state_hash(self):\n",
        "    hash_value = hash((self.is_overall_dr_per_lead_gt_target, \n",
        "                        self.is_num_reassignable_leaders_gt_zero, \n",
        "                        self.is_num_immediate_promotable_to_leader_grades_gt_zero, \n",
        "                        self.is_num_people_immediate_promotable_to_higher_grade_lt_those_to_lower_grade,\n",
        "                        self.is_max_dr_per_lead_in_leader_grades_gt_target))\n",
        "    return hash_value\n",
        "\n"
      ],
      "execution_count": 421,
      "outputs": []
    },
    {
      "cell_type": "markdown",
      "metadata": {
        "id": "HGbgNnT6iG-D"
      },
      "source": [
        "# Action"
      ]
    },
    {
      "cell_type": "code",
      "metadata": {
        "id": "2AgyHwnQpbMu"
      },
      "source": [
        "class Action:\n",
        "\n",
        "  def __init__(self, action_string):\n",
        "    self.action = action_string\n",
        "    self.action_hash = hash(action_string)\n",
        "    return\n",
        "\n",
        "  def print_info(self):\n",
        "    print(self.action, self.action_hash)\n",
        "    return\n",
        "\n",
        "  @classmethod\n",
        "  def action_from_string(self, action_string):\n",
        "    if action_string == \"reassign\":\n",
        "      return Reassign()\n",
        "    elif action_string == \"promote_cascade\":\n",
        "      return Promote_cascade()\n",
        "    elif action_string == \"promote_leaders\":\n",
        "      return Promote_leaders()\n",
        "    elif action_string == \"hire\":\n",
        "      return Hire()"
      ],
      "execution_count": 422,
      "outputs": []
    },
    {
      "cell_type": "code",
      "metadata": {
        "id": "c1Y03s6qiEC-"
      },
      "source": [
        "class Reassign(Action):\n",
        "\n",
        "  def __init__(self):\n",
        "    super().__init__(\"reassign\")\n",
        "    return\n",
        "\n",
        "  def run(self, state, chapter):\n",
        "    chapter.reassign_leaders()\n",
        "    new_state = chapter.produce_state()\n",
        "    return new_state"
      ],
      "execution_count": 423,
      "outputs": []
    },
    {
      "cell_type": "code",
      "metadata": {
        "id": "MNCvZAhfiFkk"
      },
      "source": [
        "class Promote_cascade(Action):\n",
        "\n",
        "  def __init__(self):\n",
        "    super().__init__(\"promote_cascade\")\n",
        "    return\n",
        "\n",
        "  def run(self, state,  chapter):\n",
        "    chapter.promote_cascade()\n",
        "    new_state = chapter.produce_state()\n",
        "    return new_state"
      ],
      "execution_count": 424,
      "outputs": []
    },
    {
      "cell_type": "code",
      "metadata": {
        "id": "Ng9MDVrAomJa"
      },
      "source": [
        "class Promote_leaders(Action):\n",
        "\n",
        "  def __init__(self):\n",
        "    super().__init__(\"promote_leaders\")\n",
        "    return\n",
        "\n",
        "  def run(self, state, chapter):\n",
        "    chapter.promote_leaders()\n",
        "    new_state = chapter.produce_state()\n",
        "    return new_state"
      ],
      "execution_count": 425,
      "outputs": []
    },
    {
      "cell_type": "code",
      "metadata": {
        "id": "Bb06oefTo643"
      },
      "source": [
        "class Promote_junior_grades:\n",
        "\n",
        "  def __init__(self):\n",
        "    super().__init__(\"promote_junior_grades\")\n",
        "    return\n",
        "\n",
        "  def run(self, state):\n",
        "    new_state = state.state_copy()\n",
        "    return new_state"
      ],
      "execution_count": 426,
      "outputs": []
    },
    {
      "cell_type": "code",
      "metadata": {
        "id": "zscSqoXqojkN"
      },
      "source": [
        "class Hire(Action):\n",
        "\n",
        "  def __init__(self):\n",
        "    super().__init__(\"hire\")\n",
        "    return\n",
        "\n",
        "  def run(self, state, chapter):\n",
        "    chapter.hire()\n",
        "    new_state = chapter.produce_state()\n",
        "    return new_state"
      ],
      "execution_count": 427,
      "outputs": []
    },
    {
      "cell_type": "code",
      "metadata": {
        "id": "RFuiFDQzox9B"
      },
      "source": [
        "class Hire_junior_grades:\n",
        "\n",
        "  def __init__(self):\n",
        "    super().__init__(\"hire_junior_grades\")\n",
        "    return\n",
        "\n",
        "  def run(self, state):\n",
        "    new_state = state.state_copy()\n",
        "    return new_state"
      ],
      "execution_count": 428,
      "outputs": []
    },
    {
      "cell_type": "markdown",
      "metadata": {
        "id": "hR39YLsms7tY"
      },
      "source": [
        "# Reward"
      ]
    },
    {
      "cell_type": "code",
      "metadata": {
        "id": "sRA6yJWgs6r0"
      },
      "source": [
        "class Reward:\n",
        "\n",
        "  environment_actions = [\n",
        "      \"reassign\",\n",
        "      \"promote_cascade\",\n",
        "      \"promote_leaders\",\n",
        "      \"promote_junior_grades\",\n",
        "      \"hire\",\n",
        "      \"hire_junior_grades\"\n",
        "  ]\n",
        "\n",
        "  #this is per my dry run, the actions that will provide the most reward in this state\n",
        "  environment_state_action_reward = {\n",
        "      (True, True, False, True, False)    : {\"reassign\":1},\n",
        "      (True, True, False, False, False)   : {\"reassign\":1},\n",
        "\n",
        "      (True, True, True, True, False)     : {\"reassign\":1},\n",
        "      (True, True, True, False, False)    : {\"reassign\":1},\n",
        "\n",
        "      (True, False, False, True, False)   : {\"promote_cascade\": 1}, #, \"promote_junior_grades\": 1, \"hire_junior_grades\": 1},\n",
        "      (True, False, False, False, False)  : {\"promote_cascade\": 1}, #, \"promote_junior_grades\": 1, \"hire_junior_grades\": 1},\n",
        "\n",
        "      (True, False, True, True, False)    : {\"promote_cascade\" : 1}, #, \"promote_junior_grades\" : 1},\n",
        "      (True, False, True, False, False)   : {\"promote_cascade\" : 1}, #, \"promote_junior_grades\" : 1},\n",
        "\n",
        "      (False, True, False, True, False)   : {\"success\" : 100},\n",
        "      (False, True, False, False, False)  : {\"success\" : 100},\n",
        "\n",
        "      (False, True, True, True, False)    : {\"success\" : 100},\n",
        "      (False, True, True, False, False)   : {\"success\" : 100},\n",
        "\n",
        "      (False, False, False, True, False)  : {\"success\" : 100},\n",
        "      (False, False, False, False, False) : {\"success\" : 100},\n",
        "\n",
        "      (False, False, True, True, False)    : {\"success\" : 100},\n",
        "      (False, False, True, False, False)   : {\"success\" : 100},\n",
        "\n",
        "      (True, True, False, True, True)    : {\"reassign\":1},\n",
        "      (True, True, False, False, True)   : {\"reassign\":1},\n",
        "\n",
        "      (True, True, True, True, True)     : {\"reassign\":1},\n",
        "      (True, True, True, False, True)    : {\"reassign\":1},\n",
        "\n",
        "      (True, False, False, True, True)   : {\"promote_cascade\": 1}, #, \"promote_junior_grades\": 1, \"hire_junior_grades\": 1},\n",
        "      (True, False, False, False, True)  : {\"promote_cascade\": 1}, #, \"promote_junior_grades\": 1, \"hire_junior_grades\": 1},\n",
        "\n",
        "      (True, False, True, True, True)    : {\"promote_cascade\" : 1}, #, \"promote_junior_grades\" : 1},\n",
        "      (True, False, True, False, True)   : {\"promote_cascade\" : 1}, #, \"promote_junior_grades\" : 1},\n",
        "\n",
        "      (False, True, False, True, True)   : {\"promote_leaders\": 1},\n",
        "      (False, True, False, False, True)  : {\"promote_leaders\": 1},\n",
        "\n",
        "      (False, True, True, True, True)    : {\"promote_leaders\": 1},\n",
        "      (False, True, True, False, True)   : {\"promote_leaders\": 1},\n",
        "\n",
        "      (False, False, False, True, True)  : {\"promote_leaders\": 1},\n",
        "      (False, False, False, False, True) : {\"promote_leaders\": 1},\n",
        "\n",
        "      (False, False, True, True, True)    : {\"promote_leaders\": 1},\n",
        "      (False, False, True, False, True)   : {\"promote_leaders\": 1},\n",
        "        }\n",
        "\n",
        "  def __init__(self):\n",
        "    return  \n",
        "\n",
        "  def reward_for_state_action(self, old_state, action_string, chapter):\n",
        "\n",
        "    chapter_copy = copy.deepcopy(chapter)\n",
        "    action = Action.action_from_string(action_string)\n",
        "    new_state = action.run(old_state, chapter_copy)\n",
        "    new_state_tuple = new_state.state_tuple()\n",
        "    \n",
        "    reward_actions = self.environment_state_action_reward[new_state_tuple]\n",
        "\n",
        "    reward = -1\n",
        "    if \"success\" in reward_actions:\n",
        "      reward = reward_actions[\"success\"]\n",
        "    elif action_string in reward_actions:\n",
        "      reward = -1 #reward_actions[action_string]\n",
        "    \n",
        "    return (reward, new_state, chapter_copy)\n"
      ],
      "execution_count": 429,
      "outputs": []
    },
    {
      "cell_type": "markdown",
      "metadata": {
        "id": "aW-Ma2EGQPd-"
      },
      "source": [
        "# Reinforcement Learning"
      ]
    },
    {
      "cell_type": "markdown",
      "metadata": {
        "id": "WN0Uvkx4QUKk"
      },
      "source": [
        "# Q-table"
      ]
    },
    {
      "cell_type": "code",
      "metadata": {
        "id": "_KDUGEQrQWWt"
      },
      "source": [
        "class Q_table:\n",
        "  \"\"\"\n",
        "  dict[key(state hash, action hash)] = q-values\n",
        "  \"\"\"\n",
        "  \n",
        "  def __init__(self):\n",
        "    self.Q = {}\n",
        "    return\n",
        "\n",
        "  def getStateActionKey(self, state_tuple, action_string):\n",
        "    return (state_tuple, action_string)\n",
        "\n",
        "  def getValueQ(self, state_tuple, action_string):\n",
        "    \"\"\" Get expected reward given an action in a given state,\n",
        "        returns 0 if the state-action pair has not been seen before.\n",
        "        Input is state and action key                          \"\"\"\n",
        "\n",
        "    state_action_key = self.getStateActionKey(state_tuple, action_string)\n",
        "    if state_action_key in self.Q:\n",
        "        return self.Q.get(state_action_key)\n",
        "    else:\n",
        "        self.Q[state_action_key] = 0\n",
        "        return 0\n",
        "\n",
        "  def setValueQ(self, state_tuple, action_string, value):\n",
        "    \"\"\" Set value in Q \"\"\"\n",
        "    state_action_key = self.getStateActionKey(state_tuple, action_string)\n",
        "    self.Q[state_action_key] = value\n",
        "\n",
        "  def getBestAction(self, state_tuple, list_action_strings):\n",
        "    \"\"\" Get best action given a set of possible actions in a given state \"\"\"\n",
        "\n",
        "    # Pick a random action at first - imp as there are many states and there should be a way to randomly choose other than just first \n",
        "    random_idx = np.random.choice(len(list_action_strings),1,None)\n",
        "    best_action = list_action_strings[random_idx[0]]\n",
        "  \n",
        "    # Find action that given largest Q in given state\n",
        "    maxQ = 0\n",
        "    for action_string in list_action_strings:\n",
        "        tmpQ = self.getValueQ(state_tuple, action_string)\n",
        "        if maxQ < tmpQ:\n",
        "          maxQ = tmpQ\n",
        "          best_action = action_string\n",
        "\n",
        "    return best_action\n",
        "\n",
        "  def getMaxQ(self, state_tuple, list_action_strings):\n",
        "      \"\"\" Returns the maximum Q value given a state and list of actions (input is hash keys) \"\"\"\n",
        "      maxQ = 0\n",
        "      for a in list_action_strings:\n",
        "          tmpQ = self.getValueQ(state_tuple, a) \n",
        "          if maxQ < tmpQ:\n",
        "              maxQ = tmpQ\n",
        "      return maxQ\n",
        "\n",
        "\n",
        "  def updateQ(self, old_state_tuple, action_to_perform_string, reward, new_state_tuple, list_next_possible_action_strings, discount_factor, learning_rate):\n",
        "    \"\"\" Implements Q-learning iterative algorithm \"\"\"\n",
        "\n",
        "    # Get current Q Value\n",
        "    old_q_value = self.getValueQ(old_state_tuple, action_to_perform_string)\n",
        "\n",
        "    # Find max Q value given the possible set of actions in the next state\n",
        "    max_nextQ = self.getMaxQ(new_state_tuple, list_next_possible_action_strings) \n",
        "    \n",
        "    temporal_difference = reward + (discount_factor * max_nextQ) - old_q_value\n",
        "\n",
        "    #update the Q-value for the previous state and action pair\n",
        "    new_q_value = old_q_value + (learning_rate * temporal_difference)\n",
        "\n",
        "    self.setValueQ(old_state_tuple, action_to_perform_string, new_q_value)\n",
        "\n",
        "  def print_info(self):\n",
        "    print(\"\\n\\nQ_table\")\n",
        "    print(self.Q)\n",
        "    return"
      ],
      "execution_count": 430,
      "outputs": []
    },
    {
      "cell_type": "markdown",
      "metadata": {
        "id": "dS9-CE1TREDS"
      },
      "source": [
        "# Episode"
      ]
    },
    {
      "cell_type": "code",
      "metadata": {
        "id": "jXjmAs1AheiL"
      },
      "source": [
        "class Episode:\n",
        "\n",
        "  preconditioned_episodes = [\n",
        "            {\"people_gradewise\" : {\"3\":0, \"4.1\":1, \"4.2\":6, \"4.3\":6, \"4.4\":1, \"5.1\":0, \"5.2\":2, \"MS\":7} },\n",
        "            {\"people_gradewise\" : {\"3\":0, \"4.1\":0, \"4.2\":5, \"4.3\":6, \"4.4\":2, \"5.1\":0, \"5.2\":0, \"MS\":14} },\n",
        "            {\"people_gradewise\" : {\"3\":0, \"4.1\":0, \"4.2\":4, \"4.3\":4, \"4.4\":4, \"5.1\":0, \"5.2\":0, \"MS\":9} },\n",
        "            {\"people_gradewise\" : {\"3\":2.5, \"4.1\":3, \"4.2\":4, \"4.3\":6, \"4.4\":5, \"5.1\":1, \"5.2\":2, \"MS\":27} },\n",
        "            {\"people_gradewise\" : {\"3\":0, \"4.1\":1, \"4.2\":3.5, \"4.3\":0.5, \"4.4\":0.8, \"5.1\":0, \"5.2\":0, \"MS\":3} },\n",
        "            {\"people_gradewise\" : {\"3\":0, \"4.1\":0, \"4.2\":2, \"4.3\":1, \"4.4\":1, \"5.1\":0, \"5.2\":0, \"MS\":2} },\n",
        "            {\"people_gradewise\" : {\"3\":1, \"4.1\":1, \"4.2\":1, \"4.3\":7, \"4.4\":4, \"5.1\":0, \"5.2\":0, \"MS\":3} },\n",
        "            {\"people_gradewise\" : {\"3\":0, \"4.1\":0, \"4.2\":1.5, \"4.3\":3, \"4.4\":2, \"5.1\":1, \"5.2\":0, \"MS\":18} },\n",
        "            {\"people_gradewise\" : {\"3\":2.5, \"4.1\":3, \"4.2\":0, \"4.3\":0, \"4.4\":5, \"5.1\":1, \"5.2\":2, \"MS\":27} },\n",
        "            {\"people_gradewise\" : {\"3\":3, \"4.1\":3, \"4.2\":0, \"4.3\":0, \"4.4\":5, \"5.1\":1, \"5.2\":2, \"MS\":70} }\n",
        "          ]\n",
        "\n",
        "  def __init__(self, episode_number):\n",
        "    self.episode_number = episode_number\n",
        "    if self.episode_number < len(self.preconditioned_episodes):\n",
        "      d = self.preconditioned_episodes[self.episode_number]\n",
        "      self.chapter = Chapter(people_gradewise = d[\"people_gradewise\"])\n",
        "      print(\"\\n\\n****episode : \",  d[\"people_gradewise\"])\n",
        "    else:\n",
        "      business_rules = Business_rules()\n",
        "      people_gradewise={\"3\":0, \"4.1\":0, \"4.2\":0, \"4.3\":0, \"4.4\":0, \"5.1\":0, \"5.2\":0, \"MS\":0}\n",
        "      #distribute the simulation\n",
        "      if episode_number % 2 == 0:\n",
        "        #simulate for hire \n",
        "        for grade in people_gradewise:\n",
        "          people_gradewise[grade] = 0 \n",
        "        people_gradewise[\"MS\"] = 100\n",
        "      else:\n",
        "        #simulate for all tribe distribution\n",
        "        for grade in people_gradewise:\n",
        "          probabilities = [0.2,0.6,0.2]\n",
        "          random_idx = np.random.choice(business_rules.ceil_total_people_in_grade[grade],1,probabilities)\n",
        "          people_gradewise[grade] = random_idx[0]\n",
        "\n",
        "      self.chapter = Chapter(people_gradewise)\n",
        "      print(\"\\n\\n****episode : \", people_gradewise)\n",
        "    return"
      ],
      "execution_count": 431,
      "outputs": []
    },
    {
      "cell_type": "markdown",
      "metadata": {
        "id": "ATtZ6GQZrena"
      },
      "source": [
        "# Environment"
      ]
    },
    {
      "cell_type": "code",
      "metadata": {
        "id": "wOLHfZhDRZSJ"
      },
      "source": [
        "class Environment:\n",
        "\n",
        "  def __init__(self):\n",
        "    self.business_rules = Business_rules()\n",
        "    self.action_list = map(lambda ac_str: Action.action_from_string(ac_str), self.business_rules.actions)\n",
        "    self.reward = Reward()\n",
        "\n",
        "  def possible_actions_in_state(self, state):\n",
        "    return self.action_list\n",
        "\n",
        "  def hasReachedTerminalState(self, reward):\n",
        "    if reward == 100 or reward == -100:\n",
        "      return True\n",
        "    else:\n",
        "      return False"
      ],
      "execution_count": 432,
      "outputs": []
    },
    {
      "cell_type": "markdown",
      "metadata": {
        "id": "zwxlkfbQrgxP"
      },
      "source": [
        "# Trainer"
      ]
    },
    {
      "cell_type": "code",
      "metadata": {
        "id": "dbhKSE-VRGZv"
      },
      "source": [
        "class Trainer:\n",
        "\n",
        "  def __init__(self):\n",
        "    self.q_table = Q_table()\n",
        "    self.environment = Environment()\n",
        "    self.business_rules = Business_rules()\n",
        "\n",
        "    #define training parameters\n",
        "    self.epsilon = 0.5 #the percentage of time when we should take the best action (instead of a random action)\n",
        "    self.discount_factor = 0.9 #discount factor for future rewards\n",
        "    self.learning_rate = 0.9 #the rate at which the AI agent should learn\n",
        "    self.num_episodes = 5\n",
        "    return\n",
        "\n",
        "  \n",
        "  #define an epsilon greedy algorithm that will choose which action to take next \n",
        "  def choose_next_action(self, state_tuple, list_action_strings, epsilon):\n",
        "    #if a randomly chosen value between 0 and 1 is less than epsilon, \n",
        "    #then choose the most promising value from the Q-table for this state.\n",
        "    if np.random.random() < epsilon:\n",
        "      best_action = self.q_table.getBestAction(state_tuple, list_action_strings)\n",
        "      return best_action\n",
        "    else: #choose a random action\n",
        "      random_idx = np.random.choice(len(list_action_strings))\n",
        "      random_action = list_action_strings[random_idx]\n",
        "      return random_action\n",
        "\n",
        "  def train(self, num_episodes = 0, num_loops = 0):\n",
        "    if num_episodes > 0:\n",
        "      self.num_episodes = num_episodes\n",
        "    #run through 1000 training episodes\n",
        "    for episode_number in range(self.num_episodes):\n",
        "      #get the starting state for this episode\n",
        "      episode = Episode(episode_number)\n",
        "      print(\"******episode_number :*******\", episode_number)\n",
        "      #continue taking actions  until we reach a terminal state\n",
        "      #(i.e., until we reach the final team structure or hit a bad structure)\n",
        "      reward = 0\n",
        "      i=0\n",
        "      while not self.environment.hasReachedTerminalState(reward):\n",
        "        if num_loops > 0:\n",
        "          i +=1\n",
        "          if i >= num_loops:\n",
        "            break\n",
        "        #choose which action to take \n",
        "        old_state = episode.chapter.produce_state()\n",
        "        old_state_tuple = old_state.state_tuple()\n",
        "        list_action_strings = self.business_rules.actions\n",
        "        action_to_perform_string = self.choose_next_action(old_state_tuple, list_action_strings, self.epsilon)\n",
        "\n",
        "        #perform the chosen action, and transition to the next state \n",
        "        #receive the reward for moving to the new state\n",
        "        reward, new_state, chapter_modified = self.environment.reward.reward_for_state_action(old_state, action_to_perform_string, episode.chapter)\n",
        "\n",
        "        new_state_tuple = new_state.state_tuple()\n",
        "        list_next_possible_actions = self.environment.possible_actions_in_state(new_state)\n",
        "        list_next_possible_action_strings = map(lambda ac: ac.action, list_next_possible_actions)\n",
        "        self.q_table.updateQ(old_state_tuple, action_to_perform_string, reward, new_state_tuple, list_next_possible_action_strings, self.discount_factor, self.learning_rate)\n",
        "\n",
        "        #assign new state to old\n",
        "        episode.chapter = chapter_modified\n",
        "\n",
        " #Define a function that will get the shortest path between the starting out team structure and the most favorable team structure \n",
        "  def get_shortest_path(self, chapter):\n",
        "    i=0\n",
        "    shortest_path = []\n",
        "    shortest_path.append(chapter)\n",
        "    reward = 0 \n",
        "    old_chapter = chapter\n",
        "    while not self.environment.hasReachedTerminalState(reward):\n",
        "\n",
        "      old_state = old_chapter.produce_state()\n",
        "      old_state_tuple = old_state.state_tuple()\n",
        "      list_action_strings = self.business_rules.actions\n",
        "      action_to_perform_string = self.choose_next_action(old_state_tuple, list_action_strings, 1.) #always the best action\n",
        "\n",
        "      reward, new_state, chapter_modified = self.environment.reward.reward_for_state_action(old_state, action_to_perform_string, old_chapter)\n",
        "      print(old_state_tuple, action_to_perform_string, reward, new_state.state_tuple())\n",
        "            \n",
        "      shortest_path.append(chapter_modified)\n",
        "\n",
        "      old_chapter = chapter_modified\n",
        "    \n",
        "    print(\"\\nshortest_path : \\n\")\n",
        "    i=1\n",
        "    for chapter in shortest_path:\n",
        "      print(\"\\n step :\", i)\n",
        "      chapter.print_info()\n",
        "      i += 1"
      ],
      "execution_count": 433,
      "outputs": []
    },
    {
      "cell_type": "markdown",
      "metadata": {
        "id": "hX98tewahdjb"
      },
      "source": [
        "# State Tests"
      ]
    },
    {
      "cell_type": "code",
      "metadata": {
        "colab": {
          "base_uri": "https://localhost:8080/"
        },
        "id": "E-a9kzGihP9W",
        "outputId": "93472422-e682-475d-b26d-fbe3a576e208"
      },
      "source": [
        "class State_Test(unittest.TestCase):\n",
        "\n",
        "    def test_state_tuple(self):\n",
        "      st = State()\n",
        "      st_tuple = st.state_tuple()\n",
        "      self.assertTrue(st_tuple == (False, False, False, False, False))\n",
        "\n",
        "    def test_hash_exists(self):\n",
        "      st = State()\n",
        "      st_hash = st.state_hash()\n",
        "      self.assertTrue(st_hash > 0)\n",
        "\n",
        "    def test_hash_exists(self):\n",
        "      st = State()\n",
        "      st_cp = st.state_copy()\n",
        "      st_hash = st.state_hash()\n",
        "      st_cp_hash = st_cp.state_hash()\n",
        "      self.assertTrue(st_hash == st_cp_hash)\n",
        "\n",
        "# unittest.main(verbosity=2, exit=False)\n",
        "suite = unittest.TestLoader().loadTestsFromTestCase(State_Test)\n",
        "unittest.TextTestRunner().run(suite)\n"
      ],
      "execution_count": 434,
      "outputs": [
        {
          "output_type": "stream",
          "text": [
            "..\n",
            "----------------------------------------------------------------------\n",
            "Ran 2 tests in 0.004s\n",
            "\n",
            "OK\n"
          ],
          "name": "stderr"
        },
        {
          "output_type": "execute_result",
          "data": {
            "text/plain": [
              "<unittest.runner.TextTestResult run=2 errors=0 failures=0>"
            ]
          },
          "metadata": {},
          "execution_count": 434
        }
      ]
    },
    {
      "cell_type": "markdown",
      "metadata": {
        "id": "9QONOYm58pQl"
      },
      "source": [
        "# Reward Tests"
      ]
    },
    {
      "cell_type": "code",
      "metadata": {
        "colab": {
          "base_uri": "https://localhost:8080/"
        },
        "id": "uyiTfH7L8vLe",
        "outputId": "8dfde5ba-aec6-421e-bdf2-97e7348fe463"
      },
      "source": [
        "class Reward_Tests(unittest.TestCase):\n",
        "\n",
        "    def test_reward_action(self):\n",
        "      rw = Reward()\n",
        "      st = State(*(True, True, False, True, False))\n",
        "      ac = Action(\"reassign\")   \n",
        "      rw_val = rw.reward_for_state_action(st, ac)\n",
        "      self.assertTrue(rw_val == 1)\n",
        "\n",
        "    def test_punish_action(self):\n",
        "      rw = Reward()\n",
        "      st = State(*(True, True, False, True, False))\n",
        "      ac = Action(\"promote_cascade\")   \n",
        "      rw_val = rw.reward_for_state_action(st, ac)\n",
        "      self.assertTrue(rw_val == -1)\n",
        "\n",
        "    def test_success_state(self):\n",
        "      rw = Reward()\n",
        "      st = State(*(False, True, False, True, False))\n",
        "      ac = Action(\"promote_cascade\")   \n",
        "      rw_val = rw.reward_for_state_action(st, ac)\n",
        "      self.assertTrue(rw_val == 100)\n",
        "\n",
        "# unittest.main(verbosity=2, exit=False)\n",
        "suite = unittest.TestLoader().loadTestsFromTestCase(Reward_Tests)\n",
        "unittest.TextTestRunner().run(suite)"
      ],
      "execution_count": 435,
      "outputs": [
        {
          "output_type": "stream",
          "text": [
            "EEE\n",
            "======================================================================\n",
            "ERROR: test_punish_action (__main__.Reward_Tests)\n",
            "----------------------------------------------------------------------\n",
            "Traceback (most recent call last):\n",
            "  File \"<ipython-input-435-0983fa837258>\", line 14, in test_punish_action\n",
            "    rw_val = rw.reward_for_state_action(st, ac)\n",
            "TypeError: reward_for_state_action() missing 1 required positional argument: 'chapter'\n",
            "\n",
            "======================================================================\n",
            "ERROR: test_reward_action (__main__.Reward_Tests)\n",
            "----------------------------------------------------------------------\n",
            "Traceback (most recent call last):\n",
            "  File \"<ipython-input-435-0983fa837258>\", line 7, in test_reward_action\n",
            "    rw_val = rw.reward_for_state_action(st, ac)\n",
            "TypeError: reward_for_state_action() missing 1 required positional argument: 'chapter'\n",
            "\n",
            "======================================================================\n",
            "ERROR: test_success_state (__main__.Reward_Tests)\n",
            "----------------------------------------------------------------------\n",
            "Traceback (most recent call last):\n",
            "  File \"<ipython-input-435-0983fa837258>\", line 21, in test_success_state\n",
            "    rw_val = rw.reward_for_state_action(st, ac)\n",
            "TypeError: reward_for_state_action() missing 1 required positional argument: 'chapter'\n",
            "\n",
            "----------------------------------------------------------------------\n",
            "Ran 3 tests in 0.007s\n",
            "\n",
            "FAILED (errors=3)\n"
          ],
          "name": "stderr"
        },
        {
          "output_type": "execute_result",
          "data": {
            "text/plain": [
              "<unittest.runner.TextTestResult run=3 errors=3 failures=0>"
            ]
          },
          "metadata": {},
          "execution_count": 435
        }
      ]
    },
    {
      "cell_type": "markdown",
      "metadata": {
        "id": "EJDLDu5YB6-S"
      },
      "source": [
        "# Chapter Tests"
      ]
    },
    {
      "cell_type": "code",
      "metadata": {
        "colab": {
          "base_uri": "https://localhost:8080/"
        },
        "id": "MmzgvN0KB-HC",
        "outputId": "3ca14a24-120e-4bc6-f88c-dbc60d4c69ca"
      },
      "source": [
        "\n",
        "class Chapter_Tests(unittest.TestCase):\n",
        "\n",
        "    def setUp(self):\n",
        "      self.ch = Chapter(people_gradewise = {\"3\":3, \"4.1\":3, \"4.2\":4, \"4.3\":6, \"4.4\":5, \"5.1\":1, \"5.2\":2, \"MS\":100})\n",
        "\n",
        "    def test_total_people(self):\n",
        "      self.assertTrue(self.ch.total_people() == 124)\n",
        "\n",
        "    def test_total_leaders_leading(self):\n",
        "      self.assertTrue(self.ch.allocated_leads.total_leaders_leading() == 0)\n",
        "\n",
        "    def test_total_leaders_that_can_be_reassigned(self):\n",
        "      self.assertTrue(self.ch.total_leaders_that_can_be_reassigned() == 10)\n",
        "\n",
        "    def test_dict_leaders_that_can_be_reassigned(self):\n",
        "      self.assertTrue(self.ch.dict_leaders_that_can_be_reassigned() == {'3': 3, '4.1': 3, '4.2': 4})\n",
        "\n",
        "suite = unittest.TestLoader().loadTestsFromTestCase(Chapter_Tests)\n",
        "unittest.TextTestRunner().run(suite)\n",
        "\n",
        "class Chapter_Tests_After_Reassign(unittest.TestCase):\n",
        "\n",
        "    def setUp(self):\n",
        "      self.ch = Chapter(people_gradewise = {\"3\":3, \"4.1\":3, \"4.2\":4, \"4.3\":6, \"4.4\":5, \"5.1\":1, \"5.2\":2, \"MS\":100})\n",
        "      self.ch.reassign_leaders()\n",
        "\n",
        "    def test_total_leaders_leading_after_reassign(self):\n",
        "      self.assertTrue(self.ch.allocated_leads.total_leaders_leading() == 10)\n",
        "\n",
        "    def test_dict_successor_per_lead(self):\n",
        "      self.assertTrue(self.ch.successor.dict_successor_per_lead() == {'3': 0.0, '4.1': 0.0, '4.2': 6.0})\n",
        "\n",
        "    def test_dict_successor_per_engineer(self):\n",
        "      self.assertTrue(self.ch.successor.dict_successor_per_engineer() == {'4.3': 0.8333333333333334, '4.4': 0.2, '5.1': 2.0})\n",
        "\n",
        "    def test_total_successors_for_lead_grades(self):\n",
        "      self.assertTrue(self.ch.successor.total_successors_for_lead_grades() == 6.0)\n",
        "\n",
        "    def test_total_successors_for_engineer_grades(self):\n",
        "      self.assertTrue(self.ch.successor.total_successors_for_engineer_grades() == 3.033333333333333)\n",
        "\n",
        "    def test_diff_successor_ratio_for_leader_engineer_grades(self):\n",
        "      self.assertTrue(self.ch.successor.diff_successor_ratio_for_leader_engineer_grades() == 2.966666666666667)\n",
        "\n",
        "    def test_total_people_remaining(self):\n",
        "      self.assertTrue(self.ch.dr_per_lead.total_people_remaining() == 114)\n",
        "\n",
        "    #state \n",
        "    def test_is_overall_dr_per_lead_gt_target(self):\n",
        "      self.assertTrue(self.ch.dr_per_lead.dr_per_lead() == 11.4)\n",
        "      self.assertTrue(self.ch.is_overall_dr_per_lead_gt_target() == True)\n",
        "\n",
        "    def test_is_num_reassignable_leaders_gt_zero(self):\n",
        "      self.assertTrue(self.ch.total_leaders_that_can_be_reassigned() == 0)\n",
        "      self.assertTrue(self.ch.is_num_reassignable_leaders_gt_zero() == False)\n",
        "\n",
        "    def test_is_num_immediate_promotable_to_leader_grades_gt_zero(self):\n",
        "      self.assertTrue(self.ch.successor.total_successors_for_lead_grades() == 6)\n",
        "      self.assertTrue(self.ch.successor.is_num_immediate_promotable_to_leader_grades_gt_zero() == True)\n",
        "\n",
        "    def test_is_max_dr_per_lead_in_leader_grades_gt_target(self):\n",
        "      self.assertTrue(self.ch.dr_per_lead_for_this_leader_grade_wrt_higher_grades.max_dr_per_lead_in_leader_grades() == 1)\n",
        "      self.assertTrue(self.ch.dr_per_lead_for_this_leader_grade_wrt_higher_grades.dict_dr_per_lead_for_this_grade_wrt_higher_grade() == {'3': 0, '4.1': 1.0, '4.2': 0.6666666666666666})\n",
        "      self.assertTrue(self.ch.dr_per_lead_for_this_leader_grade_wrt_higher_grades.is_max_dr_per_lead_in_leader_grades_gt_target() == False)\n",
        "\n",
        "    def test_produce_state(self):\n",
        "      st=ch.produce_state()\n",
        "      self.assertTrue(st.state_tuple() == (True, False, True, True, False))\n",
        "\n",
        "suite = unittest.TestLoader().loadTestsFromTestCase(Chapter_Tests_After_Reassign)\n",
        "unittest.TextTestRunner().run(suite)\n",
        "\n"
      ],
      "execution_count": 436,
      "outputs": [
        {
          "output_type": "stream",
          "text": [
            "....\n",
            "----------------------------------------------------------------------\n",
            "Ran 4 tests in 0.007s\n",
            "\n",
            "OK\n",
            ".......F....\n",
            "======================================================================\n",
            "FAIL: test_produce_state (__main__.Chapter_Tests_After_Reassign)\n",
            "----------------------------------------------------------------------\n",
            "Traceback (most recent call last):\n",
            "  File \"<ipython-input-436-7283a8a4b9b4>\", line 69, in test_produce_state\n",
            "    self.assertTrue(st.state_tuple() == (True, False, True, True, False))\n",
            "AssertionError: False is not true\n",
            "\n",
            "----------------------------------------------------------------------\n",
            "Ran 12 tests in 0.028s\n",
            "\n",
            "FAILED (failures=1)\n"
          ],
          "name": "stderr"
        },
        {
          "output_type": "execute_result",
          "data": {
            "text/plain": [
              "<unittest.runner.TextTestResult run=12 errors=0 failures=1>"
            ]
          },
          "metadata": {},
          "execution_count": 436
        }
      ]
    },
    {
      "cell_type": "markdown",
      "metadata": {
        "id": "K6azrSUejWrB"
      },
      "source": [
        "# Reassign Tests"
      ]
    },
    {
      "cell_type": "code",
      "metadata": {
        "colab": {
          "base_uri": "https://localhost:8080/"
        },
        "id": "pIcOEJkPcPjj",
        "outputId": "a6a93f1c-22c0-4135-d6c1-b75c9ff5a820"
      },
      "source": [
        "class Reassign_Tests(unittest.TestCase):\n",
        "\n",
        "    def setUp(self):\n",
        "      self.ch = Chapter(people_gradewise = {\"3\":3, \"4.1\":3, \"4.2\":4, \"4.3\":6, \"4.4\":5, \"5.1\":1, \"5.2\":2, \"MS\":100})\n",
        "\n",
        "    def test_before_reassign(self):\n",
        "      st = self.ch.produce_state()\n",
        "      self.assertTrue(st.state_tuple() == (True, True, True, True, False))\n",
        "\n",
        "    def test_after_reassign(self):\n",
        "      action = Reassign()\n",
        "      st2 = action.run(st, self.ch)\n",
        "      self.assertTrue(st2.state_tuple() == (True, False, True, True, False))\n",
        "\n",
        "\n",
        "suite = unittest.TestLoader().loadTestsFromTestCase(Reassign_Tests)\n",
        "unittest.TextTestRunner().run(suite)"
      ],
      "execution_count": 437,
      "outputs": [
        {
          "output_type": "stream",
          "text": [
            "..\n",
            "----------------------------------------------------------------------\n",
            "Ran 2 tests in 0.004s\n",
            "\n",
            "OK\n"
          ],
          "name": "stderr"
        },
        {
          "output_type": "execute_result",
          "data": {
            "text/plain": [
              "<unittest.runner.TextTestResult run=2 errors=0 failures=0>"
            ]
          },
          "metadata": {},
          "execution_count": 437
        }
      ]
    },
    {
      "cell_type": "markdown",
      "metadata": {
        "id": "qLZIbPEdjaAH"
      },
      "source": [
        "# Promote Cascade Tests"
      ]
    },
    {
      "cell_type": "code",
      "metadata": {
        "colab": {
          "base_uri": "https://localhost:8080/"
        },
        "id": "UjT1e-kUjdyD",
        "outputId": "b1f91446-c46e-436e-8ced-9c19785a6c0d"
      },
      "source": [
        "class Promote_Cascade_Tests(unittest.TestCase):\n",
        "\n",
        "    def setUp(self):\n",
        "      self.ch = Chapter(people_gradewise = {\"3\":3, \"4.1\":3, \"4.2\":4, \"4.3\":6, \"4.4\":5, \"5.1\":1, \"5.2\":2, \"MS\":100})\n",
        "      action = Reassign()\n",
        "      st2 = action.run(st, self.ch)\n",
        "\n",
        "    def test_before_promote(self):\n",
        "      st = self.ch.produce_state()\n",
        "      self.assertTrue(st.state_tuple() == (True, False, True, True, False))\n",
        "\n",
        "    def test_after_promote(self):\n",
        "      action = Promote_cascade()\n",
        "      st2 = action.run(st, self.ch)\n",
        "      self.assertTrue(st2.state_tuple() == (True, True, True, True, False))\n",
        "\n",
        "\n",
        "suite = unittest.TestLoader().loadTestsFromTestCase(Promote_Cascade_Tests)\n",
        "unittest.TextTestRunner().run(suite)"
      ],
      "execution_count": 438,
      "outputs": [
        {
          "output_type": "stream",
          "text": [
            "..\n",
            "----------------------------------------------------------------------\n",
            "Ran 2 tests in 0.008s\n",
            "\n",
            "OK\n"
          ],
          "name": "stderr"
        },
        {
          "output_type": "execute_result",
          "data": {
            "text/plain": [
              "<unittest.runner.TextTestResult run=2 errors=0 failures=0>"
            ]
          },
          "metadata": {},
          "execution_count": 438
        }
      ]
    },
    {
      "cell_type": "markdown",
      "metadata": {
        "id": "htaVTOsyjcwL"
      },
      "source": [
        "# Promote Leaders Tests"
      ]
    },
    {
      "cell_type": "code",
      "metadata": {
        "colab": {
          "base_uri": "https://localhost:8080/"
        },
        "id": "eX9DvW6TA7yi",
        "outputId": "2e34ed22-3149-4ebc-b6b1-769a02700499"
      },
      "source": [
        "class Promote_Leaders_Tests(unittest.TestCase):\n",
        "\n",
        "    def setUp(self):\n",
        "      self.ch = Chapter(people_gradewise = {\"3\":0, \"4.1\":0, \"4.2\":0, \"4.3\":0, \"4.4\":0, \"5.1\":0, \"5.2\":0, \"MS\":100})\n",
        "      self.ch.allocated_leads.allocated_leaders_gradewise = {\"3\":0, \"4.1\":1, \"4.2\":24}\n",
        "\n",
        "    def test_before_promote(self):\n",
        "      st = self.ch.produce_state()\n",
        "      self.assertTrue(st.state_tuple() == (False, False, False, False, True))\n",
        "\n",
        "    def test_after_promote(self):\n",
        "      action = Promote_leaders()\n",
        "      st2 = action.run(st, self.ch)\n",
        "      self.assertTrue(st2.state_tuple() == (False, False, False, False, False))\n",
        "\n",
        "suite = unittest.TestLoader().loadTestsFromTestCase(Promote_Leaders_Tests)\n",
        "unittest.TextTestRunner().run(suite)"
      ],
      "execution_count": 439,
      "outputs": [
        {
          "output_type": "stream",
          "text": [
            ".F"
          ],
          "name": "stderr"
        },
        {
          "output_type": "stream",
          "text": [
            "max_dr_per_lead_in_leader_grades : 24.0\n"
          ],
          "name": "stdout"
        },
        {
          "output_type": "stream",
          "text": [
            "\n",
            "======================================================================\n",
            "FAIL: test_before_promote (__main__.Promote_Leaders_Tests)\n",
            "----------------------------------------------------------------------\n",
            "Traceback (most recent call last):\n",
            "  File \"<ipython-input-439-458997bec5d1>\", line 9, in test_before_promote\n",
            "    self.assertTrue(st.state_tuple() == (False, False, False, False, True))\n",
            "AssertionError: False is not true\n",
            "\n",
            "----------------------------------------------------------------------\n",
            "Ran 2 tests in 0.005s\n",
            "\n",
            "FAILED (failures=1)\n"
          ],
          "name": "stderr"
        },
        {
          "output_type": "execute_result",
          "data": {
            "text/plain": [
              "<unittest.runner.TextTestResult run=2 errors=0 failures=1>"
            ]
          },
          "metadata": {},
          "execution_count": 439
        }
      ]
    },
    {
      "cell_type": "markdown",
      "metadata": {
        "id": "XQIocPf_KUyz"
      },
      "source": [
        "# Hire Tests"
      ]
    },
    {
      "cell_type": "code",
      "metadata": {
        "colab": {
          "base_uri": "https://localhost:8080/"
        },
        "id": "Tjb23ECPKWzi",
        "outputId": "9833a46e-8528-424e-eebc-f167fdcb16a1"
      },
      "source": [
        "class Hire_Tests(unittest.TestCase):\n",
        "\n",
        "    def setUp(self):\n",
        "      self.ch = Chapter(people_gradewise = {\"3\":0, \"4.1\":0, \"4.2\":0, \"4.3\":1, \"4.4\":1, \"5.1\":1, \"5.2\":1, \"MS\":100})\n",
        "      self.ch.allocated_leads.allocated_leaders_gradewise = {\"3\":0, \"4.1\":1, \"4.2\":11}\n",
        "\n",
        "    def test_before_hire(self):\n",
        "      st = self.ch.produce_state()\n",
        "      self.assertTrue(st.state_tuple() == (True, False, True, False, True))\n",
        "\n",
        "    def test_after_hire(self):\n",
        "      action = Hire()\n",
        "      st2 = action.run(st, self.ch)\n",
        "      self.assertTrue(st2.state_tuple() == (True, True, True, True, True))\n",
        "      self.assertTrue(self.ch.people_remaining_gradewise == {\"3\":0, \"4.1\":0, \"4.2\":4, \"4.3\":1, \"4.4\":1, \"5.1\":1, \"5.2\":1, \"MS\":100})\n",
        "\n",
        "suite = unittest.TestLoader().loadTestsFromTestCase(Hire_Tests)\n",
        "unittest.TextTestRunner().run(suite)"
      ],
      "execution_count": 440,
      "outputs": [
        {
          "output_type": "stream",
          "text": [
            "FF\n",
            "======================================================================\n",
            "FAIL: test_after_hire (__main__.Hire_Tests)\n",
            "----------------------------------------------------------------------\n",
            "Traceback (most recent call last):\n",
            "  File \"<ipython-input-440-2f5f79b895b5>\", line 14, in test_after_hire\n",
            "    self.assertTrue(st2.state_tuple() == (True, True, True, True, True))\n",
            "AssertionError: False is not true\n",
            "\n",
            "======================================================================\n",
            "FAIL: test_before_hire (__main__.Hire_Tests)\n",
            "----------------------------------------------------------------------\n",
            "Traceback (most recent call last):\n",
            "  File \"<ipython-input-440-2f5f79b895b5>\", line 9, in test_before_hire\n",
            "    self.assertTrue(st.state_tuple() == (True, False, True, False, True))\n",
            "AssertionError: False is not true\n",
            "\n",
            "----------------------------------------------------------------------\n",
            "Ran 2 tests in 0.004s\n",
            "\n",
            "FAILED (failures=2)\n"
          ],
          "name": "stderr"
        },
        {
          "output_type": "execute_result",
          "data": {
            "text/plain": [
              "<unittest.runner.TextTestResult run=2 errors=0 failures=2>"
            ]
          },
          "metadata": {},
          "execution_count": 440
        }
      ]
    },
    {
      "cell_type": "markdown",
      "metadata": {
        "id": "N5OIV8UJSQfv"
      },
      "source": [
        "# Environment Tests"
      ]
    },
    {
      "cell_type": "code",
      "metadata": {
        "colab": {
          "base_uri": "https://localhost:8080/"
        },
        "id": "tNGUpULcSSnE",
        "outputId": "6b416551-f3d9-430a-9928-ea2974c8f89f"
      },
      "source": [
        "env  = Environment()\n",
        "\n",
        "print(env.business_rules.actions)\n",
        "st = State()\n",
        "lst = env.possible_actions_in_state(st)\n",
        "print(lst) #['reassign', 'promote_cascade', 'promote_leaders', 'hire']\n",
        "for action in lst:\n",
        "  print(action.action)\n",
        "  # reassign\n",
        "  # promote_cascade\n",
        "  # promote_leaders\n",
        "  # hire\n",
        "\n",
        "print(env.hasReachedTerminalState(100)) #True\n",
        "print(env.hasReachedTerminalState(-100)) #True\n",
        "print(env.hasReachedTerminalState(-1)) #False\n"
      ],
      "execution_count": 441,
      "outputs": [
        {
          "output_type": "stream",
          "text": [
            "['reassign', 'promote_cascade', 'promote_leaders', 'hire']\n",
            "<map object at 0x7f74dda42050>\n",
            "reassign\n",
            "promote_cascade\n",
            "promote_leaders\n",
            "hire\n",
            "True\n",
            "True\n",
            "False\n"
          ],
          "name": "stdout"
        }
      ]
    },
    {
      "cell_type": "markdown",
      "metadata": {
        "id": "aPChDgEkRDgV"
      },
      "source": [
        "# Episode Tests"
      ]
    },
    {
      "cell_type": "code",
      "metadata": {
        "colab": {
          "base_uri": "https://localhost:8080/"
        },
        "id": "RlC9grVHRFcr",
        "outputId": "5cd86bf0-bbec-482d-d0b2-e07da7a2c548"
      },
      "source": [
        "#preconditioned episode\n",
        "ep = Episode(1)\n",
        "ch = ep.chapter\n",
        "print(ch.people_remaining_gradewise) #{'3': 0, '4.1': 0, '4.2': 5, '4.3': 6, '4.4': 2, '5.1': 0, '5.2': 0, 'MS': 14}\n",
        "print(ch.produce_state().state_tuple())\n",
        "\n",
        "#simulated episode\n",
        "ep = Episode(11)\n",
        "ch = ep.chapter\n",
        "print(ch.people_remaining_gradewise) \n",
        "print(ch.produce_state().state_tuple())\n",
        "\n",
        "#simulated hire episode\n",
        "ep = Episode(12)\n",
        "ch = ep.chapter\n",
        "print(ch.people_remaining_gradewise) \n",
        "print(ch.produce_state().state_tuple())\n"
      ],
      "execution_count": 442,
      "outputs": [
        {
          "output_type": "stream",
          "text": [
            "\n",
            "\n",
            "****episode :  {'3': 0, '4.1': 0, '4.2': 5, '4.3': 6, '4.4': 2, '5.1': 0, '5.2': 0, 'MS': 14}\n",
            "{'3': 0, '4.1': 0, '4.2': 5, '4.3': 6, '4.4': 2, '5.1': 0, '5.2': 0, 'MS': 14}\n",
            "(True, True, True, True, False)\n",
            "\n",
            "\n",
            "****episode :  {'3': 0, '4.1': 7, '4.2': 14, '4.3': 11, '4.4': 33, '5.1': 7, '5.2': 11, 'MS': 31}\n",
            "{'3': 0, '4.1': 7, '4.2': 14, '4.3': 11, '4.4': 33, '5.1': 7, '5.2': 11, 'MS': 31}\n",
            "(True, True, True, True, False)\n",
            "\n",
            "\n",
            "****episode :  {'3': 0, '4.1': 0, '4.2': 0, '4.3': 0, '4.4': 0, '5.1': 0, '5.2': 0, 'MS': 100}\n",
            "{'3': 0, '4.1': 0, '4.2': 0, '4.3': 0, '4.4': 0, '5.1': 0, '5.2': 0, 'MS': 100}\n",
            "(True, False, False, False, False)\n"
          ],
          "name": "stdout"
        }
      ]
    },
    {
      "cell_type": "markdown",
      "metadata": {
        "id": "lrUaW0GQpBUO"
      },
      "source": [
        "# Q-table tests"
      ]
    },
    {
      "cell_type": "code",
      "metadata": {
        "colab": {
          "base_uri": "https://localhost:8080/"
        },
        "id": "7ieVfJwcpDtm",
        "outputId": "182d0c4c-a82b-4417-f4e6-819072dccc17"
      },
      "source": [
        "q = Q_table()\n",
        "q.setValueQ((True, True, True, True, True), \"reassign\", 1)\n",
        "print(q.Q) #{((True, True, True, True, True), 'reassign'): 1}\n",
        "value = q.getValueQ((True, True, True, True, True), \"reassign\")\n",
        "print(value) #1\n",
        "\n",
        "b = Business_rules()\n",
        "lst_acs = b.actions\n",
        "print(b.actions) #['reassign', 'promote_cascade', 'promote_leaders', 'hire']\n",
        "acs = q.getBestAction((True, True, True, True, True), b.actions) #reassign\n",
        "print(acs)\n",
        "\n",
        "mq = q.getMaxQ((True, True, True, True, True), lst_acs)\n",
        "print(mq) #1"
      ],
      "execution_count": 443,
      "outputs": [
        {
          "output_type": "stream",
          "text": [
            "{((True, True, True, True, True), 'reassign'): 1}\n",
            "1\n",
            "['reassign', 'promote_cascade', 'promote_leaders', 'hire']\n",
            "reassign\n",
            "1\n"
          ],
          "name": "stdout"
        }
      ]
    },
    {
      "cell_type": "markdown",
      "metadata": {
        "id": "MwjLS7ULlfcN"
      },
      "source": [
        "# Trainer tests"
      ]
    },
    {
      "cell_type": "code",
      "metadata": {
        "colab": {
          "base_uri": "https://localhost:8080/"
        },
        "id": "ljVsl_vUlh5C",
        "outputId": "6def255c-7e4c-4aff-e9cf-d173107f8c6b"
      },
      "source": [
        "trainer = Trainer()\n",
        "\n",
        "state_tuple = (True, True, False, True, False)\n",
        "\n",
        "br = Business_rules()\n",
        "list_action_strings = br.actions\n",
        "\n",
        "ac = trainer.choose_next_action(state_tuple,list_action_strings,epsilon=0.9)\n",
        "print(ac)\n",
        "\n"
      ],
      "execution_count": 444,
      "outputs": [
        {
          "output_type": "stream",
          "text": [
            "reassign\n"
          ],
          "name": "stdout"
        }
      ]
    },
    {
      "cell_type": "code",
      "metadata": {
        "colab": {
          "base_uri": "https://localhost:8080/"
        },
        "id": "im8BK8-FZYFZ",
        "outputId": "ab3d7ffd-1f4a-4bce-b8c8-b698d6f8c6d2"
      },
      "source": [
        "trainer = Trainer()\n",
        "trainer.train(50)\n",
        "print(trainer.q_table.Q)\n"
      ],
      "execution_count": 445,
      "outputs": [
        {
          "output_type": "stream",
          "text": [
            "\n",
            "\n",
            "****episode :  {'3': 0, '4.1': 1, '4.2': 6, '4.3': 6, '4.4': 1, '5.1': 0, '5.2': 2, 'MS': 7}\n",
            "******episode_number :******* 0\n",
            "\n",
            "\n",
            "****episode :  {'3': 0, '4.1': 0, '4.2': 5, '4.3': 6, '4.4': 2, '5.1': 0, '5.2': 0, 'MS': 14}\n",
            "******episode_number :******* 1\n",
            "\n",
            "\n",
            "****episode :  {'3': 0, '4.1': 0, '4.2': 4, '4.3': 4, '4.4': 4, '5.1': 0, '5.2': 0, 'MS': 9}\n",
            "******episode_number :******* 2\n",
            "\n",
            "\n",
            "****episode :  {'3': 2.5, '4.1': 3, '4.2': 4, '4.3': 6, '4.4': 5, '5.1': 1, '5.2': 2, 'MS': 27}\n",
            "******episode_number :******* 3\n",
            "\n",
            "\n",
            "****episode :  {'3': 0, '4.1': 1, '4.2': 3.5, '4.3': 0.5, '4.4': 0.8, '5.1': 0, '5.2': 0, 'MS': 3}\n",
            "******episode_number :******* 4\n",
            "\n",
            "\n",
            "****episode :  {'3': 0, '4.1': 0, '4.2': 2, '4.3': 1, '4.4': 1, '5.1': 0, '5.2': 0, 'MS': 2}\n",
            "******episode_number :******* 5\n",
            "\n",
            "\n",
            "****episode :  {'3': 1, '4.1': 1, '4.2': 1, '4.3': 7, '4.4': 4, '5.1': 0, '5.2': 0, 'MS': 3}\n",
            "******episode_number :******* 6\n",
            "\n",
            "\n",
            "****episode :  {'3': 0, '4.1': 0, '4.2': 1.5, '4.3': 3, '4.4': 2, '5.1': 1, '5.2': 0, 'MS': 18}\n",
            "******episode_number :******* 7\n",
            "\n",
            "\n",
            "****episode :  {'3': 2.5, '4.1': 3, '4.2': 0, '4.3': 0, '4.4': 5, '5.1': 1, '5.2': 2, 'MS': 27}\n",
            "******episode_number :******* 8\n",
            "\n",
            "\n",
            "****episode :  {'3': 3, '4.1': 3, '4.2': 0, '4.3': 0, '4.4': 5, '5.1': 1, '5.2': 2, 'MS': 70}\n",
            "******episode_number :******* 9\n",
            "\n",
            "\n",
            "****episode :  {'3': 0, '4.1': 0, '4.2': 0, '4.3': 0, '4.4': 0, '5.1': 0, '5.2': 0, 'MS': 100}\n",
            "******episode_number :******* 10\n",
            "\n",
            "\n",
            "****episode :  {'3': 2, '4.1': 5, '4.2': 10, '4.3': 53, '4.4': 50, '5.1': 6, '5.2': 5, 'MS': 74}\n",
            "******episode_number :******* 11\n",
            "\n",
            "\n",
            "****episode :  {'3': 0, '4.1': 0, '4.2': 0, '4.3': 0, '4.4': 0, '5.1': 0, '5.2': 0, 'MS': 100}\n",
            "******episode_number :******* 12\n",
            "\n",
            "\n",
            "****episode :  {'3': 1, '4.1': 3, '4.2': 13, '4.3': 21, '4.4': 24, '5.1': 1, '5.2': 5, 'MS': 96}\n",
            "******episode_number :******* 13\n",
            "\n",
            "\n",
            "****episode :  {'3': 0, '4.1': 0, '4.2': 0, '4.3': 0, '4.4': 0, '5.1': 0, '5.2': 0, 'MS': 100}\n",
            "******episode_number :******* 14\n",
            "\n",
            "\n",
            "****episode :  {'3': 3, '4.1': 5, '4.2': 2, '4.3': 51, '4.4': 7, '5.1': 0, '5.2': 8, 'MS': 76}\n",
            "******episode_number :******* 15\n",
            "\n",
            "\n",
            "****episode :  {'3': 0, '4.1': 0, '4.2': 0, '4.3': 0, '4.4': 0, '5.1': 0, '5.2': 0, 'MS': 100}\n",
            "******episode_number :******* 16\n",
            "\n",
            "\n",
            "****episode :  {'3': 0, '4.1': 6, '4.2': 9, '4.3': 4, '4.4': 55, '5.1': 22, '5.2': 0, 'MS': 93}\n",
            "******episode_number :******* 17\n",
            "\n",
            "\n",
            "****episode :  {'3': 0, '4.1': 0, '4.2': 0, '4.3': 0, '4.4': 0, '5.1': 0, '5.2': 0, 'MS': 100}\n",
            "******episode_number :******* 18\n",
            "\n",
            "\n",
            "****episode :  {'3': 0, '4.1': 8, '4.2': 6, '4.3': 14, '4.4': 20, '5.1': 2, '5.2': 10, 'MS': 33}\n",
            "******episode_number :******* 19\n",
            "\n",
            "\n",
            "****episode :  {'3': 0, '4.1': 0, '4.2': 0, '4.3': 0, '4.4': 0, '5.1': 0, '5.2': 0, 'MS': 100}\n",
            "******episode_number :******* 20\n",
            "\n",
            "\n",
            "****episode :  {'3': 3, '4.1': 2, '4.2': 13, '4.3': 50, '4.4': 25, '5.1': 25, '5.2': 6, 'MS': 46}\n",
            "******episode_number :******* 21\n",
            "\n",
            "\n",
            "****episode :  {'3': 0, '4.1': 0, '4.2': 0, '4.3': 0, '4.4': 0, '5.1': 0, '5.2': 0, 'MS': 100}\n",
            "******episode_number :******* 22\n",
            "\n",
            "\n",
            "****episode :  {'3': 2, '4.1': 3, '4.2': 9, '4.3': 24, '4.4': 44, '5.1': 4, '5.2': 1, 'MS': 13}\n",
            "******episode_number :******* 23\n",
            "\n",
            "\n",
            "****episode :  {'3': 0, '4.1': 0, '4.2': 0, '4.3': 0, '4.4': 0, '5.1': 0, '5.2': 0, 'MS': 100}\n",
            "******episode_number :******* 24\n",
            "\n",
            "\n",
            "****episode :  {'3': 1, '4.1': 8, '4.2': 13, '4.3': 7, '4.4': 35, '5.1': 14, '5.2': 2, 'MS': 94}\n",
            "******episode_number :******* 25\n",
            "\n",
            "\n",
            "****episode :  {'3': 0, '4.1': 0, '4.2': 0, '4.3': 0, '4.4': 0, '5.1': 0, '5.2': 0, 'MS': 100}\n",
            "******episode_number :******* 26\n",
            "\n",
            "\n",
            "****episode :  {'3': 1, '4.1': 0, '4.2': 10, '4.3': 2, '4.4': 30, '5.1': 1, '5.2': 2, 'MS': 17}\n",
            "******episode_number :******* 27\n",
            "\n",
            "\n",
            "****episode :  {'3': 0, '4.1': 0, '4.2': 0, '4.3': 0, '4.4': 0, '5.1': 0, '5.2': 0, 'MS': 100}\n",
            "******episode_number :******* 28\n",
            "\n",
            "\n",
            "****episode :  {'3': 1, '4.1': 3, '4.2': 6, '4.3': 43, '4.4': 35, '5.1': 3, '5.2': 4, 'MS': 68}\n",
            "******episode_number :******* 29\n",
            "\n",
            "\n",
            "****episode :  {'3': 0, '4.1': 0, '4.2': 0, '4.3': 0, '4.4': 0, '5.1': 0, '5.2': 0, 'MS': 100}\n",
            "******episode_number :******* 30\n",
            "\n",
            "\n",
            "****episode :  {'3': 3, '4.1': 9, '4.2': 13, '4.3': 48, '4.4': 51, '5.1': 0, '5.2': 6, 'MS': 14}\n",
            "******episode_number :******* 31\n",
            "\n",
            "\n",
            "****episode :  {'3': 0, '4.1': 0, '4.2': 0, '4.3': 0, '4.4': 0, '5.1': 0, '5.2': 0, 'MS': 100}\n",
            "******episode_number :******* 32\n",
            "\n",
            "\n",
            "****episode :  {'3': 0, '4.1': 5, '4.2': 6, '4.3': 44, '4.4': 51, '5.1': 20, '5.2': 10, 'MS': 53}\n",
            "******episode_number :******* 33\n",
            "\n",
            "\n",
            "****episode :  {'3': 0, '4.1': 0, '4.2': 0, '4.3': 0, '4.4': 0, '5.1': 0, '5.2': 0, 'MS': 100}\n",
            "******episode_number :******* 34\n",
            "\n",
            "\n",
            "****episode :  {'3': 2, '4.1': 9, '4.2': 11, '4.3': 25, '4.4': 45, '5.1': 6, '5.2': 5, 'MS': 64}\n",
            "******episode_number :******* 35\n",
            "\n",
            "\n",
            "****episode :  {'3': 0, '4.1': 0, '4.2': 0, '4.3': 0, '4.4': 0, '5.1': 0, '5.2': 0, 'MS': 100}\n",
            "******episode_number :******* 36\n",
            "\n",
            "\n",
            "****episode :  {'3': 0, '4.1': 0, '4.2': 7, '4.3': 34, '4.4': 38, '5.1': 10, '5.2': 5, 'MS': 91}\n",
            "******episode_number :******* 37\n",
            "\n",
            "\n",
            "****episode :  {'3': 0, '4.1': 0, '4.2': 0, '4.3': 0, '4.4': 0, '5.1': 0, '5.2': 0, 'MS': 100}\n",
            "******episode_number :******* 38\n",
            "\n",
            "\n",
            "****episode :  {'3': 0, '4.1': 1, '4.2': 4, '4.3': 31, '4.4': 13, '5.1': 8, '5.2': 4, 'MS': 92}\n",
            "******episode_number :******* 39\n",
            "\n",
            "\n",
            "****episode :  {'3': 0, '4.1': 0, '4.2': 0, '4.3': 0, '4.4': 0, '5.1': 0, '5.2': 0, 'MS': 100}\n",
            "******episode_number :******* 40\n",
            "\n",
            "\n",
            "****episode :  {'3': 1, '4.1': 1, '4.2': 7, '4.3': 13, '4.4': 60, '5.1': 16, '5.2': 10, 'MS': 46}\n",
            "******episode_number :******* 41\n",
            "\n",
            "\n",
            "****episode :  {'3': 0, '4.1': 0, '4.2': 0, '4.3': 0, '4.4': 0, '5.1': 0, '5.2': 0, 'MS': 100}\n",
            "******episode_number :******* 42\n",
            "\n",
            "\n",
            "****episode :  {'3': 2, '4.1': 1, '4.2': 12, '4.3': 47, '4.4': 24, '5.1': 1, '5.2': 4, 'MS': 72}\n",
            "******episode_number :******* 43\n",
            "\n",
            "\n",
            "****episode :  {'3': 0, '4.1': 0, '4.2': 0, '4.3': 0, '4.4': 0, '5.1': 0, '5.2': 0, 'MS': 100}\n",
            "******episode_number :******* 44\n",
            "\n",
            "\n",
            "****episode :  {'3': 2, '4.1': 9, '4.2': 7, '4.3': 4, '4.4': 44, '5.1': 22, '5.2': 8, 'MS': 66}\n",
            "******episode_number :******* 45\n",
            "\n",
            "\n",
            "****episode :  {'3': 0, '4.1': 0, '4.2': 0, '4.3': 0, '4.4': 0, '5.1': 0, '5.2': 0, 'MS': 100}\n",
            "******episode_number :******* 46\n",
            "\n",
            "\n",
            "****episode :  {'3': 3, '4.1': 0, '4.2': 0, '4.3': 53, '4.4': 48, '5.1': 17, '5.2': 1, 'MS': 3}\n",
            "******episode_number :******* 47\n",
            "\n",
            "\n",
            "****episode :  {'3': 0, '4.1': 0, '4.2': 0, '4.3': 0, '4.4': 0, '5.1': 0, '5.2': 0, 'MS': 100}\n",
            "******episode_number :******* 48\n",
            "\n",
            "\n",
            "****episode :  {'3': 3, '4.1': 5, '4.2': 3, '4.3': 60, '4.4': 40, '5.1': 7, '5.2': 7, 'MS': 13}\n",
            "******episode_number :******* 49\n",
            "{((True, True, True, True, False), 'promote_cascade'): -1.0, ((True, True, True, True, False), 'reassign'): 89.90909000909092, ((True, True, True, True, False), 'promote_leaders'): -1.0, ((True, True, True, True, False), 'hire'): -1.0, ((True, False, True, True, False), 'reassign'): -1.0, ((True, False, True, True, False), 'promote_cascade'): -1.0, ((True, False, True, True, False), 'promote_leaders'): -0.999999999999999, ((True, False, True, True, False), 'hire'): -1.0, ((True, True, True, False, False), 'reassign'): 89.90001000000001, ((True, False, False, False, False), 'reassign'): -1.0, ((True, False, False, False, False), 'promote_cascade'): -1.0, ((True, False, False, False, False), 'promote_leaders'): -1.0, ((True, False, False, False, False), 'hire'): -1.0, ((True, True, True, False, False), 'promote_cascade'): -0.999999999, ((True, True, True, False, False), 'promote_leaders'): -0.9999999999999, ((True, True, True, False, False), 'hire'): -0.99999999, ((True, False, True, False, False), 'reassign'): 0, ((True, False, True, False, False), 'promote_cascade'): -0.9, ((True, False, True, False, False), 'promote_leaders'): -0.9, ((True, False, True, False, False), 'hire'): -0.99}\n"
          ],
          "name": "stdout"
        }
      ]
    },
    {
      "cell_type": "markdown",
      "metadata": {
        "id": "jdmafhb55ka7"
      },
      "source": [
        "# Shortest Path per policy"
      ]
    },
    {
      "cell_type": "code",
      "metadata": {
        "colab": {
          "base_uri": "https://localhost:8080/"
        },
        "id": "qfkSVssU5jOa",
        "outputId": "1ac15cf4-9bf4-45e6-c09c-5c1d9d400d1a"
      },
      "source": [
        "#preconditioned episode\n",
        "# ep = Episode(1)\n",
        "# ch = ep.chapter\n",
        "\n",
        "\n",
        "ch = Chapter({'3': 1, '4.1': 6, '4.2': 1, '4.3': 63, '4.4': 53, '5.1': 14, '5.2': 2, 'MS': 12})\n",
        "trainer.get_shortest_path(ch)"
      ],
      "execution_count": 446,
      "outputs": [
        {
          "output_type": "stream",
          "text": [
            "(True, True, True, True, False) reassign -1 (True, False, True, True, False)\n",
            "(True, False, True, True, False) promote_cascade -1 (True, True, True, True, False)\n",
            "(True, True, True, True, False) reassign -1 (True, False, True, True, False)\n",
            "(True, False, True, True, False) promote_cascade -1 (True, True, True, True, False)\n",
            "(True, True, True, True, False) reassign -1 (True, False, True, True, False)\n",
            "(True, False, True, True, False) reassign -1 (True, False, True, True, False)\n",
            "(True, False, True, True, False) promote_cascade -1 (True, True, True, True, False)\n",
            "(True, True, True, True, False) reassign -1 (True, False, True, True, False)\n",
            "(True, False, True, True, False) promote_cascade -1 (True, True, True, True, False)\n",
            "(True, True, True, True, False) reassign -1 (True, False, True, True, False)\n",
            "(True, False, True, True, False) promote_leaders -1 (True, False, True, True, False)\n",
            "(True, False, True, True, False) promote_leaders -1 (True, False, True, True, False)\n",
            "(True, False, True, True, False) promote_cascade -1 (True, True, True, True, False)\n",
            "(True, True, True, True, False) reassign -1 (True, False, True, True, False)\n",
            "(True, False, True, True, False) reassign -1 (True, False, True, True, False)\n",
            "(True, False, True, True, False) hire -1 (True, True, True, True, False)\n",
            "(True, True, True, True, False) reassign 100 (False, False, True, True, False)\n",
            "\n",
            "shortest_path : \n",
            "\n",
            "\n",
            " step : 1\n",
            "{'3': 1, '4.1': 6, '4.2': 1, '4.3': 63, '4.4': 53, '5.1': 14, '5.2': 2, 'MS': 12}\n",
            "{'3': 0, '4.1': 0, '4.2': 0}\n",
            "\n",
            " step : 2\n",
            "{'3': 0, '4.1': 0, '4.2': 0, '4.3': 63, '4.4': 53, '5.1': 14, '5.2': 2, 'MS': 12}\n",
            "{'3': 1, '4.1': 6, '4.2': 1}\n",
            "\n",
            " step : 3\n",
            "{'3': 0, '4.1': 0, '4.2': 4, '4.3': 63, '4.4': 53, '5.1': 12, '5.2': 0, 'MS': 12}\n",
            "{'3': 1, '4.1': 6, '4.2': 1}\n",
            "\n",
            " step : 4\n",
            "{'3': 0, '4.1': 0, '4.2': 0, '4.3': 63, '4.4': 53, '5.1': 12, '5.2': 0, 'MS': 12}\n",
            "{'3': 1, '4.1': 6, '4.2': 5}\n",
            "\n",
            " step : 5\n",
            "{'3': 0, '4.1': 0, '4.2': 4, '4.3': 63, '4.4': 53, '5.1': 8, '5.2': 0, 'MS': 12}\n",
            "{'3': 1, '4.1': 6, '4.2': 5}\n",
            "\n",
            " step : 6\n",
            "{'3': 0, '4.1': 0, '4.2': 0, '4.3': 63, '4.4': 53, '5.1': 8, '5.2': 0, 'MS': 12}\n",
            "{'3': 1, '4.1': 6, '4.2': 9}\n",
            "\n",
            " step : 7\n",
            "{'3': 0, '4.1': 0, '4.2': 0, '4.3': 63, '4.4': 53, '5.1': 8, '5.2': 0, 'MS': 12}\n",
            "{'3': 1, '4.1': 6, '4.2': 9}\n",
            "\n",
            " step : 8\n",
            "{'3': 0, '4.1': 0, '4.2': 4, '4.3': 63, '4.4': 53, '5.1': 4, '5.2': 0, 'MS': 12}\n",
            "{'3': 1, '4.1': 6, '4.2': 9}\n",
            "\n",
            " step : 9\n",
            "{'3': 0, '4.1': 0, '4.2': 0, '4.3': 63, '4.4': 53, '5.1': 4, '5.2': 0, 'MS': 12}\n",
            "{'3': 1, '4.1': 6, '4.2': 13}\n",
            "\n",
            " step : 10\n",
            "{'3': 0, '4.1': 0, '4.2': 4, '4.3': 63, '4.4': 53, '5.1': 0, '5.2': 0, 'MS': 12}\n",
            "{'3': 1, '4.1': 6, '4.2': 13}\n",
            "\n",
            " step : 11\n",
            "{'3': 0, '4.1': 0, '4.2': 0, '4.3': 63, '4.4': 53, '5.1': 0, '5.2': 0, 'MS': 12}\n",
            "{'3': 1, '4.1': 6, '4.2': 17}\n",
            "\n",
            " step : 12\n",
            "{'3': 0, '4.1': 0, '4.2': 0, '4.3': 63, '4.4': 53, '5.1': 0, '5.2': 0, 'MS': 12}\n",
            "{'3': 1, '4.1': 6, '4.2': 17}\n",
            "\n",
            " step : 13\n",
            "{'3': 0, '4.1': 0, '4.2': 0, '4.3': 63, '4.4': 53, '5.1': 0, '5.2': 0, 'MS': 12}\n",
            "{'3': 1, '4.1': 6, '4.2': 17}\n",
            "\n",
            " step : 14\n",
            "{'3': 0, '4.1': 0, '4.2': 4, '4.3': 63, '4.4': 49, '5.1': 0, '5.2': 0, 'MS': 12}\n",
            "{'3': 1, '4.1': 6, '4.2': 17}\n",
            "\n",
            " step : 15\n",
            "{'3': 0, '4.1': 0, '4.2': 0, '4.3': 63, '4.4': 49, '5.1': 0, '5.2': 0, 'MS': 12}\n",
            "{'3': 1, '4.1': 6, '4.2': 21}\n",
            "\n",
            " step : 16\n",
            "{'3': 0, '4.1': 0, '4.2': 0, '4.3': 63, '4.4': 49, '5.1': 0, '5.2': 0, 'MS': 12}\n",
            "{'3': 1, '4.1': 6, '4.2': 21}\n",
            "\n",
            " step : 17\n",
            "{'3': 0, '4.1': 0, '4.2': 4, '4.3': 63, '4.4': 49, '5.1': 0, '5.2': 0, 'MS': 12}\n",
            "{'3': 1, '4.1': 6, '4.2': 21}\n",
            "\n",
            " step : 18\n",
            "{'3': 0, '4.1': 0, '4.2': 0, '4.3': 63, '4.4': 49, '5.1': 0, '5.2': 0, 'MS': 12}\n",
            "{'3': 1, '4.1': 6, '4.2': 25}\n"
          ],
          "name": "stdout"
        }
      ]
    }
  ]
}