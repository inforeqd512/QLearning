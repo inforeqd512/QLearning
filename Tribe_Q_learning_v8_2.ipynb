{
  "nbformat": 4,
  "nbformat_minor": 0,
  "metadata": {
    "colab": {
      "name": "Tribe_Q_learning_v8.2.ipynb",
      "provenance": [],
      "collapsed_sections": [
        "JLakcETXe6xT",
        "hX98tewahdjb",
        "9QONOYm58pQl",
        "EJDLDu5YB6-S",
        "K6azrSUejWrB",
        "qLZIbPEdjaAH",
        "htaVTOsyjcwL",
        "XQIocPf_KUyz"
      ],
      "authorship_tag": "ABX9TyN1f3i19wb+FSTjJcOX8nFn",
      "include_colab_link": true
    },
    "kernelspec": {
      "name": "python3",
      "display_name": "Python 3"
    },
    "language_info": {
      "name": "python"
    }
  },
  "cells": [
    {
      "cell_type": "markdown",
      "metadata": {
        "id": "view-in-github",
        "colab_type": "text"
      },
      "source": [
        "<a href=\"https://colab.research.google.com/github/inforeqd512/QLearning/blob/main/Tribe_Q_learning_v8_2.ipynb\" target=\"_parent\"><img src=\"https://colab.research.google.com/assets/colab-badge.svg\" alt=\"Open In Colab\"/></a>"
      ]
    },
    {
      "cell_type": "code",
      "metadata": {
        "colab": {
          "base_uri": "https://localhost:8080/"
        },
        "id": "Pcq1xIvKhnoh",
        "outputId": "0c1e7423-0761-48d5-d99b-53a9dad899aa"
      },
      "source": [
        "import numpy as np\n",
        "import copy #for deepcopy()\n",
        "# importing functools for reduce()\n",
        "import functools\n",
        "\n",
        "import unittest\n",
        "!python -V"
      ],
      "execution_count": 206,
      "outputs": [
        {
          "output_type": "stream",
          "text": [
            "Python 3.7.11\n"
          ],
          "name": "stdout"
        }
      ]
    },
    {
      "cell_type": "markdown",
      "metadata": {
        "id": "sDFzrYFGtX-L"
      },
      "source": [
        "# Business Rules"
      ]
    },
    {
      "cell_type": "code",
      "metadata": {
        "id": "QT9HctaStavV"
      },
      "source": [
        "class Business_rules:\n",
        "  def __init__(self):\n",
        "    self.target_dr_per_lead = 4\n",
        "    self.target_max_reassign = 4\n",
        "    self.target_max_promote = 4\n",
        "    self.target_max_hire = 4\n",
        "    self.actions = ['reassign', 'promote_cascade',  'promote_leaders', 'hire']\n",
        "    return"
      ],
      "execution_count": 207,
      "outputs": []
    },
    {
      "cell_type": "markdown",
      "metadata": {
        "id": "3cb74F54_mbJ"
      },
      "source": [
        "# Chapter"
      ]
    },
    {
      "cell_type": "code",
      "metadata": {
        "id": "a9Cnq6rzdk98"
      },
      "source": [
        "class Allocated_leads:\n",
        "  def __init__(self):\n",
        "    self.allocated_leaders_gradewise = {\"3\":0, \"4.1\":0, \"4.2\":0}\n",
        "    return\n",
        "\n",
        "  def total_leaders_leading(self):\n",
        "    total = functools.reduce(lambda x, value:x + value, self.allocated_leaders_gradewise.values(), 0)\n",
        "    return total \n",
        "\n",
        "  def allocate_leaders(self, allocated_leaders_gradewise = {\"3\":0, \"4.1\":0, \"4.2\":0}):\n",
        "    for grade in allocated_leaders_gradewise:\n",
        "      self.allocated_leaders_gradewise[grade] += allocated_leaders_gradewise[grade]\n",
        "    return\n",
        "\n",
        "  def promote_leaders(self, grade_to_promote_to, grade_to_promote, target):\n",
        "    if grade_to_promote_to in self.allocated_leaders_gradewise and \\\n",
        "      grade_to_promote in self.allocated_leaders_gradewise:\n",
        "      num_in_grade = self.allocated_leaders_gradewise[grade_to_promote]\n",
        "      actually_promote = num_in_grade\n",
        "      if actually_promote > target:\n",
        "        actually_promote = target\n",
        "      print(\"actually_promote :\", actually_promote)\n",
        "      self.allocated_leaders_gradewise[grade_to_promote_to] += actually_promote\n",
        "      self.allocated_leaders_gradewise[grade_to_promote] -= actually_promote\n",
        "    return"
      ],
      "execution_count": 208,
      "outputs": []
    },
    {
      "cell_type": "code",
      "metadata": {
        "id": "v_Owab5me5nB"
      },
      "source": [
        "class Successor:\n",
        "  def __init__(self, \n",
        "               people_remaining_gradewise = {\"3\":0, \"4.1\":2, \"4.2\":0, \"4.3\":0, \"4.4\":0, \"5.1\":0, \"5.2\":0, \"MS\":0},\n",
        "               leader_successor_grades = {\"3\":\"4.1\", \"4.1\":\"4.2\", \"4.2\":\"4.3\"}\n",
        "               ):\n",
        "    self.people_remaining_gradewise = people_remaining_gradewise\n",
        "    self.leader_successor_grades = leader_successor_grades\n",
        "    self.engineer_successor_grades = {\"4.3\":\"4.4\", \"4.4\":\"5.1\", \"5.1\":\"5.2\"}\n",
        "    return\n",
        "\n",
        "  def successor_ratio_for_grade(self, kv_tuple):\n",
        "    k = kv_tuple[0]\n",
        "    v = kv_tuple[1]\n",
        "    total_successors = self.people_remaining_gradewise[v]\n",
        "    total_leaders = self.people_remaining_gradewise[k]\n",
        "    ratio = 0\n",
        "    if total_leaders <= 0:\n",
        "      total_leaders = 1\n",
        "    ratio = total_successors / total_leaders\n",
        "    return ratio\n",
        "\n",
        "  def dict_successor_per_lead(self):\n",
        "    d = dict(map(lambda kv: (kv[0], self.successor_ratio_for_grade(kv)) , self.leader_successor_grades.items()))\n",
        "    return d  \n",
        "\n",
        "\n",
        "  def total_successors_for_lead_grades(self):\n",
        "    d = self.dict_successor_per_lead()\n",
        "    total = functools.reduce(lambda x, value: x + value, d.values(), 0)\n",
        "    return total\n",
        "\n",
        "\n",
        "  def dict_successor_per_engineer(self):\n",
        "    d = dict(map(lambda kv: (kv[0], self.successor_ratio_for_grade(kv)) , self.engineer_successor_grades.items()))\n",
        "    return d  \n",
        "\n",
        "\n",
        "  def total_successors_for_engineer_grades(self):\n",
        "    d = self.dict_successor_per_engineer()\n",
        "    total = functools.reduce(lambda x, value: x + value, d.values(), 0)\n",
        "    return total\n",
        "\n",
        "\n",
        "  def diff_successor_ratio_for_leader_engineer_grades(self):\n",
        "    l = self.total_successors_for_lead_grades()\n",
        "    e = self.total_successors_for_engineer_grades()\n",
        "    diff = l - e\n",
        "    return diff\n",
        "\n",
        "  def is_num_people_immediate_promotable_to_higher_grade_lt_those_to_lower_grade(self):\n",
        "    promotable_to_higher_grade = self.total_successors_for_lead_grades()\n",
        "    promotable_to_lower_grade = self.total_successors_for_engineer_grades()\n",
        "    diff = promotable_to_higher_grade - promotable_to_lower_grade\n",
        "    rule = diff > 0\n",
        "    return rule  \n",
        "\n",
        "  def is_num_immediate_promotable_to_leader_grades_gt_zero(self):\n",
        "    rule = self.total_successors_for_lead_grades() > 0\n",
        "    return rule  "
      ],
      "execution_count": 209,
      "outputs": []
    },
    {
      "cell_type": "code",
      "metadata": {
        "id": "ItSuE429iKFY"
      },
      "source": [
        "class DR_per_lead:\n",
        "  def __init__(self, allocated_leads, business_rules, people_remaining_gradewise = {\"3\":0, \"4.1\":2, \"4.2\":0, \"4.3\":0, \"4.4\":0, \"5.1\":0, \"5.2\":0, \"MS\":0}):\n",
        "    self.people_remaining_gradewise = people_remaining_gradewise\n",
        "    self.allocated_leads = allocated_leads\n",
        "    return\n",
        "\n",
        "  def total_people_remaining(self):\n",
        "    total = functools.reduce(lambda x, value:x + value, self.people_remaining_gradewise.values(), 0)\n",
        "    return total\n",
        "\n",
        "  def dr_per_lead(self):\n",
        "    total = self.allocated_leads.total_leaders_leading()\n",
        "    ratio = 999 #some infinitely big number\n",
        "    if total > 0:\n",
        "      ratio = self.total_people_remaining() / total\n",
        "    return ratio\n",
        "\n",
        "  def is_overall_dr_per_lead_gt_target(self):\n",
        "    rule = self.dr_per_lead() > self.business_rules.target_dr_per_lead\n",
        "    return rule"
      ],
      "execution_count": 210,
      "outputs": []
    },
    {
      "cell_type": "code",
      "metadata": {
        "id": "3Fsk2uzklOe7"
      },
      "source": [
        "class DR_per_lead_for_this_leader_grade_wrt_higher_grades:\n",
        "  def __init__(self, allocated_leads, business_rules, ranked_grades=[\"3\",\"4.1\",\"4.2\"]):\n",
        "    self.allocated_leads = allocated_leads\n",
        "    self.ranked_grades = ranked_grades\n",
        "    self.business_rules = business_rules\n",
        "    return\n",
        "\n",
        "  def dr_per_lead_for_this_grade_wrt_higher_grades(self, grade):\n",
        "    total_leading_in_grade = self.allocated_leads.allocated_leaders_gradewise[grade]\n",
        "    total_leading_in_higher_grades = 0\n",
        "    for local_grade in self.ranked_grades:\n",
        "      if local_grade == grade:\n",
        "        break\n",
        "      total_leading_in_higher_grades += self.allocated_leads.allocated_leaders_gradewise[local_grade]\n",
        "\n",
        "    dr_per_lead_higher_grade = 0\n",
        "    if total_leading_in_higher_grades > 0:\n",
        "      dr_per_lead_higher_grade = total_leading_in_grade / total_leading_in_higher_grades\n",
        "\n",
        "    return dr_per_lead_higher_grade\n",
        "\n",
        "  def dict_dr_per_lead_for_this_grade_wrt_higher_grade(self):\n",
        "    dict_dr = {}\n",
        "    for grade in self.ranked_grades:\n",
        "      dr_per_lead_higher_grade = self.dr_per_lead_for_this_grade_wrt_higher_grades(grade)\n",
        "      dict_dr[grade] = dr_per_lead_higher_grade\n",
        "    return dict_dr\n",
        "\n",
        "  def max_dr_per_lead_in_leader_grades(self):\n",
        "    vals = self.dict_dr_per_lead_for_this_grade_wrt_higher_grade().values()\n",
        "    max_val = max(vals)\n",
        "    return max_val\n",
        "\n",
        "  def is_max_dr_per_lead_in_leader_grades_gt_target(self):\n",
        "    rule = self.max_dr_per_lead_in_leader_grades() > self.business_rules.target_dr_per_lead\n",
        "    return rule"
      ],
      "execution_count": 211,
      "outputs": []
    },
    {
      "cell_type": "code",
      "metadata": {
        "id": "tfycxTaY_mC9"
      },
      "source": [
        "class Chapter:\n",
        "  def __init__(self, people_gradewise = {\"3\":0, \"4.1\":2, \"4.2\":0, \"4.3\":0, \"4.4\":0, \"5.1\":0, \"5.2\":0, \"MS\":0}):\n",
        "    self.people_gradewise = people_gradewise\n",
        "    self.allocated_leads = Allocated_leads()\n",
        "    self.business_rules = Business_rules()\n",
        "    self.people_remaining_gradewise = copy.copy(self.people_gradewise)\n",
        "    self.leader_successor_grades = {\"3\":\"4.1\", \"4.1\":\"4.2\", \"4.2\":\"4.3\"}\n",
        "    self.ranked_leader_grades = list(self.leader_successor_grades.keys())\n",
        "    self.ranked_perm_promotable_grades = list(self.people_gradewise.keys())[:-1]\n",
        "    self.successor = Successor(people_remaining_gradewise = self.people_remaining_gradewise, \n",
        "                   leader_successor_grades = self.leader_successor_grades)\n",
        "    self.dr_per_lead = DR_per_lead(people_remaining_gradewise = self.people_remaining_gradewise,\n",
        "                                   business_rules = self.business_rules,\n",
        "                                   allocated_leads = self.allocated_leads)\n",
        "    self.dr_per_lead_for_this_leader_grade_wrt_higher_grades = DR_per_lead_for_this_leader_grade_wrt_higher_grades(allocated_leads = self.allocated_leads,\n",
        "                                                                                                                   business_rules = self.business_rules)\n",
        "    return\n",
        "  \n",
        "  def allocate_leaders(self, allocated_leaders_gradewise = {\"3\":0, \"4.1\":0, \"4.2\":0}):\n",
        "    self.allocated_leads.allocate_leaders(allocated_leaders_gradewise=allocated_leaders_gradewise)\n",
        "    for grade in allocated_leaders_gradewise:\n",
        "      self.people_remaining_gradewise[grade] -= allocated_leaders_gradewise[grade]\n",
        "    self.update_chapter_state()\n",
        "\n",
        "  def update_chapter_state(self):\n",
        "    self.successor = Successor(people_remaining_gradewise = self.people_remaining_gradewise, \n",
        "                   leader_successor_grades = self.leader_successor_grades)\n",
        "    self.dr_per_lead = DR_per_lead(people_remaining_gradewise = self.people_remaining_gradewise,\n",
        "                                  business_rules = self.business_rules,\n",
        "                                  allocated_leads = self.allocated_leads)\n",
        "    self.dr_per_lead_for_this_leader_grade_wrt_higher_grades = DR_per_lead_for_this_leader_grade_wrt_higher_grades(allocated_leads = self.allocated_leads,\n",
        "                                                                                                                business_rules = self.business_rules)\n",
        "\n",
        "  def total_people(self):\n",
        "    print(self.people_gradewise)\n",
        "    total = functools.reduce(lambda x, value:x + value, self.people_gradewise.values(), 0)\n",
        "    return total\n",
        "    \n",
        "  #Hire section :-\n",
        "  def hire(self):\n",
        "    idx = len(self.ranked_leader_grades) - 1 #always hire the lowest leader grades\n",
        "    grade = self.ranked_leader_grades[idx]\n",
        "    if grade in self.people_remaining_gradewise:\n",
        "      self.people_remaining_gradewise[grade] += self.business_rules.target_max_hire\n",
        "\n",
        "    self.update_chapter_state()\n",
        "\n",
        "  #Promote section :-\n",
        "  def promote_cascade(self):\n",
        "    if self.successor.is_num_immediate_promotable_to_leader_grades_gt_zero():\n",
        "      n = len(self.ranked_perm_promotable_grades)-1 #ignore grade for the most junior\n",
        "      for i in range(1, n): #ignore grade for top boss\n",
        "        grade = self.ranked_perm_promotable_grades[i]\n",
        "        lower_grade = self.ranked_perm_promotable_grades[i+1]\n",
        "        num_in_grade = self.people_remaining_gradewise[grade]\n",
        "        num_in_lower_grade = self.people_remaining_gradewise[lower_grade]\n",
        "        target_num_to_promote = self.business_rules.target_max_promote\n",
        "        num_to_promote = num_in_lower_grade\n",
        "        if num_in_lower_grade > target_num_to_promote:\n",
        "          num_to_promote = target_num_to_promote\n",
        "\n",
        "        self.people_remaining_gradewise[grade] += num_to_promote\n",
        "        self.people_remaining_gradewise[lower_grade] -= num_to_promote\n",
        "\n",
        "      self.update_chapter_state()\n",
        "\n",
        "\n",
        "  def promote_leaders(self):\n",
        "    if self.dr_per_lead_for_this_leader_grade_wrt_higher_grades.is_max_dr_per_lead_in_leader_grades_gt_target():\n",
        "      n = len(self.ranked_leader_grades)-1 #ignore grade for the most junior\n",
        "      for i in range(1, n): #ignore grade for top boss\n",
        "        grade = self.ranked_perm_promotable_grades[i]\n",
        "        lower_grade = self.ranked_perm_promotable_grades[i+1]\n",
        "        self.allocated_leads.promote_leaders(\"4.1\", \"4.2\", self.business_rules.target_max_promote)\n",
        "\n",
        "      self.update_chapter_state()\n",
        "    \n",
        "\n",
        "  #Reassign section :-\n",
        "  def reassign_leaders(self):\n",
        "    d = self.dict_leaders_that_can_be_reassigned()\n",
        "    self.allocate_leaders(allocated_leaders_gradewise = d)\n",
        "    return\n",
        "\n",
        "  def dict_leaders_that_can_be_reassigned(self):\n",
        "    d = dict(map(lambda k: (k, self.people_remaining_gradewise[k]) , self.ranked_leader_grades))\n",
        "    return d\n",
        "\n",
        "  def total_leaders_that_can_be_reassigned(self):\n",
        "    total = functools.reduce(lambda x, k:x + self.people_remaining_gradewise[k], self.ranked_leader_grades, 0)\n",
        "    return total\n",
        "\n",
        "\n",
        "  #State producer :-\n",
        "  def is_overall_dr_per_lead_gt_target(self):\n",
        "    rule = self.dr_per_lead.dr_per_lead() > self.business_rules.target_dr_per_lead\n",
        "    return rule\n",
        "\n",
        "  def is_num_reassignable_leaders_gt_zero(self):\n",
        "    rule = self.total_leaders_that_can_be_reassigned() > 0\n",
        "    return rule\n",
        "\n",
        "  def produce_state(self):\n",
        "    state = State()\n",
        "    state.is_overall_dr_per_lead_gt_target = self.is_overall_dr_per_lead_gt_target()\n",
        "    state.is_num_reassignable_leaders_gt_zero = self.is_num_reassignable_leaders_gt_zero()\n",
        "    state.is_num_immediate_promotable_to_leader_grades_gt_zero = self.successor.is_num_immediate_promotable_to_leader_grades_gt_zero()\n",
        "    state.is_num_people_immediate_promotable_to_higher_grade_lt_those_to_lower_grade = self.successor.is_num_people_immediate_promotable_to_higher_grade_lt_those_to_lower_grade()\n",
        "    state.is_max_dr_per_lead_in_leader_grades_gt_target = self.dr_per_lead_for_this_leader_grade_wrt_higher_grades.is_max_dr_per_lead_in_leader_grades_gt_target()\n",
        "    return state\n"
      ],
      "execution_count": 212,
      "outputs": []
    },
    {
      "cell_type": "markdown",
      "metadata": {
        "id": "JLakcETXe6xT"
      },
      "source": [
        "# State"
      ]
    },
    {
      "cell_type": "code",
      "metadata": {
        "id": "YLszFBm-eqxI"
      },
      "source": [
        "class State:\n",
        "\n",
        "  def __init__(self, is_overall_dr_per_lead_gt_target = False, \n",
        "                is_num_reassignable_leaders_gt_zero = False,\n",
        "                is_num_immediate_promotable_to_leader_grades_gt_zero = False,\n",
        "                is_num_people_immediate_promotable_to_higher_grade_lt_those_to_lower_grade = False,\n",
        "                is_max_dr_per_lead_in_leader_grades_gt_target = False):\n",
        "    self.is_overall_dr_per_lead_gt_target = is_overall_dr_per_lead_gt_target\n",
        "    self.is_num_reassignable_leaders_gt_zero = is_num_reassignable_leaders_gt_zero\n",
        "    self.is_num_immediate_promotable_to_leader_grades_gt_zero = is_num_immediate_promotable_to_leader_grades_gt_zero \n",
        "    self.is_num_people_immediate_promotable_to_higher_grade_lt_those_to_lower_grade = is_num_people_immediate_promotable_to_higher_grade_lt_those_to_lower_grade\n",
        "    self.is_max_dr_per_lead_in_leader_grades_gt_target = is_max_dr_per_lead_in_leader_grades_gt_target\n",
        "\n",
        "  def state_copy(self):\n",
        "    new_state = copy.deepcopy(self)\n",
        "    return new_state\n",
        "\n",
        "  def state_tuple(self):\n",
        "    return ((self.is_overall_dr_per_lead_gt_target, \n",
        "                        self.is_num_reassignable_leaders_gt_zero, \n",
        "                        self.is_num_immediate_promotable_to_leader_grades_gt_zero, \n",
        "                        self.is_num_people_immediate_promotable_to_higher_grade_lt_those_to_lower_grade,\n",
        "                        self.is_max_dr_per_lead_in_leader_grades_gt_target))\n",
        "\n",
        "  def state_hash(self):\n",
        "    hash_value = hash((self.is_overall_dr_per_lead_gt_target, \n",
        "                        self.is_num_reassignable_leaders_gt_zero, \n",
        "                        self.is_num_immediate_promotable_to_leader_grades_gt_zero, \n",
        "                        self.is_num_people_immediate_promotable_to_higher_grade_lt_those_to_lower_grade,\n",
        "                        self.is_max_dr_per_lead_in_leader_grades_gt_target))\n",
        "    return hash_value\n",
        "\n"
      ],
      "execution_count": 213,
      "outputs": []
    },
    {
      "cell_type": "markdown",
      "metadata": {
        "id": "HGbgNnT6iG-D"
      },
      "source": [
        "# Action"
      ]
    },
    {
      "cell_type": "code",
      "metadata": {
        "id": "2AgyHwnQpbMu"
      },
      "source": [
        "class Action:\n",
        "\n",
        "  def __init__(self, action_string):\n",
        "    self.action = action_string\n",
        "    self.action_hash = hash(action_string)\n",
        "    return\n",
        "\n",
        "  def print_info(self):\n",
        "    print(self.action, self.action_hash)\n",
        "    return\n",
        "\n",
        "  @classmethod\n",
        "  def action_from_string(self, action_string):\n",
        "    if action_string == \"reassign\":\n",
        "      return Reassign()\n",
        "    elif action_string == \"promote_cascade\":\n",
        "      return Promote_cascade()\n",
        "    elif action_string == \"promote_leaders\":\n",
        "      return Promote_leaders()\n",
        "    elif action_string == \"hire\":\n",
        "      return Hire()"
      ],
      "execution_count": 214,
      "outputs": []
    },
    {
      "cell_type": "code",
      "metadata": {
        "id": "c1Y03s6qiEC-"
      },
      "source": [
        "class Reassign(Action):\n",
        "\n",
        "  def __init__(self):\n",
        "    super().__init__(\"reassign\")\n",
        "    return\n",
        "\n",
        "  def run(self, state, chapter):\n",
        "    chapter.reassign_leaders()\n",
        "    new_state = chapter.produce_state()\n",
        "    return new_state"
      ],
      "execution_count": 215,
      "outputs": []
    },
    {
      "cell_type": "code",
      "metadata": {
        "id": "MNCvZAhfiFkk"
      },
      "source": [
        "class Promote_cascade(Action):\n",
        "\n",
        "  def __init__(self):\n",
        "    super().__init__(\"promote_cascade\")\n",
        "    return\n",
        "\n",
        "  def run(self, state,  chapter):\n",
        "    chapter.promote_cascade()\n",
        "    new_state = chapter.produce_state()\n",
        "    return new_state"
      ],
      "execution_count": 216,
      "outputs": []
    },
    {
      "cell_type": "code",
      "metadata": {
        "id": "Ng9MDVrAomJa"
      },
      "source": [
        "class Promote_leaders(Action):\n",
        "\n",
        "  def __init__(self):\n",
        "    super().__init__(\"promote_leaders\")\n",
        "    return\n",
        "\n",
        "  def run(self, state, chapter):\n",
        "    chapter.promote_leaders()\n",
        "    new_state = chapter.produce_state()\n",
        "    return new_state"
      ],
      "execution_count": 217,
      "outputs": []
    },
    {
      "cell_type": "code",
      "metadata": {
        "id": "Bb06oefTo643"
      },
      "source": [
        "class Promote_junior_grades:\n",
        "\n",
        "  def __init__(self):\n",
        "    super().__init__(\"promote_junior_grades\")\n",
        "    return\n",
        "\n",
        "  def run(self, state):\n",
        "    new_state = state.state_copy()\n",
        "    return new_state"
      ],
      "execution_count": 218,
      "outputs": []
    },
    {
      "cell_type": "code",
      "metadata": {
        "id": "zscSqoXqojkN"
      },
      "source": [
        "class Hire(Action):\n",
        "\n",
        "  def __init__(self):\n",
        "    super().__init__(\"hire\")\n",
        "    return\n",
        "\n",
        "  def run(self, state, chapter):\n",
        "    chapter.hire()\n",
        "    new_state = chapter.produce_state()\n",
        "    return new_state"
      ],
      "execution_count": 219,
      "outputs": []
    },
    {
      "cell_type": "code",
      "metadata": {
        "id": "RFuiFDQzox9B"
      },
      "source": [
        "class Hire_junior_grades:\n",
        "\n",
        "  def __init__(self):\n",
        "    super().__init__(\"hire_junior_grades\")\n",
        "    return\n",
        "\n",
        "  def run(self, state):\n",
        "    new_state = state.state_copy()\n",
        "    return new_state"
      ],
      "execution_count": 220,
      "outputs": []
    },
    {
      "cell_type": "markdown",
      "metadata": {
        "id": "hR39YLsms7tY"
      },
      "source": [
        "# Reward"
      ]
    },
    {
      "cell_type": "code",
      "metadata": {
        "id": "sRA6yJWgs6r0"
      },
      "source": [
        "class Reward:\n",
        "\n",
        "  environment_actions = [\n",
        "      \"reassign\",\n",
        "      \"promote_cascade\",\n",
        "      \"promote_leaders\",\n",
        "      \"promote_junior_grades\",\n",
        "      \"hire\",\n",
        "      \"hire_junior_grades\"\n",
        "  ]\n",
        "\n",
        "  environment_state_action_reward = {\n",
        "      (True, True, False, True, False)    : {\"reassign\":1},\n",
        "      (True, True, False, False, False)   : {\"reassign\":1},\n",
        "\n",
        "      (True, True, True, True, False)     : {\"reassign\":1},\n",
        "      (True, True, True, False, False)    : {\"reassign\":1},\n",
        "\n",
        "      (True, False, False, True, False)   : {\"promote_cascade\": 1}, #, \"promote_junior_grades\": 1, \"hire_junior_grades\": 1},\n",
        "      (True, False, False, False, False)  : {\"promote_cascade\": 1}, #, \"promote_junior_grades\": 1, \"hire_junior_grades\": 1},\n",
        "\n",
        "      (True, False, True, True, False)    : {\"promote_cascade\" : 1}, #, \"promote_junior_grades\" : 1},\n",
        "      (True, False, True, False, False)   : {\"promote_cascade\" : 1}, #, \"promote_junior_grades\" : 1},\n",
        "\n",
        "      (False, True, False, True, False)   : {\"success\" : 100},\n",
        "      (False, True, False, False, False)  : {\"success\" : 100},\n",
        "\n",
        "      (False, True, True, True, False)    : {\"success\" : 100},\n",
        "      (False, True, True, False, False)   : {\"success\" : 100},\n",
        "\n",
        "      (False, False, False, True, False)  : {\"success\" : 100},\n",
        "      (False, False, False, False, False) : {\"success\" : 100},\n",
        "\n",
        "      (False, False, True, True, False)    : {\"success\" : 100},\n",
        "      (False, False, True, False, False)   : {\"success\" : 100},\n",
        "\n",
        "      (True, True, False, True, True)    : {\"reassign\":1},\n",
        "      (True, True, False, False, True)   : {\"reassign\":1},\n",
        "\n",
        "      (True, True, True, True, True)     : {\"reassign\":1},\n",
        "      (True, True, True, False, True)    : {\"reassign\":1},\n",
        "\n",
        "      (True, False, False, True, True)   : {\"promote_cascade\": 1}, #, \"promote_junior_grades\": 1, \"hire_junior_grades\": 1},\n",
        "      (True, False, False, False, True)  : {\"promote_cascade\": 1}, #, \"promote_junior_grades\": 1, \"hire_junior_grades\": 1},\n",
        "\n",
        "      (True, False, True, True, True)    : {\"promote_cascade\" : 1}, #, \"promote_junior_grades\" : 1},\n",
        "      (True, False, True, False, True)   : {\"promote_cascade\" : 1}, #, \"promote_junior_grades\" : 1},\n",
        "\n",
        "      (False, True, False, True, True)   : {\"promote_leaders\": 1},\n",
        "      (False, True, False, False, True)  : {\"promote_leaders\": 1},\n",
        "\n",
        "      (False, True, True, True, True)    : {\"promote_leaders\": 1},\n",
        "      (False, True, True, False, True)   : {\"promote_leaders\": 1},\n",
        "\n",
        "      (False, False, False, True, True)  : {\"promote_leaders\": 1},\n",
        "      (False, False, False, False, True) : {\"promote_leaders\": 1},\n",
        "\n",
        "      (False, False, True, True, True)    : {\"promote_leaders\": 1},\n",
        "      (False, False, True, False, True)   : {\"promote_leaders\": 1},\n",
        "        }\n",
        "\n",
        "  def __init__(self):\n",
        "    return  \n",
        "\n",
        "  def reward_for_state_action(self, state_tuple, action_string):\n",
        "\n",
        "    reward_actions = self.environment_state_action_reward[state_tuple]\n",
        "\n",
        "    if \"success\" in reward_actions:\n",
        "      return reward_actions[\"success\"]\n",
        "\n",
        "    if action_string in reward_actions:\n",
        "      return reward_actions[action_string]\n",
        "    \n",
        "    return -1\n"
      ],
      "execution_count": 221,
      "outputs": []
    },
    {
      "cell_type": "markdown",
      "metadata": {
        "id": "aW-Ma2EGQPd-"
      },
      "source": [
        "# Reinforcement Learning"
      ]
    },
    {
      "cell_type": "markdown",
      "metadata": {
        "id": "WN0Uvkx4QUKk"
      },
      "source": [
        "# Q-table"
      ]
    },
    {
      "cell_type": "code",
      "metadata": {
        "id": "_KDUGEQrQWWt"
      },
      "source": [
        "class Q_table:\n",
        "  \"\"\"\n",
        "  dict[key(state hash, action hash)] = q-values\n",
        "  \"\"\"\n",
        "  \n",
        "  def __init__(self):\n",
        "    self.Q = {}\n",
        "    return\n",
        "\n",
        "  def getStateActionKey(self, state_tuple, action_string):\n",
        "    return (state_tuple, action_string)\n",
        "\n",
        "  def getValueQ(self, state_tuple, action_string):\n",
        "    \"\"\" Get expected reward given an action in a given state,\n",
        "        returns 0 if the state-action pair has not been seen before.\n",
        "        Input is state and action key                          \"\"\"\n",
        "\n",
        "    state_action_key = self.getStateActionKey(state_tuple, action_string)\n",
        "    if state_action_key in self.Q:\n",
        "        return self.Q.get(state_action_key)\n",
        "    else:\n",
        "        self.Q[state_action_key] = 0\n",
        "        return 0\n",
        "\n",
        "  def setValueQ(self, state_tuple, action_string, value):\n",
        "    \"\"\" Set value in Q \"\"\"\n",
        "    state_action_key = self.getStateActionKey(state_tuple, action_string)\n",
        "    self.Q[state_action_key] = value\n",
        "\n",
        "  def getBestAction(self, state_tuple, list_action_strings):\n",
        "    \"\"\" Get best action given a set of possible actions in a given state \"\"\"\n",
        "\n",
        "    # Pick a random action at first - imp as there are many states and there should be a way to randomly choose other than just first \n",
        "    random_idx = np.random.choice(len(list_action_strings),1,None)\n",
        "    best_action = list_action_strings[random_idx[0]]\n",
        "  \n",
        "    # Find action that given largest Q in given state\n",
        "    maxQ = 0\n",
        "    for action_string in list_action_strings:\n",
        "        tmpQ = self.getValueQ(state_tuple, action_string)\n",
        "        if maxQ < tmpQ:\n",
        "          maxQ = tmpQ\n",
        "          best_action = action_string\n",
        "\n",
        "    return best_action\n",
        "\n",
        "  def getMaxQ(self, state_tuple, list_action_strings):\n",
        "      \"\"\" Returns the maximum Q value given a state and list of actions (input is hash keys) \"\"\"\n",
        "      maxQ = 0\n",
        "      for a in list_action_strings:\n",
        "          tmpQ = self.getValueQ(state_tuple, a) \n",
        "          if maxQ < tmpQ:\n",
        "              maxQ = tmpQ\n",
        "      return maxQ\n",
        "\n",
        "\n",
        "  def updateQ(self, old_state_tuple, action_to_perform_string, reward, new_state_tuple, list_next_possible_action_strings, discount_factor, learning_rate):\n",
        "    \"\"\" Implements Q-learning iterative algorithm \"\"\"\n",
        "\n",
        "    # Get current Q Value\n",
        "    old_q_value = self.getValueQ(old_state_tuple, action_to_perform_string)\n",
        "\n",
        "    # Find max Q value given the possible set of actions in the next state\n",
        "    max_nextQ = self.getMaxQ(new_state_tuple, list_next_possible_action_strings) \n",
        "    \n",
        "    temporal_difference = reward + (discount_factor * max_nextQ) - old_q_value\n",
        "\n",
        "    #update the Q-value for the previous state and action pair\n",
        "    new_q_value = old_q_value + (learning_rate * temporal_difference)\n",
        "\n",
        "    self.setValueQ(old_state_tuple, action_to_perform_string, new_q_value)\n",
        "\n",
        "  def print_info(self):\n",
        "    print(\"\\n\\nQ_table\")\n",
        "    print(self.Q)\n",
        "    return"
      ],
      "execution_count": 222,
      "outputs": []
    },
    {
      "cell_type": "markdown",
      "metadata": {
        "id": "dS9-CE1TREDS"
      },
      "source": [
        "# Trainer"
      ]
    },
    {
      "cell_type": "code",
      "metadata": {
        "id": "jXjmAs1AheiL"
      },
      "source": [
        "class Episode:\n",
        "\n",
        "  preconditioned_episodes = [\n",
        "            {\"people_gradewise\" : {\"3\":0, \"4.1\":1, \"4.2\":6, \"4.3\":6, \"4.4\":1, \"5.1\":0, \"5.2\":2, \"MS\":7} },\n",
        "            {\"people_gradewise\" : {\"3\":0, \"4.1\":0, \"4.2\":5, \"4.3\":6, \"4.4\":2, \"5.1\":0, \"5.2\":0, \"MS\":14} },\n",
        "            {\"people_gradewise\" : {\"3\":0, \"4.1\":0, \"4.2\":4, \"4.3\":4, \"4.4\":4, \"5.1\":0, \"5.2\":0, \"MS\":9} },\n",
        "            {\"people_gradewise\" : {\"3\":2.5, \"4.1\":3, \"4.2\":4, \"4.3\":6, \"4.4\":5, \"5.1\":1, \"5.2\":2, \"MS\":27} },\n",
        "            {\"people_gradewise\" : {\"3\":0, \"4.1\":1, \"4.2\":3.5, \"4.3\":0.5, \"4.4\":0.8, \"5.1\":0, \"5.2\":0, \"MS\":3} },\n",
        "            {\"people_gradewise\" : {\"3\":0, \"4.1\":0, \"4.2\":2, \"4.3\":1, \"4.4\":1, \"5.1\":0, \"5.2\":0, \"MS\":2} },\n",
        "            {\"people_gradewise\" : {\"3\":1, \"4.1\":1, \"4.2\":1, \"4.3\":7, \"4.4\":4, \"5.1\":0, \"5.2\":0, \"MS\":3} },\n",
        "            {\"people_gradewise\" : {\"3\":0, \"4.1\":0, \"4.2\":1.5, \"4.3\":3, \"4.4\":2, \"5.1\":1, \"5.2\":0, \"MS\":18} },\n",
        "            {\"people_gradewise\" : {\"3\":2.5, \"4.1\":3, \"4.2\":0, \"4.3\":0, \"4.4\":5, \"5.1\":1, \"5.2\":2, \"MS\":27} },\n",
        "            {\"people_gradewise\" : {\"3\":3, \"4.1\":3, \"4.2\":0, \"4.3\":0, \"4.4\":5, \"5.1\":1, \"5.2\":2, \"MS\":70} }\n",
        "          ]\n",
        "\n",
        "  def __init__(self, episode_number):\n",
        "    self.episode_number = episode_number\n",
        "    if self.episode_number < len(self.preconditioned_episodes):\n",
        "      d = self.preconditioned_episodes[self.episode_number]\n",
        "      self.chapter = Chapter(people_gradewise = d[\"people_gradewise\"])\n",
        "    return"
      ],
      "execution_count": 223,
      "outputs": []
    },
    {
      "cell_type": "code",
      "metadata": {
        "id": "wOLHfZhDRZSJ"
      },
      "source": [
        "class Environment:\n",
        "\n",
        "  def __init__(self):\n",
        "    self.business_rules = Business_rules()\n",
        "    self.action_list = map(lambda ac_str: Action.action_from_string(ac_str), self.business_rules.actions)\n",
        "    print(\"Environment\", self.action_list)\n",
        "    self.reward = Reward()\n",
        "\n",
        "  def possible_actions_in_state(self, state):\n",
        "    return self.action_list\n",
        "\n",
        "  def hasReachedTerminalState(self, reward):\n",
        "    if reward == 100 or reward == -100:\n",
        "      return True\n",
        "    else:\n",
        "      return False"
      ],
      "execution_count": 224,
      "outputs": []
    },
    {
      "cell_type": "code",
      "metadata": {
        "id": "dbhKSE-VRGZv"
      },
      "source": [
        "class Trainer:\n",
        "\n",
        "  def __init__(self):\n",
        "    self.q_table = Q_table()\n",
        "    self.environment = Environment()\n",
        "    self.business_rules = Business_rules()\n",
        "\n",
        "    #define training parameters\n",
        "    self.epsilon = 0.9 #the percentage of time when we should take the best action (instead of a random action)\n",
        "    self.discount_factor = 0.9 #discount factor for future rewards\n",
        "    self.learning_rate = 0.9 #the rate at which the AI agent should learn\n",
        "    self.num_episodes = 5\n",
        "    return\n",
        "\n",
        "  \n",
        "  #define an epsilon greedy algorithm that will choose which action to take next \n",
        "  def choose_next_action(self, state_tuple, list_action_strings, epsilon):\n",
        "    #if a randomly chosen value between 0 and 1 is less than epsilon, \n",
        "    #then choose the most promising value from the Q-table for this state.\n",
        "    if np.random.random() < epsilon:\n",
        "      best_action = self.q_table.getBestAction(state_tuple, list_action_strings)\n",
        "      return best_action\n",
        "    else: #choose a random action\n",
        "      random_idx = np.random.choice(len(list_action_strings))\n",
        "      random_action = list_action_strings[random_idx]\n",
        "      return random_action\n",
        "\n",
        "  def train(self, should_print):\n",
        "    #run through 1000 training episodes\n",
        "    for episode_number in range(self.num_episodes):\n",
        "      #get the starting state for this episode\n",
        "      episode = Episode(episode_number)\n",
        "\n",
        "      #continue taking actions  until we reach a terminal state\n",
        "      #(i.e., until we reach the final team structure or hit a bad structure)\n",
        "      i=0\n",
        "      while True:\n",
        "        # i +=1\n",
        "        # if i >= 10:\n",
        "        #   break\n",
        "        #choose which action to take \n",
        "        old_state = episode.chapter.produce_state()\n",
        "        old_state_tuple = old_state.state_tuple()\n",
        "\n",
        "        list_action_strings = self.business_rules.actions\n",
        "        \n",
        "        action_to_perform_string = self.choose_next_action(old_state_tuple, list_action_strings, self.epsilon)\n",
        "\n",
        "        #perform the chosen action, and transition to the next state \n",
        "        action = Action.action_from_string(action_to_perform_string)\n",
        "        new_state = action.run(old_state, episode.chapter)\n",
        "        new_state_tuple = new_state.state_tuple()\n",
        "\n",
        "        #receive the reward for moving to the new state\n",
        "        reward = self.environment.reward.reward_for_state_action(old_state_tuple, action_to_perform_string)\n",
        "\n",
        "        if self.environment.hasReachedTerminalState(reward):\n",
        "          #print(\"breaking... terminal state \\n\")\n",
        "          break\n",
        "\n",
        "        list_next_possible_actions = self.environment.possible_actions_in_state(new_state)\n",
        "        list_next_possible_action_strings = map(lambda ac: ac.action, list_next_possible_actions)\n",
        "        self.q_table.updateQ(old_state_tuple, action_to_perform_string, reward, new_state_tuple, list_next_possible_action_strings, self.discount_factor, self.learning_rate)\n",
        "\n",
        "        episode.state = new_state\n",
        "\n",
        " #Define a function that will get the shortest path between the starting out team structure and the most favorable team structure \n",
        "  def get_shortest_path(self, old_state):\n",
        "    i=0\n",
        "    shortest_path = []\n",
        "    shortest_path.append(old_state)\n",
        "    while True:\n",
        "      action_to_perform = self.choose_next_action(old_state.state_hash(), \\\n",
        "                                               self.environment.action_list.list_action_hash, \\\n",
        "                                               self.environment.action_list.actions, \n",
        "                                               1.) #always the best action\n",
        "\n",
        "      reward, new_state = self.environment.reward.reward_function(old_state, action_to_perform)\n",
        "      print(\"reward get_shortest_path:\", reward)\n",
        "            \n",
        "      shortest_path.append(new_state)\n",
        "\n",
        "      if self.environment.hasReachedTerminalState(reward):\n",
        "        episode.state = new_state\n",
        "        break\n",
        "\n",
        "      old_state = new_state\n",
        "    \n",
        "    print(\"\\nshortest_path : \\n\")\n",
        "    i=1\n",
        "    for state in shortest_path:\n",
        "      print(\"\\n step :\", i)\n",
        "      state.print_info()\n",
        "      i += 1"
      ],
      "execution_count": 225,
      "outputs": []
    },
    {
      "cell_type": "markdown",
      "metadata": {
        "id": "hX98tewahdjb"
      },
      "source": [
        "# State Tests"
      ]
    },
    {
      "cell_type": "code",
      "metadata": {
        "colab": {
          "base_uri": "https://localhost:8080/"
        },
        "id": "E-a9kzGihP9W",
        "outputId": "2191f2eb-6c36-4f0c-f3d0-b6bc15842479"
      },
      "source": [
        "class State_Test(unittest.TestCase):\n",
        "\n",
        "    def test_state_tuple(self):\n",
        "      st = State()\n",
        "      st_tuple = st.state_tuple()\n",
        "      self.assertTrue(st_tuple == (False, False, False, False, False))\n",
        "\n",
        "    def test_hash_exists(self):\n",
        "      st = State()\n",
        "      st_hash = st.state_hash()\n",
        "      self.assertTrue(st_hash > 0)\n",
        "\n",
        "    def test_hash_exists(self):\n",
        "      st = State()\n",
        "      st_cp = st.state_copy()\n",
        "      st_hash = st.state_hash()\n",
        "      st_cp_hash = st_cp.state_hash()\n",
        "      self.assertTrue(st_hash == st_cp_hash)\n",
        "\n",
        "# unittest.main(verbosity=2, exit=False)\n",
        "suite = unittest.TestLoader().loadTestsFromTestCase(State_Test)\n",
        "unittest.TextTestRunner().run(suite)\n"
      ],
      "execution_count": 226,
      "outputs": [
        {
          "output_type": "stream",
          "text": [
            "..\n",
            "----------------------------------------------------------------------\n",
            "Ran 2 tests in 0.003s\n",
            "\n",
            "OK\n"
          ],
          "name": "stderr"
        },
        {
          "output_type": "execute_result",
          "data": {
            "text/plain": [
              "<unittest.runner.TextTestResult run=2 errors=0 failures=0>"
            ]
          },
          "metadata": {},
          "execution_count": 226
        }
      ]
    },
    {
      "cell_type": "markdown",
      "metadata": {
        "id": "9QONOYm58pQl"
      },
      "source": [
        "# Reward Tests"
      ]
    },
    {
      "cell_type": "code",
      "metadata": {
        "colab": {
          "base_uri": "https://localhost:8080/"
        },
        "id": "uyiTfH7L8vLe",
        "outputId": "e5403277-dcc5-4b20-c275-f24b2354301f"
      },
      "source": [
        "class Reward_Tests(unittest.TestCase):\n",
        "\n",
        "    def test_reward_action(self):\n",
        "      rw = Reward()\n",
        "      st = State(*(True, True, False, True, False))\n",
        "      ac = Action(\"reassign\")   \n",
        "      rw_val = rw.reward_for_state_action(st, ac)\n",
        "      self.assertTrue(rw_val == 1)\n",
        "\n",
        "    def test_punish_action(self):\n",
        "      rw = Reward()\n",
        "      st = State(*(True, True, False, True, False))\n",
        "      ac = Action(\"promote_cascade\")   \n",
        "      rw_val = rw.reward_for_state_action(st, ac)\n",
        "      self.assertTrue(rw_val == -1)\n",
        "\n",
        "    def test_success_state(self):\n",
        "      rw = Reward()\n",
        "      st = State(*(False, True, False, True, False))\n",
        "      ac = Action(\"promote_cascade\")   \n",
        "      rw_val = rw.reward_for_state_action(st, ac)\n",
        "      self.assertTrue(rw_val == 100)\n",
        "\n",
        "# unittest.main(verbosity=2, exit=False)\n",
        "suite = unittest.TestLoader().loadTestsFromTestCase(Reward_Tests)\n",
        "unittest.TextTestRunner().run(suite)"
      ],
      "execution_count": 227,
      "outputs": [
        {
          "output_type": "stream",
          "text": [
            "EEE\n",
            "======================================================================\n",
            "ERROR: test_punish_action (__main__.Reward_Tests)\n",
            "----------------------------------------------------------------------\n",
            "Traceback (most recent call last):\n",
            "  File \"<ipython-input-227-0983fa837258>\", line 14, in test_punish_action\n",
            "    rw_val = rw.reward_for_state_action(st, ac)\n",
            "  File \"<ipython-input-221-4125c56cf032>\", line 67, in reward_for_state_action\n",
            "    reward_actions = self.environment_state_action_reward[state_tuple]\n",
            "KeyError: <__main__.State object at 0x7f69adcf8e10>\n",
            "\n",
            "======================================================================\n",
            "ERROR: test_reward_action (__main__.Reward_Tests)\n",
            "----------------------------------------------------------------------\n",
            "Traceback (most recent call last):\n",
            "  File \"<ipython-input-227-0983fa837258>\", line 7, in test_reward_action\n",
            "    rw_val = rw.reward_for_state_action(st, ac)\n",
            "  File \"<ipython-input-221-4125c56cf032>\", line 67, in reward_for_state_action\n",
            "    reward_actions = self.environment_state_action_reward[state_tuple]\n",
            "KeyError: <__main__.State object at 0x7f69adcf8d90>\n",
            "\n",
            "======================================================================\n",
            "ERROR: test_success_state (__main__.Reward_Tests)\n",
            "----------------------------------------------------------------------\n",
            "Traceback (most recent call last):\n",
            "  File \"<ipython-input-227-0983fa837258>\", line 21, in test_success_state\n",
            "    rw_val = rw.reward_for_state_action(st, ac)\n",
            "  File \"<ipython-input-221-4125c56cf032>\", line 67, in reward_for_state_action\n",
            "    reward_actions = self.environment_state_action_reward[state_tuple]\n",
            "KeyError: <__main__.State object at 0x7f69add1c290>\n",
            "\n",
            "----------------------------------------------------------------------\n",
            "Ran 3 tests in 0.009s\n",
            "\n",
            "FAILED (errors=3)\n"
          ],
          "name": "stderr"
        },
        {
          "output_type": "execute_result",
          "data": {
            "text/plain": [
              "<unittest.runner.TextTestResult run=3 errors=3 failures=0>"
            ]
          },
          "metadata": {},
          "execution_count": 227
        }
      ]
    },
    {
      "cell_type": "markdown",
      "metadata": {
        "id": "EJDLDu5YB6-S"
      },
      "source": [
        "# Chapter Tests"
      ]
    },
    {
      "cell_type": "code",
      "metadata": {
        "colab": {
          "base_uri": "https://localhost:8080/"
        },
        "id": "MmzgvN0KB-HC",
        "outputId": "6351f623-0e94-4a3d-f0c1-1db1423d2bbe"
      },
      "source": [
        "\n",
        "class Chapter_Tests(unittest.TestCase):\n",
        "\n",
        "    def setUp(self):\n",
        "      self.ch = Chapter(people_gradewise = {\"3\":3, \"4.1\":3, \"4.2\":4, \"4.3\":6, \"4.4\":5, \"5.1\":1, \"5.2\":2, \"MS\":100})\n",
        "\n",
        "    def test_total_people(self):\n",
        "      self.assertTrue(self.ch.total_people() == 124)\n",
        "\n",
        "    def test_total_leaders_leading(self):\n",
        "      self.assertTrue(self.ch.allocated_leads.total_leaders_leading() == 0)\n",
        "\n",
        "    def test_total_leaders_that_can_be_reassigned(self):\n",
        "      self.assertTrue(self.ch.total_leaders_that_can_be_reassigned() == 10)\n",
        "\n",
        "    def test_dict_leaders_that_can_be_reassigned(self):\n",
        "      self.assertTrue(self.ch.dict_leaders_that_can_be_reassigned() == {'3': 3, '4.1': 3, '4.2': 4})\n",
        "\n",
        "suite = unittest.TestLoader().loadTestsFromTestCase(Chapter_Tests)\n",
        "unittest.TextTestRunner().run(suite)\n",
        "\n",
        "class Chapter_Tests_After_Reassign(unittest.TestCase):\n",
        "\n",
        "    def setUp(self):\n",
        "      self.ch = Chapter(people_gradewise = {\"3\":3, \"4.1\":3, \"4.2\":4, \"4.3\":6, \"4.4\":5, \"5.1\":1, \"5.2\":2, \"MS\":100})\n",
        "      self.ch.reassign_leaders()\n",
        "\n",
        "    def test_total_leaders_leading_after_reassign(self):\n",
        "      self.assertTrue(self.ch.allocated_leads.total_leaders_leading() == 10)\n",
        "\n",
        "    def test_dict_successor_per_lead(self):\n",
        "      self.assertTrue(self.ch.successor.dict_successor_per_lead() == {'3': 0.0, '4.1': 0.0, '4.2': 6.0})\n",
        "\n",
        "    def test_dict_successor_per_engineer(self):\n",
        "      self.assertTrue(self.ch.successor.dict_successor_per_engineer() == {'4.3': 0.8333333333333334, '4.4': 0.2, '5.1': 2.0})\n",
        "\n",
        "    def test_total_successors_for_lead_grades(self):\n",
        "      self.assertTrue(self.ch.successor.total_successors_for_lead_grades() == 6.0)\n",
        "\n",
        "    def test_total_successors_for_engineer_grades(self):\n",
        "      self.assertTrue(self.ch.successor.total_successors_for_engineer_grades() == 3.033333333333333)\n",
        "\n",
        "    def test_diff_successor_ratio_for_leader_engineer_grades(self):\n",
        "      self.assertTrue(self.ch.successor.diff_successor_ratio_for_leader_engineer_grades() == 2.966666666666667)\n",
        "\n",
        "    def test_total_people_remaining(self):\n",
        "      self.assertTrue(self.ch.dr_per_lead.total_people_remaining() == 114)\n",
        "\n",
        "    #state \n",
        "    def test_is_overall_dr_per_lead_gt_target(self):\n",
        "      self.assertTrue(self.ch.dr_per_lead.dr_per_lead() == 11.4)\n",
        "      self.assertTrue(self.ch.is_overall_dr_per_lead_gt_target() == True)\n",
        "\n",
        "    def test_is_num_reassignable_leaders_gt_zero(self):\n",
        "      self.assertTrue(self.ch.total_leaders_that_can_be_reassigned() == 0)\n",
        "      self.assertTrue(self.ch.is_num_reassignable_leaders_gt_zero() == False)\n",
        "\n",
        "    def test_is_num_immediate_promotable_to_leader_grades_gt_zero(self):\n",
        "      self.assertTrue(self.ch.successor.total_successors_for_lead_grades() == 6)\n",
        "      self.assertTrue(self.ch.successor.is_num_immediate_promotable_to_leader_grades_gt_zero() == True)\n",
        "\n",
        "    def test_is_max_dr_per_lead_in_leader_grades_gt_target(self):\n",
        "      self.assertTrue(self.ch.dr_per_lead_for_this_leader_grade_wrt_higher_grades.max_dr_per_lead_in_leader_grades() == 1)\n",
        "      self.assertTrue(self.ch.dr_per_lead_for_this_leader_grade_wrt_higher_grades.dict_dr_per_lead_for_this_grade_wrt_higher_grade() == {'3': 0, '4.1': 1.0, '4.2': 0.6666666666666666})\n",
        "      self.assertTrue(self.ch.dr_per_lead_for_this_leader_grade_wrt_higher_grades.is_max_dr_per_lead_in_leader_grades_gt_target() == False)\n",
        "\n",
        "    def test_produce_state(self):\n",
        "      st=ch.produce_state()\n",
        "      self.assertTrue(st.state_tuple() == (True, False, True, True, False))\n",
        "\n",
        "suite = unittest.TestLoader().loadTestsFromTestCase(Chapter_Tests_After_Reassign)\n",
        "unittest.TextTestRunner().run(suite)\n",
        "\n"
      ],
      "execution_count": 228,
      "outputs": [
        {
          "output_type": "stream",
          "text": [
            "....\n",
            "----------------------------------------------------------------------\n",
            "Ran 4 tests in 0.014s\n",
            "\n",
            "OK\n",
            ".......F...."
          ],
          "name": "stderr"
        },
        {
          "output_type": "stream",
          "text": [
            "{'3': 3, '4.1': 3, '4.2': 4, '4.3': 6, '4.4': 5, '5.1': 1, '5.2': 2, 'MS': 100}\n"
          ],
          "name": "stdout"
        },
        {
          "output_type": "stream",
          "text": [
            "\n",
            "======================================================================\n",
            "FAIL: test_produce_state (__main__.Chapter_Tests_After_Reassign)\n",
            "----------------------------------------------------------------------\n",
            "Traceback (most recent call last):\n",
            "  File \"<ipython-input-228-7283a8a4b9b4>\", line 69, in test_produce_state\n",
            "    self.assertTrue(st.state_tuple() == (True, False, True, True, False))\n",
            "AssertionError: False is not true\n",
            "\n",
            "----------------------------------------------------------------------\n",
            "Ran 12 tests in 0.033s\n",
            "\n",
            "FAILED (failures=1)\n"
          ],
          "name": "stderr"
        },
        {
          "output_type": "execute_result",
          "data": {
            "text/plain": [
              "<unittest.runner.TextTestResult run=12 errors=0 failures=1>"
            ]
          },
          "metadata": {},
          "execution_count": 228
        }
      ]
    },
    {
      "cell_type": "markdown",
      "metadata": {
        "id": "K6azrSUejWrB"
      },
      "source": [
        "# Reassign Tests"
      ]
    },
    {
      "cell_type": "code",
      "metadata": {
        "colab": {
          "base_uri": "https://localhost:8080/"
        },
        "id": "pIcOEJkPcPjj",
        "outputId": "1edfec5e-e752-45cf-b5bd-27b04da89329"
      },
      "source": [
        "class Reassign_Tests(unittest.TestCase):\n",
        "\n",
        "    def setUp(self):\n",
        "      self.ch = Chapter(people_gradewise = {\"3\":3, \"4.1\":3, \"4.2\":4, \"4.3\":6, \"4.4\":5, \"5.1\":1, \"5.2\":2, \"MS\":100})\n",
        "\n",
        "    def test_before_reassign(self):\n",
        "      st = self.ch.produce_state()\n",
        "      self.assertTrue(st.state_tuple() == (True, True, True, True, False))\n",
        "\n",
        "    def test_after_reassign(self):\n",
        "      action = Reassign()\n",
        "      st2 = action.run(st, self.ch)\n",
        "      self.assertTrue(st2.state_tuple() == (True, False, True, True, False))\n",
        "\n",
        "\n",
        "suite = unittest.TestLoader().loadTestsFromTestCase(Reassign_Tests)\n",
        "unittest.TextTestRunner().run(suite)"
      ],
      "execution_count": 229,
      "outputs": [
        {
          "output_type": "stream",
          "text": [
            "..\n",
            "----------------------------------------------------------------------\n",
            "Ran 2 tests in 0.003s\n",
            "\n",
            "OK\n"
          ],
          "name": "stderr"
        },
        {
          "output_type": "execute_result",
          "data": {
            "text/plain": [
              "<unittest.runner.TextTestResult run=2 errors=0 failures=0>"
            ]
          },
          "metadata": {},
          "execution_count": 229
        }
      ]
    },
    {
      "cell_type": "markdown",
      "metadata": {
        "id": "qLZIbPEdjaAH"
      },
      "source": [
        "# Promote Cascade Tests"
      ]
    },
    {
      "cell_type": "code",
      "metadata": {
        "colab": {
          "base_uri": "https://localhost:8080/"
        },
        "id": "UjT1e-kUjdyD",
        "outputId": "cdbc46fa-8921-4d46-ddc4-9c015238a238"
      },
      "source": [
        "class Promote_Cascade_Tests(unittest.TestCase):\n",
        "\n",
        "    def setUp(self):\n",
        "      self.ch = Chapter(people_gradewise = {\"3\":3, \"4.1\":3, \"4.2\":4, \"4.3\":6, \"4.4\":5, \"5.1\":1, \"5.2\":2, \"MS\":100})\n",
        "      action = Reassign()\n",
        "      st2 = action.run(st, self.ch)\n",
        "\n",
        "    def test_before_promote(self):\n",
        "      st = self.ch.produce_state()\n",
        "      self.assertTrue(st.state_tuple() == (True, False, True, True, False))\n",
        "\n",
        "    def test_after_promote(self):\n",
        "      action = Promote_cascade()\n",
        "      st2 = action.run(st, self.ch)\n",
        "      self.assertTrue(st2.state_tuple() == (True, True, True, True, False))\n",
        "\n",
        "\n",
        "suite = unittest.TestLoader().loadTestsFromTestCase(Promote_Cascade_Tests)\n",
        "unittest.TextTestRunner().run(suite)"
      ],
      "execution_count": 230,
      "outputs": [
        {
          "output_type": "stream",
          "text": [
            "..\n",
            "----------------------------------------------------------------------\n",
            "Ran 2 tests in 0.003s\n",
            "\n",
            "OK\n"
          ],
          "name": "stderr"
        },
        {
          "output_type": "execute_result",
          "data": {
            "text/plain": [
              "<unittest.runner.TextTestResult run=2 errors=0 failures=0>"
            ]
          },
          "metadata": {},
          "execution_count": 230
        }
      ]
    },
    {
      "cell_type": "markdown",
      "metadata": {
        "id": "htaVTOsyjcwL"
      },
      "source": [
        "# Promote Leaders Tests"
      ]
    },
    {
      "cell_type": "code",
      "metadata": {
        "colab": {
          "base_uri": "https://localhost:8080/"
        },
        "id": "eX9DvW6TA7yi",
        "outputId": "83d27f39-1c70-408b-c927-6811bcfea5a6"
      },
      "source": [
        "class Promote_Leaders_Tests(unittest.TestCase):\n",
        "\n",
        "    def setUp(self):\n",
        "      self.ch = Chapter(people_gradewise = {\"3\":0, \"4.1\":0, \"4.2\":0, \"4.3\":0, \"4.4\":0, \"5.1\":0, \"5.2\":0, \"MS\":100})\n",
        "      self.ch.allocated_leads.allocated_leaders_gradewise = {\"3\":0, \"4.1\":1, \"4.2\":24}\n",
        "\n",
        "    def test_before_promote(self):\n",
        "      st = self.ch.produce_state()\n",
        "      self.assertTrue(st.state_tuple() == (False, False, False, False, True))\n",
        "\n",
        "    def test_after_promote(self):\n",
        "      action = Promote_leaders()\n",
        "      st2 = action.run(st, self.ch)\n",
        "      self.assertTrue(st2.state_tuple() == (False, False, False, False, False))\n",
        "\n",
        "suite = unittest.TestLoader().loadTestsFromTestCase(Promote_Leaders_Tests)\n",
        "unittest.TextTestRunner().run(suite)"
      ],
      "execution_count": 231,
      "outputs": [
        {
          "output_type": "stream",
          "text": [
            ".."
          ],
          "name": "stderr"
        },
        {
          "output_type": "stream",
          "text": [
            "actually_promote : 4\n"
          ],
          "name": "stdout"
        },
        {
          "output_type": "stream",
          "text": [
            "\n",
            "----------------------------------------------------------------------\n",
            "Ran 2 tests in 0.009s\n",
            "\n",
            "OK\n"
          ],
          "name": "stderr"
        },
        {
          "output_type": "execute_result",
          "data": {
            "text/plain": [
              "<unittest.runner.TextTestResult run=2 errors=0 failures=0>"
            ]
          },
          "metadata": {},
          "execution_count": 231
        }
      ]
    },
    {
      "cell_type": "markdown",
      "metadata": {
        "id": "XQIocPf_KUyz"
      },
      "source": [
        "# Hire Tests"
      ]
    },
    {
      "cell_type": "code",
      "metadata": {
        "colab": {
          "base_uri": "https://localhost:8080/"
        },
        "id": "Tjb23ECPKWzi",
        "outputId": "79569c8e-d7ca-4eef-8ae8-84b06072c53d"
      },
      "source": [
        "class Hire_Tests(unittest.TestCase):\n",
        "\n",
        "    def setUp(self):\n",
        "      self.ch = Chapter(people_gradewise = {\"3\":0, \"4.1\":0, \"4.2\":0, \"4.3\":1, \"4.4\":1, \"5.1\":1, \"5.2\":1, \"MS\":100})\n",
        "      self.ch.allocated_leads.allocated_leaders_gradewise = {\"3\":0, \"4.1\":1, \"4.2\":11}\n",
        "\n",
        "    def test_before_hire(self):\n",
        "      st = self.ch.produce_state()\n",
        "      self.assertTrue(st.state_tuple() == (True, False, True, False, True))\n",
        "\n",
        "    def test_after_hire(self):\n",
        "      action = Hire()\n",
        "      st2 = action.run(st, self.ch)\n",
        "      self.assertTrue(st2.state_tuple() == (True, True, True, True, True))\n",
        "      self.assertTrue(self.ch.people_remaining_gradewise == {\"3\":0, \"4.1\":0, \"4.2\":4, \"4.3\":1, \"4.4\":1, \"5.1\":1, \"5.2\":1, \"MS\":100})\n",
        "\n",
        "suite = unittest.TestLoader().loadTestsFromTestCase(Hire_Tests)\n",
        "unittest.TextTestRunner().run(suite)"
      ],
      "execution_count": 232,
      "outputs": [
        {
          "output_type": "stream",
          "text": [
            "..\n",
            "----------------------------------------------------------------------\n",
            "Ran 2 tests in 0.009s\n",
            "\n",
            "OK\n"
          ],
          "name": "stderr"
        },
        {
          "output_type": "execute_result",
          "data": {
            "text/plain": [
              "<unittest.runner.TextTestResult run=2 errors=0 failures=0>"
            ]
          },
          "metadata": {},
          "execution_count": 232
        }
      ]
    },
    {
      "cell_type": "markdown",
      "metadata": {
        "id": "N5OIV8UJSQfv"
      },
      "source": [
        "# Environment Tests"
      ]
    },
    {
      "cell_type": "code",
      "metadata": {
        "colab": {
          "base_uri": "https://localhost:8080/"
        },
        "id": "tNGUpULcSSnE",
        "outputId": "c9da51e9-fe5a-4959-d1bf-dc2f172825d4"
      },
      "source": [
        "env  = Environment()\n",
        "\n",
        "print(env.business_rules.actions)\n",
        "st = State()\n",
        "lst = env.possible_actions_in_state(st)\n",
        "print(lst) #['reassign', 'promote_cascade', 'promote_leaders', 'hire']\n",
        "for action in lst:\n",
        "  print(action.action)\n",
        "  # reassign\n",
        "  # promote_cascade\n",
        "  # promote_leaders\n",
        "  # hire\n",
        "\n",
        "print(env.hasReachedTerminalState(100)) #True\n",
        "print(env.hasReachedTerminalState(-100)) #True\n",
        "print(env.hasReachedTerminalState(-1)) #False\n"
      ],
      "execution_count": 233,
      "outputs": [
        {
          "output_type": "stream",
          "text": [
            "Environment <map object at 0x7f69adc7b590>\n",
            "['reassign', 'promote_cascade', 'promote_leaders', 'hire']\n",
            "<map object at 0x7f69adc7b590>\n",
            "reassign\n",
            "promote_cascade\n",
            "promote_leaders\n",
            "hire\n",
            "True\n",
            "True\n",
            "False\n"
          ],
          "name": "stdout"
        }
      ]
    },
    {
      "cell_type": "markdown",
      "metadata": {
        "id": "aPChDgEkRDgV"
      },
      "source": [
        "# Episode Tests"
      ]
    },
    {
      "cell_type": "code",
      "metadata": {
        "colab": {
          "base_uri": "https://localhost:8080/"
        },
        "id": "RlC9grVHRFcr",
        "outputId": "203e1671-4a5c-45d3-b47e-476b33c40b63"
      },
      "source": [
        "ep = Episode(1)\n",
        "ch = ep.chapter\n",
        "print(ch.people_remaining_gradewise) #{'3': 0, '4.1': 0, '4.2': 5, '4.3': 6, '4.4': 2, '5.1': 0, '5.2': 0, 'MS': 14}\n",
        "print(ch.produce_state().state_tuple())\n"
      ],
      "execution_count": 234,
      "outputs": [
        {
          "output_type": "stream",
          "text": [
            "{'3': 0, '4.1': 0, '4.2': 5, '4.3': 6, '4.4': 2, '5.1': 0, '5.2': 0, 'MS': 14}\n",
            "(True, True, True, True, False)\n"
          ],
          "name": "stdout"
        }
      ]
    },
    {
      "cell_type": "markdown",
      "metadata": {
        "id": "lrUaW0GQpBUO"
      },
      "source": [
        "# Q-table tests"
      ]
    },
    {
      "cell_type": "code",
      "metadata": {
        "colab": {
          "base_uri": "https://localhost:8080/"
        },
        "id": "7ieVfJwcpDtm",
        "outputId": "2954ce94-781e-4d32-9f15-71a1a5991a33"
      },
      "source": [
        "q = Q_table()\n",
        "q.setValueQ((True, True, True, True, True), \"reassign\", 1)\n",
        "print(q.Q) #{((True, True, True, True, True), 'reassign'): 1}\n",
        "value = q.getValueQ((True, True, True, True, True), \"reassign\")\n",
        "print(value) #1\n",
        "\n",
        "b = Business_rules()\n",
        "lst_acs = b.actions\n",
        "print(b.actions) #['reassign', 'promote_cascade', 'promote_leaders', 'hire']\n",
        "acs = q.getBestAction((True, True, True, True, True), b.actions) #reassign\n",
        "print(acs)\n",
        "\n",
        "mq = q.getMaxQ((True, True, True, True, True), lst_acs)\n",
        "print(mq) #1"
      ],
      "execution_count": 235,
      "outputs": [
        {
          "output_type": "stream",
          "text": [
            "{((True, True, True, True, True), 'reassign'): 1}\n",
            "1\n",
            "['reassign', 'promote_cascade', 'promote_leaders', 'hire']\n",
            "reassign\n",
            "1\n"
          ],
          "name": "stdout"
        }
      ]
    },
    {
      "cell_type": "markdown",
      "metadata": {
        "id": "MwjLS7ULlfcN"
      },
      "source": [
        "# Trainer tests"
      ]
    },
    {
      "cell_type": "code",
      "metadata": {
        "colab": {
          "base_uri": "https://localhost:8080/"
        },
        "id": "ljVsl_vUlh5C",
        "outputId": "8f496550-60ca-4f1a-899f-3d061d90858c"
      },
      "source": [
        "trainer = Trainer()\n",
        "\n",
        "state_tuple = (True, True, False, True, False)\n",
        "\n",
        "br = Business_rules()\n",
        "list_action_strings = br.actions\n",
        "\n",
        "ac = trainer.choose_next_action(state_tuple,list_action_strings,epsilon=0.9)\n",
        "print(ac)\n",
        "\n"
      ],
      "execution_count": 236,
      "outputs": [
        {
          "output_type": "stream",
          "text": [
            "Environment <map object at 0x7f69adca4890>\n",
            "reassign\n"
          ],
          "name": "stdout"
        }
      ]
    },
    {
      "cell_type": "code",
      "metadata": {
        "colab": {
          "base_uri": "https://localhost:8080/"
        },
        "id": "im8BK8-FZYFZ",
        "outputId": "d4e7eeb0-12a0-426c-9951-a2e0b73170e1"
      },
      "source": [
        "trainer = Trainer()\n",
        "trainer.train(True)\n",
        "print(trainer.q_table.Q)\n"
      ],
      "execution_count": 237,
      "outputs": [
        {
          "output_type": "stream",
          "text": [
            "Environment <map object at 0x7f69adca4390>\n",
            "actually_promote : 4\n",
            "{((True, True, True, True, False), 'reassign'): 0.99999999, ((True, True, True, True, False), 'promote_cascade'): 0, ((True, True, True, True, False), 'promote_leaders'): 0, ((True, True, True, True, False), 'hire'): 0, ((False, False, True, True, True), 'reassign'): 0, ((False, False, True, True, True), 'promote_cascade'): -0.9, ((False, False, True, True, True), 'promote_leaders'): 0, ((False, False, True, True, True), 'hire'): 0, ((False, True, True, True, True), 'promote_cascade'): -0.9, ((False, True, True, True, True), 'reassign'): 0, ((False, True, True, True, True), 'promote_leaders'): 0.9, ((False, True, True, True, True), 'hire'): 0, ((False, True, True, True, False), 'reassign'): 0, ((False, True, True, True, False), 'promote_cascade'): 0, ((False, True, True, True, False), 'promote_leaders'): 0, ((False, True, True, True, False), 'hire'): 0, ((True, False, True, True, False), 'promote_cascade'): 0.999, ((False, False, True, True, False), 'reassign'): 0, ((False, False, True, True, False), 'promote_cascade'): 0, ((False, False, True, True, False), 'promote_leaders'): 0, ((False, False, True, True, False), 'hire'): 0, ((True, False, True, True, False), 'reassign'): 0, ((True, False, True, True, False), 'promote_leaders'): 0, ((True, False, True, True, False), 'hire'): 0}\n"
          ],
          "name": "stdout"
        }
      ]
    }
  ]
}