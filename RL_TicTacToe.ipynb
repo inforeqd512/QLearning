{
  "nbformat": 4,
  "nbformat_minor": 0,
  "metadata": {
    "colab": {
      "name": "RL_TicTacToe.ipynb",
      "provenance": [],
      "collapsed_sections": [],
      "authorship_tag": "ABX9TyOxFlSGktl+Ou9OUs40qRcD",
      "include_colab_link": true
    },
    "kernelspec": {
      "name": "python3",
      "display_name": "Python 3"
    },
    "language_info": {
      "name": "python"
    }
  },
  "cells": [
    {
      "cell_type": "markdown",
      "metadata": {
        "id": "view-in-github",
        "colab_type": "text"
      },
      "source": [
        "<a href=\"https://colab.research.google.com/github/inforeqd512/QLearning/blob/main/RL_TicTacToe.ipynb\" target=\"_parent\"><img src=\"https://colab.research.google.com/assets/colab-badge.svg\" alt=\"Open In Colab\"/></a>"
      ]
    },
    {
      "cell_type": "code",
      "metadata": {
        "id": "09zQDJ8boz15"
      },
      "source": [
        "import numpy as np\n",
        "import pylab as plt"
      ],
      "execution_count": 790,
      "outputs": []
    },
    {
      "cell_type": "markdown",
      "metadata": {
        "id": "LhMbEyXuXjS7"
      },
      "source": [
        "# Game\n",
        "\n",
        "Every simulation starts with a new Game _Board_. \n",
        "\n",
        "Each iteration of the simulation ends when the board is full or when any of the players wins.\n",
        "\n",
        "Every Player _Agent_ is setup with their _Policy Trainer_ and follows espilon greedy policy to learn best actions over several iterations of the simulation.\n",
        "\n",
        "**measure of success** : The Players become good at playing when the 'Draw' percentages are high.. ie. the first player to go learns to play in the middle or lears to play to Draw\n",
        "\n",
        "It takes approximately 5000 iterations to get to optimal q-values. At that time both players learn the game well enough to win approx 50% of the time. "
      ]
    },
    {
      "cell_type": "markdown",
      "metadata": {
        "id": "xs_GTXqantDk"
      },
      "source": [
        "### Actors in the Game"
      ]
    },
    {
      "cell_type": "markdown",
      "metadata": {
        "id": "oaQuOM1Mnu90"
      },
      "source": [
        "\n",
        "_Board_ is the environment. _State_ is the position of the board after a move from any player. Board also provides the possible set of actions. These are set of open positions on the board on which the player can put it's symbol. \n",
        "\n",
        "_Agent_ is the player playing the game. \n",
        "\n",
        "- Player playing $X$ will be denoted by symbol $1$\n",
        "- Player playing $O$ will be denoted by symbol $-1$\n",
        "\n",
        "Every _Agent_ has its own _Policy Trainer_ that learns the best action it should do in the _Board_ environment. \n",
        "\n",
        "The _Policy_Trainer_ follows is the epsilon greedy random policy to choose the next action. Based on this policy it learns the _Quality Action or Q-table_ for each player. Typically the Q-values of Player X are different to those of Player O. \n",
        "\n",
        "The _Policy_Trainer_ also needs to update the Q-values after performing the action and seeing the reward, so the _Agent_ delegates the choosing of the action and the performing of the action to it. \n",
        "\n",
        "\n",
        "_Action_ to be performed is chosen by the agent on the current state of the board. It is the next available position on the board that the agent can choose from. \n",
        "\n",
        "        \n"
      ]
    },
    {
      "cell_type": "markdown",
      "metadata": {
        "id": "FKTADaJ5V2Wh"
      },
      "source": [
        "### Exploration and Exploitation\n",
        "\n",
        "Initially we explore more as we learn about the possible moves that can be made. Over multiple iterations we start exploiting what we've learnt so we decay the exploration factor epsilon. \n",
        "\n",
        "**Decaying epsilon-greedy**: Does the same as epsilon-greedy, however, the epsilon value starts out near 1, and decays over time according to γ to power of x where x represents the iteration the agent is in.  For γ 0.99 is used \n",
        "\n",
        "<sup>Source: [The Effect of the Exploration\n",
        "Strategy on an Agent’s Performance](https://theses.ubn.ru.nl/bitstream/handle/123456789/5216/Nieuwdorp,%20T._BSc_Thesis_2017.pdf?sequence=1) from Thijs Nieuwdorp</sup>"
      ]
    },
    {
      "cell_type": "markdown",
      "metadata": {
        "id": "wWBNNhH_Veiz"
      },
      "source": [
        "### Quality of Action \n",
        "\n",
        "**Q (dict)** - \n",
        "\n",
        "- key = state hash, \n",
        "- value = is an array representing 9 spaces in the tic tac toe grid,\n",
        "\n",
        "Starting from top row of grid, from left to right then next row from left to right etc, based on the grid position sent as input action, the array index is computed\n",
        "      \n",
        "eg \n",
        "- for 0,1 grid position = 0 * 3 (number of rows and cols in grid) + 1 == 1 so the index of 1.. ie at position 2 in the array\n",
        "- for 1,1 grid position = 1 * 3 + 1 == 4 so 0,1,2,3,4th position in the array \n",
        "\n",
        "beware!!! when using the default initialisation of parameter as {} then python allocates the same memory to both instances of PolicyTrainer. As a result both policies showed the same scores. Also showed win for 1 when should show only for -1.. The best way to find this happening is to initialise the game state to a board where only one player can win, but you'll see that both players get a non-zero Q-value\n"
      ]
    },
    {
      "cell_type": "markdown",
      "metadata": {
        "id": "AO0tWLLZnHm1"
      },
      "source": [
        "# Board"
      ]
    },
    {
      "cell_type": "code",
      "metadata": {
        "id": "GtDnMMJ_nHP2"
      },
      "source": [
        "class Board:\n",
        "  \"\"\" Class that represents the game board of Tic Tac Toe \"\"\"\n",
        "\n",
        "  playerX = 1\n",
        "  playerO = -1\n",
        "\n",
        "  def __init__(self, rows=3, cols=3):\n",
        "    self.rows = rows\n",
        "    self.cols = cols \n",
        "    self.resetGame()\n",
        "\n",
        "  def resetGame(self):\n",
        "    \"\"\" resets the state of the board when needed eg, start of a simulation and after one of the players has won \"\"\"\n",
        "    self.state = np.zeros((self.rows, self.cols), dtype=np.int8)\n",
        "    # use below to test logic for one single win and change the learning rate to 1 to make equations simpler to test\n",
        "    # self.state = np.array(\n",
        "    #               [[ -1,  1,  0],\n",
        "    #               [-1,  1, -1],\n",
        "    #               [ 1, -1,  1]])\n",
        "    self.state = np.array(\n",
        "                  [[ 0,  0,  -1],\n",
        "                  [0,  1, -1],\n",
        "                  [ 0, 0,  0]])\n",
        "  def checkWinner(self):\n",
        "    \"\"\"  return winner symbol, if one exists. 0 if no winner\"\"\"\n",
        "\n",
        "    symbols = np.unique(self.state) #unique values , 0, 1, -1\n",
        "    symbols = symbols[np.nonzero(symbols)] #remove 0's\n",
        "    winning_symbol = 0 #no winner yet\n",
        "\n",
        "    for symbol in symbols:\n",
        "      #check rows\n",
        "      row = np.any(np.all(self.state == symbol, axis=1))\n",
        "\n",
        "      #check cols\n",
        "      col = np.any(np.all(self.state == symbol, axis=0))\n",
        "\n",
        "      #check diagonals\n",
        "      diag1 = np.array([self.state[0,0], self.state[1,1], self.state[2,2]])\n",
        "      diag1 = np.all(diag1 == symbol)\n",
        "\n",
        "      diag2 = np.array([self.state[2,0], self.state[1,1], self.state[0,2]])\n",
        "      diag2 = np.all(diag2 == symbol)\n",
        "\n",
        "      # Check if state has winner and return winner in that case\n",
        "      if row or col or diag1 or diag2:\n",
        "        winning_symbol = symbol\n",
        "        break\n",
        "  \n",
        "    return winning_symbol\n",
        "\n",
        "  def getAvailablePos(self):\n",
        "    \"\"\"  Get state positions that have no value ie zeros \"\"\"\n",
        "    return np.argwhere(self.state == 0)\n",
        "\n",
        "  def checkGameEnded(self):\n",
        "    \"\"\" Check if game has ended by observing if there any possible moves left\n",
        "    or there is a winner \"\"\"\n",
        "    ended = (len(self.getAvailablePos()) == 0) or (self.checkWinner() != 0)\n",
        "    return ended\n",
        "\n",
        "  def setPosition(self, x, y, symbol):\n",
        "    \"\"\"  Set state at position (x,y) with symbol \"\"\"\n",
        "    self.state[x,y] = symbol\n",
        "\n",
        "  def getStateHash(self):\n",
        "    \"\"\"  Get hash key of state \"\"\"\n",
        "    return np.array2string(self.state)\n",
        "  \n",
        "  def performAction(self, action_to_perform, symbol):\n",
        "    \"\"\"  Perform the action on current board \"\"\"\n",
        "    self.setPosition(action_to_perform[0], action_to_perform[1], symbol)\n",
        "    return self\n",
        "      "
      ],
      "execution_count": 791,
      "outputs": []
    },
    {
      "cell_type": "code",
      "metadata": {
        "id": "hSWPabSDToIi"
      },
      "source": [
        "class Agent:\n",
        "  \"\"\" Class that represents the player \n",
        "      symbol is 1 for 'X' or -1 for 'O' \n",
        "      policy_trainer is initialised with epsilon greedy set to exploration_probability which is reduced overtime\"\"\"\n",
        "\n",
        "  def __init__(self, symbol, exploration_probability):\n",
        "    self.symbol = symbol\n",
        "    self.policy_trainer = PolicyTrainer(exploration_probability=exploration_probability, symbol=symbol)\n",
        "    return\n",
        "\n",
        "  def performActionPerPolicy(self, state_hash, possible_actions, current_state):\n",
        "    \"\"\" per the explore and exploitation with current epsilon \"\"\"\n",
        "    action = self.policy_trainer.chooseAction(state_hash, possible_actions)\n",
        "    self.policy_trainer.performAction(current_state, action)\n",
        "\n",
        "  def epsilonDecayPerIterations(self, num_iterations):\n",
        "    \"\"\" gradually reduces probabilities per iteration but not completely eliminate it\"\"\"\n",
        "    # Reduce probability to explore during training\n",
        "    # Do not remove completely \n",
        "    \n",
        "    # Decaying epsilon-greedy: Does the same as epsilon-greedy, however, the epsilon value starts out near 1,\n",
        "    # and decays over time according to γ to power of x where x represents the iteration the agent is in. \n",
        "    # For γ 0.99 is used per https://theses.ubn.ru.nl/bitstream/handle/123456789/5216/Nieuwdorp,%20T._BSc_Thesis_2017.pdf?sequence=1\n",
        "        \n",
        "    if self.policy_trainer.exploration_probability > 0.2:\n",
        "      decay = 0.99 ** num_iterations\n",
        "      self.policy_trainer.exploration_probability = decay\n",
        "\n",
        "  def updateScore(self):\n",
        "    \"\"\" measures how much is the q-values changing over iterations till finally they settle \"\"\"\n",
        "    self.policy_trainer.updateScore()\n"
      ],
      "execution_count": 792,
      "outputs": []
    },
    {
      "cell_type": "code",
      "metadata": {
        "id": "sLEV9tTvYLQZ"
      },
      "source": [
        "class PolicyTrainer:\n",
        "  \"\"\"\n",
        "      exploration_probability (float) epsilon greedy value\n",
        "      learning_rate (float)\n",
        "      discount_factor (float)\n",
        "      Q (dict) - {state_hash : array of grid positions}\n",
        "  \"\"\"\n",
        "  def __init__(self, symbol, exploration_probability, learning_rate = 0.1, discount_factor = 0.9, grid_size = 3):\n",
        "    self.Q = {} #beware!!! when using the initiatlisation value a {} then python allocates the same one to both policies\n",
        "    self.learning_rate = 1.0 #learning_rate\n",
        "    self.discount_factor = discount_factor\n",
        "    self.exploration_probability = exploration_probability\n",
        "    self.grid_size = grid_size\n",
        "    self.scores = []\n",
        "    self.symbol = symbol\n",
        "    self.num_times_states_seen = {}\n",
        "    return\n",
        "\n",
        "  def getActionIndex(self, current_action):\n",
        "    \"\"\" Returns index in the action array position where the q value should be put \"\"\"\n",
        "    idx = self.grid_size * current_action[0] + current_action[1]\n",
        "    return idx\n",
        "\n",
        "  def getValueQ(self, current_state_hash, current_action):\n",
        "    \"\"\" Get the quality value of a given action in a given state,\n",
        "            returns 0 if the state-action pair has not been seen before.\n",
        "            Input is state hash key\n",
        "            and action as an array of position where the symbol should be put ie [0,1] for top row middle square\"\"\"\n",
        "    idx = self.getActionIndex(current_action)\n",
        "    q_value = 0 \n",
        "    if current_state_hash in self.Q:\n",
        "      q_value = self.Q[current_state_hash][idx]\n",
        "\n",
        "    return q_value\n",
        "\n",
        "  def setValueQ(self, current_state_hash, current_action, value):\n",
        "    \"\"\" Set value in Q \n",
        "    if this is the first time the state is seen, then the value is the array representing the grid\"\"\"\n",
        "    idx = self.getActionIndex(current_action)\n",
        "    if current_state_hash in self.Q:\n",
        "      self.Q[current_state_hash][idx] = value\n",
        "    else:\n",
        "      self.Q[current_state_hash] = np.zeros(self.grid_size * self.grid_size)\n",
        "      self.Q[current_state_hash][idx] = value\n",
        "    return\n",
        "\n",
        "  def rewardFunction(self, current_state_hash, next_state):\n",
        "    \"\"\" when the chosen action is performed on a state, then we get a new state\n",
        "    and associated reward from this transition is computed here\n",
        "    if next state is winner then reward is 1 else 0 \"\"\"\n",
        "    winner = next_state.checkWinner()\n",
        "    reward = 0 \n",
        "    if winner == self.symbol:\n",
        "      reward = 1\n",
        "    \n",
        "    # if reward == 1:\n",
        "    # if self.symbol == 1:\n",
        "    #   print(\"***rewardFunction\")\n",
        "    #   print(\"current_state_hash :  \\n\", current_state_hash)\n",
        "    #   print(\"next state hash :  \\n\", next_state.getStateHash())\n",
        "    #   print(\"symbol :  \", self.symbol)\n",
        "    #   print(\"reward :  \", reward)\n",
        "\n",
        "    return reward\n",
        "\n",
        "  def chooseAction(self, state_hash, possible_actions):\n",
        "    \"\"\" choose action per epsilon greedy explore/exploit policy \"\"\"\n",
        "    #Explore\n",
        "    if random.random() < 0.2: #self.exploration_probability:\n",
        "      action = self.chooseRandomAction(possible_actions)\n",
        "    else:\n",
        "      #Exploit\n",
        "      action = self.chooseBestAction(state_hash, possible_actions)\n",
        "    return action\n",
        "\n",
        "  def chooseRandomAction(self, possible_actions):\n",
        "    \"\"\" choose random action from list of possible actions in a state \"\"\"\n",
        "    random_idx = np.random.choice(possible_actions.shape[0])\n",
        "    action_pos = possible_actions[random_idx]\n",
        "    return action_pos\n",
        "\n",
        "  def chooseBestAction(self, current_state_hash, possible_actions):\n",
        "    \"\"\" Get best action given a set of possible actions in a given state \"\"\"\n",
        "    # Pick a random action at first\n",
        "    random_idx = np.random.choice(possible_actions.shape[0])\n",
        "    best_action = possible_actions[random_idx]\n",
        "\n",
        "    # Find action that given largest Q in given state\n",
        "    maxQ = 0 \n",
        "    for action in possible_actions:\n",
        "      tmpQ = self.getValueQ(current_state_hash, action)\n",
        "      if maxQ < tmpQ:\n",
        "        maxQ = tmpQ\n",
        "        best_action = action\n",
        "\n",
        "    return best_action\n",
        "\n",
        "  def getMaxQ(self, next_state):\n",
        "    \"\"\" go through all possible actions in a state \n",
        "    and pick the one with the highest quality value \"\"\"\n",
        "    actions = next_state.getAvailablePos()\n",
        "    state_hash = next_state.getStateHash()\n",
        "\n",
        "    # Find action that given largest Q in given state\n",
        "    maxQ = 0 \n",
        "    for action in actions:\n",
        "      tmpQ = self.getValueQ(state_hash, action)\n",
        "      if maxQ < tmpQ:\n",
        "        maxQ = tmpQ\n",
        "\n",
        "    return maxQ\n",
        "\n",
        "  def performAction(self, current_state, current_action):\n",
        "    \"\"\" Implements Q-learning iterative algorithm \n",
        "    we use a high learning_rate to give more value to the immediate reward so that we can see the values settle within 5000 iterations\n",
        "    \"\"\"\n",
        "    current_state_hash = current_state.getStateHash()\n",
        "\n",
        "    # Get current Q Value\n",
        "    currentQ = self.getValueQ(current_state_hash, current_action)\n",
        "\n",
        "    next_state = current_state.performAction(current_action, self.symbol)\n",
        "\n",
        "    newQ = (1 - self.learning_rate) * currentQ\n",
        "    newQ += self.learning_rate * (self.rewardFunction(current_state_hash, next_state) + self.discount_factor * self.getMaxQ(next_state))\n",
        "    self.setValueQ(current_state_hash, current_action, newQ)\n",
        "\n",
        "    if current_state_hash in self.num_times_states_seen:\n",
        "      arr = self.num_times_states_seen[current_state_hash]\n",
        "      if np.any(arr == current_action):\n",
        "        #do nothing\n",
        "        1\n",
        "      else:\n",
        "        arr.append(current_action)\n",
        "        self.num_times_states_seen[current_state_hash] = list1\n",
        "    else:\n",
        "      self.num_times_states_seen[current_state_hash] = [current_action]\n",
        "\n",
        "    # if self.symbol == 1:\n",
        "    #   print(\"current_action :\", current_action, \"newQ : \", newQ)\n",
        "      # print(\"\\nperformAction\\n\", \"\\nsymbol :\\n\", self.symbol, \"\\ncurrentQ :\\n\", currentQ, \"\\ncurrent_state_hash :\\n\", current_state_hash, \"\\ncurrent_action :\\n\", current_action, \"\\nnewQ :\\n\", newQ)\n",
        "\n",
        "  def updateScore(self):\n",
        "    #compute score\n",
        "    score = 0\n",
        "    list1 = list(self.Q.values())\n",
        "    score = np.sum(list1)\n",
        "    self.scores.append(score)\n"
      ],
      "execution_count": 793,
      "outputs": []
    },
    {
      "cell_type": "markdown",
      "metadata": {
        "id": "zHcSV1SNQcsM"
      },
      "source": [
        "# Q-Learning : Training"
      ]
    },
    {
      "cell_type": "code",
      "metadata": {
        "id": "_ZIXiKY_RtYf"
      },
      "source": [
        "from tqdm import tqdm\n",
        "import random"
      ],
      "execution_count": 794,
      "outputs": []
    },
    {
      "cell_type": "code",
      "metadata": {
        "id": "LW2Kf4WpnDLu"
      },
      "source": [
        "def simulate(iterations):\n",
        "  \"\"\" iterations (int) \"\"\"\n",
        "\n",
        "  # Construct game board\n",
        "  game = Board()\n",
        "\n",
        " # Epsilon-greedy \n",
        "  exploration_probability = 1.0\n",
        "\n",
        "  # Initiatlise players\n",
        "  playerX = Agent(Board.playerX, exploration_probability)\n",
        "  playerO = Agent(Board.playerO, exploration_probability)\n",
        "\n",
        "  # Counters for wins of each agent and total number of games\n",
        "  nbr_wins_playerX = 0\n",
        "  nbr_wins_playerO = 0\n",
        "  nbr_games = 0\n",
        "\n",
        "  # Pick current player\n",
        "  current_player = playerX\n",
        "\n",
        "  for i in tqdm(range(iterations)):\n",
        "\n",
        "    # play full games in each iteration\n",
        "    while not game.checkGameEnded():\n",
        "      possible_actions = game.getAvailablePos()\n",
        "      state_hash = game.getStateHash()\n",
        "         \n",
        "      current_player.performActionPerPolicy(state_hash, possible_actions, game)\n",
        "\n",
        "      # Check if there is a winner\n",
        "      winner = game.checkWinner() # Returns 0 if there is no winner\n",
        "      if winner != 0: #winner is when it's 1 or -1\n",
        "        if winner == playerX.symbol:\n",
        "            nbr_wins_playerX += 1\n",
        "        else:\n",
        "            nbr_wins_playerO += 1\n",
        "\n",
        "      # Swap player\n",
        "      if current_player == playerX:\n",
        "          current_player = playerO\n",
        "      else:\n",
        "          current_player = playerX\n",
        "\n",
        "    #when the full game is finished or there is a winner, then reset game and increment and print metrics\n",
        "    nbr_games += 1\n",
        "    playerX.updateScore()\n",
        "    playerO.updateScore()\n",
        "    playerX.epsilonDecayPerIterations(nbr_games)\n",
        "    playerO.epsilonDecayPerIterations(nbr_games)\n",
        "    \n",
        "    game.resetGame()\n",
        "\n",
        "  # Print outcome\n",
        "  print(\"\\n\\nWins: Agent X : \", nbr_wins_playerX, \"Wins: Agent O : \", nbr_wins_playerO, \"Total Games : \", nbr_games)    \n",
        "  print(\"\\nWin percentage: Agent X {:.2%}, Agent O {:.2%}.\".format(nbr_wins_playerX/nbr_games, nbr_wins_playerO/nbr_games))\n",
        "  print(\"\\nDraw percentage: {:.2%} \".format((nbr_games - nbr_wins_playerX - nbr_wins_playerO)/nbr_games))\n",
        "\n",
        "  return (playerX, playerO)\n",
        "\n"
      ],
      "execution_count": 795,
      "outputs": []
    },
    {
      "cell_type": "markdown",
      "metadata": {
        "id": "VKnSaWTQaJcy"
      },
      "source": [
        "# Q-Learning : Training"
      ]
    },
    {
      "cell_type": "code",
      "metadata": {
        "colab": {
          "base_uri": "https://localhost:8080/"
        },
        "id": "W5ynzHkISBxX",
        "outputId": "701c539e-135a-4d56-b4e0-319b5db0614e"
      },
      "source": [
        "(playerX, playerO) = simulate(5000)"
      ],
      "execution_count": 796,
      "outputs": [
        {
          "output_type": "stream",
          "name": "stderr",
          "text": [
            "100%|██████████| 5000/5000 [00:09<00:00, 505.45it/s]"
          ]
        },
        {
          "output_type": "stream",
          "name": "stdout",
          "text": [
            "\n",
            "\n",
            "Wins: Agent X :  663 Wins: Agent O :  4252 Total Games :  5000\n",
            "\n",
            "Win percentage: Agent X 13.26%, Agent O 85.04%.\n",
            "\n",
            "Draw percentage: 1.70% \n"
          ]
        },
        {
          "output_type": "stream",
          "name": "stderr",
          "text": [
            "\n"
          ]
        }
      ]
    },
    {
      "cell_type": "markdown",
      "metadata": {
        "id": "wnLeAGYcaT13"
      },
      "source": [
        "### How the episodes settle the Q-values"
      ]
    },
    {
      "cell_type": "code",
      "metadata": {
        "colab": {
          "base_uri": "https://localhost:8080/",
          "height": 0
        },
        "id": "m6Uks9AbHKG2",
        "outputId": "2021c0bb-a5b7-49dd-9eb0-15b0461e5921"
      },
      "source": [
        "plt.plot(playerX.policy_trainer.scores)\n",
        "plt.show()"
      ],
      "execution_count": 797,
      "outputs": [
        {
          "output_type": "display_data",
          "data": {
            "image/png": "[encoded data removed]",
            "text/plain": [
              "<Figure size 432x288 with 1 Axes>"
            ]
          },
          "metadata": {
            "needs_background": "light"
          }
        }
      ]
    },
    {
      "cell_type": "code",
      "metadata": {
        "colab": {
          "base_uri": "https://localhost:8080/",
          "height": 0
        },
        "id": "eApg9sDu1si-",
        "outputId": "7b9e8682-6950-462d-b77a-df1e4166a8bb"
      },
      "source": [
        "plt.plot(playerO.policy_trainer.scores)\n",
        "plt.show()"
      ],
      "execution_count": 798,
      "outputs": [
        {
          "output_type": "display_data",
          "data": {
            "image/png": "[encoded data removed]",
            "text/plain": [
              "<Figure size 432x288 with 1 Axes>"
            ]
          },
          "metadata": {
            "needs_background": "light"
          }
        }
      ]
    },
    {
      "cell_type": "markdown",
      "metadata": {
        "id": "ajuzJOhcanUw"
      },
      "source": [
        "### Trained Q-values for Player X\n"
      ]
    },
    {
      "cell_type": "code",
      "metadata": {
        "id": "u07cS-U5muRf"
      },
      "source": [
        "float_formatter = \"{:.2f}\".format\n",
        "np.set_printoptions(formatter={'float_kind':float_formatter})"
      ],
      "execution_count": 799,
      "outputs": []
    },
    {
      "cell_type": "code",
      "metadata": {
        "colab": {
          "base_uri": "https://localhost:8080/"
        },
        "id": "C0j5qISZP1Nd",
        "outputId": "e5a31531-26bb-440d-a282-c8760fe4782f"
      },
      "source": [
        "playerX.policy_trainer.num_times_states_seen"
      ],
      "execution_count": 800,
      "outputs": [
        {
          "output_type": "execute_result",
          "data": {
            "text/plain": [
              "{'[[ 0  0 -1]\\n [ 0  1 -1]\\n [ 0  0  0]]': array([[1, 0],\n",
              "        [1, 1],\n",
              "        [1, 2],\n",
              "        [2, 0],\n",
              "        [2, 1],\n",
              "        [2, 2]]), '[[ 0  0 -1]\\n [ 0  1 -1]\\n [ 0 -1  0]]': array([[1, 0],\n",
              "        [1, 1],\n",
              "        [1, 2],\n",
              "        [2, 0],\n",
              "        [2, 1],\n",
              "        [2, 2]]), '[[ 0  0 -1]\\n [ 0  1 -1]\\n [ 0 -1  1]]': [array([0, 0])], '[[ 0  0 -1]\\n [ 0  1 -1]\\n [ 1 -1  0]]': array([[1, 0],\n",
              "        [1, 1],\n",
              "        [1, 2],\n",
              "        [2, 0],\n",
              "        [2, 1],\n",
              "        [2, 2]]), '[[ 0  0 -1]\\n [ 0  1 -1]\\n [-1  0  0]]': array([[1, 0],\n",
              "        [1, 1],\n",
              "        [1, 2],\n",
              "        [2, 0],\n",
              "        [2, 1],\n",
              "        [2, 2]]), '[[ 0  0 -1]\\n [ 0  1 -1]\\n [-1  0  1]]': array([[1, 0],\n",
              "        [1, 1],\n",
              "        [1, 2],\n",
              "        [2, 0],\n",
              "        [2, 1],\n",
              "        [2, 2]]), '[[ 0  0 -1]\\n [ 0  1 -1]\\n [-1  1  0]]': array([[1, 0],\n",
              "        [1, 1],\n",
              "        [1, 2],\n",
              "        [2, 0],\n",
              "        [2, 1],\n",
              "        [2, 2]]), '[[ 0  0 -1]\\n [ 0  1 -1]\\n [-1 -1  1]]': [array([0, 0])], '[[ 0  0 -1]\\n [ 1  1 -1]\\n [ 0 -1  0]]': array([[1, 0],\n",
              "        [1, 1],\n",
              "        [1, 2],\n",
              "        [2, 0],\n",
              "        [2, 1],\n",
              "        [2, 2]]), '[[ 0  0 -1]\\n [ 1  1 -1]\\n [-1  0  0]]': array([[1, 0],\n",
              "        [1, 1],\n",
              "        [1, 2],\n",
              "        [2, 0],\n",
              "        [2, 1],\n",
              "        [2, 2]]), '[[ 0  0 -1]\\n [ 1  1 -1]\\n [-1 -1  1]]': [array([0, 1])], '[[ 0  0 -1]\\n [-1  1 -1]\\n [ 0  0  0]]': array([[1, 0],\n",
              "        [1, 1],\n",
              "        [1, 2],\n",
              "        [2, 0],\n",
              "        [2, 1],\n",
              "        [2, 2]]), '[[ 0  0 -1]\\n [-1  1 -1]\\n [ 0  0  1]]': array([[1, 0],\n",
              "        [1, 1],\n",
              "        [1, 2],\n",
              "        [2, 0],\n",
              "        [2, 1],\n",
              "        [2, 2]]), '[[ 0  0 -1]\\n [-1  1 -1]\\n [ 0  1  0]]': array([[1, 0],\n",
              "        [1, 1],\n",
              "        [1, 2],\n",
              "        [2, 0],\n",
              "        [2, 1],\n",
              "        [2, 2]]), '[[ 0  0 -1]\\n [-1  1 -1]\\n [ 0 -1  1]]': array([[1, 0],\n",
              "        [1, 1],\n",
              "        [1, 2],\n",
              "        [2, 0],\n",
              "        [2, 1],\n",
              "        [2, 2]]), '[[ 0  0 -1]\\n [-1  1 -1]\\n [ 1  0  0]]': array([[1, 0],\n",
              "        [1, 1],\n",
              "        [1, 2],\n",
              "        [2, 0],\n",
              "        [2, 1],\n",
              "        [2, 2]]), '[[ 0  0 -1]\\n [-1  1 -1]\\n [ 1 -1  0]]': [array([0, 0])], '[[ 0  0 -1]\\n [-1  1 -1]\\n [ 1 -1  1]]': [array([0, 1])], '[[ 0  0 -1]\\n [-1  1 -1]\\n [-1  1  1]]': [array([0, 1])], '[[ 0  1 -1]\\n [ 0  1 -1]\\n [ 0 -1  0]]': [array([2, 0])], '[[ 0  1 -1]\\n [ 0  1 -1]\\n [-1  0  0]]': array([[1, 0],\n",
              "        [1, 1],\n",
              "        [1, 2],\n",
              "        [2, 0],\n",
              "        [2, 1],\n",
              "        [2, 2]]), '[[ 0  1 -1]\\n [ 0  1 -1]\\n [-1 -1  1]]': [array([0, 0])], '[[ 0  1 -1]\\n [ 1  1 -1]\\n [-1 -1  0]]': array([[1, 0],\n",
              "        [1, 1],\n",
              "        [1, 2],\n",
              "        [2, 0],\n",
              "        [2, 1],\n",
              "        [2, 2]]), '[[ 0  1 -1]\\n [-1  1 -1]\\n [ 0  0  0]]': array([[1, 0],\n",
              "        [1, 1],\n",
              "        [1, 2],\n",
              "        [2, 0],\n",
              "        [2, 1],\n",
              "        [2, 2]]), '[[ 0  1 -1]\\n [-1  1 -1]\\n [ 0 -1  0]]': [array([2, 0])], '[[ 0  1 -1]\\n [-1  1 -1]\\n [ 0 -1  1]]': [array([0, 0])], '[[ 0  1 -1]\\n [-1  1 -1]\\n [ 1 -1  0]]': array([[1, 0],\n",
              "        [1, 1],\n",
              "        [1, 2],\n",
              "        [2, 0],\n",
              "        [2, 1],\n",
              "        [2, 2]]), '[[ 0  1 -1]\\n [-1  1 -1]\\n [-1  0  1]]': [array([0, 0])], '[[ 0  1 -1]\\n [-1  1 -1]\\n [-1 -1  1]]': [array([0, 0])], '[[ 0 -1 -1]\\n [ 0  1 -1]\\n [ 0  0  0]]': array([[1, 0],\n",
              "        [1, 1],\n",
              "        [1, 2],\n",
              "        [2, 0],\n",
              "        [2, 1],\n",
              "        [2, 2]]), '[[ 0 -1 -1]\\n [ 0  1 -1]\\n [ 0  0  1]]': array([[1, 0],\n",
              "        [1, 1],\n",
              "        [1, 2],\n",
              "        [2, 0],\n",
              "        [2, 1],\n",
              "        [2, 2]]), '[[ 0 -1 -1]\\n [ 0  1 -1]\\n [ 0  1  0]]': [array([2, 0])], '[[ 0 -1 -1]\\n [ 0  1 -1]\\n [ 0 -1  1]]': [array([1, 0])], '[[ 0 -1 -1]\\n [ 0  1 -1]\\n [ 1  0  0]]': array([[1, 0],\n",
              "        [1, 1],\n",
              "        [1, 2],\n",
              "        [2, 0],\n",
              "        [2, 1],\n",
              "        [2, 2]]), '[[ 0 -1 -1]\\n [ 0  1 -1]\\n [ 1 -1  0]]': [array([0, 0])], '[[ 0 -1 -1]\\n [ 0  1 -1]\\n [ 1 -1  1]]': [array([1, 0])], '[[ 0 -1 -1]\\n [ 0  1 -1]\\n [-1  0  1]]': [array([1, 0])], '[[ 0 -1 -1]\\n [ 0  1 -1]\\n [-1  1  1]]': [array([0, 0])], '[[ 0 -1 -1]\\n [ 1  1 -1]\\n [ 0  0  0]]': [array([2, 0])], '[[ 0 -1 -1]\\n [ 1  1 -1]\\n [ 0 -1  1]]': [array([0, 0])], '[[ 0 -1 -1]\\n [ 1  1 -1]\\n [ 1 -1  0]]': array([[1, 0],\n",
              "        [1, 1],\n",
              "        [1, 2],\n",
              "        [2, 0],\n",
              "        [2, 1],\n",
              "        [2, 2]]), '[[ 0 -1 -1]\\n [ 1  1 -1]\\n [-1  0  1]]': array([[1, 0],\n",
              "        [1, 1],\n",
              "        [1, 2],\n",
              "        [2, 0],\n",
              "        [2, 1],\n",
              "        [2, 2]]), '[[ 0 -1 -1]\\n [-1  1 -1]\\n [ 0  1  1]]': [array([2, 0])], '[[ 0 -1 -1]\\n [-1  1 -1]\\n [ 1  0  0]]': [array([2, 1])], '[[ 0 -1 -1]\\n [-1  1 -1]\\n [ 1  0  1]]': array([[1, 0],\n",
              "        [1, 1],\n",
              "        [1, 2],\n",
              "        [2, 0],\n",
              "        [2, 1],\n",
              "        [2, 2]]), '[[ 0 -1 -1]\\n [-1  1 -1]\\n [ 1  1  0]]': array([[1, 0],\n",
              "        [1, 1],\n",
              "        [1, 2],\n",
              "        [2, 0],\n",
              "        [2, 1],\n",
              "        [2, 2]]), '[[ 0 -1 -1]\\n [-1  1 -1]\\n [ 1 -1  1]]': [array([0, 0])], '[[ 1  0 -1]\\n [ 0  1 -1]\\n [ 0 -1  0]]': array([[1, 0],\n",
              "        [1, 1],\n",
              "        [1, 2],\n",
              "        [2, 0],\n",
              "        [2, 1],\n",
              "        [2, 2]]), '[[ 1  0 -1]\\n [ 0  1 -1]\\n [-1  0  0]]': array([[1, 0],\n",
              "        [1, 1],\n",
              "        [1, 2],\n",
              "        [2, 0],\n",
              "        [2, 1],\n",
              "        [2, 2]]), '[[ 1  0 -1]\\n [ 0  1 -1]\\n [-1 -1  0]]': [array([1, 0])], '[[ 1  0 -1]\\n [ 1  1 -1]\\n [-1 -1  0]]': [array([2, 2])], '[[ 1  0 -1]\\n [-1  1 -1]\\n [ 0  0  0]]': array([[1, 0],\n",
              "        [1, 1],\n",
              "        [1, 2],\n",
              "        [2, 0],\n",
              "        [2, 1],\n",
              "        [2, 2]]), '[[ 1  0 -1]\\n [-1  1 -1]\\n [ 0 -1  0]]': [array([2, 2])], '[[ 1  0 -1]\\n [-1  1 -1]\\n [ 1 -1  0]]': [array([2, 2])], '[[ 1  1 -1]\\n [ 0  1 -1]\\n [-1 -1  0]]': [array([1, 0])], '[[ 1  1 -1]\\n [-1  1 -1]\\n [ 0 -1  0]]': [array([2, 0])], '[[ 1  1 -1]\\n [-1  1 -1]\\n [-1  0  0]]': [array([2, 2])], '[[ 1 -1 -1]\\n [ 0  1 -1]\\n [ 0  0  0]]': array([[1, 0],\n",
              "        [1, 1],\n",
              "        [1, 2],\n",
              "        [2, 0],\n",
              "        [2, 1],\n",
              "        [2, 2]]), '[[ 1 -1 -1]\\n [ 0  1 -1]\\n [ 1 -1  0]]': [array([2, 2])], '[[ 1 -1 -1]\\n [ 0  1 -1]\\n [-1  1  0]]': [array([1, 0])], '[[ 1 -1 -1]\\n [ 1  1 -1]\\n [ 0 -1  0]]': [array([2, 2])], '[[ 1 -1 -1]\\n [ 1  1 -1]\\n [-1  0  0]]': [array([2, 2])], '[[ 1 -1 -1]\\n [-1  1 -1]\\n [ 0  0  0]]': [array([2, 0])], '[[ 1 -1 -1]\\n [-1  1 -1]\\n [ 0  1  0]]': [array([2, 2])], '[[ 1 -1 -1]\\n [-1  1 -1]\\n [ 1  0  0]]': [array([2, 2])], '[[ 1 -1 -1]\\n [-1  1 -1]\\n [ 1 -1  0]]': [array([2, 2])], '[[-1  0 -1]\\n [ 0  1 -1]\\n [ 0  0  0]]': array([[1, 0],\n",
              "        [1, 1],\n",
              "        [1, 2],\n",
              "        [2, 0],\n",
              "        [2, 1],\n",
              "        [2, 2]]), '[[-1  0 -1]\\n [ 0  1 -1]\\n [ 0  0  1]]': array([[1, 0],\n",
              "        [1, 1],\n",
              "        [1, 2],\n",
              "        [2, 0],\n",
              "        [2, 1],\n",
              "        [2, 2]]), '[[-1  0 -1]\\n [ 0  1 -1]\\n [ 0  1  0]]': array([[1, 0],\n",
              "        [1, 1],\n",
              "        [1, 2],\n",
              "        [2, 0],\n",
              "        [2, 1],\n",
              "        [2, 2]]), '[[-1  0 -1]\\n [ 0  1 -1]\\n [ 0 -1  1]]': array([[1, 0],\n",
              "        [1, 1],\n",
              "        [1, 2],\n",
              "        [2, 0],\n",
              "        [2, 1],\n",
              "        [2, 2]]), '[[-1  0 -1]\\n [ 0  1 -1]\\n [ 1  0  0]]': array([[1, 0],\n",
              "        [1, 1],\n",
              "        [1, 2],\n",
              "        [2, 0],\n",
              "        [2, 1],\n",
              "        [2, 2]]), '[[-1  0 -1]\\n [ 0  1 -1]\\n [ 1 -1  0]]': [array([2, 2])], '[[-1  0 -1]\\n [ 0  1 -1]\\n [ 1 -1  1]]': array([[1, 0],\n",
              "        [1, 1],\n",
              "        [1, 2],\n",
              "        [2, 0],\n",
              "        [2, 1],\n",
              "        [2, 2]]), '[[-1  0 -1]\\n [ 0  1 -1]\\n [-1  0  1]]': [array([2, 1])], '[[-1  0 -1]\\n [ 0  1 -1]\\n [-1  1  1]]': array([[1, 0],\n",
              "        [1, 1],\n",
              "        [1, 2],\n",
              "        [2, 0],\n",
              "        [2, 1],\n",
              "        [2, 2]]), '[[-1  0 -1]\\n [ 1  1 -1]\\n [ 0  0  0]]': array([[1, 0],\n",
              "        [1, 1],\n",
              "        [1, 2],\n",
              "        [2, 0],\n",
              "        [2, 1],\n",
              "        [2, 2]]), '[[-1  0 -1]\\n [ 1  1 -1]\\n [ 0 -1  1]]': array([[1, 0],\n",
              "        [1, 1],\n",
              "        [1, 2],\n",
              "        [2, 0],\n",
              "        [2, 1],\n",
              "        [2, 2]]), '[[-1  0 -1]\\n [ 1  1 -1]\\n [ 1 -1  0]]': array([[1, 0],\n",
              "        [1, 1],\n",
              "        [1, 2],\n",
              "        [2, 0],\n",
              "        [2, 1],\n",
              "        [2, 2]]), '[[-1  0 -1]\\n [ 1  1 -1]\\n [-1  0  1]]': [array([0, 1])], '[[-1  0 -1]\\n [-1  1 -1]\\n [ 0  0  1]]': [array([0, 1])], '[[-1  0 -1]\\n [-1  1 -1]\\n [ 0  1  1]]': [array([0, 1])], '[[-1  0 -1]\\n [-1  1 -1]\\n [ 1  0  0]]': [array([0, 1])], '[[-1  0 -1]\\n [-1  1 -1]\\n [ 1  0  1]]': [array([0, 1])], '[[-1  0 -1]\\n [-1  1 -1]\\n [ 1  1  0]]': [array([2, 2])], '[[-1  1 -1]\\n [ 0  1 -1]\\n [ 0  0  0]]': array([[1, 0],\n",
              "        [1, 1],\n",
              "        [1, 2],\n",
              "        [2, 0],\n",
              "        [2, 1],\n",
              "        [2, 2]]), '[[-1  1 -1]\\n [ 0  1 -1]\\n [ 0 -1  0]]': array([[1, 0],\n",
              "        [1, 1],\n",
              "        [1, 2],\n",
              "        [2, 0],\n",
              "        [2, 1],\n",
              "        [2, 2]]), '[[-1  1 -1]\\n [ 0  1 -1]\\n [ 0 -1  1]]': [array([2, 0])], '[[-1  1 -1]\\n [ 0  1 -1]\\n [ 1 -1  0]]': [array([2, 2])], '[[-1  1 -1]\\n [ 0  1 -1]\\n [-1  0  0]]': [array([2, 1])], '[[-1  1 -1]\\n [ 0  1 -1]\\n [-1  0  1]]': [array([2, 1])], '[[-1  1 -1]\\n [ 0  1 -1]\\n [-1 -1  1]]': [array([1, 0])], '[[-1  1 -1]\\n [ 1  1 -1]\\n [ 0 -1  0]]': [array([2, 0])], '[[-1  1 -1]\\n [ 1  1 -1]\\n [-1  0  0]]': [array([2, 1])], '[[-1  1 -1]\\n [-1  1 -1]\\n [ 0  0  0]]': [array([2, 1])], '[[-1  1 -1]\\n [-1  1 -1]\\n [ 0  0  1]]': [array([2, 0])], '[[-1  1 -1]\\n [-1  1 -1]\\n [ 0 -1  1]]': [array([2, 0])], '[[-1  1 -1]\\n [-1  1 -1]\\n [ 1  0  0]]': [array([2, 1])]}"
            ]
          },
          "metadata": {},
          "execution_count": 800
        }
      ]
    },
    {
      "cell_type": "code",
      "metadata": {
        "colab": {
          "base_uri": "https://localhost:8080/"
        },
        "id": "SvFj0ROANJTA",
        "outputId": "0fd1517e-51fd-421a-9027-5588de149956"
      },
      "source": [
        "playerX.policy_trainer.Q"
      ],
      "execution_count": 801,
      "outputs": [
        {
          "output_type": "execute_result",
          "data": {
            "text/plain": [
              "{'[[ 0  0 -1]\\n [ 0  1 -1]\\n [ 0  0  0]]': array([0.00, 0.00, 0.00, 0.00, 0.00, 0.00, 0.00, 0.00, 0.00]),\n",
              " '[[ 0  0 -1]\\n [ 0  1 -1]\\n [ 0 -1  0]]': array([0.00, 0.00, 0.00, 0.00, 0.00, 0.00, 0.00, 0.00, 0.90]),\n",
              " '[[ 0  0 -1]\\n [ 0  1 -1]\\n [ 0 -1  1]]': array([1.00, 0.00, 0.00, 0.00, 0.00, 0.00, 0.00, 0.00, 0.00]),\n",
              " '[[ 0  0 -1]\\n [ 0  1 -1]\\n [ 1 -1  0]]': array([0.00, 0.00, 0.00, 0.00, 0.00, 0.00, 0.00, 0.00, 0.00]),\n",
              " '[[ 0  0 -1]\\n [ 0  1 -1]\\n [-1  0  0]]': array([0.90, 0.00, 0.00, 0.00, 0.00, 0.00, 0.00, 0.90, 0.00]),\n",
              " '[[ 0  0 -1]\\n [ 0  1 -1]\\n [-1  0  1]]': array([1.00, 0.00, 0.00, 0.00, 0.00, 0.00, 0.00, 0.00, 0.00]),\n",
              " '[[ 0  0 -1]\\n [ 0  1 -1]\\n [-1  1  0]]': array([0.00, 1.00, 0.00, 0.00, 0.00, 0.00, 0.00, 0.00, 0.00]),\n",
              " '[[ 0  0 -1]\\n [ 0  1 -1]\\n [-1 -1  1]]': array([1.00, 0.00, 0.00, 0.00, 0.00, 0.00, 0.00, 0.00, 0.00]),\n",
              " '[[ 0  0 -1]\\n [ 1  1 -1]\\n [ 0 -1  0]]': array([0.00, 0.00, 0.00, 0.00, 0.00, 0.00, 0.00, 0.00, 0.00]),\n",
              " '[[ 0  0 -1]\\n [ 1  1 -1]\\n [-1  0  0]]': array([0.00, 0.00, 0.00, 0.00, 0.00, 0.00, 0.00, 0.00, 0.00]),\n",
              " '[[ 0  0 -1]\\n [ 1  1 -1]\\n [-1 -1  1]]': array([1.00, 0.00, 0.00, 0.00, 0.00, 0.00, 0.00, 0.00, 0.00]),\n",
              " '[[ 0  0 -1]\\n [-1  1 -1]\\n [ 0  0  0]]': array([0.90, 0.90, 0.00, 0.00, 0.00, 0.00, 0.00, 0.00, 0.90]),\n",
              " '[[ 0  0 -1]\\n [-1  1 -1]\\n [ 0  0  1]]': array([1.00, 0.00, 0.00, 0.00, 0.00, 0.00, 0.00, 0.00, 0.00]),\n",
              " '[[ 0  0 -1]\\n [-1  1 -1]\\n [ 0  1  0]]': array([0.00, 1.00, 0.00, 0.00, 0.00, 0.00, 0.00, 0.00, 0.00]),\n",
              " '[[ 0  0 -1]\\n [-1  1 -1]\\n [ 0 -1  1]]': array([0.00, 0.90, 0.00, 0.00, 0.00, 0.00, 0.90, 0.00, 0.00]),\n",
              " '[[ 0  0 -1]\\n [-1  1 -1]\\n [ 1  0  0]]': array([0.00, 0.00, 0.00, 0.00, 0.00, 0.00, 0.00, 0.00, 0.00]),\n",
              " '[[ 0  0 -1]\\n [-1  1 -1]\\n [ 1 -1  0]]': array([0.90, 0.00, 0.00, 0.00, 0.00, 0.00, 0.00, 0.00, 0.00]),\n",
              " '[[ 0  0 -1]\\n [-1  1 -1]\\n [ 1 -1  1]]': array([1.00, 0.00, 0.00, 0.00, 0.00, 0.00, 0.00, 0.00, 0.00]),\n",
              " '[[ 0  0 -1]\\n [-1  1 -1]\\n [-1  1  1]]': array([0.00, 1.00, 0.00, 0.00, 0.00, 0.00, 0.00, 0.00, 0.00]),\n",
              " '[[ 0  1 -1]\\n [ 0  1 -1]\\n [ 0 -1  0]]': array([0.00, 0.00, 0.00, 0.00, 0.00, 0.00, 0.00, 0.00, 0.00]),\n",
              " '[[ 0  1 -1]\\n [ 0  1 -1]\\n [-1  0  0]]': array([0.00, 0.00, 0.00, 0.00, 0.00, 0.00, 0.00, 1.00, 0.00]),\n",
              " '[[ 0  1 -1]\\n [ 0  1 -1]\\n [-1 -1  1]]': array([1.00, 0.00, 0.00, 0.00, 0.00, 0.00, 0.00, 0.00, 0.00]),\n",
              " '[[ 0  1 -1]\\n [ 1  1 -1]\\n [-1 -1  0]]': array([0.00, 0.00, 0.00, 0.00, 0.00, 0.00, 0.00, 0.00, 0.00]),\n",
              " '[[ 0  1 -1]\\n [-1  1 -1]\\n [ 0  0  0]]': array([0.00, 0.00, 0.00, 0.00, 0.00, 0.00, 0.00, 1.00, 0.00]),\n",
              " '[[ 0  1 -1]\\n [-1  1 -1]\\n [ 0 -1  0]]': array([0.00, 0.00, 0.00, 0.00, 0.00, 0.00, 0.00, 0.00, 0.00]),\n",
              " '[[ 0  1 -1]\\n [-1  1 -1]\\n [ 0 -1  1]]': array([1.00, 0.00, 0.00, 0.00, 0.00, 0.00, 0.00, 0.00, 0.00]),\n",
              " '[[ 0  1 -1]\\n [-1  1 -1]\\n [ 1 -1  0]]': array([0.00, 0.00, 0.00, 0.00, 0.00, 0.00, 0.00, 0.00, 0.00]),\n",
              " '[[ 0  1 -1]\\n [-1  1 -1]\\n [-1  0  1]]': array([1.00, 0.00, 0.00, 0.00, 0.00, 0.00, 0.00, 0.00, 0.00]),\n",
              " '[[ 0  1 -1]\\n [-1  1 -1]\\n [-1 -1  1]]': array([1.00, 0.00, 0.00, 0.00, 0.00, 0.00, 0.00, 0.00, 0.00]),\n",
              " '[[ 0 -1 -1]\\n [ 0  1 -1]\\n [ 0  0  0]]': array([0.00, 0.00, 0.00, 0.00, 0.00, 0.00, 0.00, 0.00, 0.90]),\n",
              " '[[ 0 -1 -1]\\n [ 0  1 -1]\\n [ 0  0  1]]': array([1.00, 0.00, 0.00, 0.00, 0.00, 0.00, 0.00, 0.00, 0.00]),\n",
              " '[[ 0 -1 -1]\\n [ 0  1 -1]\\n [ 0  1  0]]': array([0.00, 0.00, 0.00, 0.00, 0.00, 0.00, 0.00, 0.00, 0.00]),\n",
              " '[[ 0 -1 -1]\\n [ 0  1 -1]\\n [ 0 -1  1]]': array([0.00, 0.00, 0.00, 0.90, 0.00, 0.00, 0.90, 0.00, 0.00]),\n",
              " '[[ 0 -1 -1]\\n [ 0  1 -1]\\n [ 1  0  0]]': array([0.00, 0.00, 0.00, 0.00, 0.00, 0.00, 0.00, 0.00, 0.00]),\n",
              " '[[ 0 -1 -1]\\n [ 0  1 -1]\\n [ 1 -1  0]]': array([0.00, 0.00, 0.00, 0.00, 0.00, 0.00, 0.00, 0.00, 0.00]),\n",
              " '[[ 0 -1 -1]\\n [ 0  1 -1]\\n [ 1 -1  1]]': array([1.00, 0.00, 0.00, 0.00, 0.00, 0.00, 0.00, 0.00, 0.00]),\n",
              " '[[ 0 -1 -1]\\n [ 0  1 -1]\\n [-1  0  1]]': array([0.00, 0.00, 0.00, 0.00, 0.00, 0.00, 0.00, 0.00, 0.00]),\n",
              " '[[ 0 -1 -1]\\n [ 0  1 -1]\\n [-1  1  1]]': array([1.00, 0.00, 0.00, 0.00, 0.00, 0.00, 0.00, 0.00, 0.00]),\n",
              " '[[ 0 -1 -1]\\n [ 1  1 -1]\\n [ 0  0  0]]': array([0.00, 0.00, 0.00, 0.00, 0.00, 0.00, 0.00, 0.00, 0.00]),\n",
              " '[[ 0 -1 -1]\\n [ 1  1 -1]\\n [ 0 -1  1]]': array([1.00, 0.00, 0.00, 0.00, 0.00, 0.00, 0.00, 0.00, 0.00]),\n",
              " '[[ 0 -1 -1]\\n [ 1  1 -1]\\n [ 1 -1  0]]': array([1.00, 0.00, 0.00, 0.00, 0.00, 0.00, 0.00, 0.00, 0.00]),\n",
              " '[[ 0 -1 -1]\\n [ 1  1 -1]\\n [-1  0  1]]': array([1.00, 0.00, 0.00, 0.00, 0.00, 0.00, 0.00, 0.00, 0.00]),\n",
              " '[[ 0 -1 -1]\\n [-1  1 -1]\\n [ 0  1  1]]': array([0.00, 0.00, 0.00, 0.00, 0.00, 0.00, 1.00, 0.00, 0.00]),\n",
              " '[[ 0 -1 -1]\\n [-1  1 -1]\\n [ 1  0  0]]': array([0.00, 0.00, 0.00, 0.00, 0.00, 0.00, 0.00, 0.00, 0.90]),\n",
              " '[[ 0 -1 -1]\\n [-1  1 -1]\\n [ 1  0  1]]': array([1.00, 0.00, 0.00, 0.00, 0.00, 0.00, 0.00, 1.00, 0.00]),\n",
              " '[[ 0 -1 -1]\\n [-1  1 -1]\\n [ 1  1  0]]': array([0.00, 0.00, 0.00, 0.00, 0.00, 0.00, 0.00, 0.00, 1.00]),\n",
              " '[[ 0 -1 -1]\\n [-1  1 -1]\\n [ 1 -1  1]]': array([1.00, 0.00, 0.00, 0.00, 0.00, 0.00, 0.00, 0.00, 0.00]),\n",
              " '[[ 1  0 -1]\\n [ 0  1 -1]\\n [ 0 -1  0]]': array([0.00, 0.00, 0.00, 0.00, 0.00, 0.00, 0.00, 0.00, 1.00]),\n",
              " '[[ 1  0 -1]\\n [ 0  1 -1]\\n [-1  0  0]]': array([0.00, 0.00, 0.00, 0.00, 0.00, 0.00, 0.00, 0.00, 1.00]),\n",
              " '[[ 1  0 -1]\\n [ 0  1 -1]\\n [-1 -1  0]]': array([0.00, 0.00, 0.00, 0.90, 0.00, 0.00, 0.00, 0.00, 0.00]),\n",
              " '[[ 1  0 -1]\\n [ 1  1 -1]\\n [-1 -1  0]]': array([0.00, 0.00, 0.00, 0.00, 0.00, 0.00, 0.00, 0.00, 1.00]),\n",
              " '[[ 1  0 -1]\\n [-1  1 -1]\\n [ 0  0  0]]': array([0.00, 0.00, 0.00, 0.00, 0.00, 0.00, 0.00, 0.00, 1.00]),\n",
              " '[[ 1  0 -1]\\n [-1  1 -1]\\n [ 0 -1  0]]': array([0.00, 0.00, 0.00, 0.00, 0.00, 0.00, 0.00, 0.00, 1.00]),\n",
              " '[[ 1  0 -1]\\n [-1  1 -1]\\n [ 1 -1  0]]': array([0.00, 0.00, 0.00, 0.00, 0.00, 0.00, 0.00, 0.00, 1.00]),\n",
              " '[[ 1  1 -1]\\n [ 0  1 -1]\\n [-1 -1  0]]': array([0.00, 0.00, 0.00, 0.00, 0.00, 0.00, 0.00, 0.00, 0.00]),\n",
              " '[[ 1  1 -1]\\n [-1  1 -1]\\n [ 0 -1  0]]': array([0.00, 0.00, 0.00, 0.00, 0.00, 0.00, 0.00, 0.00, 1.00]),\n",
              " '[[ 1  1 -1]\\n [-1  1 -1]\\n [-1  0  0]]': array([0.00, 0.00, 0.00, 0.00, 0.00, 0.00, 0.00, 0.00, 1.00]),\n",
              " '[[ 1 -1 -1]\\n [ 0  1 -1]\\n [ 0  0  0]]': array([0.00, 0.00, 0.00, 0.00, 0.00, 0.00, 0.00, 0.00, 1.00]),\n",
              " '[[ 1 -1 -1]\\n [ 0  1 -1]\\n [ 1 -1  0]]': array([0.00, 0.00, 0.00, 0.00, 0.00, 0.00, 0.00, 0.00, 1.00]),\n",
              " '[[ 1 -1 -1]\\n [ 0  1 -1]\\n [-1  1  0]]': array([0.00, 0.00, 0.00, 0.00, 0.00, 0.00, 0.00, 0.00, 0.00]),\n",
              " '[[ 1 -1 -1]\\n [ 1  1 -1]\\n [ 0 -1  0]]': array([0.00, 0.00, 0.00, 0.00, 0.00, 0.00, 0.00, 0.00, 1.00]),\n",
              " '[[ 1 -1 -1]\\n [ 1  1 -1]\\n [-1  0  0]]': array([0.00, 0.00, 0.00, 0.00, 0.00, 0.00, 0.00, 0.00, 1.00]),\n",
              " '[[ 1 -1 -1]\\n [-1  1 -1]\\n [ 0  0  0]]': array([0.00, 0.00, 0.00, 0.00, 0.00, 0.00, 0.90, 0.00, 0.00]),\n",
              " '[[ 1 -1 -1]\\n [-1  1 -1]\\n [ 0  1  0]]': array([0.00, 0.00, 0.00, 0.00, 0.00, 0.00, 0.00, 0.00, 1.00]),\n",
              " '[[ 1 -1 -1]\\n [-1  1 -1]\\n [ 1  0  0]]': array([0.00, 0.00, 0.00, 0.00, 0.00, 0.00, 0.00, 0.00, 1.00]),\n",
              " '[[ 1 -1 -1]\\n [-1  1 -1]\\n [ 1 -1  0]]': array([0.00, 0.00, 0.00, 0.00, 0.00, 0.00, 0.00, 0.00, 1.00]),\n",
              " '[[-1  0 -1]\\n [ 0  1 -1]\\n [ 0  0  0]]': array([0.00, 0.90, 0.00, 0.00, 0.00, 0.00, 0.00, 0.90, 0.00]),\n",
              " '[[-1  0 -1]\\n [ 0  1 -1]\\n [ 0  0  1]]': array([0.00, 0.00, 0.00, 0.00, 0.00, 0.00, 0.00, 0.00, 0.00]),\n",
              " '[[-1  0 -1]\\n [ 0  1 -1]\\n [ 0  1  0]]': array([0.00, 1.00, 0.00, 0.00, 0.00, 0.00, 0.00, 0.00, 0.00]),\n",
              " '[[-1  0 -1]\\n [ 0  1 -1]\\n [ 0 -1  1]]': array([0.00, 0.00, 0.00, 0.00, 0.00, 0.00, 0.00, 0.00, 0.00]),\n",
              " '[[-1  0 -1]\\n [ 0  1 -1]\\n [ 1  0  0]]': array([0.00, 0.00, 0.00, 0.00, 0.00, 0.00, 0.00, 0.00, 0.00]),\n",
              " '[[-1  0 -1]\\n [ 0  1 -1]\\n [ 1 -1  0]]': array([0.00, 0.00, 0.00, 0.00, 0.00, 0.00, 0.00, 0.00, 0.00]),\n",
              " '[[-1  0 -1]\\n [ 0  1 -1]\\n [ 1 -1  1]]': array([0.00, 0.00, 0.00, 0.00, 0.00, 0.00, 0.00, 0.00, 0.00]),\n",
              " '[[-1  0 -1]\\n [ 0  1 -1]\\n [-1  0  1]]': array([0.00, 0.00, 0.00, 0.00, 0.00, 0.00, 0.00, 0.00, 0.00]),\n",
              " '[[-1  0 -1]\\n [ 0  1 -1]\\n [-1  1  1]]': array([0.00, 1.00, 0.00, 0.00, 0.00, 0.00, 0.00, 0.00, 0.00]),\n",
              " '[[-1  0 -1]\\n [ 1  1 -1]\\n [ 0  0  0]]': array([0.00, 0.00, 0.00, 0.00, 0.00, 0.00, 0.00, 0.00, 0.00]),\n",
              " '[[-1  0 -1]\\n [ 1  1 -1]\\n [ 0 -1  1]]': array([0.00, 0.00, 0.00, 0.00, 0.00, 0.00, 0.00, 0.00, 0.00]),\n",
              " '[[-1  0 -1]\\n [ 1  1 -1]\\n [ 1 -1  0]]': array([0.00, 0.00, 0.00, 0.00, 0.00, 0.00, 0.00, 0.00, 0.00]),\n",
              " '[[-1  0 -1]\\n [ 1  1 -1]\\n [-1  0  1]]': array([0.00, 0.00, 0.00, 0.00, 0.00, 0.00, 0.00, 0.00, 0.00]),\n",
              " '[[-1  0 -1]\\n [-1  1 -1]\\n [ 0  0  1]]': array([0.00, 0.00, 0.00, 0.00, 0.00, 0.00, 0.00, 0.90, 0.00]),\n",
              " '[[-1  0 -1]\\n [-1  1 -1]\\n [ 0  1  1]]': array([0.00, 1.00, 0.00, 0.00, 0.00, 0.00, 0.00, 0.00, 0.00]),\n",
              " '[[-1  0 -1]\\n [-1  1 -1]\\n [ 1  0  0]]': array([0.00, 0.90, 0.00, 0.00, 0.00, 0.00, 0.00, 0.00, 0.00]),\n",
              " '[[-1  0 -1]\\n [-1  1 -1]\\n [ 1  0  1]]': array([0.00, 0.00, 0.00, 0.00, 0.00, 0.00, 0.00, 1.00, 0.00]),\n",
              " '[[-1  0 -1]\\n [-1  1 -1]\\n [ 1  1  0]]': array([0.00, 0.00, 0.00, 0.00, 0.00, 0.00, 0.00, 0.00, 1.00]),\n",
              " '[[-1  1 -1]\\n [ 0  1 -1]\\n [ 0  0  0]]': array([0.00, 0.00, 0.00, 0.00, 0.00, 0.00, 0.00, 1.00, 0.00]),\n",
              " '[[-1  1 -1]\\n [ 0  1 -1]\\n [ 0 -1  0]]': array([0.00, 0.00, 0.00, 0.00, 0.00, 0.00, 0.00, 0.00, 0.00]),\n",
              " '[[-1  1 -1]\\n [ 0  1 -1]\\n [ 0 -1  1]]': array([0.00, 0.00, 0.00, 0.00, 0.00, 0.00, 0.00, 0.00, 0.00]),\n",
              " '[[-1  1 -1]\\n [ 0  1 -1]\\n [ 1 -1  0]]': array([0.00, 0.00, 0.00, 0.00, 0.00, 0.00, 0.00, 0.00, 0.00]),\n",
              " '[[-1  1 -1]\\n [ 0  1 -1]\\n [-1  0  0]]': array([0.00, 0.00, 0.00, 0.00, 0.00, 0.00, 0.00, 1.00, 0.00]),\n",
              " '[[-1  1 -1]\\n [ 0  1 -1]\\n [-1  0  1]]': array([0.00, 0.00, 0.00, 0.00, 0.00, 0.00, 0.00, 1.00, 0.00]),\n",
              " '[[-1  1 -1]\\n [ 0  1 -1]\\n [-1 -1  1]]': array([0.00, 0.00, 0.00, 0.00, 0.00, 0.00, 0.00, 0.00, 0.00]),\n",
              " '[[-1  1 -1]\\n [ 1  1 -1]\\n [ 0 -1  0]]': array([0.00, 0.00, 0.00, 0.00, 0.00, 0.00, 0.00, 0.00, 0.00]),\n",
              " '[[-1  1 -1]\\n [ 1  1 -1]\\n [-1  0  0]]': array([0.00, 0.00, 0.00, 0.00, 0.00, 0.00, 0.00, 1.00, 0.00]),\n",
              " '[[-1  1 -1]\\n [-1  1 -1]\\n [ 0  0  0]]': array([0.00, 0.00, 0.00, 0.00, 0.00, 0.00, 0.00, 1.00, 0.00]),\n",
              " '[[-1  1 -1]\\n [-1  1 -1]\\n [ 0  0  1]]': array([0.00, 0.00, 0.00, 0.00, 0.00, 0.00, 0.00, 1.00, 0.00]),\n",
              " '[[-1  1 -1]\\n [-1  1 -1]\\n [ 0 -1  1]]': array([0.00, 0.00, 0.00, 0.00, 0.00, 0.00, 0.00, 0.00, 0.00]),\n",
              " '[[-1  1 -1]\\n [-1  1 -1]\\n [ 1  0  0]]': array([0.00, 0.00, 0.00, 0.00, 0.00, 0.00, 0.00, 1.00, 0.00])}"
            ]
          },
          "metadata": {},
          "execution_count": 801
        }
      ]
    },
    {
      "cell_type": "markdown",
      "metadata": {
        "id": "d8PJK7mKa4Yq"
      },
      "source": [
        "### Trained Q-values for Player O"
      ]
    },
    {
      "cell_type": "code",
      "metadata": {
        "colab": {
          "base_uri": "https://localhost:8080/"
        },
        "id": "7RyZifhaZ2MG",
        "outputId": "3aa09d34-89d9-44dd-9a86-ce2ec598254e"
      },
      "source": [
        "playerO.policy_trainer.Q"
      ],
      "execution_count": 802,
      "outputs": [
        {
          "output_type": "execute_result",
          "data": {
            "text/plain": [
              "{'[[ 0  0 -1]\\n [ 0  1 -1]\\n [ 0  0  0]]': array([0.00, 0.00, 0.00, 0.00, 0.00, 0.00, 0.00, 0.00, 1.00]),\n",
              " '[[ 0  0 -1]\\n [ 0  1 -1]\\n [ 0  0  1]]': array([0.90, 0.90, 0.00, 0.00, 0.00, 0.00, 0.00, 0.00, 0.00]),\n",
              " '[[ 0  0 -1]\\n [ 0  1 -1]\\n [ 0  1  0]]': array([0.90, 0.90, 0.00, 0.00, 0.00, 0.00, 0.90, 0.00, 1.00]),\n",
              " '[[ 0  0 -1]\\n [ 0  1 -1]\\n [ 0 -1  1]]': array([0.00, 0.00, 0.00, 0.00, 0.00, 0.00, 0.00, 0.00, 0.00]),\n",
              " '[[ 0  0 -1]\\n [ 0  1 -1]\\n [ 1  0  0]]': array([0.90, 0.00, 0.00, 0.00, 0.00, 0.00, 0.00, 0.00, 1.00]),\n",
              " '[[ 0  0 -1]\\n [ 0  1 -1]\\n [ 1 -1  0]]': array([0.00, 0.00, 0.00, 0.00, 0.00, 0.00, 0.00, 0.00, 0.00]),\n",
              " '[[ 0  0 -1]\\n [ 0  1 -1]\\n [ 1 -1  1]]': array([0.00, 0.00, 0.00, 0.00, 0.00, 0.00, 0.00, 0.00, 0.00]),\n",
              " '[[ 0  0 -1]\\n [ 0  1 -1]\\n [-1  0  1]]': array([0.00, 0.00, 0.00, 0.00, 0.00, 0.00, 0.00, 0.00, 0.00]),\n",
              " '[[ 0  0 -1]\\n [ 0  1 -1]\\n [-1  1  0]]': array([0.00, 0.00, 0.00, 0.00, 0.00, 0.00, 0.00, 0.00, 1.00]),\n",
              " '[[ 0  0 -1]\\n [ 0  1 -1]\\n [-1  1  1]]': array([0.90, 0.00, 0.00, 0.00, 0.00, 0.00, 0.00, 0.00, 0.00]),\n",
              " '[[ 0  0 -1]\\n [ 1  1 -1]\\n [ 0  0  0]]': array([0.90, 0.90, 0.00, 0.00, 0.00, 0.00, 0.90, 0.00, 1.00]),\n",
              " '[[ 0  0 -1]\\n [ 1  1 -1]\\n [ 0 -1  1]]': array([0.90, 0.00, 0.00, 0.00, 0.00, 0.00, 0.00, 0.00, 0.00]),\n",
              " '[[ 0  0 -1]\\n [ 1  1 -1]\\n [ 1 -1  0]]': array([0.00, 0.00, 0.00, 0.00, 0.00, 0.00, 0.00, 0.00, 1.00]),\n",
              " '[[ 0  0 -1]\\n [ 1  1 -1]\\n [-1  0  0]]': array([0.00, 0.00, 0.00, 0.00, 0.00, 0.00, 0.00, 0.00, 1.00]),\n",
              " '[[ 0  0 -1]\\n [ 1  1 -1]\\n [-1  0  1]]': array([0.00, 0.90, 0.00, 0.00, 0.00, 0.00, 0.00, 0.00, 0.00]),\n",
              " '[[ 0  0 -1]\\n [ 1  1 -1]\\n [-1  1  0]]': array([0.00, 0.00, 0.00, 0.00, 0.00, 0.00, 0.00, 0.00, 1.00]),\n",
              " '[[ 0  0 -1]\\n [-1  1 -1]\\n [ 0  0  1]]': array([0.00, 0.00, 0.00, 0.00, 0.00, 0.00, 0.00, 0.00, 0.00]),\n",
              " '[[ 0  0 -1]\\n [-1  1 -1]\\n [ 0  1  1]]': array([0.00, 0.00, 0.00, 0.00, 0.00, 0.00, 0.00, 0.00, 0.00]),\n",
              " '[[ 0  0 -1]\\n [-1  1 -1]\\n [ 1  0  0]]': array([0.00, 0.00, 0.00, 0.00, 0.00, 0.00, 0.00, 0.00, 0.00]),\n",
              " '[[ 0  0 -1]\\n [-1  1 -1]\\n [ 1  0  1]]': array([0.00, 0.90, 0.00, 0.00, 0.00, 0.00, 0.00, 0.00, 0.00]),\n",
              " '[[ 0  0 -1]\\n [-1  1 -1]\\n [ 1  1  0]]': array([0.00, 0.90, 0.00, 0.00, 0.00, 0.00, 0.00, 0.00, 1.00]),\n",
              " '[[ 0  0 -1]\\n [-1  1 -1]\\n [ 1 -1  1]]': array([0.00, 0.00, 0.00, 0.00, 0.00, 0.00, 0.00, 0.00, 0.00]),\n",
              " '[[ 0  1 -1]\\n [ 0  1 -1]\\n [ 0  0  0]]': array([0.90, 0.00, 0.00, 0.90, 0.00, 0.00, 0.00, 0.00, 1.00]),\n",
              " '[[ 0  1 -1]\\n [ 0  1 -1]\\n [ 0 -1  0]]': array([0.00, 0.00, 0.00, 0.00, 0.00, 0.00, 0.00, 0.00, 0.00]),\n",
              " '[[ 0  1 -1]\\n [ 0  1 -1]\\n [ 0 -1  1]]': array([0.00, 0.00, 0.00, 0.00, 0.00, 0.00, 0.00, 0.00, 0.00]),\n",
              " '[[ 0  1 -1]\\n [ 0  1 -1]\\n [ 1 -1  0]]': array([0.00, 0.00, 0.00, 0.00, 0.00, 0.00, 0.00, 0.00, 1.00]),\n",
              " '[[ 0  1 -1]\\n [ 0  1 -1]\\n [-1  0  1]]': array([0.00, 0.00, 0.00, 0.00, 0.00, 0.00, 0.00, 0.00, 0.00]),\n",
              " '[[ 0  1 -1]\\n [ 1  1 -1]\\n [ 0 -1  0]]': array([0.90, 0.00, 0.00, 0.00, 0.00, 0.00, 0.00, 0.00, 1.00]),\n",
              " '[[ 0  1 -1]\\n [ 1  1 -1]\\n [-1  0  0]]': array([0.00, 0.00, 0.00, 0.00, 0.00, 0.00, 0.00, 0.00, 1.00]),\n",
              " '[[ 0  1 -1]\\n [ 1  1 -1]\\n [-1 -1  1]]': array([0.00, 0.00, 0.00, 0.00, 0.00, 0.00, 0.00, 0.00, 0.00]),\n",
              " '[[ 0  1 -1]\\n [-1  1 -1]\\n [ 0  0  0]]': array([0.00, 0.00, 0.00, 0.00, 0.00, 0.00, 0.00, 0.00, 1.00]),\n",
              " '[[ 0  1 -1]\\n [-1  1 -1]\\n [ 0  0  1]]': array([0.00, 0.00, 0.00, 0.00, 0.00, 0.00, 0.00, 0.00, 0.00]),\n",
              " '[[ 0  1 -1]\\n [-1  1 -1]\\n [ 0 -1  1]]': array([0.00, 0.00, 0.00, 0.00, 0.00, 0.00, 0.00, 0.00, 0.00]),\n",
              " '[[ 0  1 -1]\\n [-1  1 -1]\\n [ 1  0  0]]': array([0.90, 0.00, 0.00, 0.00, 0.00, 0.00, 0.00, 0.90, 1.00]),\n",
              " '[[ 0  1 -1]\\n [-1  1 -1]\\n [ 1 -1  0]]': array([0.00, 0.00, 0.00, 0.00, 0.00, 0.00, 0.00, 0.00, 1.00]),\n",
              " '[[ 0  1 -1]\\n [-1  1 -1]\\n [ 1 -1  1]]': array([0.00, 0.00, 0.00, 0.00, 0.00, 0.00, 0.00, 0.00, 0.00]),\n",
              " '[[ 0 -1 -1]\\n [ 0  1 -1]\\n [ 0  0  1]]': array([1.00, 0.00, 0.00, 0.00, 0.00, 0.00, 0.00, 0.00, 0.00]),\n",
              " '[[ 0 -1 -1]\\n [ 0  1 -1]\\n [ 0  1  0]]': array([0.00, 0.00, 0.00, 0.00, 0.00, 0.00, 0.00, 0.00, 1.00]),\n",
              " '[[ 0 -1 -1]\\n [ 0  1 -1]\\n [ 0  1  1]]': array([1.00, 0.00, 0.00, 0.00, 0.00, 0.00, 0.00, 0.00, 0.00]),\n",
              " '[[ 0 -1 -1]\\n [ 0  1 -1]\\n [ 1  0  1]]': array([1.00, 0.00, 0.00, 0.90, 0.00, 0.00, 0.00, 0.00, 0.00]),\n",
              " '[[ 0 -1 -1]\\n [ 0  1 -1]\\n [ 1  1  0]]': array([1.00, 0.00, 0.00, 0.90, 0.00, 0.00, 0.00, 0.00, 0.00]),\n",
              " '[[ 0 -1 -1]\\n [ 0  1 -1]\\n [ 1 -1  1]]': array([0.00, 0.00, 0.00, 0.00, 0.00, 0.00, 0.00, 0.00, 0.00]),\n",
              " '[[ 0 -1 -1]\\n [ 1  1 -1]\\n [ 0  0  0]]': array([0.00, 0.00, 0.00, 0.00, 0.00, 0.00, 0.00, 0.00, 1.00]),\n",
              " '[[ 0 -1 -1]\\n [ 1  1 -1]\\n [ 0  0  1]]': array([1.00, 0.00, 0.00, 0.00, 0.00, 0.00, 0.00, 0.90, 0.00]),\n",
              " '[[ 0 -1 -1]\\n [ 1  1 -1]\\n [ 0  1  0]]': array([0.00, 0.00, 0.00, 0.00, 0.00, 0.00, 0.00, 0.00, 1.00]),\n",
              " '[[ 0 -1 -1]\\n [ 1  1 -1]\\n [ 0 -1  1]]': array([1.00, 0.00, 0.00, 0.00, 0.00, 0.00, 0.00, 0.00, 0.00]),\n",
              " '[[ 0 -1 -1]\\n [ 1  1 -1]\\n [ 1  0  0]]': array([1.00, 0.00, 0.00, 0.00, 0.00, 0.00, 0.00, 0.00, 0.00]),\n",
              " '[[ 0 -1 -1]\\n [ 1  1 -1]\\n [ 1 -1  1]]': array([1.00, 0.00, 0.00, 0.00, 0.00, 0.00, 0.00, 0.00, 0.00]),\n",
              " '[[ 0 -1 -1]\\n [ 1  1 -1]\\n [-1  0  1]]': array([1.00, 0.00, 0.00, 0.00, 0.00, 0.00, 0.00, 0.00, 0.00]),\n",
              " '[[ 0 -1 -1]\\n [ 1  1 -1]\\n [-1  1  1]]': array([1.00, 0.00, 0.00, 0.00, 0.00, 0.00, 0.00, 0.00, 0.00]),\n",
              " '[[ 0 -1 -1]\\n [-1  1 -1]\\n [ 1  0  1]]': array([1.00, 0.00, 0.00, 0.00, 0.00, 0.00, 0.00, 0.00, 0.00]),\n",
              " '[[ 0 -1 -1]\\n [-1  1 -1]\\n [ 1  1  0]]': array([1.00, 0.00, 0.00, 0.00, 0.00, 0.00, 0.00, 0.00, 0.00]),\n",
              " '[[ 1  0 -1]\\n [ 0  1 -1]\\n [ 0  0  0]]': array([0.00, 0.00, 0.00, 0.90, 0.00, 0.00, 0.90, 0.00, 1.00]),\n",
              " '[[ 1  0 -1]\\n [ 0  1 -1]\\n [ 0 -1  0]]': array([0.00, 0.00, 0.00, 0.00, 0.00, 0.00, 0.00, 0.00, 0.00]),\n",
              " '[[ 1  0 -1]\\n [ 0  1 -1]\\n [ 1 -1  0]]': array([0.00, 0.90, 0.00, 0.00, 0.00, 0.00, 0.00, 0.00, 0.00]),\n",
              " '[[ 1  0 -1]\\n [ 0  1 -1]\\n [-1  0  0]]': array([0.00, 0.00, 0.00, 0.00, 0.00, 0.00, 0.00, 0.00, 1.00]),\n",
              " '[[ 1  0 -1]\\n [ 0  1 -1]\\n [-1  1  0]]': array([0.00, 0.00, 0.00, 0.00, 0.00, 0.00, 0.00, 0.00, 0.00]),\n",
              " '[[ 1  0 -1]\\n [ 1  1 -1]\\n [ 0 -1  0]]': array([0.00, 0.00, 0.00, 0.00, 0.00, 0.00, 0.00, 0.00, 1.00]),\n",
              " '[[ 1  0 -1]\\n [ 1  1 -1]\\n [-1  0  0]]': array([0.00, 0.00, 0.00, 0.00, 0.00, 0.00, 0.00, 0.00, 1.00]),\n",
              " '[[ 1  0 -1]\\n [ 1  1 -1]\\n [-1 -1  0]]': array([0.00, 0.00, 0.00, 0.00, 0.00, 0.00, 0.00, 0.00, 1.00]),\n",
              " '[[ 1  0 -1]\\n [-1  1 -1]\\n [ 0  0  0]]': array([0.00, 0.00, 0.00, 0.00, 0.00, 0.00, 0.00, 0.00, 1.00]),\n",
              " '[[ 1  0 -1]\\n [-1  1 -1]\\n [ 0  1  0]]': array([0.00, 0.00, 0.00, 0.00, 0.00, 0.00, 0.00, 0.00, 1.00]),\n",
              " '[[ 1  0 -1]\\n [-1  1 -1]\\n [ 1  0  0]]': array([0.00, 0.00, 0.00, 0.00, 0.00, 0.00, 0.00, 0.00, 1.00]),\n",
              " '[[ 1  0 -1]\\n [-1  1 -1]\\n [ 1 -1  0]]': array([0.00, 0.00, 0.00, 0.00, 0.00, 0.00, 0.00, 0.00, 0.00]),\n",
              " '[[ 1  1 -1]\\n [ 0  1 -1]\\n [ 0 -1  0]]': array([0.00, 0.00, 0.00, 0.00, 0.00, 0.00, 0.00, 0.00, 1.00]),\n",
              " '[[ 1  1 -1]\\n [ 0  1 -1]\\n [-1  0  0]]': array([0.00, 0.00, 0.00, 0.00, 0.00, 0.00, 0.00, 0.00, 1.00]),\n",
              " '[[ 1  1 -1]\\n [ 1  1 -1]\\n [-1 -1  0]]': array([0.00, 0.00, 0.00, 0.00, 0.00, 0.00, 0.00, 0.00, 1.00]),\n",
              " '[[ 1  1 -1]\\n [-1  1 -1]\\n [ 0  0  0]]': array([0.00, 0.00, 0.00, 0.00, 0.00, 0.00, 0.00, 0.00, 0.00]),\n",
              " '[[ 1  1 -1]\\n [-1  1 -1]\\n [ 1 -1  0]]': array([0.00, 0.00, 0.00, 0.00, 0.00, 0.00, 0.00, 0.00, 1.00]),\n",
              " '[[ 1 -1 -1]\\n [ 0  1 -1]\\n [ 0  1  0]]': array([0.00, 0.00, 0.00, 0.00, 0.00, 0.00, 0.00, 0.00, 1.00]),\n",
              " '[[ 1 -1 -1]\\n [ 0  1 -1]\\n [ 1  0  0]]': array([0.00, 0.00, 0.00, 0.00, 0.00, 0.00, 0.00, 0.00, 1.00]),\n",
              " '[[ 1 -1 -1]\\n [ 0  1 -1]\\n [ 1 -1  0]]': array([0.00, 0.00, 0.00, 0.00, 0.00, 0.00, 0.00, 0.00, 1.00]),\n",
              " '[[ 1 -1 -1]\\n [ 1  1 -1]\\n [ 0  0  0]]': array([0.00, 0.00, 0.00, 0.00, 0.00, 0.00, 0.00, 0.00, 1.00]),\n",
              " '[[ 1 -1 -1]\\n [ 1  1 -1]\\n [-1  1  0]]': array([0.00, 0.00, 0.00, 0.00, 0.00, 0.00, 0.00, 0.00, 1.00]),\n",
              " '[[ 1 -1 -1]\\n [-1  1 -1]\\n [ 1  0  0]]': array([0.00, 0.00, 0.00, 0.00, 0.00, 0.00, 0.00, 0.00, 1.00]),\n",
              " '[[ 1 -1 -1]\\n [-1  1 -1]\\n [ 1  1  0]]': array([0.00, 0.00, 0.00, 0.00, 0.00, 0.00, 0.00, 0.00, 1.00]),\n",
              " '[[-1  0 -1]\\n [ 0  1 -1]\\n [ 0  0  1]]': array([0.00, 1.00, 0.00, 0.00, 0.00, 0.00, 0.00, 0.00, 0.00]),\n",
              " '[[-1  0 -1]\\n [ 0  1 -1]\\n [ 0  1  0]]': array([0.00, 0.00, 0.00, 0.00, 0.00, 0.00, 0.00, 0.00, 1.00]),\n",
              " '[[-1  0 -1]\\n [ 0  1 -1]\\n [ 0  1  1]]': array([0.00, 1.00, 0.00, 0.90, 0.00, 0.00, 0.90, 0.00, 0.00]),\n",
              " '[[-1  0 -1]\\n [ 0  1 -1]\\n [ 1  0  0]]': array([0.00, 0.00, 0.00, 0.00, 0.00, 0.00, 0.00, 0.00, 1.00]),\n",
              " '[[-1  0 -1]\\n [ 0  1 -1]\\n [ 1  0  1]]': array([0.00, 1.00, 0.00, 0.00, 0.00, 0.00, 0.00, 0.90, 0.00]),\n",
              " '[[-1  0 -1]\\n [ 0  1 -1]\\n [ 1  1  0]]': array([0.00, 1.00, 0.00, 0.00, 0.00, 0.00, 0.00, 0.00, 0.00]),\n",
              " '[[-1  0 -1]\\n [ 0  1 -1]\\n [ 1 -1  1]]': array([0.00, 1.00, 0.00, 0.00, 0.00, 0.00, 0.00, 0.00, 0.00]),\n",
              " '[[-1  0 -1]\\n [ 0  1 -1]\\n [-1  1  1]]': array([0.00, 1.00, 0.00, 0.00, 0.00, 0.00, 0.00, 0.00, 0.00]),\n",
              " '[[-1  0 -1]\\n [ 1  1 -1]\\n [ 0  0  0]]': array([0.00, 0.00, 0.00, 0.00, 0.00, 0.00, 0.00, 0.00, 1.00]),\n",
              " '[[-1  0 -1]\\n [ 1  1 -1]\\n [ 0  0  1]]': array([0.00, 1.00, 0.00, 0.00, 0.00, 0.00, 0.00, 0.90, 0.00]),\n",
              " '[[-1  0 -1]\\n [ 1  1 -1]\\n [ 0  1  0]]': array([0.00, 0.00, 0.00, 0.00, 0.00, 0.00, 0.00, 0.00, 1.00]),\n",
              " '[[-1  0 -1]\\n [ 1  1 -1]\\n [ 0 -1  1]]': array([0.00, 1.00, 0.00, 0.00, 0.00, 0.00, 0.00, 0.00, 0.00]),\n",
              " '[[-1  0 -1]\\n [ 1  1 -1]\\n [ 1  0  0]]': array([0.00, 1.00, 0.00, 0.00, 0.00, 0.00, 0.00, 0.00, 0.00]),\n",
              " '[[-1  0 -1]\\n [ 1  1 -1]\\n [ 1 -1  1]]': array([0.00, 1.00, 0.00, 0.00, 0.00, 0.00, 0.00, 0.00, 0.00]),\n",
              " '[[-1  0 -1]\\n [ 1  1 -1]\\n [-1  1  1]]': array([0.00, 1.00, 0.00, 0.00, 0.00, 0.00, 0.00, 0.00, 0.00]),\n",
              " '[[-1  0 -1]\\n [-1  1 -1]\\n [ 0  1  1]]': array([0.00, 0.00, 0.00, 0.00, 0.00, 0.00, 1.00, 0.00, 0.00]),\n",
              " '[[-1  1 -1]\\n [ 0  1 -1]\\n [ 0  0  0]]': array([0.00, 0.00, 0.00, 0.00, 0.00, 0.00, 0.00, 0.00, 1.00]),\n",
              " '[[-1  1 -1]\\n [ 0  1 -1]\\n [ 0  0  1]]': array([0.00, 0.00, 0.00, 0.00, 0.00, 0.00, 0.00, 0.00, 0.00]),\n",
              " '[[-1  1 -1]\\n [ 0  1 -1]\\n [ 0 -1  1]]': array([0.00, 0.00, 0.00, 0.00, 0.00, 0.00, 0.00, 0.00, 0.00]),\n",
              " '[[-1  1 -1]\\n [ 0  1 -1]\\n [ 1  0  0]]': array([0.00, 0.00, 0.00, 0.00, 0.00, 0.00, 0.00, 0.00, 1.00]),\n",
              " '[[-1  1 -1]\\n [ 0  1 -1]\\n [ 1 -1  0]]': array([0.00, 0.00, 0.00, 0.00, 0.00, 0.00, 0.00, 0.00, 1.00]),\n",
              " '[[-1  1 -1]\\n [ 0  1 -1]\\n [ 1 -1  1]]': array([0.00, 0.00, 0.00, 0.00, 0.00, 0.00, 0.00, 0.00, 0.00]),\n",
              " '[[-1  1 -1]\\n [ 1  1 -1]\\n [ 0  0  0]]': array([0.00, 0.00, 0.00, 0.00, 0.00, 0.00, 0.00, 0.90, 1.00]),\n",
              " '[[-1  1 -1]\\n [ 1  1 -1]\\n [ 0 -1  0]]': array([0.00, 0.00, 0.00, 0.00, 0.00, 0.00, 0.00, 0.00, 1.00]),\n",
              " '[[-1  1 -1]\\n [ 1  1 -1]\\n [ 0 -1  1]]': array([0.00, 0.00, 0.00, 0.00, 0.00, 0.00, 0.00, 0.00, 0.00]),\n",
              " '[[-1  1 -1]\\n [ 1  1 -1]\\n [ 1 -1  0]]': array([0.00, 0.00, 0.00, 0.00, 0.00, 0.00, 0.00, 0.00, 1.00]),\n",
              " '[[-1  1 -1]\\n [ 1  1 -1]\\n [-1  0  1]]': array([0.00, 0.00, 0.00, 0.00, 0.00, 0.00, 0.00, 0.00, 0.00]),\n",
              " '[[-1  1 -1]\\n [-1  1 -1]\\n [ 0  0  1]]': array([0.00, 0.00, 0.00, 0.00, 0.00, 0.00, 0.00, 0.00, 0.00]),\n",
              " '[[-1  1 -1]\\n [-1  1 -1]\\n [ 1  0  0]]': array([0.00, 0.00, 0.00, 0.00, 0.00, 0.00, 0.00, 0.00, 1.00]),\n",
              " '[[-1  1 -1]\\n [-1  1 -1]\\n [ 1  0  1]]': array([0.00, 0.00, 0.00, 0.00, 0.00, 0.00, 0.00, 0.00, 0.00])}"
            ]
          },
          "metadata": {},
          "execution_count": 802
        }
      ]
    },
    {
      "cell_type": "markdown",
      "metadata": {
        "id": "TrH2yc8nbAI-"
      },
      "source": [
        "# Testing Section\n",
        "Test the functions "
      ]
    },
    {
      "cell_type": "code",
      "metadata": {
        "colab": {
          "base_uri": "https://localhost:8080/"
        },
        "id": "uTUzmJs-09_u",
        "outputId": "2766d3d7-cdd5-4398-9bc2-50e2a34f2ba7"
      },
      "source": [
        "board=Board()\n",
        "print(board.checkWinner())\n",
        "\n",
        "board.state = np.array(((-1,-1,-1), (0,0,0), (0,0,0)))\n",
        "print(board.checkWinner())\n",
        "print(board.getStateHash())\n",
        "pos = board.getAvailablePos()\n",
        "print(\"getAvailablePos\\n\", pos)\n",
        "print(\"checkGameEnded\\n\", board.checkGameEnded())\n",
        "\n",
        "\n",
        "list1 = board.getAvailablePos()\n",
        "print(\"shape\\n\",list1.shape[0])\n",
        "ch1= np.random.choice(list1.shape[0])\n",
        "print(\"random.choice\\n\",ch1)\n",
        "print(\"random action\\n\", list1[ch1])\n",
        "\n",
        "board.state = np.array(((-1,0,0), (0,1,0), (0,0,-1)))\n",
        "print(board.getStateHash())\n",
        "\n",
        "board.state = np.array(((-1,1,1), (1,1,1), (1,-1,-1)))\n",
        "print(board.checkGameEnded())\n",
        "\n",
        "\n",
        "\n"
      ],
      "execution_count": 803,
      "outputs": [
        {
          "output_type": "stream",
          "name": "stdout",
          "text": [
            "0\n",
            "-1\n",
            "[[-1 -1 -1]\n",
            " [ 0  0  0]\n",
            " [ 0  0  0]]\n",
            "getAvailablePos\n",
            " [[1 0]\n",
            " [1 1]\n",
            " [1 2]\n",
            " [2 0]\n",
            " [2 1]\n",
            " [2 2]]\n",
            "checkGameEnded\n",
            " True\n",
            "shape\n",
            " 6\n",
            "random.choice\n",
            " 0\n",
            "random action\n",
            " [1 0]\n",
            "[[-1  0  0]\n",
            " [ 0  1  0]\n",
            " [ 0  0 -1]]\n",
            "True\n"
          ]
        }
      ]
    }
  ]
}