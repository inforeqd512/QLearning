{
  "nbformat": 4,
  "nbformat_minor": 0,
  "metadata": {
    "colab": {
      "name": "Tribe_Q_learning_v3.ipynb",
      "provenance": [],
      "collapsed_sections": [],
      "authorship_tag": "ABX9TyNxnXaNENiQIBZN5VjsHCt8"
    },
    "kernelspec": {
      "name": "python3",
      "display_name": "Python 3"
    },
    "language_info": {
      "name": "python"
    }
  },
  "cells": [
    {
      "cell_type": "code",
      "metadata": {
        "colab": {
          "base_uri": "https://localhost:8080/"
        },
        "id": "5DHq0Rw2OzGf",
        "outputId": "95f23549-d5b3-4549-b86f-0a0287f7b125"
      },
      "source": [
        "#import libraries\n",
        "import numpy as np\n",
        "import math\n",
        "import copy #for deepcopy()\n",
        "from enum import Enum\n",
        "!python -V"
      ],
      "execution_count": null,
      "outputs": [
        {
          "output_type": "stream",
          "text": [
            "Python 3.7.11\n"
          ],
          "name": "stdout"
        }
      ]
    },
    {
      "cell_type": "code",
      "metadata": {
        "id": "4dBv7bXpaFcm"
      },
      "source": [
        "class Business_Rules:\n",
        "\n",
        "  def __init__(self):\n",
        "    self.target_dr_per_lead = 5\n",
        "    self.actions = ['reassign', 'promote_dr', 'hire']\n",
        "    self.ceil_total_leaders_leading = 10\n",
        "    self.ceil_total_people_in_grade = 50\n",
        "    self.grades = [\"3\", \"4.1\", \"4.2\", \"4.3\", \"4.4\", \"5.1\", \"5.2\", \"MS\"]\n"
      ],
      "execution_count": null,
      "outputs": []
    },
    {
      "cell_type": "code",
      "metadata": {
        "id": "u_gUzPu1WAyq"
      },
      "source": [
        "class Chapter_Stats:\n",
        "  def __init__(self, chapter, total_leaders_leading, people_gradewise = {\"3\":0, \"4.1\":0, \"4.2\":0, \"4.3\":0, \"4.4\":0, \"5.1\":0, \"5.2\":0, \"MS\":0}):\n",
        "    self.chapter=chapter\n",
        "    self.total_leaders_leading=total_leaders_leading\n",
        "    self.people_gradewise=people_gradewise\n",
        "\n",
        "    total_people=0\n",
        "    total_leader_grades=0\n",
        "    for grade in people_gradewise:\n",
        "      total_people = total_people + people_gradewise[grade]\n",
        "      if grade in [\"3\", \"4.1\", \"4.2\", \"4.3\"]:\n",
        "        total_leader_grades = total_leader_grades + people_gradewise[grade]\n",
        "    \n",
        "    self.total_DRs = total_people - total_leaders_leading\n",
        "    self.total_leader_grades = total_leader_grades\n",
        "\n",
        "  def print_info(self):\n",
        "    print(\"Chapter_Stats\")\n",
        "    print(self.chapter, self.total_leaders_leading, self.total_DRs, self.people_gradewise, self.total_leader_grades)"
      ],
      "execution_count": null,
      "outputs": []
    },
    {
      "cell_type": "code",
      "metadata": {
        "id": "9g7aorf3bG6_"
      },
      "source": [
        "class Chapter_Stats_v2:\n",
        "  def __init__(self, chapter, \n",
        "               grade_hierarchy = [\"3\", \"4.1\", \"4.2\", \"4.3\", \"4.4\", \"5.1\", \"5.2\", \"MS\"], \n",
        "               allocated_leaders = {\"3\":0, \"4.1\":0, \"4.2\":0},\n",
        "               people_gradewise = {\"3\":0, \"4.1\":0, \"4.2\":0, \"4.3\":0, \"4.4\":0, \"5.1\":0, \"5.2\":0, \"MS\":0}):\n",
        "    self.chapter = chapter\n",
        "    self.grade_hierarchy = grade_hierarchy\n",
        "    self.allocated_leaders = allocated_leaders\n",
        "    self.people_gradewise = people_gradewise\n",
        "\n",
        "  def total_people_in_grade(self, grade):\n",
        "    return self.people_gradewise[grade]\n",
        "\n",
        "  def unallocated_leaders(self, grade):\n",
        "    if grade in self.people_gradewise:\n",
        "      total_leaders = self.people_gradewise[grade] \n",
        "      num_allocated_leaders = self.num_leads(grade)\n",
        "      num_unallocated_leaders = total_leaders - num_allocated_leaders\n",
        "      return num_unallocated_leaders\n",
        "    else:\n",
        "      return 0\n",
        "\n",
        "  def leads_uptill_grade(self, grade):\n",
        "    num_leads_uptill_grade = 0 \n",
        "    for perm_grade in self.grade_hierarchy:\n",
        "      num_leads_uptill_grade += self.num_leads(perm_grade)\n",
        "      if perm_grade == grade:\n",
        "        break\n",
        "\n",
        "    return num_leads_uptill_grade\n",
        "\n",
        "  def num_leads(self, grade):\n",
        "    if grade in self.allocated_leaders:\n",
        "      return self.allocated_leaders[grade]\n",
        "    else:\n",
        "      return 0\n",
        "\n",
        "  def list_drs(self, grade):\n",
        "    all_lower_perm_grades = []\n",
        "\n",
        "    start = False\n",
        "    for perm_grade in self.grade_hierarchy:\n",
        "      if start == True: #put this in start of loop so that the grade being searched is skipped\n",
        "        all_lower_perm_grades.append(perm_grade)\n",
        "\n",
        "      if perm_grade == grade:\n",
        "        start = True\n",
        "\n",
        "    return all_lower_perm_grades\n",
        "\n",
        "  def num_drs(self, grade):\n",
        "    num_people = 0\n",
        "    for dr in self.list_drs(grade):\n",
        "      num_people += self.total_people_in_grade(dr)\n",
        "    return num_people\n",
        "\n",
        "  def assign_lead(self, grade):\n",
        "    if unallocated_leaders(grade) > 0:\n",
        "      if grade in self.allocated_leaders:\n",
        "        num_allocated_leaders = self.allocated_leaders[grade]\n",
        "        num_allocated_leaders += 1\n",
        "        self.allocated_leaders[grade] = num_allocated_leaders\n",
        "\n",
        "  def dr_per_lead(self, grade):\n",
        "    total_dr_per_lead = 0\n",
        "    num_drs = self.num_drs(grade)\n",
        "    num_leads_uptill_grade = self.leads_uptill_grade(grade)\n",
        "    num_people_in_grade = self.total_people_in_grade(grade)\n",
        "    if self.grade_hierarchy[0]:\n",
        "      highest_grade_with_no_boss = self.grade_hierarchy[0]\n",
        "\n",
        "    if num_leads_uptill_grade == 0:\n",
        "      return total_dr_per_lead\n",
        "\n",
        "    for perm_grade in self.grade_hierarchy:\n",
        "\n",
        "      if self.total_people_in_grade(perm_grade) == 0:\n",
        "        print(\"self.total_people_in_grade(perm_grade) == 0\", total_dr_per_lead)\n",
        "        break\n",
        "      \n",
        "      if self.num_leads(perm_grade) == 0:\n",
        "        print(\"self.num_leads(perm_grade) == 0\", total_dr_per_lead)\n",
        "        break\n",
        "\n",
        "      if perm_grade == grade: \n",
        "        dr_per_lead_for_grade = num_drs / num_leads_uptill_grade\n",
        "        total_dr_per_lead += dr_per_lead_for_grade\n",
        "        print(\"grade == : \", perm_grade, \" : \", dr_per_lead_for_grade, \"total : \",total_dr_per_lead)\n",
        "        dr_per_lead_for_grade_people_led_by_higher_grades = num_people_in_grade / num_leads_uptill_grade\n",
        "        total_dr_per_lead += dr_per_lead_for_grade_people_led_by_higher_grades\n",
        "        print(\"grade == : \", perm_grade, \" : \", dr_per_lead_for_grade_people_led_by_higher_grades, \"total : \",total_dr_per_lead)\n",
        "        break #stop when the perm grade is same as the grade\n",
        "      \n",
        "      if perm_grade == highest_grade_with_no_boss:\n",
        "        #ignore\n",
        "        pass\n",
        "      else:\n",
        "        num_total_people_in_grade = self.total_people_in_grade(perm_grade)\n",
        "        dr_per_lead_for_grade = num_total_people_in_grade / num_leads_uptill_grade\n",
        "        total_dr_per_lead += dr_per_lead_for_grade\n",
        "        print(perm_grade, \":\", dr_per_lead_for_grade, \"total\",total_dr_per_lead)\n",
        "\n",
        "    return total_dr_per_lead\n"
      ],
      "execution_count": null,
      "outputs": []
    },
    {
      "cell_type": "code",
      "metadata": {
        "id": "H72btjuHP-tB"
      },
      "source": [
        "class State:\n",
        "\n",
        "    def __init__(self, chapter_stats, business_rules):\n",
        "      self.total_leaders_leading=chapter_stats.total_leaders_leading\n",
        "      print(chapter_stats.total_DRs / chapter_stats.total_leaders_leading)\n",
        "      self.drs_per_lead = math.ceil(chapter_stats.total_DRs / chapter_stats.total_leaders_leading)\n",
        "      self.total_leader_grades_unutilised = chapter_stats.total_leader_grades - chapter_stats.total_leaders_leading\n",
        "      self.target_dr_per_lead = business_rules.target_dr_per_lead\n",
        "      self.dr_per_lead_gt_target_and_leaders_unutilised = (self.drs_per_lead > self.target_dr_per_lead) and (self.total_leader_grades_unutilised > 0)\n",
        "\n",
        "    def print_info(self):\n",
        "      print(\"\\n\\ntotal_leaders_leading\", self.total_leaders_leading, \\\n",
        "            \"\\ndrs_per_lead\", self.drs_per_lead, \\\n",
        "            \"\\ntotal_leader_grades_unutilised\", self.total_leader_grades_unutilised, \\\n",
        "            \"\\ntarget_dr_per_lead\", self.target_dr_per_lead, \\\n",
        "            \"\\ndr_per_lead_gt_target_and_leaders_unutilised\", self.dr_per_lead_gt_target_and_leaders_unutilised)\n",
        "\n",
        "    def state_hash(self):\n",
        "      hash_value = hash((self.total_leaders_leading, self.drs_per_lead, self.total_leader_grades_unutilised, self.target_dr_per_lead, self.dr_per_lead_gt_target_and_leaders_unutilised))\n",
        "      return hash_value\n",
        "\n",
        "    def state_copy(self):\n",
        "      new_state = copy.deepcopy(self)\n",
        "      return new_state"
      ],
      "execution_count": null,
      "outputs": []
    },
    {
      "cell_type": "code",
      "metadata": {
        "id": "0NzXPhOcvN8n"
      },
      "source": [
        "class ActionList:\n",
        "\n",
        "    def __init__(self, action_strings):\n",
        "      self.actions=[]\n",
        "      self.list_action_hash=[]\n",
        "      for action in action_strings:\n",
        "        ac = Action(action)\n",
        "        self.actions.append(ac)\n",
        "        self.list_action_hash.append(ac.action_hash)"
      ],
      "execution_count": null,
      "outputs": []
    },
    {
      "cell_type": "code",
      "metadata": {
        "id": "y-tQV_rctA8G"
      },
      "source": [
        "class Action:\n",
        "\n",
        "  def __init__(self, action_string):\n",
        "    self.action = action_string\n",
        "    self.action_hash = hash(action_string)\n",
        "    return\n",
        "\n",
        "  def perform_action(self, state):\n",
        "    if self.action == \"reassign\":\n",
        "      return Reassign.run(state)\n",
        "    elif self.action == \"promote_dr\":\n",
        "      return Promote_DR.run(state)\n",
        "    elif self.action == \"hire\":\n",
        "      return Hire.run(state)\n",
        "\n",
        "  def print_info(self):\n",
        "    print(self.action, self.action_hash)"
      ],
      "execution_count": null,
      "outputs": []
    },
    {
      "cell_type": "code",
      "metadata": {
        "id": "9koOfG8U07-m"
      },
      "source": [
        "class Reassign:\n",
        "\n",
        "  def __init__(self):\n",
        "    #do nothing now\n",
        "    return\n",
        "\n",
        "  @classmethod\n",
        "  def run(self, state):\n",
        "    new_state = self.reassigned_leader(state)\n",
        "    return new_state\n",
        "\n",
        "  @classmethod\n",
        "  def reassigned_leader(self, state):\n",
        "    if state.dr_per_lead_gt_target_and_leaders_unutilised:\n",
        "      new_state = state.state_copy()\n",
        "      total_drs = state.total_leaders_leading * state.drs_per_lead\n",
        "      new_state.total_leaders_leading += 1\n",
        "      new_state.total_leader_grades_unutilised -= 1\n",
        "      total_drs -= 1\n",
        "      new_state.drs_per_lead = total_drs / new_state.total_leaders_leading\n",
        "      new_state.dr_per_lead_gt_target_and_leaders_unutilised = (new_state.drs_per_lead > new_state.target_dr_per_lead) and (new_state.total_leader_grades_unutilised > 0)\n",
        "      return new_state\n",
        "    else:\n",
        "      return state"
      ],
      "execution_count": null,
      "outputs": []
    },
    {
      "cell_type": "code",
      "metadata": {
        "id": "pVGxtpS7f3lV"
      },
      "source": [
        "class Promote_DR:\n",
        "  def __init__(self):\n",
        "    return\n",
        "\n",
        "  @classmethod\n",
        "  def run(self, state):\n",
        "    new_state = state #do nothing for now so return the same state\n",
        "    return new_state"
      ],
      "execution_count": null,
      "outputs": []
    },
    {
      "cell_type": "code",
      "metadata": {
        "id": "0rq4iR42gXTa"
      },
      "source": [
        "class Hire:\n",
        "  def __init__(self):\n",
        "    return\n",
        "\n",
        "  @classmethod\n",
        "  def run(self, state):\n",
        "    new_state = state #do nothing for now so return the same state\n",
        "    return new_state"
      ],
      "execution_count": null,
      "outputs": []
    },
    {
      "cell_type": "code",
      "metadata": {
        "id": "15a8CaR7alQe"
      },
      "source": [
        "class Q_table:\n",
        "  \"\"\"\n",
        "  dict[key(state hash, action hash)] = q-values\n",
        "  \"\"\"\n",
        "  \n",
        "  def __init__(self):\n",
        "    self.Q = {}\n",
        "    return\n",
        "\n",
        "  def getStateActionHashPairKey(self, state_hash, action_hash):\n",
        "    \"\"\" Returns state-pair hash key, requires separate state and action hash keys first \"\"\"\n",
        "    # return state_hash*action_hash\n",
        "    return str(state_hash)+\" \"+str(action_hash)\n",
        "\n",
        "  def getActionHashListForNewState(self, actions):\n",
        "    list_action_hash = []\n",
        "    for action in actions:\n",
        "      list_action_hash.append(action.action_hash)\n",
        "    return list_action_hash\n",
        "\n",
        "  def getValueQ(self, state_hash, action_hash):\n",
        "    \"\"\" Get expected reward given an action in a given state,\n",
        "        returns 0 if the state-action pair has not been seen before.\n",
        "        Input is state and action hash key                          \"\"\"\n",
        "\n",
        "    state_action_key = self.getStateActionHashPairKey(state_hash, action_hash)\n",
        "    if state_action_key in self.Q:\n",
        "        return self.Q.get(state_action_key)\n",
        "    else:\n",
        "        self.Q[state_action_key] = 0\n",
        "        return 0\n",
        "\n",
        "  def setValueQ(self, state_hash, action_hash, value):\n",
        "    \"\"\" Set value in Q \"\"\"\n",
        "    state_action_key = self.getStateActionHashPairKey(state_hash, action_hash)\n",
        "    self.Q[state_action_key] = value\n",
        "\n",
        "  def getBestAction(self, state_hash, list_action_hash, list_actions):\n",
        "    \"\"\" Get best action given a set of possible actions in a given state \"\"\"\n",
        "\n",
        "    best_action = list_actions[0]\n",
        "\n",
        "    # Find action that given largest Q in given state\n",
        "    maxQ = 0\n",
        "    for a_hash, action in zip(list_action_hash, list_actions):\n",
        "        tmpQ = self.getValueQ(state_hash, a_hash)\n",
        "        if maxQ < tmpQ:\n",
        "          maxQ = tmpQ\n",
        "          best_action = action\n",
        "\n",
        "    return best_action\n",
        "\n",
        "  def getMaxQ(self, state_hash, list_action_hash):\n",
        "      \"\"\" Returns the maximum Q value given a state and list of actions (input is hash keys) \"\"\"\n",
        "      maxQ = 0\n",
        "      for a_hash in list_action_hash:\n",
        "          tmpQ = self.getValueQ(state_hash, a_hash) \n",
        "          if maxQ < tmpQ:\n",
        "              maxQ = tmpQ\n",
        "      return maxQ\n",
        "\n",
        "\n",
        "  def updateQ(self, old_state, action_to_perform, reward, new_state, next_possible_actions, discount_factor, learning_rate):\n",
        "    \"\"\" Implements Q-learning iterative algorithm \"\"\"\n",
        "\n",
        "    state_hash = old_state.state_hash()\n",
        "    action_hash = action_to_perform.action_hash\n",
        "\n",
        "    # Get current Q Value\n",
        "    old_q_value = self.getValueQ(state_hash, action_hash)\n",
        "\n",
        "    # Find max Q value given the possible set of actions in the next state\n",
        "    list_action_hash = self.getActionHashListForNewState(next_possible_actions)\n",
        "    max_nextQ = self.getMaxQ(new_state.state_hash(), list_action_hash) \n",
        "    \n",
        "    temporal_difference = reward + (discount_factor * max_nextQ) - old_q_value\n",
        "\n",
        "    #update the Q-value for the previous state and action pair\n",
        "    new_q_value = old_q_value + (learning_rate * temporal_difference)\n",
        "    self.setValueQ(state_hash, action_hash, new_q_value)\n",
        "    # print(\"updateQ\", state_hash, action_hash, new_q_value)\n",
        "\n",
        "  def print_info(self):\n",
        "    print(\"\\n\\nQ_table\")\n",
        "    print(self.Q)"
      ],
      "execution_count": null,
      "outputs": []
    },
    {
      "cell_type": "code",
      "metadata": {
        "id": "IF9ooUc0wgII"
      },
      "source": [
        "class Reward:\n",
        "  def __init__(self):\n",
        "    return\n",
        "  \n",
        "  def reward_function(self, old_state, action_to_perform):\n",
        "    \"\"\" \n",
        "    Returns positive value if actions gets closer to target state and values are the size of step closer to the target, \n",
        "    Returns -ve value if action take away from target\n",
        "    \"\"\"\n",
        "    new_state = action_to_perform.perform_action(old_state)\n",
        "\n",
        "    if new_state.total_leader_grades_unutilised == 0:\n",
        "      reward = -100 #possible promotion scenario\n",
        "      return reward\n",
        "    \n",
        "    if new_state.drs_per_lead == 0:\n",
        "      reward = -100\n",
        "    elif new_state.drs_per_lead > 0 and new_state.drs_per_lead <= new_state.target_dr_per_lead:\n",
        "      reward = 100\n",
        "    else:\n",
        "      reward = old_state.drs_per_lead - new_state.drs_per_lead\n",
        "\n",
        "    return reward"
      ],
      "execution_count": null,
      "outputs": []
    },
    {
      "cell_type": "code",
      "metadata": {
        "id": "Js8tHAviPKqA"
      },
      "source": [
        "class Environment:\n",
        "\n",
        "  def __init__(self):\n",
        "    self.business_rules = Business_Rules()\n",
        "    self.action_list = ActionList(self.business_rules.actions)\n",
        "    self.reward = Reward()\n",
        "\n",
        "  def possible_actions_in_state(self, state):\n",
        "    return self.action_list.actions\n",
        "\n",
        "  def hasReachedTerminalState(self, reward):\n",
        "    if reward == 100 or reward == -100:\n",
        "      return True\n",
        "    else:\n",
        "      return False"
      ],
      "execution_count": null,
      "outputs": []
    },
    {
      "cell_type": "code",
      "metadata": {
        "id": "_R0KrqcKCfBS"
      },
      "source": [
        "class Episode:\n",
        "\n",
        "  preconditioned_episodes = [\n",
        "            {\"chapter\": \"Analyst\", \"total_leaders_leading\":2, \\\n",
        "             \"people_gradewise\" : {\"3\":0, \"4.1\":1, \"4.2\":6, \"4.3\":6, \"4.4\":1, \"5.1\":0, \"5.2\":2, \"MS\":7} },\n",
        "            {\"chapter\": \"ios\", \"total_leaders_leading\":1, \\\n",
        "             \"people_gradewise\" : {\"3\":0, \"4.1\":0, \"4.2\":5, \"4.3\":6, \"4.4\":2, \"5.1\":0, \"5.2\":0, \"MS\":14} },\n",
        "            {\"chapter\": \"android\", \"total_leaders_leading\":1, \\\n",
        "             \"people_gradewise\" : {\"3\":0, \"4.1\":0, \"4.2\":4, \"4.3\":4, \"4.4\":4, \"5.1\":0, \"5.2\":0, \"MS\":9} },\n",
        "            {\"chapter\": \"be engg\", \"total_leaders_leading\":2.5, \\\n",
        "             \"people_gradewise\" : {\"3\":2.5, \"4.1\":3, \"4.2\":4, \"4.3\":6, \"4.4\":5, \"5.1\":1, \"5.2\":2, \"MS\":27} },\n",
        "            {\"chapter\": \"delivery leads\", \"total_leaders_leading\":1, \\\n",
        "             \"people_gradewise\" : {\"3\":0, \"4.1\":1, \"4.2\":3.5, \"4.3\":0.5, \"4.4\":0.8, \"5.1\":0, \"5.2\":0, \"MS\":3} },\n",
        "            {\"chapter\": \"environment\", \"total_leaders_leading\":1, \\\n",
        "             \"people_gradewise\" : {\"3\":0, \"4.1\":0, \"4.2\":2, \"4.3\":1, \"4.4\":1, \"5.1\":0, \"5.2\":0, \"MS\":2} },\n",
        "            {\"chapter\": \"sre\", \"total_leaders_leading\":1, \\\n",
        "             \"people_gradewise\" : {\"3\":1, \"4.1\":1, \"4.2\":1, \"4.3\":7, \"4.4\":4, \"5.1\":0, \"5.2\":0, \"MS\":3} },\n",
        "            {\"chapter\": \"testing\", \"total_leaders_leading\":1, \\\n",
        "             \"people_gradewise\" : {\"3\":0, \"4.1\":0, \"4.2\":1.5, \"4.3\":3, \"4.4\":2, \"5.1\":1, \"5.2\":0, \"MS\":18} },\n",
        "            {\"chapter\": \"reassign wont work\", \"total_leaders_leading\":2.5, \\\n",
        "             \"people_gradewise\" : {\"3\":2.5, \"4.1\":3, \"4.2\":0, \"4.3\":0, \"4.4\":5, \"5.1\":1, \"5.2\":2, \"MS\":27} },\n",
        "  ]\n",
        "\n",
        "  def __init__(self, episode_number):\n",
        "    self.episode_number = episode_number\n",
        "    self.state = None\n",
        "    if self.episode_number < len(self.preconditioned_episodes):\n",
        "      business_rules = Business_Rules()\n",
        "      dict = self.preconditioned_episodes[self.episode_number]\n",
        "      print(\"preconditioned_episode :\\n\", dict)\n",
        "      chapter_stats = Chapter_Stats(dict[\"chapter\"], dict[\"total_leaders_leading\"], dict[\"people_gradewise\"])\n",
        "      self.state = State(chapter_stats, business_rules)\n",
        "    else:\n",
        "      business_rules = Business_Rules()\n",
        "      total_leaders_leading = np.random.randint(1,business_rules.ceil_total_leaders_leading)\n",
        "      people_gradewise={}\n",
        "      for grade in business_rules.grades:\n",
        "        people_gradewise[grade] = np.random.randint(business_rules.ceil_total_people_in_grade)\n",
        "      chapter_stats = Chapter_Stats(\"chapter\", total_leaders_leading, people_gradewise)\n",
        "      print(\"simulated episode data :\")\n",
        "      chapter_stats.print_info()\n",
        "      self.state = State(chapter_stats, business_rules)\n",
        "\n",
        "    return"
      ],
      "execution_count": null,
      "outputs": []
    },
    {
      "cell_type": "code",
      "metadata": {
        "id": "TMVhamSFCC_w"
      },
      "source": [
        "class Trainer:\n",
        "\n",
        "  def __init__(self):\n",
        "    self.q_table = Q_table()\n",
        "    self.environment = Environment()\n",
        "\n",
        "    #define training parameters\n",
        "    self.epsilon = 0.9 #the percentage of time when we should take the best action (instead of a random action)\n",
        "    self.discount_factor = 0.9 #discount factor for future rewards\n",
        "    self.learning_rate = 0.9 #the rate at which the AI agent should learn\n",
        "    self.num_episodes = 15 #1000\n",
        "\n",
        "    for action in self.environment.action_list.actions:\n",
        "      action.print_info()\n",
        "\n",
        "    return\n",
        "\n",
        "  \n",
        "  #define an epsilon greedy algorithm that will choose which action to take next \n",
        "  def get_next_action(self, state_hash, list_action_hash, list_actions, epsilon):\n",
        "    #if a randomly chosen value between 0 and 1 is less than epsilon, \n",
        "    #then choose the most promising value from the Q-table for this state.\n",
        "    if np.random.random() < epsilon:\n",
        "      best_action = self.q_table.getBestAction(state_hash, list_action_hash, list_actions)\n",
        "      return best_action\n",
        "    else: #choose a random action\n",
        "      random_idx = np.random.choice(len(list_actions))\n",
        "      random_action = list_actions[random_idx]\n",
        "      return random_action\n",
        "\n",
        "  def train(self, should_print):\n",
        "    #run through 1000 training episodes\n",
        "    for episode_number in range(self.num_episodes):\n",
        "      #get the starting state for this episode\n",
        "      episode = Episode(episode_number)\n",
        "      print(\"episode_number : \", episode.episode_number)\n",
        "\n",
        "      #continue taking actions  until we reach a terminal state\n",
        "      #(i.e., until we reach the final team structure or hit a bad structure)\n",
        "      while True:\n",
        "\n",
        "        #choose which action to take \n",
        "        action_to_perform = self.get_next_action(episode.state.state_hash(), \\\n",
        "                                                 self.environment.action_list.list_action_hash, \\\n",
        "                                                 self.environment.action_list.actions, \\\n",
        "                                                 self.epsilon)\n",
        "\n",
        "        #perform the chosen action, and transition to the next state \n",
        "        old_state = episode.state\n",
        "        new_state = action_to_perform.perform_action(old_state)\n",
        "\n",
        "        #receive the reward for moving to the new state\n",
        "        reward = self.environment.reward.reward_function(old_state, action_to_perform)\n",
        "\n",
        "        if should_print:\n",
        "          print(\"episode state : \")\n",
        "          episode.state.print_info()        \n",
        "          print(\"\\n action_to_perform :\")\n",
        "          action_to_perform.print_info()\n",
        "          print(\"\\n new_state :\")\n",
        "          new_state.print_info()        \n",
        "          print(\"\\nreward:\", reward)\n",
        "\n",
        "        if self.environment.hasReachedTerminalState(reward):\n",
        "          episode.state = new_state\n",
        "          print(\"breaking... terminal state \\n\")\n",
        "          break\n",
        "\n",
        "        next_possible_actions = self.environment.possible_actions_in_state(new_state)\n",
        "        self.q_table.updateQ(old_state, action_to_perform, reward, new_state, next_possible_actions, self.discount_factor, self.learning_rate)\n",
        "\n",
        "        episode.state = new_state\n",
        "\n",
        " #Define a function that will get the shortest path between the starting out team structure and the most favorable team structure \n",
        "  def get_shortest_path(self, old_state):\n",
        "    i=0\n",
        "    shortest_path = []\n",
        "    shortest_path.append(old_state)\n",
        "    while True:\n",
        "      action_to_perform = self.get_next_action(old_state.state_hash(), \\\n",
        "                                               self.environment.action_list.list_action_hash, \\\n",
        "                                               self.environment.action_list.actions, \n",
        "                                               1.) #always the best action\n",
        "\n",
        "      new_state = action_to_perform.perform_action(old_state)\n",
        "      shortest_path.append(new_state)\n",
        "\n",
        "      reward = self.environment.reward.reward_function(old_state, action_to_perform)\n",
        "      print(\"reward :\", reward)\n",
        "      if self.environment.hasReachedTerminalState(reward):\n",
        "        episode.state = new_state\n",
        "        break\n",
        "\n",
        "      old_state = new_state\n",
        "    \n",
        "    for state in shortest_path:\n",
        "      state.print_info()"
      ],
      "execution_count": null,
      "outputs": []
    },
    {
      "cell_type": "markdown",
      "metadata": {
        "id": "vZm3LDKKiUvi"
      },
      "source": [
        "# TESTING"
      ]
    },
    {
      "cell_type": "code",
      "metadata": {
        "id": "MEEkzV0oleDR"
      },
      "source": [
        "cs_v2 = Chapter_Stats_v2(\"BE Chapter\", \n",
        "                         allocated_leaders = {\"3\":3, \"4.1\":3, \"4.2\":4, \"4.3\":2},\n",
        "                         people_gradewise = {\"3\":3, \"4.1\":3, \"4.2\":4, \"4.3\":6, \"4.4\":5, \"5.1\":1, \"5.2\":2, \"MS\":27}\n",
        "                         )"
      ],
      "execution_count": null,
      "outputs": []
    },
    {
      "cell_type": "code",
      "metadata": {
        "colab": {
          "base_uri": "https://localhost:8080/"
        },
        "id": "-MxoQnr_m61p",
        "outputId": "68bf65b1-cdca-42b9-f33e-a9de621e5c16"
      },
      "source": [
        "print(cs_v2.total_people_in_grade(\"3\"))\n",
        "print(cs_v2.total_people_in_grade(\"4.1\"))\n",
        "print(cs_v2.total_people_in_grade(\"MS\"))"
      ],
      "execution_count": null,
      "outputs": [
        {
          "output_type": "stream",
          "text": [
            "3\n",
            "3\n",
            "27\n"
          ],
          "name": "stdout"
        }
      ]
    },
    {
      "cell_type": "code",
      "metadata": {
        "colab": {
          "base_uri": "https://localhost:8080/"
        },
        "id": "165KUj0zn1aF",
        "outputId": "0d28aa8e-3b6f-494f-f7f9-e46c41f00e73"
      },
      "source": [
        "print(cs_v2.unallocated_leaders(\"3\"))\n",
        "print(cs_v2.unallocated_leaders(\"4.1\"))\n",
        "print(cs_v2.unallocated_leaders(\"MS\"))"
      ],
      "execution_count": null,
      "outputs": [
        {
          "output_type": "stream",
          "text": [
            "0\n",
            "0\n",
            "27\n"
          ],
          "name": "stdout"
        }
      ]
    },
    {
      "cell_type": "code",
      "metadata": {
        "colab": {
          "base_uri": "https://localhost:8080/"
        },
        "id": "81Jr8FeioGgn",
        "outputId": "745dc47f-7b0e-418a-b771-6fec1e8a1f5a"
      },
      "source": [
        "print(cs_v2.list_drs(\"3\"))\n",
        "print(cs_v2.list_drs(\"4.1\"))\n",
        "print(cs_v2.list_drs(\"MS\"))\n",
        "\n",
        "print(cs_v2.num_drs(\"3\"))\n",
        "print(cs_v2.num_drs(\"4.1\"))\n",
        "print(cs_v2.num_drs(\"MS\"))"
      ],
      "execution_count": null,
      "outputs": [
        {
          "output_type": "stream",
          "text": [
            "['4.1', '4.2', '4.3', '4.4', '5.1', '5.2', 'MS']\n",
            "['4.2', '4.3', '4.4', '5.1', '5.2', 'MS']\n",
            "[]\n",
            "48\n",
            "45\n",
            "0\n"
          ],
          "name": "stdout"
        }
      ]
    },
    {
      "cell_type": "code",
      "metadata": {
        "colab": {
          "base_uri": "https://localhost:8080/"
        },
        "id": "C0XAtDKotw2f",
        "outputId": "9f6f5224-53ac-41e4-fd01-2301d07c53ac"
      },
      "source": [
        "print(cs_v2.leads_uptill_grade(\"3\"))"
      ],
      "execution_count": null,
      "outputs": [
        {
          "output_type": "stream",
          "text": [
            "3\n"
          ],
          "name": "stdout"
        }
      ]
    },
    {
      "cell_type": "code",
      "metadata": {
        "colab": {
          "base_uri": "https://localhost:8080/"
        },
        "id": "LEizaA5PvFpE",
        "outputId": "a414c115-a873-4f6b-d5c5-39b9cb385727"
      },
      "source": [
        "print(cs_v2.dr_per_lead(\"3\"))\n"
      ],
      "execution_count": null,
      "outputs": [
        {
          "output_type": "stream",
          "text": [
            "grade == :  3  :  16.0 total :  16.0\n",
            "grade == :  3  :  1.0 total :  17.0\n",
            "17.0\n"
          ],
          "name": "stdout"
        }
      ]
    },
    {
      "cell_type": "code",
      "metadata": {
        "colab": {
          "base_uri": "https://localhost:8080/"
        },
        "id": "9MMKMwqyH7F_",
        "outputId": "abb7aeac-0a57-495c-c1ac-d60a5f76022f"
      },
      "source": [
        "print(cs_v2.dr_per_lead(\"4.1\"))\n"
      ],
      "execution_count": null,
      "outputs": [
        {
          "output_type": "stream",
          "text": [
            "grade == :  4.1  :  7.5 total :  7.5\n",
            "grade == :  4.1  :  0.5 total :  8.0\n",
            "8.0\n"
          ],
          "name": "stdout"
        }
      ]
    },
    {
      "cell_type": "code",
      "metadata": {
        "colab": {
          "base_uri": "https://localhost:8080/"
        },
        "id": "HSqjktqXKGFh",
        "outputId": "f2936bd2-dfc1-417f-f1fc-273b0d2b2540"
      },
      "source": [
        "print(cs_v2.dr_per_lead(\"4.2\"))"
      ],
      "execution_count": null,
      "outputs": [
        {
          "output_type": "stream",
          "text": [
            "4.1 : 0.3 total 0.3\n",
            "grade == :  4.2  :  4.1 total :  4.3999999999999995\n",
            "grade == :  4.2  :  0.4 total :  4.8\n",
            "4.8\n"
          ],
          "name": "stdout"
        }
      ]
    },
    {
      "cell_type": "code",
      "metadata": {
        "colab": {
          "base_uri": "https://localhost:8080/"
        },
        "id": "WWCV9QTjOrUJ",
        "outputId": "c3c093a6-dc84-4e4b-f504-6bce4c44a5c0"
      },
      "source": [
        "print(cs_v2.dr_per_lead(\"4.3\"))"
      ],
      "execution_count": null,
      "outputs": [
        {
          "output_type": "stream",
          "text": [
            "4.1 : 0.25 total 0.25\n",
            "4.2 : 0.3333333333333333 total 0.5833333333333333\n",
            "grade == :  4.3  :  2.9166666666666665 total :  3.5\n",
            "grade == :  4.3  :  0.5 total :  4.0\n",
            "4.0\n"
          ],
          "name": "stdout"
        }
      ]
    },
    {
      "cell_type": "code",
      "metadata": {
        "colab": {
          "base_uri": "https://localhost:8080/"
        },
        "id": "7DNf8mSVIZrr",
        "outputId": "8be579fd-b1e9-463e-fcaa-95bc9718ef15"
      },
      "source": [
        "trainer = Trainer()\n",
        "\n",
        "trainer.train(False)"
      ],
      "execution_count": null,
      "outputs": [
        {
          "output_type": "stream",
          "text": [
            "reassign -3032869904655362244\n",
            "promote_dr 7132150215354931734\n",
            "hire -5422926545859172522\n",
            "preconditioned_episode :\n",
            " {'chapter': 'Analyst', 'total_leaders_leading': 2, 'people_gradewise': {'3': 0, '4.1': 1, '4.2': 6, '4.3': 6, '4.4': 1, '5.1': 0, '5.2': 2, 'MS': 7}}\n",
            "10.5\n",
            "episode_number :  0\n",
            "breaking... terminal state \n",
            "\n",
            "preconditioned_episode :\n",
            " {'chapter': 'ios', 'total_leaders_leading': 1, 'people_gradewise': {'3': 0, '4.1': 0, '4.2': 5, '4.3': 6, '4.4': 2, '5.1': 0, '5.2': 0, 'MS': 14}}\n",
            "26.0\n",
            "episode_number :  1\n",
            "breaking... terminal state \n",
            "\n",
            "preconditioned_episode :\n",
            " {'chapter': 'android', 'total_leaders_leading': 1, 'people_gradewise': {'3': 0, '4.1': 0, '4.2': 4, '4.3': 4, '4.4': 4, '5.1': 0, '5.2': 0, 'MS': 9}}\n",
            "20.0\n",
            "episode_number :  2\n",
            "breaking... terminal state \n",
            "\n",
            "preconditioned_episode :\n",
            " {'chapter': 'be engg', 'total_leaders_leading': 2.5, 'people_gradewise': {'3': 2.5, '4.1': 3, '4.2': 4, '4.3': 6, '4.4': 5, '5.1': 1, '5.2': 2, 'MS': 27}}\n",
            "19.2\n",
            "episode_number :  3\n",
            "breaking... terminal state \n",
            "\n",
            "preconditioned_episode :\n",
            " {'chapter': 'delivery leads', 'total_leaders_leading': 1, 'people_gradewise': {'3': 0, '4.1': 1, '4.2': 3.5, '4.3': 0.5, '4.4': 0.8, '5.1': 0, '5.2': 0, 'MS': 3}}\n",
            "7.800000000000001\n",
            "episode_number :  4\n",
            "breaking... terminal state \n",
            "\n",
            "preconditioned_episode :\n",
            " {'chapter': 'environment', 'total_leaders_leading': 1, 'people_gradewise': {'3': 0, '4.1': 0, '4.2': 2, '4.3': 1, '4.4': 1, '5.1': 0, '5.2': 0, 'MS': 2}}\n",
            "5.0\n",
            "episode_number :  5\n",
            "breaking... terminal state \n",
            "\n",
            "preconditioned_episode :\n",
            " {'chapter': 'sre', 'total_leaders_leading': 1, 'people_gradewise': {'3': 1, '4.1': 1, '4.2': 1, '4.3': 7, '4.4': 4, '5.1': 0, '5.2': 0, 'MS': 3}}\n",
            "16.0\n",
            "episode_number :  6\n",
            "breaking... terminal state \n",
            "\n",
            "preconditioned_episode :\n",
            " {'chapter': 'testing', 'total_leaders_leading': 1, 'people_gradewise': {'3': 0, '4.1': 0, '4.2': 1.5, '4.3': 3, '4.4': 2, '5.1': 1, '5.2': 0, 'MS': 18}}\n",
            "24.5\n",
            "episode_number :  7\n",
            "breaking... terminal state \n",
            "\n",
            "preconditioned_episode :\n",
            " {'chapter': 'reassign wont work', 'total_leaders_leading': 2.5, 'people_gradewise': {'3': 2.5, '4.1': 3, '4.2': 0, '4.3': 0, '4.4': 5, '5.1': 1, '5.2': 2, 'MS': 27}}\n",
            "15.2\n",
            "episode_number :  8\n",
            "breaking... terminal state \n",
            "\n",
            "simulated episode data :\n",
            "Chapter_Stats\n",
            "chapter 2 182 {'3': 32, '4.1': 4, '4.2': 17, '4.3': 19, '4.4': 39, '5.1': 49, '5.2': 24, 'MS': 0} 72\n",
            "91.0\n",
            "episode_number :  9\n",
            "breaking... terminal state \n",
            "\n",
            "simulated episode data :\n",
            "Chapter_Stats\n",
            "chapter 9 210 {'3': 19, '4.1': 15, '4.2': 16, '4.3': 27, '4.4': 47, '5.1': 18, '5.2': 44, 'MS': 33} 77\n",
            "23.333333333333332\n",
            "episode_number :  10\n",
            "breaking... terminal state \n",
            "\n",
            "simulated episode data :\n",
            "Chapter_Stats\n",
            "chapter 7 177 {'3': 42, '4.1': 13, '4.2': 16, '4.3': 25, '4.4': 38, '5.1': 33, '5.2': 6, 'MS': 11} 96\n",
            "25.285714285714285\n",
            "episode_number :  11\n",
            "breaking... terminal state \n",
            "\n",
            "simulated episode data :\n",
            "Chapter_Stats\n",
            "chapter 6 120 {'3': 20, '4.1': 21, '4.2': 17, '4.3': 6, '4.4': 7, '5.1': 7, '5.2': 33, 'MS': 15} 64\n",
            "20.0\n",
            "episode_number :  12\n",
            "breaking... terminal state \n",
            "\n",
            "simulated episode data :\n",
            "Chapter_Stats\n",
            "chapter 9 221 {'3': 41, '4.1': 39, '4.2': 30, '4.3': 8, '4.4': 31, '5.1': 30, '5.2': 17, 'MS': 34} 118\n",
            "24.555555555555557\n",
            "episode_number :  13\n",
            "breaking... terminal state \n",
            "\n",
            "simulated episode data :\n",
            "Chapter_Stats\n",
            "chapter 3 232 {'3': 11, '4.1': 24, '4.2': 43, '4.3': 15, '4.4': 35, '5.1': 48, '5.2': 10, 'MS': 49} 93\n",
            "77.33333333333333\n",
            "episode_number :  14\n",
            "breaking... terminal state \n",
            "\n"
          ],
          "name": "stdout"
        }
      ]
    },
    {
      "cell_type": "code",
      "metadata": {
        "colab": {
          "base_uri": "https://localhost:8080/"
        },
        "id": "SvsLjsk8cOea",
        "outputId": "3f2a5289-bf92-443b-c6c8-f701f49fd8ee"
      },
      "source": [
        "trainer.q_table.print_info()"
      ],
      "execution_count": null,
      "outputs": [
        {
          "output_type": "stream",
          "text": [
            "\n",
            "\n",
            "Q_table\n",
            "{'5285223899660918271 -3032869904655362244': 3.6, '5285223899660918271 7132150215354931734': 0, '5285223899660918271 -5422926545859172522': 0, '-4678231873890659421 -3032869904655362244': 0, '-4678231873890659421 7132150215354931734': 0, '-4678231873890659421 -5422926545859172522': 0, '-7636548818605238522 -3032869904655362244': 12.15, '-7636548818605238522 7132150215354931734': 0, '-7636548818605238522 -5422926545859172522': 0, '-2340752886812058080 -3032869904655362244': 4.05, '-2340752886812058080 7132150215354931734': 0, '-2340752886812058080 -5422926545859172522': 0, '-2746232271926472364 -3032869904655362244': 2.025, '-2746232271926472364 7132150215354931734': 0.0, '-2746232271926472364 -5422926545859172522': 0, '-621711864479958001 -3032869904655362244': 0, '-621711864479958001 7132150215354931734': 0, '-621711864479958001 -5422926545859172522': 0, '-391274547413878359 -3032869904655362244': 9.450000000000001, '-391274547413878359 7132150215354931734': 0, '-391274547413878359 -5422926545859172522': 0, '6276661450666005572 -3032869904655362244': 3.15, '6276661450666005572 7132150215354931734': 0, '6276661450666005572 -5422926545859172522': 0, '2168224927722619051 -3032869904655362244': 0, '2168224927722619051 7132150215354931734': 0, '2168224927722619051 -5422926545859172522': 0, '8818083701115155444 -3032869904655362244': 5.4, '8818083701115155444 7132150215354931734': 0, '8818083701115155444 -5422926545859172522': 0, '-4364286048732535986 -3032869904655362244': 3.0000000000000004, '-4364286048732535986 7132150215354931734': 0, '-4364286048732535986 -5422926545859172522': 0, '-3573071620916825938 -3032869904655362244': 1.909090909090909, '-3573071620916825938 7132150215354931734': 0, '-3573071620916825938 -5422926545859172522': 0, '1106996170326715608 -3032869904655362244': 1.3216783216783214, '1106996170326715608 7132150215354931734': 0, '1106996170326715608 -5422926545859172522': 0, '-43438011094144707 -3032869904655362244': 0.969230769230769, '-43438011094144707 7132150215354931734': 0, '-43438011094144707 -5422926545859172522': 0, '-2873278448929307482 -3032869904655362244': 0.7411764705882351, '-2873278448929307482 7132150215354931734': 0, '-2873278448929307482 -5422926545859172522': 0, '6578375596048645171 -3032869904655362244': 0, '6578375596048645171 7132150215354931734': 0, '6578375596048645171 -5422926545859172522': 0, '745259727057675722 -3032869904655362244': 0, '745259727057675722 7132150215354931734': 0, '745259727057675722 -5422926545859172522': 0, '3238893052370992250 -3032869904655362244': 0, '3238893052370992250 7132150215354931734': 0, '3238893052370992250 -5422926545859172522': 0, '-1275876177975837901 -3032869904655362244': 7.65, '-1275876177975837901 7132150215354931734': 0, '-1275876177975837901 -5422926545859172522': 0, '-4437718441280043516 -3032869904655362244': 0, '-4437718441280043516 7132150215354931734': 0, '-4437718441280043516 -5422926545859172522': 0, '-5739007161468111326 -3032869904655362244': 11.700000000000001, '-5739007161468111326 7132150215354931734': 0, '-5739007161468111326 -5422926545859172522': 0, '-548714849950100641 -3032869904655362244': 3.9, '-548714849950100641 7132150215354931734': 0, '-548714849950100641 -5422926545859172522': 0, '9075299619974901428 -3032869904655362244': 1.9500000000000004, '9075299619974901428 7132150215354931734': 0, '9075299619974901428 -5422926545859172522': 0, '327293183134951652 -3032869904655362244': 0, '327293183134951652 7132150215354931734': 0, '327293183134951652 -5422926545859172522': 0, '-6971373482006478842 -3032869904655362244': 4.371428571428572, '-6971373482006478842 7132150215354931734': 0, '-6971373482006478842 -5422926545859172522': 0, '-7016161428602517193 -3032869904655362244': 2.428571428571428, '-7016161428602517193 7132150215354931734': 0, '-7016161428602517193 -5422926545859172522': 0, '4070215236414697730 -3032869904655362244': 0, '4070215236414697730 7132150215354931734': 0, '4070215236414697730 -5422926545859172522': 0, '6751736542659853126 -3032869904655362244': 27.599999999999998, '6751736542659853126 7132150215354931734': 0, '6751736542659853126 -5422926545859172522': 0, '-1284951914104132959 -3032869904655362244': 13.800000000000002, '-1284951914104132959 7132150215354931734': 0, '-1284951914104132959 -5422926545859172522': 0, '-3348918567830791648 -3032869904655362244': 8.280000000000003, '-3348918567830791648 7132150215354931734': 0, '-3348918567830791648 -5422926545859172522': 0, '1890594963989527632 -3032869904655362244': 5.519999999999997, '1890594963989527632 7132150215354931734': 0, '1890594963989527632 -5422926545859172522': 0, '3413231275568668184 -3032869904655362244': 3.942857142857145, '3413231275568668184 7132150215354931734': 0, '3413231275568668184 -5422926545859172522': 0, '-1851554114630523542 -3032869904655362244': 2.9571428571428564, '-1851554114630523542 7132150215354931734': 0, '-1851554114630523542 -5422926545859172522': 0, '3708194416566586769 -3032869904655362244': 2.3000000000000016, '3708194416566586769 7132150215354931734': 0, '3708194416566586769 -5422926545859172522': 0, '-2335822643828481776 -3032869904655362244': 1.8399999999999999, '-2335822643828481776 7132150215354931734': 0, '-2335822643828481776 -5422926545859172522': 0, '5266918860360424684 -3032869904655362244': 1.5054545454545447, '5266918860360424684 7132150215354931734': 0, '5266918860360424684 -5422926545859172522': 0, '-2073674593120759920 -3032869904655362244': 1.2545454545454535, '-2073674593120759920 7132150215354931734': 0.0, '-2073674593120759920 -5422926545859172522': 0.0, '8521420746866144889 -3032869904655362244': 1.0615384615384627, '8521420746866144889 7132150215354931734': 0, '8521420746866144889 -5422926545859172522': 0, '-6007314495137163318 -3032869904655362244': 0.9098901098901099, '-6007314495137163318 7132150215354931734': 0, '-6007314495137163318 -5422926545859172522': 0.0, '7981110824755136827 -3032869904655362244': 0.7885714285714274, '7981110824755136827 7132150215354931734': 0, '7981110824755136827 -5422926545859172522': 0, '-1553877425950093724 -3032869904655362244': 0.6900000000000007, '-1553877425950093724 7132150215354931734': 0, '-1553877425950093724 -5422926545859172522': 0, '7929221695962112557 -3032869904655362244': 0.6088235294117642, '7929221695962112557 7132150215354931734': 0, '7929221695962112557 -5422926545859172522': 0, '529178714403750782 -3032869904655362244': 0.5411764705882366, '529178714403750782 7132150215354931734': 0, '529178714403750782 -5422926545859172522': 0, '-3270700325506975708 -3032869904655362244': 0.48421052631578887, '-3270700325506975708 7132150215354931734': 0, '-3270700325506975708 -5422926545859172522': 0, '-5558477875244912371 -3032869904655362244': 0.4357894736842111, '-5558477875244912371 7132150215354931734': 0.0, '-5558477875244912371 -5422926545859172522': 0, '477059607529730075 -3032869904655362244': 0.3942857142857137, '477059607529730075 7132150215354931734': 0, '477059607529730075 -5422926545859172522': 0, '-6768408825699364316 -3032869904655362244': 0.3584415584415587, '-6768408825699364316 7132150215354931734': 0, '-6768408825699364316 -5422926545859172522': 0, '-6535681994485953982 -3032869904655362244': 0.327272727272727, '-6535681994485953982 7132150215354931734': 0, '-6535681994485953982 -5422926545859172522': 0.0, '-7360039761286474336 -3032869904655362244': 0.29999999999999977, '-7360039761286474336 7132150215354931734': 0, '-7360039761286474336 -5422926545859172522': 0, '-2629006879692455519 -3032869904655362244': 0.27599999999999997, '-2629006879692455519 7132150215354931734': 0, '-2629006879692455519 -5422926545859172522': 0, '1248579304439739083 -3032869904655362244': 0.2547692307692313, '1248579304439739083 7132150215354931734': 0, '1248579304439739083 -5422926545859172522': 0, '-8450241719798616371 -3032869904655362244': 0.2358974358974356, '-8450241719798616371 7132150215354931734': 0, '-8450241719798616371 -5422926545859172522': 0, '2916456799423538326 -3032869904655362244': 0.21904761904761935, '2916456799423538326 7132150215354931734': 0, '2916456799423538326 -5422926545859172522': 0, '-3867830048754861640 -3032869904655362244': 0.20394088669950694, '-3867830048754861640 7132150215354931734': 0, '-3867830048754861640 -5422926545859172522': 0, '-5915227544324030686 -3032869904655362244': 0.19034482758620674, '-5915227544324030686 7132150215354931734': 0, '-5915227544324030686 -5422926545859172522': 0, '-3534362717945111200 -3032869904655362244': 0, '-3534362717945111200 7132150215354931734': 0, '-3534362717945111200 -5422926545859172522': 0, '192351424470512370 -3032869904655362244': 2.25, '192351424470512370 7132150215354931734': 0, '192351424470512370 -5422926545859172522': 0, '6210849696290587545 -3032869904655362244': 1.8409090909090922, '6210849696290587545 7132150215354931734': 0, '6210849696290587545 -5422926545859172522': 0, '3431675160778873159 -3032869904655362244': 1.534090909090908, '3431675160778873159 7132150215354931734': 0, '3431675160778873159 -5422926545859172522': 0, '8092673784173108853 -3032869904655362244': 1.298076923076924, '8092673784173108853 7132150215354931734': 0, '8092673784173108853 -5422926545859172522': 0, '-5360838004340286646 -3032869904655362244': 1.112637362637362, '-5360838004340286646 7132150215354931734': 0, '-5360838004340286646 -5422926545859172522': 0, '7401740375702613363 -3032869904655362244': 0.9642857142857141, '7401740375702613363 7132150215354931734': 0, '7401740375702613363 -5422926545859172522': 0, '1166034962652705520 -3032869904655362244': 0.84375, '1166034962652705520 7132150215354931734': 0, '1166034962652705520 -5422926545859172522': 0, '-6202804532599230431 -3032869904655362244': 0.7444852941176479, '-6202804532599230431 7132150215354931734': 0, '-6202804532599230431 -5422926545859172522': 0, '6929943588640936646 -3032869904655362244': 0.6617647058823523, '6929943588640936646 7132150215354931734': 0, '6929943588640936646 -5422926545859172522': 0, '-2888603859651169345 -3032869904655362244': 0.592105263157894, '-2888603859651169345 7132150215354931734': 0, '-2888603859651169345 -5422926545859172522': 0, '2238071852430883452 -3032869904655362244': 0.5328947368421044, '2238071852430883452 7132150215354931734': 0, '2238071852430883452 -5422926545859172522': 0, '7717484543501701316 -3032869904655362244': 0.4821428571428578, '7717484543501701316 7132150215354931734': 0, '7717484543501701316 -5422926545859172522': 0, '142590942389555985 -3032869904655362244': 0.4383116883116882, '142590942389555985 7132150215354931734': 0, '142590942389555985 -5422926545859172522': 0, '-1081120165371734467 -3032869904655362244': 0.40019762845849755, '-1081120165371734467 7132150215354931734': 0, '-1081120165371734467 -5422926545859172522': 0, '-6363435918096423642 -3032869904655362244': 0.3668478260869565, '-6363435918096423642 7132150215354931734': 0, '-6363435918096423642 -5422926545859172522': 0, '7999676199956005450 -3032869904655362244': 0.3375, '7999676199956005450 7132150215354931734': 0, '7999676199956005450 -5422926545859172522': 0, '4204474440576540258 -3032869904655362244': 0.31153846153846126, '4204474440576540258 7132150215354931734': 0, '4204474440576540258 -5422926545859172522': 0, '-8582698510204383941 -3032869904655362244': 0.28846153846153827, '-8582698510204383941 7132150215354931734': 0, '-8582698510204383941 -5422926545859172522': 0, '6794646435608508947 -3032869904655362244': 0.2678571428571435, '6794646435608508947 7132150215354931734': 0, '6794646435608508947 -5422926545859172522': 0, '-5056906372839165157 -3032869904655362244': 0.2493842364532017, '-5056906372839165157 7132150215354931734': 0, '-5056906372839165157 -5422926545859172522': 0, '3848792434390467084 -3032869904655362244': 0.23275862068965533, '3848792434390467084 7132150215354931734': 0, '3848792434390467084 -5422926545859172522': 0, '2579393380517393700 -3032869904655362244': 0.2177419354838712, '2579393380517393700 7132150215354931734': 0, '2579393380517393700 -5422926545859172522': 0, '-7382811573768575528 -3032869904655362244': 0.20413306451612884, '-7382811573768575528 7132150215354931734': 0, '-7382811573768575528 -5422926545859172522': 0, '-7001346261480375832 -3032869904655362244': 0.1917613636363635, '-7001346261480375832 7132150215354931734': 0, '-7001346261480375832 -5422926545859172522': 0, '2053160734414478389 -3032869904655362244': 0.18048128342246042, '2053160734414478389 7132150215354931734': 0, '2053160734414478389 -5422926545859172522': 0, '-7115215618935295911 -3032869904655362244': 0.17016806722689015, '-7115215618935295911 7132150215354931734': 0, '-7115215618935295911 -5422926545859172522': 0, '-5240895118184434267 -3032869904655362244': 0.16071428571428595, '-5240895118184434267 7132150215354931734': 0, '-5240895118184434267 -5422926545859172522': 0, '-6838433355177989687 -3032869904655362244': 0.1520270270270274, '-6838433355177989687 7132150215354931734': 0, '-6838433355177989687 -5422926545859172522': 0, '-3330604064633336771 -3032869904655362244': 0, '-3330604064633336771 7132150215354931734': 0, '-3330604064633336771 -5422926545859172522': 0, '-5764079858861118441 -3032869904655362244': 3.0375, '-5764079858861118441 7132150215354931734': 0, '-5764079858861118441 -5422926545859172522': 0, '-5705437047225491015 -3032869904655362244': 2.3625000000000003, '-5705437047225491015 7132150215354931734': 0, '-5705437047225491015 -5422926545859172522': 0, '1639719711147837313 -3032869904655362244': 1.8900000000000012, '1639719711147837313 7132150215354931734': 0, '1639719711147837313 -5422926545859172522': 0, '-7916437379369976012 -3032869904655362244': 1.5463636363636337, '-7916437379369976012 7132150215354931734': 0, '-7916437379369976012 -5422926545859172522': 0, '-3866966928799063763 -3032869904655362244': 1.2886363636363636, '-3866966928799063763 7132150215354931734': 0, '-3866966928799063763 -5422926545859172522': 0, '6909622363874048193 -3032869904655362244': 1.0903846153846155, '6909622363874048193 7132150215354931734': 0, '6909622363874048193 -5422926545859172522': 0, '-5927362656941884270 -3032869904655362244': 0.9346153846153845, '-5927362656941884270 7132150215354931734': 0, '-5927362656941884270 -5422926545859172522': 0, '-7026820840119856013 -3032869904655362244': 0.8100000000000004, '-7026820840119856013 7132150215354931734': 0, '-7026820840119856013 -5422926545859172522': 0, '9146890527746268188 -3032869904655362244': 0.7087499999999997, '9146890527746268188 7132150215354931734': 0, '9146890527746268188 -5422926545859172522': 0, '24983269137184821 -3032869904655362244': 0.625367647058824, '24983269137184821 7132150215354931734': 0, '24983269137184821 -5422926545859172522': 0, '-8622526279868662233 -3032869904655362244': 0.5558823529411762, '-8622526279868662233 7132150215354931734': 0, '-8622526279868662233 -5422926545859172522': 0, '1920020141701917612 -3032869904655362244': 0.49736842105263135, '1920020141701917612 7132150215354931734': 0, '1920020141701917612 -5422926545859172522': 0, '3165028091567397637 -3032869904655362244': 0.4476315789473693, '3165028091567397637 7132150215354931734': 0, '3165028091567397637 -5422926545859172522': 0, '1065518271435113699 -3032869904655362244': 0.40499999999999936, '1065518271435113699 7132150215354931734': 0, '1065518271435113699 -5422926545859172522': 0, '-8011622502073088907 -3032869904655362244': 0.3681818181818183, '-8011622502073088907 7132150215354931734': 0, '-8011622502073088907 -5422926545859172522': 0, '-6953955201700071990 -3032869904655362244': 0.336166007905139, '-6953955201700071990 7132150215354931734': 0, '-6953955201700071990 -5422926545859172522': 0, '4744608199943437144 -3032869904655362244': 0.30815217391304356, '4744608199943437144 7132150215354931734': 0, '4744608199943437144 -5422926545859172522': 0, '-6377031894429588663 -3032869904655362244': 0.2834999999999996, '-6377031894429588663 7132150215354931734': 0, '-6377031894429588663 -5422926545859172522': 0, '6173206091427192963 -3032869904655362244': 0.2616923076923082, '6173206091427192963 7132150215354931734': 0, '6173206091427192963 -5422926545859172522': 0, '-7179600618191645803 -3032869904655362244': 0.24230769230769225, '-7179600618191645803 7132150215354931734': 0, '-7179600618191645803 -5422926545859172522': 0, '-4313335026862640477 -3032869904655362244': 0.225, '-4313335026862640477 7132150215354931734': 0, '-4313335026862640477 -5422926545859172522': 0, '-1303349126768259856 -3032869904655362244': 0.20948275862068932, '-1303349126768259856 7132150215354931734': 0, '-1303349126768259856 -5422926545859172522': 0, '3836693122910413722 -3032869904655362244': 0.19551724137931084, '3836693122910413722 7132150215354931734': 0, '3836693122910413722 -5422926545859172522': 0, '2472855356324038888 -3032869904655362244': 0.18290322580645155, '2472855356324038888 7132150215354931734': 0, '2472855356324038888 -5422926545859172522': 0, '-5768399026002317618 -3032869904655362244': 0, '-5768399026002317618 7132150215354931734': 0, '-5768399026002317618 -5422926545859172522': 0, '4034160804434451259 -3032869904655362244': 2.7, '4034160804434451259 7132150215354931734': 0, '4034160804434451259 -5422926545859172522': 0, '-1251320698648297062 -3032869904655362244': 2.025, '-1251320698648297062 7132150215354931734': 0, '-1251320698648297062 -5422926545859172522': 0, '-9191694972226700735 -3032869904655362244': 1.575, '-9191694972226700735 7132150215354931734': 0.0, '-9191694972226700735 -5422926545859172522': 0, '-3117439854345947286 -3032869904655362244': 1.2600000000000005, '-3117439854345947286 7132150215354931734': 0, '-3117439854345947286 -5422926545859172522': 0.0, '7684254911987353630 -3032869904655362244': 1.03090909090909, '7684254911987353630 7132150215354931734': 0, '7684254911987353630 -5422926545859172522': 0, '2169471633674153719 -3032869904655362244': 0.8590909090909096, '2169471633674153719 7132150215354931734': 0, '2169471633674153719 -5422926545859172522': 0, '-4530282347802315828 -3032869904655362244': 0.7269230769230776, '-4530282347802315828 7132150215354931734': 0, '-4530282347802315828 -5422926545859172522': 0.0, '3395395718693533285 -3032869904655362244': 0.6230769230769233, '3395395718693533285 7132150215354931734': 0, '3395395718693533285 -5422926545859172522': 0, '-7752367372168633382 -3032869904655362244': 0.5399999999999997, '-7752367372168633382 7132150215354931734': 0, '-7752367372168633382 -5422926545859172522': 0, '-4309054575849590824 -3032869904655362244': 0.4725000000000003, '-4309054575849590824 7132150215354931734': 0, '-4309054575849590824 -5422926545859172522': 0, '-863402581658971335 -3032869904655362244': 0.4169117647058821, '-863402581658971335 7132150215354931734': 0, '-863402581658971335 -5422926545859172522': 0, '7425953244354706451 -3032869904655362244': 0.37058823529411794, '7425953244354706451 7132150215354931734': 0, '7425953244354706451 -5422926545859172522': 0, '-945803566962257520 -3032869904655362244': 0.3315789473684209, '-945803566962257520 7132150215354931734': 0, '-945803566962257520 -5422926545859172522': 0, '-8553085120105191810 -3032869904655362244': 0.2984210526315793, '-8553085120105191810 7132150215354931734': 0, '-8553085120105191810 -5422926545859172522': 0, '2799543439863096384 -3032869904655362244': 0, '2799543439863096384 7132150215354931734': 0, '2799543439863096384 -5422926545859172522': 0, '-2710076929043620572 -5422926545859172522': 0.0, '-2710076929043620572 -3032869904655362244': 2.340000000000001, '-2710076929043620572 7132150215354931734': 0, '-1416312988200074761 -3032869904655362244': 1.9145454545454528, '-1416312988200074761 7132150215354931734': 0, '-1416312988200074761 -5422926545859172522': 0, '7635747114606488311 -3032869904655362244': 1.5954545454545461, '7635747114606488311 7132150215354931734': 0, '7635747114606488311 -5422926545859172522': 0, '2480283181879098091 -3032869904655362244': 1.35, '2480283181879098091 7132150215354931734': 0, '2480283181879098091 -5422926545859172522': 0, '-4767921848194346348 -3032869904655362244': 1.157142857142858, '-4767921848194346348 7132150215354931734': 0, '-4767921848194346348 -5422926545859172522': 0, '3475804086017304576 -3032869904655362244': 1.0028571428571424, '3475804086017304576 7132150215354931734': 0, '3475804086017304576 -5422926545859172522': 0, '8531976300146064565 -3032869904655362244': 0.8774999999999997, '8531976300146064565 7132150215354931734': 0, '8531976300146064565 -5422926545859172522': 0, '8800601546332191590 -3032869904655362244': 0.7742647058823522, '8800601546332191590 7132150215354931734': 0, '8800601546332191590 -5422926545859172522': 0, '-6020222560269276021 -3032869904655362244': 0.6882352941176478, '-6020222560269276021 7132150215354931734': 0, '-6020222560269276021 -5422926545859172522': 0, '-7020481050111432271 -3032869904655362244': 0.6157894736842104, '-7020481050111432271 7132150215354931734': 0, '-7020481050111432271 -5422926545859172522': 0, '-4670208297115538790 -3032869904655362244': 0.5542105263157903, '-4670208297115538790 7132150215354931734': 0, '-4670208297115538790 -5422926545859172522': 0, '6947166392488940739 -3032869904655362244': 0.5014285714285712, '6947166392488940739 7132150215354931734': 0, '6947166392488940739 -5422926545859172522': 0, '-1704102931721259883 -3032869904655362244': 0.4558441558441551, '-1704102931721259883 7132150215354931734': 0, '-1704102931721259883 -5422926545859172522': 0, '-8780244036117756874 -3032869904655362244': 0.41620553359683754, '-8780244036117756874 7132150215354931734': 0, '-8780244036117756874 -5422926545859172522': 0, '6722443750492293508 -3032869904655362244': 0.3815217391304339, '6722443750492293508 7132150215354931734': 0, '6722443750492293508 -5422926545859172522': 0, '2640622779123891733 -3032869904655362244': 0.3509999999999989, '2640622779123891733 7132150215354931734': 0, '2640622779123891733 -5422926545859172522': 0, '-4885863622824688537 -3032869904655362244': 0.3239999999999995, '-4885863622824688537 7132150215354931734': 0, '-4885863622824688537 -5422926545859172522': 0, '5522584845184218853 -3032869904655362244': 0.30000000000000054, '5522584845184218853 7132150215354931734': 0, '5522584845184218853 -5422926545859172522': 0, '-6399963267192082034 -3032869904655362244': 0.2785714285714284, '-6399963267192082034 7132150215354931734': 0, '-6399963267192082034 -5422926545859172522': 0, '-2347357458677715332 -3032869904655362244': 0.25935960591133, '-2347357458677715332 7132150215354931734': 0, '-2347357458677715332 -5422926545859172522': 0, '-4714367167096823362 -3032869904655362244': 0.24206896551724208, '-4714367167096823362 7132150215354931734': 0, '-4714367167096823362 -5422926545859172522': 0, '3814410344115683327 -3032869904655362244': 0.2264516129032253, '3814410344115683327 7132150215354931734': 0, '3814410344115683327 -5422926545859172522': 0, '534920832207588397 -3032869904655362244': 0.21229838709677457, '534920832207588397 7132150215354931734': 0, '534920832207588397 -5422926545859172522': 0, '2982501860584105767 -3032869904655362244': 0.19943181818181827, '2982501860584105767 7132150215354931734': 0, '2982501860584105767 -5422926545859172522': 0, '7689183427279599377 -3032869904655362244': 0.18770053475935863, '7689183427279599377 7132150215354931734': 0, '7689183427279599377 -5422926545859172522': 0, '4652972884437853858 -3032869904655362244': 0.17697478991596657, '4652972884437853858 7132150215354931734': 0, '4652972884437853858 -5422926545859172522': 0, '2917369368928319072 -3032869904655362244': 0.16714285714285734, '2917369368928319072 7132150215354931734': 0, '2917369368928319072 -5422926545859172522': 0, '8838719958341959966 -3032869904655362244': 0.15810810810810869, '8838719958341959966 7132150215354931734': 0, '8838719958341959966 -5422926545859172522': 0, '9004025570137072328 -3032869904655362244': 0.14978662873399734, '9004025570137072328 7132150215354931734': 0, '9004025570137072328 -5422926545859172522': 0, '571333236632126634 -3032869904655362244': 0.1421052631578948, '571333236632126634 7132150215354931734': 0, '571333236632126634 -5422926545859172522': 0, '-4694944606487505944 -3032869904655362244': 0, '-4694944606487505944 7132150215354931734': 0, '-4694944606487505944 -5422926545859172522': 0, '6574411239776226856 -3032869904655362244': 17.775000000000002, '6574411239776226856 7132150215354931734': 0, '6574411239776226856 -5422926545859172522': 0, '2024002095042663140 -3032869904655362244': 10.665000000000001, '2024002095042663140 7132150215354931734': 0, '2024002095042663140 -5422926545859172522': 0, '644384078498155684 -3032869904655362244': 7.1099999999999985, '644384078498155684 7132150215354931734': 0, '644384078498155684 -5422926545859172522': 0, '-3829136222725000364 -3032869904655362244': 5.078571428571432, '-3829136222725000364 7132150215354931734': 0, '-3829136222725000364 -5422926545859172522': 0, '1916099569715358206 -3032869904655362244': 3.808928571428572, '1916099569715358206 7132150215354931734': 0, '1916099569715358206 -5422926545859172522': 0, '5895485356510485934 -3032869904655362244': 2.9625000000000012, '5895485356510485934 7132150215354931734': 0, '5895485356510485934 -5422926545859172522': 0, '3464909736413085177 -3032869904655362244': 2.3699999999999997, '3464909736413085177 7132150215354931734': 0, '3464909736413085177 -5422926545859172522': 0, '-5256256733776188604 -3032869904655362244': 1.9390909090909105, '-5256256733776188604 7132150215354931734': 0, '-5256256733776188604 -5422926545859172522': 0, '6186439549590956898 -3032869904655362244': 1.615909090909089, '6186439549590956898 7132150215354931734': 0.0, '6186439549590956898 -5422926545859172522': 0, '-4544139608296674116 -3032869904655362244': 1.367307692307693, '-4544139608296674116 7132150215354931734': 0, '-4544139608296674116 -5422926545859172522': 0, '5975210275395142025 -3032869904655362244': 1.1719780219780211, '5975210275395142025 7132150215354931734': 0.0, '5975210275395142025 -5422926545859172522': 0, '-4210296207013714333 -3032869904655362244': 1.015714285714287, '-4210296207013714333 7132150215354931734': 0, '-4210296207013714333 -5422926545859172522': 0, '6563372907319466976 -3032869904655362244': 0.888749999999999, '6563372907319466976 7132150215354931734': 0.0, '6563372907319466976 -5422926545859172522': 0, '-3200869538085046799 -3032869904655362244': 0.7841911764705881, '-3200869538085046799 7132150215354931734': 0.0, '-3200869538085046799 -5422926545859172522': 0, '-7120752733151171338 -3032869904655362244': 0.697058823529411, '-7120752733151171338 7132150215354931734': 0, '-7120752733151171338 -5422926545859172522': 0, '-1248653051661680326 -3032869904655362244': 0.623684210526316, '-1248653051661680326 7132150215354931734': 0, '-1248653051661680326 -5422926545859172522': 0, '-8844554021824361617 -3032869904655362244': 0.5613157894736839, '-8844554021824361617 7132150215354931734': 0, '-8844554021824361617 -5422926545859172522': 0, '1672258978894231348 -3032869904655362244': 0.5078571428571435, '1672258978894231348 7132150215354931734': 0, '1672258978894231348 -5422926545859172522': 0, '462980983285310720 -3032869904655362244': 0.4616883116883118, '462980983285310720 7132150215354931734': 0, '462980983285310720 -5422926545859172522': 0, '3677889264564927661 -3032869904655362244': 0.42154150197628476, '3677889264564927661 7132150215354931734': 0, '3677889264564927661 -5422926545859172522': 0, '-2112636762529072711 -3032869904655362244': 0.3864130434782597, '-2112636762529072711 7132150215354931734': 0, '-2112636762529072711 -5422926545859172522': 0, '195142229543406234 -3032869904655362244': 0.3555000000000012, '195142229543406234 7132150215354931734': 0, '195142229543406234 -5422926545859172522': 0, '5043926185320293586 -3032869904655362244': 0.3281538461538469, '5043926185320293586 7132150215354931734': 0.0, '5043926185320293586 -5422926545859172522': 0, '2167881141452698102 -3032869904655362244': 0.3038461538461544, '2167881141452698102 7132150215354931734': 0, '2167881141452698102 -5422926545859172522': 0, '1085638677973885379 -3032869904655362244': 0.282142857142857, '1085638677973885379 7132150215354931734': 0, '1085638677973885379 -5422926545859172522': 0, '-5014433712457260021 -3032869904655362244': 0.26268472906403945, '-5014433712457260021 7132150215354931734': 0, '-5014433712457260021 -5422926545859172522': 0, '6641986198535145811 -3032869904655362244': 0.24517241379310326, '6641986198535145811 7132150215354931734': 0, '6641986198535145811 -5422926545859172522': 0, '-3738227401628539532 -3032869904655362244': 0.22935483870967666, '-3738227401628539532 7132150215354931734': 0, '-3738227401628539532 -5422926545859172522': 0, '-8244963142655183320 -3032869904655362244': 0.21502016129032286, '-8244963142655183320 7132150215354931734': 0, '-8244963142655183320 -5422926545859172522': 0, '2032519399381606808 -3032869904655362244': 0.2019886363636365, '2032519399381606808 7132150215354931734': 0, '2032519399381606808 -5422926545859172522': 0, '-4134315973845260420 -3032869904655362244': 0.19010695187165752, '-4134315973845260420 7132150215354931734': 0.0, '-4134315973845260420 -5422926545859172522': 0, '2048450290143520777 -3032869904655362244': 0.17924369747899177, '2048450290143520777 7132150215354931734': 0, '2048450290143520777 -5422926545859172522': 0, '3735521534050084341 -3032869904655362244': 0.16928571428571368, '3735521534050084341 7132150215354931734': 0, '3735521534050084341 -5422926545859172522': 0, '3357949389200200217 -3032869904655362244': 0.160135135135135, '3357949389200200217 7132150215354931734': 0, '3357949389200200217 -5422926545859172522': 0, '-6444472074273727347 -3032869904655362244': 0.15170697012802298, '-6444472074273727347 7132150215354931734': 0, '-6444472074273727347 -5422926545859172522': 0, '5424868494185948025 -3032869904655362244': 0.14392712550607278, '5424868494185948025 7132150215354931734': 0, '5424868494185948025 -5422926545859172522': 0, '-1000048976320355299 -3032869904655362244': 0, '-1000048976320355299 7132150215354931734': 0, '-1000048976320355299 -5422926545859172522': 0}\n"
          ],
          "name": "stdout"
        }
      ]
    },
    {
      "cell_type": "code",
      "metadata": {
        "colab": {
          "base_uri": "https://localhost:8080/"
        },
        "id": "weDH9KaFZTLD",
        "outputId": "5afb9d45-0d20-4eb2-b919-277af91b2b27"
      },
      "source": [
        "episode = Episode(8)\n",
        "trainer.get_shortest_path(episode.state)"
      ],
      "execution_count": null,
      "outputs": [
        {
          "output_type": "stream",
          "text": [
            "preconditioned_episode :\n",
            " {'chapter': 'reassign wont work', 'total_leaders_leading': 2.5, 'people_gradewise': {'3': 2.5, '4.1': 3, '4.2': 0, '4.3': 0, '4.4': 5, '5.1': 1, '5.2': 2, 'MS': 27}}\n",
            "15.2\n",
            "reward : 4.857142857142858\n",
            "reward : 2.6984126984126977\n",
            "reward : -100\n",
            "\n",
            "\n",
            "total_leaders_leading 2.5 \n",
            "drs_per_lead 16 \n",
            "total_leader_grades_unutilised 3.0 \n",
            "target_dr_per_lead 5 \n",
            "dr_per_lead_gt_target_and_leaders_unutilised True\n",
            "\n",
            "\n",
            "total_leaders_leading 3.5 \n",
            "drs_per_lead 11.142857142857142 \n",
            "total_leader_grades_unutilised 2.0 \n",
            "target_dr_per_lead 5 \n",
            "dr_per_lead_gt_target_and_leaders_unutilised True\n",
            "\n",
            "\n",
            "total_leaders_leading 4.5 \n",
            "drs_per_lead 8.444444444444445 \n",
            "total_leader_grades_unutilised 1.0 \n",
            "target_dr_per_lead 5 \n",
            "dr_per_lead_gt_target_and_leaders_unutilised True\n",
            "\n",
            "\n",
            "total_leaders_leading 5.5 \n",
            "drs_per_lead 6.7272727272727275 \n",
            "total_leader_grades_unutilised 0.0 \n",
            "target_dr_per_lead 5 \n",
            "dr_per_lead_gt_target_and_leaders_unutilised False\n"
          ],
          "name": "stdout"
        }
      ]
    },
    {
      "cell_type": "code",
      "metadata": {
        "colab": {
          "base_uri": "https://localhost:8080/"
        },
        "id": "JVl01lW7a-bb",
        "outputId": "d2cfac03-2de4-4553-fc24-ae210408f9f7"
      },
      "source": [
        "#Test Chapter_Stats\n",
        "cs = Chapter_Stats(\"Analyst\",2,{\"3\":0, \"4.1\":1, \"4.2\":6, \"4.3\":6, \"4.4\":1, \"5.1\":0, \"5.2\":2, \"MS\":7})\n",
        "cs.print_info()"
      ],
      "execution_count": null,
      "outputs": [
        {
          "output_type": "stream",
          "text": [
            "Chapter_Stats\n",
            "Analyst 2 21 {'3': 0, '4.1': 1, '4.2': 6, '4.3': 6, '4.4': 1, '5.1': 0, '5.2': 2, 'MS': 7} 13\n"
          ],
          "name": "stdout"
        }
      ]
    },
    {
      "cell_type": "code",
      "metadata": {
        "colab": {
          "base_uri": "https://localhost:8080/"
        },
        "id": "6QMKQkpsctEV",
        "outputId": "7b960be0-fd3b-441f-ccf4-dcdeeb0de668"
      },
      "source": [
        "#Test State\n",
        "st=State(cs,Business_Rules())\n",
        "st.print_info()\n",
        "\n",
        "print(round(1.5))\n",
        "print(round(2.5))\n",
        "\n",
        "print(st)\n",
        "st2 = Reassign.reassigned_leader(st)\n",
        "st2.print_info()"
      ],
      "execution_count": null,
      "outputs": [
        {
          "output_type": "stream",
          "text": [
            "10.5\n",
            "\n",
            "\n",
            "total_leaders_leading 2 \n",
            "drs_per_lead 11 \n",
            "total_leader_grades_unutilised 11 \n",
            "target_dr_per_lead 5 \n",
            "dr_per_lead_gt_target_and_leaders_unutilised True\n",
            "2\n",
            "2\n",
            "<__main__.State object at 0x7f835a5e53d0>\n",
            "\n",
            "\n",
            "total_leaders_leading 3 \n",
            "drs_per_lead 7.0 \n",
            "total_leader_grades_unutilised 10 \n",
            "target_dr_per_lead 5 \n",
            "dr_per_lead_gt_target_and_leaders_unutilised True\n"
          ],
          "name": "stdout"
        }
      ]
    },
    {
      "cell_type": "code",
      "metadata": {
        "colab": {
          "base_uri": "https://localhost:8080/"
        },
        "id": "9WoR_UNAjYR1",
        "outputId": "6f232102-7880-478b-f82b-7a43f8db467e"
      },
      "source": [
        "st1=State(cs,Business_Rules())\n",
        "st1.total_leaders_leading = 100\n",
        "st1.drs_per_lead = 100\n",
        "st1.total_leader_grades_unutilised = 100\n",
        "\n",
        "\n",
        "st2=State(cs,Business_Rules())\n",
        "st2.total_leaders_leading = 100\n",
        "st2.drs_per_lead = 100\n",
        "st2.total_leader_grades_unutilised = 100\n",
        "\n",
        "print(hash((100,100,100,4,1)))\n",
        "\n",
        "print(hash((100,100,100,4,True)))\n",
        "\n",
        "print(hash((50,200,100,4,True)))\n",
        "\n",
        "print(hash(st1))\n",
        "print(hash(st2))\n",
        "\n",
        "print(st1.state_hash())\n",
        "print(st2.state_hash())\n"
      ],
      "execution_count": null,
      "outputs": [
        {
          "output_type": "stream",
          "text": [
            "10.5\n",
            "10.5\n",
            "-7260956807247127806\n",
            "-7260956807247127806\n",
            "-8208932399249847992\n",
            "8762633332541\n",
            "8762633332525\n",
            "-7260955147838557169\n",
            "-7260955147838557169\n"
          ],
          "name": "stdout"
        }
      ]
    },
    {
      "cell_type": "code",
      "metadata": {
        "colab": {
          "base_uri": "https://localhost:8080/"
        },
        "id": "ZXdzCr8vt7XG",
        "outputId": "c2539d67-7330-4a36-8de4-07624e7ca411"
      },
      "source": [
        "al = ActionList(Business_Rules().actions)\n",
        "print(al.actions)\n",
        "print(al.list_action_hash)"
      ],
      "execution_count": null,
      "outputs": [
        {
          "output_type": "stream",
          "text": [
            "[<__main__.Action object at 0x7f835a5c8a50>, <__main__.Action object at 0x7f835a5c8ed0>, <__main__.Action object at 0x7f835a5c8a90>]\n",
            "[-3032869904655362244, 7132150215354931734, -5422926545859172522]\n"
          ],
          "name": "stdout"
        }
      ]
    },
    {
      "cell_type": "code",
      "metadata": {
        "colab": {
          "base_uri": "https://localhost:8080/"
        },
        "id": "zJEcfuHM_u7C",
        "outputId": "8c85d0b7-7895-409e-c0a4-039564d33380"
      },
      "source": [
        "rw = Reward()\n",
        "act = Action(\"reassign\")\n",
        "\n",
        "st.print_info()\n",
        "\n",
        "value = rw.reward_function(st, act)\n",
        "print(\"next\", 2)\n",
        "print(value)\n",
        "new_state = act.perform_action(st)\n",
        "new_state.print_info()\n",
        "\n",
        "value = rw.reward_function(new_state, act)\n",
        "print(\"next\", 3)\n",
        "print(value)\n",
        "new_state = act.perform_action(new_state)\n",
        "new_state.print_info()\n",
        "\n",
        "value = rw.reward_function(new_state, act)\n",
        "print(\"next\", 4)\n",
        "print(value)\n",
        "new_state = act.perform_action(new_state)\n",
        "new_state.print_info()\n",
        "\n",
        "value = rw.reward_function(new_state, act)\n",
        "print(\"next\", 5)\n",
        "print(value)"
      ],
      "execution_count": null,
      "outputs": [
        {
          "output_type": "stream",
          "text": [
            "\n",
            "\n",
            "total_leaders_leading 2 \n",
            "drs_per_lead 11 \n",
            "total_leader_grades_unutilised 11 \n",
            "target_dr_per_lead 5 \n",
            "dr_per_lead_gt_target_and_leaders_unutilised True\n",
            "next 2\n",
            "4.0\n",
            "\n",
            "\n",
            "total_leaders_leading 3 \n",
            "drs_per_lead 7.0 \n",
            "total_leader_grades_unutilised 10 \n",
            "target_dr_per_lead 5 \n",
            "dr_per_lead_gt_target_and_leaders_unutilised True\n",
            "next 3\n",
            "100\n",
            "\n",
            "\n",
            "total_leaders_leading 4 \n",
            "drs_per_lead 5.0 \n",
            "total_leader_grades_unutilised 9 \n",
            "target_dr_per_lead 5 \n",
            "dr_per_lead_gt_target_and_leaders_unutilised False\n",
            "next 4\n",
            "100\n",
            "\n",
            "\n",
            "total_leaders_leading 4 \n",
            "drs_per_lead 5.0 \n",
            "total_leader_grades_unutilised 9 \n",
            "target_dr_per_lead 5 \n",
            "dr_per_lead_gt_target_and_leaders_unutilised False\n",
            "next 5\n",
            "100\n"
          ],
          "name": "stdout"
        }
      ]
    }
  ]
}