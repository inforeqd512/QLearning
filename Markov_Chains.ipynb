{
  "nbformat": 4,
  "nbformat_minor": 0,
  "metadata": {
    "colab": {
      "name": "Markov Chains.ipynb",
      "provenance": [],
      "collapsed_sections": [],
      "authorship_tag": "ABX9TyMAi7+Jns3dSHSWJRyMnXTt",
      "include_colab_link": true
    },
    "kernelspec": {
      "name": "python3",
      "display_name": "Python 3"
    },
    "language_info": {
      "name": "python"
    }
  },
  "cells": [
    {
      "cell_type": "markdown",
      "metadata": {
        "id": "view-in-github",
        "colab_type": "text"
      },
      "source": [
        "<a href=\"https://colab.research.google.com/github/inforeqd512/QLearning/blob/main/Markov_Chains.ipynb\" target=\"_parent\"><img src=\"https://colab.research.google.com/assets/colab-badge.svg\" alt=\"Open In Colab\"/></a>"
      ]
    },
    {
      "cell_type": "markdown",
      "metadata": {
        "id": "Euv6ya5MoSyW"
      },
      "source": [
        "# **Task : Create New Proverbs using Markov Chains**"
      ]
    },
    {
      "cell_type": "markdown",
      "metadata": {
        "id": "WXiX-5WWn9Hy"
      },
      "source": [
        "# **Markov Chains**\n",
        "\n",
        "A Markov chain is fundamental to understanding Reinforcement Learning. \n",
        "\n",
        "It is a mathematical system that experiences transitions from one state to another according to certain probabilistic rules. The defining characteristic of a Markov chain is that no matter how the process arrived at its present state, the possible future states are fixed.\n",
        "\n",
        "**Transition Matrix (denoted as P)**— For a system with N states, this is an NxN matrix. It represents the probability distribution of any state’s transition to another. The sum of probabilities in each row of the matrix will be 1, implying that this is a stochastic matrix.\n",
        "\n",
        "**Discrete stochastic process** - Discrete stochastic processes are essentially probabilistic processes where interesting things (arrivals, departures, changes of state) occur at discrete instants of time separated by deterministic or random intervals. Discrete stochastic processes are to be distinguished from noise-like stochastic processes in which changes are continuously occurring and the sample paths are continuously varying functions of time."
      ]
    },
    {
      "cell_type": "markdown",
      "metadata": {
        "id": "kG-zP337ovcn"
      },
      "source": [
        "<sup>Source: [Markov Chain Explained](https://towardsdatascience.com/markov-chain-explained-210581d7a4a9) from Towards Data Science</sup>\n",
        "\n",
        "<sup>Source: [Discrete Stochastic Processes](https://ocw.mit.edu/courses/electrical-engineering-and-computer-science/6-262-discrete-stochastic-processes-spring-2011/) from MIT Open Courseware</sup>"
      ]
    },
    {
      "cell_type": "markdown",
      "metadata": {
        "id": "JTinBK-FlDnG"
      },
      "source": [
        "In this notebook, we're specifically going to **generate text in the style of English proverbs**, so as a first step, we'll take a list of such proverbs (this is the corpus). Think about every word in this as a state. We can make a simple assumption that the next word is only dependent on the previous word - which is the basic assumption of a Markov chain. When we see the list of next words that appear after any word, we'll see words appearing frequently in line with the style of the proverbs.  \n",
        "\n",
        "> For eg, 'A' is followed by 'good' 46% of the time, while it's followed by 'fool' 18% of the time\n",
        "\n",
        "Then by following the beginning word to the next based on the probability of occurance, we're implicitly following it's transition probability matrix and constructing new proverbs. "
      ]
    },
    {
      "cell_type": "markdown",
      "metadata": {
        "id": "oNWIDwhkslN9"
      },
      "source": [
        "The predictions associated with a Markov process are conditional on its current state and is independent of past and future states.\n",
        "This $memorylessness$ attribute is both a blessing and a curse to the Markov model in application. Imagine the scenario that you wish to predict words/sentences based on previously entered text (similar to how Google does for gmail). Well, the benefit of using the Markov process to do this is that the newly generated predictions would not be dependent on something you wrote paragraphs ago. However, the downfall to this is that you won’t be able to predict text which has context in a previous state of the model. This is a common problem in NLP (natural language processing) and an issue many models face.\n",
        "\n",
        "\n",
        "Due to this, Markov chains don't generate text as well as deep learning, but it's a good (and fun!) start."
      ]
    },
    {
      "cell_type": "code",
      "metadata": {
        "id": "PHucoo-Fsksn"
      },
      "source": [
        "proverbs = \"A bad beginning makes a bad ending.\\n\\\n",
        "A bad corn promise is better than a good lawsuit.\\n\\\n",
        "A bad workman quarrels with his tools.\\n\\\n",
        "A bargain is a bargain.\\n\\\n",
        "A beggar can never be bankrupt.\\n\\\n",
        "A bird in the hand is worth two in the bush.\\n\\\n",
        "A bird may be known by its song.\\n\\\n",
        "A black hen lays a white egg.\\n\\\n",
        "A blind leader of the blind.\\n\\\n",
        "A blind man would be glad to see.\\n\\\n",
        "A broken friendship may be soldered, but will never be sound.\\n\\\n",
        "A burden of one's own choice is not felt.\\n\\\n",
        "A burnt child dreads the fire.\\n\\\n",
        "A cat in gloves catches no mice.\\n\\\n",
        "A city that parleys is half gotten.\\n\\\n",
        "A civil denial is better than a rude grant.\\n\\\n",
        "A clean fast is better than a dirty breakfast.\\n\\\n",
        "A clean hand wants no washing.\\n\\.\\n\\\n",
        "A clear conscience laughs at false accusations.\\n\\\n",
        "A close mouth catches no flies.\\n\\\n",
        "A cock is valiant on his own dunghill.\\n\\\n",
        "A cracked bell can never sound well.\\n\\\n",
        "A creaking door hangs long on its hinges.\\n\\\n",
        "A cursed cow has short horns.\\n\\\n",
        "A danger foreseen is half avoided.\\n\\\n",
        "A drop in the bucket.\\n\\\n",
        "A drowning man will catch at a straw.\\n\\\n",
        "A fair face may hide a foul heart.\\n\\\n",
        "A fault confessed is half redressed.\\n\\\n",
        "A fly in the ointment.\\n\\\n",
        "A fool always rushes to the fore.\\n\\\n",
        "A fool and his money are soon parted.\\n\\\n",
        "A fool at forty is a fool indeed.\\n\\\n",
        "A fool may ask more questions in an hour than a wise man can answer in seven years.\\n\\\n",
        "A fool may throw a stone into a well which a hundred wise men cannot pull out.\\n\\\n",
        "A fool's tongue runs before his wit.\\n\\\n",
        "A forced kindness deserves no thanks.\\n\\\n",
        "A foul morn may turn to a fair day.\\n\\\n",
        "A fox is not taken twice in the same snare.\\n\\\n",
        "A friend in need is a friend indeed.\\n\\\n",
        "A friend is never known till needed.\\n\\\n",
        "A friend to all is a friend to none.\\n\\\n",
        "A friend's frown is better than a foe's smile.\\n\\.\\n\\\n",
        "A good anvil does not fear the hammer.\\n\\\n",
        "A good beginning is half the battle.\\n\\\n",
        "A good beginning makes a good ending.\\n\\\n",
        "A good deed is never lost.\\n\\\n",
        "A good dog deserves a good bone.\\n\\\n",
        "A good example is the best sermon.\\n\\\n",
        "A good face is a letter of recommendation.\\n\\\n",
        "A good Jack makes a good Jill.\\n\\\n",
        "A good marksman may miss.\\n\\\n",
        "A good name is better than riches.\\n\\\n",
        "A good name is sooner lost than won.\\n\\\n",
        "A good name keeps its luster in the dark.\\n\\\n",
        "A good wife makes a good husband.\\n\\\n",
        "A great dowry is a bed full of brambles.\\n\\\n",
        "A great fortune is a great slavery.\\n\\\n",
        "A great ship asks deep waters.\\n\\\n",
        "A guilty conscience needs no accuser.\\n\\\n",
        "A hard nut to crack.\\n\\\n",
        "A heavy purse makes a light heart.\\n\\\n",
        "A hedge between keeps friendship green.\\n\\\n",
        "A honey tongue, a heart of gall.\\n\\\n",
        "A hungry belly has no ears.\\n\\\n",
        "A hungry man is an angry man.\\n\\\n",
        "A Jack of all trades is master of none.\\n\\\n",
        "A Joke never gains an enemy but often loses a friend.\\n\\\n",
        "A lawyer never goes to law himself.\\n\\\n",
        "A lazy sheep thinks its wool heavy.\\n\\\n",
        "A liar is not believed when he speaks the truth.\\n\\\n",
        "A lie begets a lie.\\n\\\n",
        "A light purse is a heavy curse.\\n\\\n",
        "A light purse makes a heavy heart.\\n\\\n",
        "A little body often harbors a great soul.\\n\\\n",
        "A little fire is quickly trodden out.\\n\\\n",
        "A man can die but once.\\n\\\n",
        "A man can do no more than he can.\\n\\\n",
        "A man is known by the company he keeps.\\n\\\n",
        "A man of words and not of deeds is like a garden full of weeds.\\n\\\n",
        "A miserly father makes a prodigal son.\\n\\\n",
        "A miss is as good as a mile.\\n\\\n",
        "A new broom sweeps clean.\\n\\\n",
        "A nod from a lord is a breakfast for a fool.\\n\\\n",
        "A penny saved is a penny gained.\\n\\\n",
        "A penny soul never came to twopence.\\n\\\n",
        "A quiet conscience sleeps in thunder.\\n\\\n",
        "A rolling stone gathers no moss.\\n\\\n",
        "A round peg in a square hole.\\n\\\n",
        "A shy cat makes a proud mouse.\\n\\\n",
        "A silent fool is counted wise.\\n\\\n",
        "A small leak will sink a great ship.\\n\\\n",
        "A soft answer turns away wrath.\\n\\\n",
        "A sound mind in a sound body.\\n\\\n",
        "A stitch in time saves nine.\\n\\\n",
        "A storm in a teacup.\\n\\\n",
        "A tattler is worse than a thief.\\n\\\n",
        "A thief knows a thief as a wolf knows a wolf.\\n\\\n",
        "A thief passes for a gentleman when stealing has made him rich.\\n\\\n",
        "A threatened blow is seldom given.\\n\\\n",
        ".\""
      ],
      "execution_count": 31,
      "outputs": []
    },
    {
      "cell_type": "markdown",
      "metadata": {
        "id": "UstLF3AfzrAN"
      },
      "source": [
        "# Create Markov Chain from words in Proverbs"
      ]
    },
    {
      "cell_type": "code",
      "metadata": {
        "id": "RFZ0z3tJvdG5"
      },
      "source": [
        "from collections import defaultdict\n",
        "\n",
        "def markov_chain(text):\n",
        "  '''The input is a string of text and the output will be a dictionary with each word as\n",
        "       a key and each value as the list of words that come after the key in the text.'''\n",
        "\n",
        "  # Initialize a default dictionary to hold all of the words and next words\n",
        "  m_dict = defaultdict(list)\n",
        "\n",
        "  lines = text.split(\"\\n\")\n",
        "\n",
        "  # Create a zipped list of all of the word pairs and put them in word: list of next words format\n",
        "  for line in lines:\n",
        "    # Tokenize the text by word, though including punctuation\n",
        "    words = line.split(\" \")\n",
        "    for current_word, next_word in zip(words[0:-1], words[1:]):\n",
        "      m_dict[current_word].append(next_word)\n",
        "\n",
        "  # Convert the default dict back into a dictionary\n",
        "  m_dict = dict(m_dict)\n",
        "  return m_dict"
      ],
      "execution_count": 32,
      "outputs": []
    },
    {
      "cell_type": "code",
      "metadata": {
        "id": "ZzEDmLKrv7fz"
      },
      "source": [
        "proverb_dict = markov_chain(proverbs)"
      ],
      "execution_count": 33,
      "outputs": []
    },
    {
      "cell_type": "markdown",
      "metadata": {
        "id": "g_hOXkH9zxRj"
      },
      "source": [
        "# Generate new Proverbs - Have fun! :-)"
      ]
    },
    {
      "cell_type": "code",
      "metadata": {
        "id": "nIRM7zk3zmQw"
      },
      "source": [
        "import random\n",
        "\n",
        "def generate_sentence(chain, count=15):\n",
        "  '''Input a dictionary in the format of key = current word, value = list of next words\n",
        "       along with the number of words you would like to see in your generated sentence.'''\n",
        "\n",
        "  # For your new sentence, randomly choose a first word. Capitalize the first word\n",
        "  beginning_word = random.choice(list(chain.keys())) \n",
        "  sentence = beginning_word.capitalize()\n",
        "\n",
        "  next_word = beginning_word\n",
        "  for i in range(0,count-1):\n",
        "    if next_word in chain:\n",
        "      next_word = random.choice(chain[next_word])\n",
        "      sentence += \" \" + next_word\n",
        "\n",
        "  # End it with a period`\n",
        "  sentence += '.'\n",
        "  return sentence"
      ],
      "execution_count": 34,
      "outputs": []
    },
    {
      "cell_type": "markdown",
      "metadata": {
        "id": "ay7kwPBm4BYV"
      },
      "source": [
        "Here are some examples of generated sentences:\n",
        "\n",
        ">'Choice is a heavy curse..'\n",
        "\n",
        ">'Rolling stone gathers no thanks..'\n",
        "\n",
        ">'Friend's frown is counted wise..'\n",
        "\n"
      ]
    },
    {
      "cell_type": "code",
      "metadata": {
        "colab": {
          "base_uri": "https://localhost:8080/",
          "height": 35
        },
        "id": "tHUIMSQ30MR9",
        "outputId": "1b3c5aab-4a6f-43ea-bc99-173cc01e6b2d"
      },
      "source": [
        "generate_sentence(proverb_dict, 15)"
      ],
      "execution_count": 45,
      "outputs": [
        {
          "output_type": "execute_result",
          "data": {
            "application/vnd.google.colaboratory.intrinsic+json": {
              "type": "string"
            },
            "text/plain": [
              "'Deeds is better than a straw..'"
            ]
          },
          "metadata": {},
          "execution_count": 45
        }
      ]
    },
    {
      "cell_type": "markdown",
      "metadata": {
        "id": "CIHkBvu0jVfV"
      },
      "source": [
        "# Visualise a part of the Markov Chain"
      ]
    },
    {
      "cell_type": "markdown",
      "metadata": {
        "id": "yn9SE09Gj0lr"
      },
      "source": [
        "**The Transition Probabilities** - The probabilities for the transition matrix is in the number of times the connected words repeat in the list. That way the chance of hitting a word when sampling randomly for the next word, will be defined by the number of repetitions of that word."
      ]
    },
    {
      "cell_type": "code",
      "metadata": {
        "colab": {
          "base_uri": "https://localhost:8080/"
        },
        "id": "WoOd6rQ1jl8K",
        "outputId": "12a42993-40d1-4af2-a96a-d7f5d6718e26"
      },
      "source": [
        "connected_words = proverb_dict['A']\n",
        "connected_words"
      ],
      "execution_count": 36,
      "outputs": [
        {
          "output_type": "execute_result",
          "data": {
            "text/plain": [
              "['bad',\n",
              " 'bad',\n",
              " 'bad',\n",
              " 'bargain',\n",
              " 'beggar',\n",
              " 'bird',\n",
              " 'bird',\n",
              " 'black',\n",
              " 'blind',\n",
              " 'blind',\n",
              " 'broken',\n",
              " 'burden',\n",
              " 'burnt',\n",
              " 'cat',\n",
              " 'city',\n",
              " 'civil',\n",
              " 'clean',\n",
              " 'clean',\n",
              " 'clear',\n",
              " 'close',\n",
              " 'cock',\n",
              " 'cracked',\n",
              " 'creaking',\n",
              " 'cursed',\n",
              " 'danger',\n",
              " 'drop',\n",
              " 'drowning',\n",
              " 'fair',\n",
              " 'fault',\n",
              " 'fly',\n",
              " 'fool',\n",
              " 'fool',\n",
              " 'fool',\n",
              " 'fool',\n",
              " 'fool',\n",
              " \"fool's\",\n",
              " 'forced',\n",
              " 'foul',\n",
              " 'fox',\n",
              " 'friend',\n",
              " 'friend',\n",
              " 'friend',\n",
              " \"friend's\",\n",
              " 'good',\n",
              " 'good',\n",
              " 'good',\n",
              " 'good',\n",
              " 'good',\n",
              " 'good',\n",
              " 'good',\n",
              " 'good',\n",
              " 'good',\n",
              " 'good',\n",
              " 'good',\n",
              " 'good',\n",
              " 'good',\n",
              " 'great',\n",
              " 'great',\n",
              " 'great',\n",
              " 'guilty',\n",
              " 'hard',\n",
              " 'heavy',\n",
              " 'hedge',\n",
              " 'honey',\n",
              " 'hungry',\n",
              " 'hungry',\n",
              " 'Jack',\n",
              " 'Joke',\n",
              " 'lawyer',\n",
              " 'lazy',\n",
              " 'liar',\n",
              " 'lie',\n",
              " 'light',\n",
              " 'light',\n",
              " 'little',\n",
              " 'little',\n",
              " 'man',\n",
              " 'man',\n",
              " 'man',\n",
              " 'man',\n",
              " 'miserly',\n",
              " 'miss',\n",
              " 'new',\n",
              " 'nod',\n",
              " 'penny',\n",
              " 'penny',\n",
              " 'quiet',\n",
              " 'rolling',\n",
              " 'round',\n",
              " 'shy',\n",
              " 'silent',\n",
              " 'small',\n",
              " 'soft',\n",
              " 'sound',\n",
              " 'stitch',\n",
              " 'storm',\n",
              " 'tattler',\n",
              " 'thief',\n",
              " 'thief',\n",
              " 'threatened']"
            ]
          },
          "metadata": {},
          "execution_count": 36
        }
      ]
    },
    {
      "cell_type": "code",
      "metadata": {
        "colab": {
          "base_uri": "https://localhost:8080/"
        },
        "id": "fCz5fd4u4yRQ",
        "outputId": "10ef625f-7d40-417b-9374-b347922493ba"
      },
      "source": [
        "def network_data(beginning_word):\n",
        "  connected_words = proverb_dict[beginning_word]\n",
        "  set_connected_words = set(connected_words)\n",
        "  print(\"\\n\\nUniquely connected words for \\'\" , beginning_word, \"\\' : \", set_connected_words)\n",
        "\n",
        "  #top most often connected words\n",
        "  words_occurance = {}\n",
        "  for word in set_connected_words:\n",
        "    words_occurance[connected_words.count(word)] = word\n",
        "  print(\"Top occurances : \", words_occurance)\n",
        "\n",
        "  #word most often connected with beginning word\n",
        "  max_occurance = max(list(words_occurance.keys()))\n",
        "  max_occurance_word = words_occurance[max_occurance]\n",
        "  print(\"Word most repeating in list : \", max_occurance_word)\n",
        "\n",
        "  #total occurances in above list\n",
        "  sum = 0\n",
        "  for num_key in list(words_occurance.keys()):\n",
        "    sum += num_key\n",
        "  print(\"Total top repetitions : \", sum)\n",
        "\n",
        "  #create the node->2nd level node connection list\n",
        "  words_connection_list = []\n",
        "  for word in list(words_occurance.values()):\n",
        "    words_connection_list.append((beginning_word, word))\n",
        "  print(\"Network node connections : \", words_connection_list)\n",
        "\n",
        "  #compute the probability matrix based on top connections\n",
        "  words_connection_probabilities = {}\n",
        "  for num_connections in words_occurance:\n",
        "    probability = round(num_connections / sum, 2)\n",
        "    words_connection_probabilities[(beginning_word, words_occurance[num_connections])] = round(num_connections / sum, 2)\n",
        "  print(\"Network edge connections (probabilities): \",words_connection_probabilities)\n",
        "\n",
        "  return words_connection_list, words_connection_probabilities, max_occurance_word\n",
        "\n",
        "beginning_word = 'A' #random.choice(list(proverb_dict.keys())) \n",
        "words_connection_list, words_connection_probabilities,  max_occurance_word = network_data(beginning_word)\n",
        "words_connection_list2, words_connection_probabilities2,  max_occurance_word2 = network_data(max_occurance_word)\n"
      ],
      "execution_count": 37,
      "outputs": [
        {
          "output_type": "stream",
          "name": "stdout",
          "text": [
            "\n",
            "\n",
            "Uniquely connected words for ' A ' :  {'bad', 'quiet', 'fool', 'liar', 'burnt', 'bargain', 'good', 'blind', 'cock', 'bird', 'drowning', 'little', 'hedge', 'miserly', 'penny', 'forced', 'black', 'city', 'danger', 'friend', 'shy', 'stitch', \"fool's\", 'small', 'threatened', 'new', 'cracked', 'thief', 'Joke', 'man', 'cursed', 'fox', 'clear', 'honey', 'lazy', 'lie', 'Jack', 'great', 'drop', 'hard', 'close', 'lawyer', 'round', 'fly', 'light', 'heavy', 'fault', 'nod', 'civil', 'miss', 'beggar', 'foul', 'fair', 'sound', 'guilty', 'clean', \"friend's\", 'hungry', 'soft', 'cat', 'storm', 'tattler', 'silent', 'broken', 'burden', 'creaking', 'rolling'}\n",
            "Top occurances :  {3: 'great', 1: 'rolling', 5: 'fool', 13: 'good', 2: 'hungry', 4: 'man'}\n",
            "Word most repeating in list :  good\n",
            "Total top repetitions :  28\n",
            "Network node connections :  [('A', 'great'), ('A', 'rolling'), ('A', 'fool'), ('A', 'good'), ('A', 'hungry'), ('A', 'man')]\n",
            "Network edge connections (probabilities):  {('A', 'great'): 0.11, ('A', 'rolling'): 0.04, ('A', 'fool'): 0.18, ('A', 'good'): 0.46, ('A', 'hungry'): 0.07, ('A', 'man'): 0.14}\n",
            "\n",
            "\n",
            "Uniquely connected words for ' good ' :  {'face', 'Jill.', 'bone.', 'as', 'deed', 'wife', 'husband.', 'lawsuit.', 'name', 'dog', 'ending.', 'Jack', 'beginning', 'example', 'marksman', 'anvil'}\n",
            "Top occurances :  {1: 'anvil', 3: 'name', 2: 'beginning'}\n",
            "Word most repeating in list :  name\n",
            "Total top repetitions :  6\n",
            "Network node connections :  [('good', 'anvil'), ('good', 'name'), ('good', 'beginning')]\n",
            "Network edge connections (probabilities):  {('good', 'anvil'): 0.17, ('good', 'name'): 0.5, ('good', 'beginning'): 0.33}\n"
          ]
        }
      ]
    },
    {
      "cell_type": "code",
      "metadata": {
        "colab": {
          "base_uri": "https://localhost:8080/",
          "height": 248
        },
        "id": "tMtoqilV4d8U",
        "outputId": "d39f744f-c120-48c3-b80e-9bdb70707b26"
      },
      "source": [
        "#visualise the graph\n",
        "import networkx as nx\n",
        "import pylab as plt\n",
        "\n",
        "G = nx.Graph()\n",
        "G.add_edges_from(words_connection_list)\n",
        "G.add_edges_from(words_connection_list2)\n",
        "pos = nx.spring_layout(G)\n",
        "nx.draw_networkx_nodes(G,pos)\n",
        "nx.draw_networkx_edges(G,pos)\n",
        "nx.draw_networkx_labels(G,pos)\n",
        "nx.draw_networkx_edge_labels(G, pos, words_connection_probabilities)\n",
        "nx.draw_networkx_edge_labels(G, pos, words_connection_probabilities2)\n",
        "plt.show()"
      ],
      "execution_count": 38,
      "outputs": [
        {
          "output_type": "display_data",
          "data": {
            "image/png": "[encoded data removed]",
            "text/plain": [
              "<Figure size 432x288 with 1 Axes>"
            ]
          },
          "metadata": {}
        }
      ]
    }
  ]
}