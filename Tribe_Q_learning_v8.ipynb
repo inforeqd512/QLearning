{
  "nbformat": 4,
  "nbformat_minor": 0,
  "metadata": {
    "colab": {
      "name": "Tribe_Q_learning_v8.ipynb",
      "provenance": [],
      "collapsed_sections": [
        "HGbgNnT6iG-D",
        "hR39YLsms7tY",
        "hX98tewahdjb",
        "9QONOYm58pQl"
      ],
      "authorship_tag": "ABX9TyOfjTU2YVfu1cp7nOaSTZoT",
      "include_colab_link": true
    },
    "kernelspec": {
      "name": "python3",
      "display_name": "Python 3"
    },
    "language_info": {
      "name": "python"
    }
  },
  "cells": [
    {
      "cell_type": "markdown",
      "metadata": {
        "id": "view-in-github",
        "colab_type": "text"
      },
      "source": [
        "<a href=\"https://colab.research.google.com/github/inforeqd512/QLearning/blob/main/Tribe_Q_learning_v8.ipynb\" target=\"_parent\"><img src=\"https://colab.research.google.com/assets/colab-badge.svg\" alt=\"Open In Colab\"/></a>"
      ]
    },
    {
      "cell_type": "code",
      "metadata": {
        "colab": {
          "base_uri": "https://localhost:8080/"
        },
        "id": "Pcq1xIvKhnoh",
        "outputId": "7e68400e-23e8-4978-cc80-9344fa91069b"
      },
      "source": [
        "import numpy as np\n",
        "import copy #for deepcopy()\n",
        "# importing functools for reduce()\n",
        "import functools\n",
        "\n",
        "import unittest\n",
        "!python -V"
      ],
      "execution_count": 300,
      "outputs": [
        {
          "output_type": "stream",
          "text": [
            "Python 3.7.11\n"
          ],
          "name": "stdout"
        }
      ]
    },
    {
      "cell_type": "markdown",
      "metadata": {
        "id": "sDFzrYFGtX-L"
      },
      "source": [
        "# Business Rules"
      ]
    },
    {
      "cell_type": "code",
      "metadata": {
        "id": "QT9HctaStavV"
      },
      "source": [
        "class Business_rules:\n",
        "  def __init__(self):\n",
        "    self.target_dr_per_lead = 4\n",
        "    self.target_max_reassign = 4\n",
        "    return"
      ],
      "execution_count": 301,
      "outputs": []
    },
    {
      "cell_type": "markdown",
      "metadata": {
        "id": "3cb74F54_mbJ"
      },
      "source": [
        "# Chapter"
      ]
    },
    {
      "cell_type": "code",
      "metadata": {
        "id": "a9Cnq6rzdk98"
      },
      "source": [
        "class Allocated_leads:\n",
        "  def __init__(self):\n",
        "    self.allocated_leaders_gradewise = {\"3\":0, \"4.1\":0, \"4.2\":0}\n",
        "    return\n",
        "\n",
        "  def total_leaders_leading(self):\n",
        "    total = functools.reduce(lambda x, value:x + value, self.allocated_leaders_gradewise.values(), 0)\n",
        "    return total \n",
        "\n",
        "  def allocate_leaders(self, allocated_leaders_gradewise = {\"3\":0, \"4.1\":0, \"4.2\":0}):\n",
        "    for grade in allocated_leaders_gradewise:\n",
        "      self.allocated_leaders_gradewise[grade] += allocated_leaders_gradewise[grade]\n",
        "    return"
      ],
      "execution_count": 302,
      "outputs": []
    },
    {
      "cell_type": "code",
      "metadata": {
        "id": "v_Owab5me5nB"
      },
      "source": [
        "class Successor:\n",
        "  def __init__(self, \n",
        "               people_remaining_gradewise = {\"3\":0, \"4.1\":2, \"4.2\":0, \"4.3\":0, \"4.4\":0, \"5.1\":0, \"5.2\":0, \"MS\":0},\n",
        "               leader_successor_grades = {\"3\":\"4.1\", \"4.1\":\"4.2\", \"4.2\":\"4.3\"}\n",
        "               ):\n",
        "    self.people_remaining_gradewise = people_remaining_gradewise\n",
        "    self.leader_successor_grades = leader_successor_grades\n",
        "    self.engineer_successor_grades = {\"4.3\":\"4.4\", \"4.4\":\"5.1\", \"5.1\":\"5.2\"}\n",
        "    return\n",
        "\n",
        "  def successor_ratio_for_grade(self, kv_tuple):\n",
        "    k = kv_tuple[0]\n",
        "    v = kv_tuple[1]\n",
        "    total_successors = self.people_remaining_gradewise[v]\n",
        "    total_leaders = self.people_remaining_gradewise[k]\n",
        "    ratio = 0\n",
        "    if total_leaders <= 0:\n",
        "      total_leaders = 1\n",
        "    ratio = total_successors / total_leaders\n",
        "    return ratio\n",
        "\n",
        "  def dict_successor_per_lead(self):\n",
        "    d = dict(map(lambda kv: (kv[0], self.successor_ratio_for_grade(kv)) , self.leader_successor_grades.items()))\n",
        "    return d  \n",
        "\n",
        "\n",
        "  def total_successors_for_lead_grades(self):\n",
        "    d = self.dict_successor_per_lead()\n",
        "    total = functools.reduce(lambda x, value: x + value, d.values(), 0)\n",
        "    return total\n",
        "\n",
        "\n",
        "  def dict_successor_per_engineer(self):\n",
        "    d = dict(map(lambda kv: (kv[0], self.successor_ratio_for_grade(kv)) , self.engineer_successor_grades.items()))\n",
        "    return d  \n",
        "\n",
        "\n",
        "  def total_successors_for_engineer_grades(self):\n",
        "    d = self.dict_successor_per_engineer()\n",
        "    total = functools.reduce(lambda x, value: x + value, d.values(), 0)\n",
        "    return total\n",
        "\n",
        "\n",
        "  def diff_successor_ratio_for_leader_engineer_grades(self):\n",
        "    l = self.total_successors_for_lead_grades()\n",
        "    e = self.total_successors_for_engineer_grades()\n",
        "    diff = l - e\n",
        "    return diff\n",
        "\n",
        "  def is_num_people_immediate_promotable_to_higher_grade_lt_those_to_lower_grade(self):\n",
        "    promotable_to_higher_grade = self.total_successors_for_lead_grades()\n",
        "    promotable_to_lower_grade = self.total_successors_for_engineer_grades()\n",
        "    diff = promotable_to_higher_grade - promotable_to_lower_grade\n",
        "    rule = diff > 0\n",
        "    return rule  \n",
        "\n",
        "  def is_num_immediate_promotable_to_leader_grades_gt_zero(self):\n",
        "    rule = self.total_successors_for_lead_grades() > 0\n",
        "    return rule  "
      ],
      "execution_count": 303,
      "outputs": []
    },
    {
      "cell_type": "code",
      "metadata": {
        "id": "ItSuE429iKFY"
      },
      "source": [
        "class DR_per_lead:\n",
        "  def __init__(self, allocated_leads, business_rules, people_remaining_gradewise = {\"3\":0, \"4.1\":2, \"4.2\":0, \"4.3\":0, \"4.4\":0, \"5.1\":0, \"5.2\":0, \"MS\":0}):\n",
        "    self.people_remaining_gradewise = people_remaining_gradewise\n",
        "    self.allocated_leads = allocated_leads\n",
        "    return\n",
        "\n",
        "  def total_people_remaining(self):\n",
        "    total = functools.reduce(lambda x, value:x + value, self.people_remaining_gradewise.values(), 0)\n",
        "    return total\n",
        "\n",
        "  def dr_per_lead(self):\n",
        "    total = self.allocated_leads.total_leaders_leading()\n",
        "    ratio = 999 #some infinitely big number\n",
        "    if total > 0:\n",
        "      ratio = self.total_people_remaining() / total\n",
        "    return ratio\n",
        "\n",
        "  def is_overall_dr_per_lead_gt_target(self):\n",
        "    rule = self.dr_per_lead() > self.business_rules.target_dr_per_lead\n",
        "    return rule"
      ],
      "execution_count": 304,
      "outputs": []
    },
    {
      "cell_type": "code",
      "metadata": {
        "id": "3Fsk2uzklOe7"
      },
      "source": [
        "class DR_per_lead_for_this_leader_grade_wrt_higher_grades:\n",
        "  def __init__(self, allocated_leads, business_rules, ranked_grades=[\"3\",\"4.1\",\"4.2\"]):\n",
        "    self.allocated_leads = allocated_leads\n",
        "    self.ranked_grades = ranked_grades\n",
        "    self.business_rules = business_rules\n",
        "    return\n",
        "\n",
        "  def dr_per_lead_for_this_grade_wrt_higher_grades(self, grade):\n",
        "    total_leading_in_grade = self.allocated_leads.allocated_leaders_gradewise[grade]\n",
        "    total_leading_in_higher_grades = 0\n",
        "    for local_grade in self.ranked_grades:\n",
        "      if local_grade == grade:\n",
        "        break\n",
        "      total_leading_in_higher_grades += self.allocated_leads.allocated_leaders_gradewise[local_grade]\n",
        "\n",
        "    dr_per_lead_higher_grade = 0\n",
        "    if total_leading_in_higher_grades > 0:\n",
        "      dr_per_lead_higher_grade = total_leading_in_grade / total_leading_in_higher_grades\n",
        "\n",
        "    return dr_per_lead_higher_grade\n",
        "\n",
        "  def dict_dr_per_lead_for_this_grade_wrt_higher_grade(self):\n",
        "    dict_dr = {}\n",
        "    for grade in self.ranked_grades:\n",
        "      dr_per_lead_higher_grade = self.dr_per_lead_for_this_grade_wrt_higher_grades(grade)\n",
        "      dict_dr[grade] = dr_per_lead_higher_grade\n",
        "    return dict_dr\n",
        "\n",
        "  def max_dr_per_lead_in_leader_grades(self):\n",
        "    vals = self.dict_dr_per_lead_for_this_grade_wrt_higher_grade().values()\n",
        "    max_val = max(vals)\n",
        "    return max_val\n",
        "\n",
        "  def is_max_dr_per_lead_in_leader_grades_gt_target(self):\n",
        "    rule = self.max_dr_per_lead_in_leader_grades() > self.business_rules.target_dr_per_lead\n",
        "    return rule"
      ],
      "execution_count": 305,
      "outputs": []
    },
    {
      "cell_type": "code",
      "metadata": {
        "id": "tfycxTaY_mC9"
      },
      "source": [
        "class Chapter:\n",
        "  def __init__(self, people_gradewise = {\"3\":0, \"4.1\":2, \"4.2\":0, \"4.3\":0, \"4.4\":0, \"5.1\":0, \"5.2\":0, \"MS\":0}):\n",
        "    self.people_gradewise = people_gradewise\n",
        "    self.allocated_leads = Allocated_leads()\n",
        "    self.business_rules = Business_rules()\n",
        "    self.people_remaining_gradewise = copy.copy(self.people_gradewise)\n",
        "    self.leader_successor_grades = {\"3\":\"4.1\", \"4.1\":\"4.2\", \"4.2\":\"4.3\"}\n",
        "    self.ranked_leader_grades = self.leader_successor_grades.keys()\n",
        "    self.successor = Successor(people_remaining_gradewise = self.people_remaining_gradewise, \n",
        "                   leader_successor_grades = self.leader_successor_grades)\n",
        "    self.dr_per_lead = DR_per_lead(people_remaining_gradewise = self.people_remaining_gradewise,\n",
        "                                   business_rules = self.business_rules,\n",
        "                                   allocated_leads = self.allocated_leads)\n",
        "    self.dr_per_lead_for_this_leader_grade_wrt_higher_grades = DR_per_lead_for_this_leader_grade_wrt_higher_grades(allocated_leads = self.allocated_leads,\n",
        "                                                                                                                   business_rules = self.business_rules)\n",
        "    return\n",
        "  \n",
        "  def allocate_leaders(self, allocated_leaders_gradewise = {\"3\":0, \"4.1\":0, \"4.2\":0}):\n",
        "    self.allocated_leads.allocate_leaders(allocated_leaders_gradewise=allocated_leaders_gradewise)\n",
        "    for grade in allocated_leaders_gradewise:\n",
        "      self.people_remaining_gradewise[grade] -= allocated_leaders_gradewise[grade]\n",
        "    self.update_chapter_state()\n",
        "\n",
        "  def update_chapter_state(self):\n",
        "    self.successor = Successor(people_remaining_gradewise = self.people_remaining_gradewise, \n",
        "                   leader_successor_grades = self.leader_successor_grades)\n",
        "    self.dr_per_lead = DR_per_lead(people_remaining_gradewise = self.people_remaining_gradewise,\n",
        "                                  business_rules = self.business_rules,\n",
        "                                  allocated_leads = self.allocated_leads)\n",
        "    self.dr_per_lead_for_this_leader_grade_wrt_higher_grades = DR_per_lead_for_this_leader_grade_wrt_higher_grades(allocated_leads = self.allocated_leads,\n",
        "                                                                                                                business_rules = self.business_rules)\n",
        "\n",
        "  def total_people(self):\n",
        "    print(self.people_gradewise)\n",
        "    total = functools.reduce(lambda x, value:x + value, self.people_gradewise.values(), 0)\n",
        "    return total\n",
        "\n",
        "  def reassign_leaders(self):\n",
        "    d = self.dict_leaders_that_can_be_reassigned()\n",
        "    self.allocate_leaders(allocated_leaders_gradewise = d)\n",
        "    return\n",
        "\n",
        "  def dict_leaders_that_can_be_reassigned(self):\n",
        "    d = dict(map(lambda k: (k, self.people_remaining_gradewise[k]) , self.ranked_leader_grades))\n",
        "    return d\n",
        "\n",
        "  def total_leaders_that_can_be_reassigned(self):\n",
        "    total = functools.reduce(lambda x, k:x + self.people_remaining_gradewise[k], self.ranked_leader_grades, 0)\n",
        "    return total\n",
        "\n",
        "  def is_overall_dr_per_lead_gt_target(self):\n",
        "    rule = self.dr_per_lead.dr_per_lead() > self.business_rules.target_dr_per_lead\n",
        "    return rule\n",
        "\n",
        "  def is_num_reassignable_leaders_gt_zero(self):\n",
        "    rule = self.total_leaders_that_can_be_reassigned() > 0\n",
        "    return rule\n",
        "\n",
        "  def produce_state(self):\n",
        "    state = State()\n",
        "    state.is_overall_dr_per_lead_gt_target = self.is_overall_dr_per_lead_gt_target()\n",
        "    state.is_num_reassignable_leaders_gt_zero = self.is_num_reassignable_leaders_gt_zero()\n",
        "    state.is_num_immediate_promotable_to_leader_grades_gt_zero = self.successor.is_num_immediate_promotable_to_leader_grades_gt_zero()\n",
        "    state.is_num_people_immediate_promotable_to_higher_grade_lt_those_to_lower_grade = self.successor.is_num_people_immediate_promotable_to_higher_grade_lt_those_to_lower_grade()\n",
        "    state.is_max_dr_per_lead_in_leader_grades_gt_target = self.dr_per_lead_for_this_leader_grade_wrt_higher_grades.is_max_dr_per_lead_in_leader_grades_gt_target()\n",
        "    return state\n"
      ],
      "execution_count": 306,
      "outputs": []
    },
    {
      "cell_type": "markdown",
      "metadata": {
        "id": "JLakcETXe6xT"
      },
      "source": [
        "# State"
      ]
    },
    {
      "cell_type": "code",
      "metadata": {
        "id": "YLszFBm-eqxI"
      },
      "source": [
        "class State:\n",
        "\n",
        "  def __init__(self, is_overall_dr_per_lead_gt_target = False, \n",
        "                is_num_reassignable_leaders_gt_zero = False,\n",
        "                is_num_immediate_promotable_to_leader_grades_gt_zero = False,\n",
        "                is_num_people_immediate_promotable_to_higher_grade_lt_those_to_lower_grade = False,\n",
        "                is_max_dr_per_lead_in_leader_grades_gt_target = False):\n",
        "    self.is_overall_dr_per_lead_gt_target = is_overall_dr_per_lead_gt_target\n",
        "    self.is_num_reassignable_leaders_gt_zero = is_num_reassignable_leaders_gt_zero\n",
        "    self.is_num_immediate_promotable_to_leader_grades_gt_zero = is_num_immediate_promotable_to_leader_grades_gt_zero \n",
        "    self.is_num_people_immediate_promotable_to_higher_grade_lt_those_to_lower_grade = is_num_people_immediate_promotable_to_higher_grade_lt_those_to_lower_grade\n",
        "    self.is_max_dr_per_lead_in_leader_grades_gt_target = is_max_dr_per_lead_in_leader_grades_gt_target\n",
        "\n",
        "  def state_copy(self):\n",
        "    new_state = copy.deepcopy(self)\n",
        "    return new_state\n",
        "\n",
        "  def state_tuple(self):\n",
        "    return ((self.is_overall_dr_per_lead_gt_target, \n",
        "                        self.is_num_reassignable_leaders_gt_zero, \n",
        "                        self.is_num_immediate_promotable_to_leader_grades_gt_zero, \n",
        "                        self.is_num_people_immediate_promotable_to_higher_grade_lt_those_to_lower_grade,\n",
        "                        self.is_max_dr_per_lead_in_leader_grades_gt_target))\n",
        "\n",
        "  def state_hash(self):\n",
        "    hash_value = hash((self.is_overall_dr_per_lead_gt_target, \n",
        "                        self.is_num_reassignable_leaders_gt_zero, \n",
        "                        self.is_num_immediate_promotable_to_leader_grades_gt_zero, \n",
        "                        self.is_num_people_immediate_promotable_to_higher_grade_lt_those_to_lower_grade,\n",
        "                        self.is_max_dr_per_lead_in_leader_grades_gt_target))\n",
        "    return hash_value\n",
        "\n"
      ],
      "execution_count": 307,
      "outputs": []
    },
    {
      "cell_type": "markdown",
      "metadata": {
        "id": "HGbgNnT6iG-D"
      },
      "source": [
        "# Action"
      ]
    },
    {
      "cell_type": "code",
      "metadata": {
        "id": "2AgyHwnQpbMu"
      },
      "source": [
        "class Action:\n",
        "\n",
        "  def __init__(self, action_string):\n",
        "    self.action = action_string\n",
        "    self.action_hash = hash(action_string)\n",
        "    return\n",
        "\n",
        "  def print_info(self):\n",
        "    print(self.action, self.action_hash)\n",
        "    return\n",
        "\n",
        "  @classmethod\n",
        "  def action_from(self, action_string):\n",
        "    if action_string == \"reassign\":\n",
        "      return Reassign()"
      ],
      "execution_count": 308,
      "outputs": []
    },
    {
      "cell_type": "code",
      "metadata": {
        "id": "c1Y03s6qiEC-"
      },
      "source": [
        "class Reassign(Action):\n",
        "\n",
        "  def __init__(self):\n",
        "    super().__init__(\"reassign\")\n",
        "    return\n",
        "\n",
        "  def run(self, state, chapter):\n",
        "    chapter.reassign_leaders()\n",
        "    new_state = chapter.produce_state()\n",
        "    return new_state"
      ],
      "execution_count": 309,
      "outputs": []
    },
    {
      "cell_type": "code",
      "metadata": {
        "id": "MNCvZAhfiFkk"
      },
      "source": [
        "class Promote_cascade(Action):\n",
        "\n",
        "  def __init__(self):\n",
        "    super().__init__(\"promote_cascade\")\n",
        "    return\n",
        "\n",
        "  def run(self, state):\n",
        "    new_state = state.state_copy()\n",
        "    return new_state"
      ],
      "execution_count": 310,
      "outputs": []
    },
    {
      "cell_type": "code",
      "metadata": {
        "id": "Ng9MDVrAomJa"
      },
      "source": [
        "class Promote_leaders:\n",
        "\n",
        "  def __init__(self):\n",
        "    super().__init__(\"promote_leaders\")\n",
        "    return\n",
        "\n",
        "  def run(self, state):\n",
        "    new_state = state.state_copy()\n",
        "    return new_state"
      ],
      "execution_count": 311,
      "outputs": []
    },
    {
      "cell_type": "code",
      "metadata": {
        "id": "Bb06oefTo643"
      },
      "source": [
        "class Promote_junior_grades:\n",
        "\n",
        "  def __init__(self):\n",
        "    super().__init__(\"promote_junior_grades\")\n",
        "    return\n",
        "\n",
        "  def run(self, state):\n",
        "    new_state = state.state_copy()\n",
        "    return new_state"
      ],
      "execution_count": 312,
      "outputs": []
    },
    {
      "cell_type": "code",
      "metadata": {
        "id": "zscSqoXqojkN"
      },
      "source": [
        "class Hire:\n",
        "\n",
        "  def __init__(self):\n",
        "    super().__init__(\"hire\")\n",
        "    return\n",
        "\n",
        "  def run(self, state):\n",
        "    new_state = state.state_copy()\n",
        "    return new_state"
      ],
      "execution_count": 313,
      "outputs": []
    },
    {
      "cell_type": "code",
      "metadata": {
        "id": "RFuiFDQzox9B"
      },
      "source": [
        "class Hire_junior_grades:\n",
        "\n",
        "  def __init__(self):\n",
        "    super().__init__(\"hire_junior_grades\")\n",
        "    return\n",
        "\n",
        "  def run(self, state):\n",
        "    new_state = state.state_copy()\n",
        "    return new_state"
      ],
      "execution_count": 314,
      "outputs": []
    },
    {
      "cell_type": "markdown",
      "metadata": {
        "id": "hR39YLsms7tY"
      },
      "source": [
        "# Reward"
      ]
    },
    {
      "cell_type": "code",
      "metadata": {
        "id": "sRA6yJWgs6r0"
      },
      "source": [
        "class Reward:\n",
        "\n",
        "  environment_actions = [\n",
        "      \"reassign\",\n",
        "      \"promote_cascade\",\n",
        "      \"promote_leaders\",\n",
        "      \"promote_junior_grades\",\n",
        "      \"hire\",\n",
        "      \"hire_junior_grades\"\n",
        "  ]\n",
        "\n",
        "  environment_state_action_reward = {\n",
        "      (True, True, False, True, False)    : {\"reassign\":1},\n",
        "      (True, True, False, False, False)   : {\"reassign\":1},\n",
        "\n",
        "      (True, True, True, True, False)     : {\"reassign\":1},\n",
        "      (True, True, True, False, False)    : {\"reassign\":1},\n",
        "\n",
        "      (True, False, False, True, False)   : {\"promote_cascade\": 1, \"promote_junior_grades\": 1, \"hire_junior_grades\": 1},\n",
        "      (True, False, False, False, False)  : {\"promote_cascade\": 1, \"promote_junior_grades\": 1, \"hire_junior_grades\": 1},\n",
        "\n",
        "      (True, False, True, True, False)    : {\"promote_cascade\" : 1, \"promote_junior_grades\" : 1},\n",
        "      (True, False, True, False, False)   : {\"promote_cascade\" : 1, \"promote_junior_grades\" : 1},\n",
        "\n",
        "      (False, True, False, True, False)   : {\"success\" : 100},\n",
        "      (False, True, False, False, False)  : {\"success\" : 100},\n",
        "\n",
        "      (False, True, True, True, False)    : {\"success\" : 100},\n",
        "      (False, True, True, False, False)   : {\"success\" : 100},\n",
        "\n",
        "      (False, False, False, True, False)  : {\"success\" : 100},\n",
        "      (False, False, False, False, False) : {\"success\" : 100},\n",
        "\n",
        "      (False, False, True, True, False)    : {\"success\" : 100},\n",
        "      (False, False, True, False, False)   : {\"success\" : 100},\n",
        "\n",
        "      (True, True, False, True, True)    : {\"reassign\":1},\n",
        "      (True, True, False, False, True)   : {\"reassign\":1},\n",
        "\n",
        "      (True, True, True, True, True)     : {\"reassign\":1},\n",
        "      (True, True, True, False, True)    : {\"reassign\":1},\n",
        "\n",
        "      (True, False, False, True, True)   : {\"promote_cascade\": 1, \"promote_junior_grades\": 1, \"hire_junior_grades\": 1},\n",
        "      (True, False, False, False, True)  : {\"promote_cascade\": 1, \"promote_junior_grades\": 1, \"hire_junior_grades\": 1},\n",
        "\n",
        "      (True, False, True, True, True)    : {\"promote_cascade\" : 1, \"promote_junior_grades\" : 1},\n",
        "      (True, False, True, False, True)   : {\"promote_cascade\" : 1, \"promote_junior_grades\" : 1},\n",
        "\n",
        "      (False, True, False, True, True)   : {\"promote_leaders\": 1},\n",
        "      (False, True, False, False, True)  : {\"promote_leaders\": 1},\n",
        "\n",
        "      (False, True, True, True, True)    : {\"promote_leaders\": 1},\n",
        "      (False, True, True, False, True)   : {\"promote_leaders\": 1},\n",
        "\n",
        "      (False, False, False, True, True)  : {\"promote_leaders\": 1},\n",
        "      (False, False, False, False, True) : {\"promote_leaders\": 1},\n",
        "\n",
        "      (False, False, True, True, True)    : {\"promote_leaders\": 1},\n",
        "      (False, False, True, False, True)   : {\"promote_leaders\": 1},\n",
        "        }\n",
        "\n",
        "  def __init__(self):\n",
        "    return  \n",
        "\n",
        "  def reward_for_state_action(self, state, action):\n",
        "    state_tuple = state.state_tuple()\n",
        "    action_string = action.action\n",
        "\n",
        "    reward_actions = self.environment_state_action_reward[state_tuple]\n",
        "\n",
        "    if \"success\" in reward_actions:\n",
        "      return reward_actions[\"success\"]\n",
        "\n",
        "    if action_string in reward_actions:\n",
        "      return reward_actions[action_string]\n",
        "    \n",
        "    return -1\n"
      ],
      "execution_count": 315,
      "outputs": []
    },
    {
      "cell_type": "markdown",
      "metadata": {
        "id": "hX98tewahdjb"
      },
      "source": [
        "# State Tests"
      ]
    },
    {
      "cell_type": "code",
      "metadata": {
        "colab": {
          "base_uri": "https://localhost:8080/"
        },
        "id": "E-a9kzGihP9W",
        "outputId": "4364dc67-61f0-45d1-8539-aef6a2bcffda"
      },
      "source": [
        "class State_Test(unittest.TestCase):\n",
        "\n",
        "    def test_state_tuple(self):\n",
        "      st = State()\n",
        "      st_tuple = st.state_tuple()\n",
        "      self.assertTrue(st_tuple == (False, False, False, False, False))\n",
        "\n",
        "    def test_hash_exists(self):\n",
        "      st = State()\n",
        "      st_hash = st.state_hash()\n",
        "      self.assertTrue(st_hash > 0)\n",
        "\n",
        "    def test_hash_exists(self):\n",
        "      st = State()\n",
        "      st_cp = st.state_copy()\n",
        "      st_hash = st.state_hash()\n",
        "      st_cp_hash = st_cp.state_hash()\n",
        "      self.assertTrue(st_hash == st_cp_hash)\n",
        "\n",
        "# unittest.main(verbosity=2, exit=False)\n",
        "suite = unittest.TestLoader().loadTestsFromTestCase(State_Test)\n",
        "unittest.TextTestRunner().run(suite)\n"
      ],
      "execution_count": 316,
      "outputs": [
        {
          "output_type": "stream",
          "text": [
            "..\n",
            "----------------------------------------------------------------------\n",
            "Ran 2 tests in 0.003s\n",
            "\n",
            "OK\n"
          ],
          "name": "stderr"
        },
        {
          "output_type": "execute_result",
          "data": {
            "text/plain": [
              "<unittest.runner.TextTestResult run=2 errors=0 failures=0>"
            ]
          },
          "metadata": {},
          "execution_count": 316
        }
      ]
    },
    {
      "cell_type": "markdown",
      "metadata": {
        "id": "9QONOYm58pQl"
      },
      "source": [
        "# Reward Tests"
      ]
    },
    {
      "cell_type": "code",
      "metadata": {
        "colab": {
          "base_uri": "https://localhost:8080/"
        },
        "id": "uyiTfH7L8vLe",
        "outputId": "c1ad76b6-96c6-4a35-f9e9-829c0c009d35"
      },
      "source": [
        "class Reward_Tests(unittest.TestCase):\n",
        "\n",
        "    def test_reward_action(self):\n",
        "      rw = Reward()\n",
        "      st = State(*(True, True, False, True, False))\n",
        "      ac = Action(\"reassign\")   \n",
        "      rw_val = rw.reward_for_state_action(st, ac)\n",
        "      self.assertTrue(rw_val == 1)\n",
        "\n",
        "    def test_punish_action(self):\n",
        "      rw = Reward()\n",
        "      st = State(*(True, True, False, True, False))\n",
        "      ac = Action(\"promote_cascade\")   \n",
        "      rw_val = rw.reward_for_state_action(st, ac)\n",
        "      self.assertTrue(rw_val == -1)\n",
        "\n",
        "    def test_success_state(self):\n",
        "      rw = Reward()\n",
        "      st = State(*(False, True, False, True, False))\n",
        "      ac = Action(\"promote_cascade\")   \n",
        "      rw_val = rw.reward_for_state_action(st, ac)\n",
        "      self.assertTrue(rw_val == 100)\n",
        "\n",
        "# unittest.main(verbosity=2, exit=False)\n",
        "suite = unittest.TestLoader().loadTestsFromTestCase(Reward_Tests)\n",
        "unittest.TextTestRunner().run(suite)"
      ],
      "execution_count": 317,
      "outputs": [
        {
          "output_type": "stream",
          "text": [
            "...\n",
            "----------------------------------------------------------------------\n",
            "Ran 3 tests in 0.005s\n",
            "\n",
            "OK\n"
          ],
          "name": "stderr"
        },
        {
          "output_type": "execute_result",
          "data": {
            "text/plain": [
              "<unittest.runner.TextTestResult run=3 errors=0 failures=0>"
            ]
          },
          "metadata": {},
          "execution_count": 317
        }
      ]
    },
    {
      "cell_type": "markdown",
      "metadata": {
        "id": "EJDLDu5YB6-S"
      },
      "source": [
        "# Chapter Tests"
      ]
    },
    {
      "cell_type": "code",
      "metadata": {
        "colab": {
          "base_uri": "https://localhost:8080/"
        },
        "id": "MmzgvN0KB-HC",
        "outputId": "0b5e521e-cc98-4c63-a05a-c2929f82189b"
      },
      "source": [
        "\n",
        "class Chapter_Tests(unittest.TestCase):\n",
        "\n",
        "    def setUp(self):\n",
        "      self.ch = Chapter(people_gradewise = {\"3\":3, \"4.1\":3, \"4.2\":4, \"4.3\":6, \"4.4\":5, \"5.1\":1, \"5.2\":2, \"MS\":100})\n",
        "\n",
        "    def test_total_people(self):\n",
        "      self.assertTrue(self.ch.total_people() == 124)\n",
        "\n",
        "    def test_total_leaders_leading(self):\n",
        "      self.assertTrue(self.ch.allocated_leads.total_leaders_leading() == 0)\n",
        "\n",
        "    def test_total_leaders_that_can_be_reassigned(self):\n",
        "      self.assertTrue(self.ch.total_leaders_that_can_be_reassigned() == 10)\n",
        "\n",
        "    def test_dict_leaders_that_can_be_reassigned(self):\n",
        "      self.assertTrue(self.ch.dict_leaders_that_can_be_reassigned() == {'3': 3, '4.1': 3, '4.2': 4})\n",
        "\n",
        "suite = unittest.TestLoader().loadTestsFromTestCase(Chapter_Tests)\n",
        "unittest.TextTestRunner().run(suite)\n",
        "\n",
        "class Chapter_Tests_After_Reassign(unittest.TestCase):\n",
        "\n",
        "    def setUp(self):\n",
        "      self.ch = Chapter(people_gradewise = {\"3\":3, \"4.1\":3, \"4.2\":4, \"4.3\":6, \"4.4\":5, \"5.1\":1, \"5.2\":2, \"MS\":100})\n",
        "      self.ch.reassign_leaders()\n",
        "\n",
        "    def test_total_leaders_leading_after_reassign(self):\n",
        "      self.assertTrue(self.ch.allocated_leads.total_leaders_leading() == 10)\n",
        "\n",
        "    def test_dict_successor_per_lead(self):\n",
        "      self.assertTrue(self.ch.successor.dict_successor_per_lead() == {'3': 0.0, '4.1': 0.0, '4.2': 6.0})\n",
        "\n",
        "    def test_dict_successor_per_engineer(self):\n",
        "      self.assertTrue(self.ch.successor.dict_successor_per_engineer() == {'4.3': 0.8333333333333334, '4.4': 0.2, '5.1': 2.0})\n",
        "\n",
        "    def test_total_successors_for_lead_grades(self):\n",
        "      self.assertTrue(self.ch.successor.total_successors_for_lead_grades() == 6.0)\n",
        "\n",
        "    def test_total_successors_for_engineer_grades(self):\n",
        "      self.assertTrue(self.ch.successor.total_successors_for_engineer_grades() == 3.033333333333333)\n",
        "\n",
        "    def test_diff_successor_ratio_for_leader_engineer_grades(self):\n",
        "      self.assertTrue(self.ch.successor.diff_successor_ratio_for_leader_engineer_grades() == 2.966666666666667)\n",
        "\n",
        "    def test_total_people_remaining(self):\n",
        "      self.assertTrue(self.ch.dr_per_lead.total_people_remaining() == 114)\n",
        "\n",
        "    #state \n",
        "    def test_is_overall_dr_per_lead_gt_target(self):\n",
        "      self.assertTrue(self.ch.dr_per_lead.dr_per_lead() == 11.4)\n",
        "      self.assertTrue(self.ch.is_overall_dr_per_lead_gt_target() == True)\n",
        "\n",
        "    def test_is_num_reassignable_leaders_gt_zero(self):\n",
        "      self.assertTrue(self.ch.total_leaders_that_can_be_reassigned() == 0)\n",
        "      self.assertTrue(self.ch.is_num_reassignable_leaders_gt_zero() == False)\n",
        "\n",
        "    def test_is_num_immediate_promotable_to_leader_grades_gt_zero(self):\n",
        "      self.assertTrue(self.ch.successor.total_successors_for_lead_grades() == 6)\n",
        "      self.assertTrue(self.ch.successor.is_num_immediate_promotable_to_leader_grades_gt_zero() == True)\n",
        "\n",
        "    def test_is_max_dr_per_lead_in_leader_grades_gt_target(self):\n",
        "      self.assertTrue(self.ch.dr_per_lead_for_this_leader_grade_wrt_higher_grades.max_dr_per_lead_in_leader_grades() == 1)\n",
        "      self.assertTrue(self.ch.dr_per_lead_for_this_leader_grade_wrt_higher_grades.dict_dr_per_lead_for_this_grade_wrt_higher_grade() == {'3': 0, '4.1': 1.0, '4.2': 0.6666666666666666})\n",
        "      self.assertTrue(self.ch.dr_per_lead_for_this_leader_grade_wrt_higher_grades.is_max_dr_per_lead_in_leader_grades_gt_target() == False)\n",
        "\n",
        "    def test_produce_state(self):\n",
        "      st=ch.produce_state()\n",
        "      self.assertTrue(st.state_tuple() == (True, False, True, True, False))\n",
        "\n",
        "suite = unittest.TestLoader().loadTestsFromTestCase(Chapter_Tests_After_Reassign)\n",
        "unittest.TextTestRunner().run(suite)\n",
        "\n"
      ],
      "execution_count": 318,
      "outputs": [
        {
          "output_type": "stream",
          "text": [
            "....\n",
            "----------------------------------------------------------------------\n",
            "Ran 4 tests in 0.007s\n",
            "\n",
            "OK\n",
            "............\n",
            "----------------------------------------------------------------------\n",
            "Ran 12 tests in 0.032s\n",
            "\n",
            "OK\n"
          ],
          "name": "stderr"
        },
        {
          "output_type": "stream",
          "text": [
            "{'3': 3, '4.1': 3, '4.2': 4, '4.3': 6, '4.4': 5, '5.1': 1, '5.2': 2, 'MS': 100}\n"
          ],
          "name": "stdout"
        },
        {
          "output_type": "execute_result",
          "data": {
            "text/plain": [
              "<unittest.runner.TextTestResult run=12 errors=0 failures=0>"
            ]
          },
          "metadata": {},
          "execution_count": 318
        }
      ]
    },
    {
      "cell_type": "code",
      "metadata": {
        "colab": {
          "base_uri": "https://localhost:8080/"
        },
        "id": "pIcOEJkPcPjj",
        "outputId": "fda99b6b-7195-4489-a8f4-624c7fd57aec"
      },
      "source": [
        "class Reassign_Tests(unittest.TestCase):\n",
        "\n",
        "    def setUp(self):\n",
        "      self.ch = Chapter(people_gradewise = {\"3\":3, \"4.1\":3, \"4.2\":4, \"4.3\":6, \"4.4\":5, \"5.1\":1, \"5.2\":2, \"MS\":100})\n",
        "\n",
        "    def test_before_reassign(self):\n",
        "      st = self.ch.produce_state()\n",
        "      self.assertTrue(st.state_tuple() == (True, True, True, True, False))\n",
        "\n",
        "    def test_after_reassign(self):\n",
        "      action = Reassign()\n",
        "      st2 = action.run(st, self.ch)\n",
        "      self.assertTrue(st2.state_tuple() == (True, False, True, True, False))\n",
        "\n",
        "\n",
        "suite = unittest.TestLoader().loadTestsFromTestCase(Reassign_Tests)\n",
        "unittest.TextTestRunner().run(suite)"
      ],
      "execution_count": 319,
      "outputs": [
        {
          "output_type": "stream",
          "text": [
            "..\n",
            "----------------------------------------------------------------------\n",
            "Ran 2 tests in 0.006s\n",
            "\n",
            "OK\n"
          ],
          "name": "stderr"
        },
        {
          "output_type": "execute_result",
          "data": {
            "text/plain": [
              "<unittest.runner.TextTestResult run=2 errors=0 failures=0>"
            ]
          },
          "metadata": {},
          "execution_count": 319
        }
      ]
    }
  ]
}