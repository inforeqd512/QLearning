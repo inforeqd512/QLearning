{
  "nbformat": 4,
  "nbformat_minor": 0,
  "metadata": {
    "colab": {
      "name": "Tribe_Q_learning_v2.ipynb",
      "provenance": [],
      "collapsed_sections": [],
      "authorship_tag": "ABX9TyNuTtDDhN0ODe0UFoz7/7g7",
      "include_colab_link": true
    },
    "kernelspec": {
      "name": "python3",
      "display_name": "Python 3"
    },
    "language_info": {
      "name": "python"
    }
  },
  "cells": [
    {
      "cell_type": "markdown",
      "metadata": {
        "id": "view-in-github",
        "colab_type": "text"
      },
      "source": [
        "<a href=\"https://colab.research.google.com/github/inforeqd512/QLearning/blob/main/Tribe_Q_learning_v2.ipynb\" target=\"_parent\"><img src=\"https://colab.research.google.com/assets/colab-badge.svg\" alt=\"Open In Colab\"/></a>"
      ]
    },
    {
      "cell_type": "code",
      "metadata": {
        "colab": {
          "base_uri": "https://localhost:8080/"
        },
        "id": "5DHq0Rw2OzGf",
        "outputId": "c58d6e28-1822-4db8-e734-cdff6d1e50ab"
      },
      "source": [
        "#import libraries\n",
        "import numpy as np\n",
        "import math\n",
        "import copy #for deepcopy()\n",
        "from enum import Enum\n",
        "!python -V"
      ],
      "execution_count": 431,
      "outputs": [
        {
          "output_type": "stream",
          "text": [
            "Python 3.7.11\n"
          ],
          "name": "stdout"
        }
      ]
    },
    {
      "cell_type": "code",
      "metadata": {
        "id": "4dBv7bXpaFcm"
      },
      "source": [
        "class Business_Rules:\n",
        "\n",
        "  def __init__(self):\n",
        "    self.target_dr_per_lead = 5\n",
        "    self.actions = ['reassign', 'promote_dr', 'hire']\n",
        "    self.ceil_total_leaders_leading = 10\n",
        "    self.ceil_total_people_in_grade = 50\n",
        "    self.grades = [\"3\", \"4.1\", \"4.2\", \"4.3\", \"4.4\", \"5.1\", \"5.2\", \"MS\"]\n"
      ],
      "execution_count": 432,
      "outputs": []
    },
    {
      "cell_type": "code",
      "metadata": {
        "id": "u_gUzPu1WAyq"
      },
      "source": [
        "class Chapter_Stats:\n",
        "  def __init__(self, chapter, total_leaders_leading, people_gradewise = {\"3\":0, \"4.1\":0, \"4.2\":0, \"4.3\":0, \"4.4\":0, \"5.1\":0, \"5.2\":0, \"MS\":0}):\n",
        "    self.chapter=chapter\n",
        "    self.total_leaders_leading=total_leaders_leading\n",
        "    self.people_gradewise=people_gradewise\n",
        "\n",
        "    total_people=0\n",
        "    total_leader_grades=0\n",
        "    for grade in people_gradewise:\n",
        "      total_people = total_people + people_gradewise[grade]\n",
        "      if grade in [\"3\", \"4.1\", \"4.2\", \"4.3\"]:\n",
        "        total_leader_grades = total_leader_grades + people_gradewise[grade]\n",
        "    \n",
        "    self.total_DRs = total_people - total_leaders_leading\n",
        "    self.total_leader_grades = total_leader_grades\n",
        "\n",
        "  def print_info(self):\n",
        "    print(\"Chapter_Stats\")\n",
        "    print(self.chapter, self.total_leaders_leading, self.total_DRs, self.people_gradewise, self.total_leader_grades)"
      ],
      "execution_count": 433,
      "outputs": []
    },
    {
      "cell_type": "code",
      "metadata": {
        "id": "H72btjuHP-tB"
      },
      "source": [
        "class State:\n",
        "\n",
        "    def __init__(self, chapter_stats, business_rules):\n",
        "      self.total_leaders_leading=chapter_stats.total_leaders_leading\n",
        "      print(chapter_stats.total_DRs / chapter_stats.total_leaders_leading)\n",
        "      self.drs_per_lead = math.ceil(chapter_stats.total_DRs / chapter_stats.total_leaders_leading)\n",
        "      self.total_leader_grades_unutilised = chapter_stats.total_leader_grades - chapter_stats.total_leaders_leading\n",
        "      self.target_dr_per_lead = business_rules.target_dr_per_lead\n",
        "      self.dr_per_lead_gt_target_and_leaders_unutilised = (self.drs_per_lead > self.target_dr_per_lead) and (self.total_leader_grades_unutilised > 0)\n",
        "\n",
        "    def print_info(self):\n",
        "      print(\"\\n\\ntotal_leaders_leading\", self.total_leaders_leading, \\\n",
        "            \"\\ndrs_per_lead\", self.drs_per_lead, \\\n",
        "            \"\\ntotal_leader_grades_unutilised\", self.total_leader_grades_unutilised, \\\n",
        "            \"\\ntarget_dr_per_lead\", self.target_dr_per_lead, \\\n",
        "            \"\\ndr_per_lead_gt_target_and_leaders_unutilised\", self.dr_per_lead_gt_target_and_leaders_unutilised)\n",
        "\n",
        "    def state_hash(self):\n",
        "      hash_value = hash((self.total_leaders_leading, self.drs_per_lead, self.total_leader_grades_unutilised, self.target_dr_per_lead, self.dr_per_lead_gt_target_and_leaders_unutilised))\n",
        "      return hash_value\n",
        "\n",
        "    def state_copy(self):\n",
        "      new_state = copy.deepcopy(self)\n",
        "      return new_state"
      ],
      "execution_count": 434,
      "outputs": []
    },
    {
      "cell_type": "code",
      "metadata": {
        "id": "0NzXPhOcvN8n"
      },
      "source": [
        "class ActionList:\n",
        "\n",
        "    def __init__(self, action_strings):\n",
        "      self.actions=[]\n",
        "      self.list_action_hash=[]\n",
        "      for action in action_strings:\n",
        "        ac = Action(action)\n",
        "        self.actions.append(ac)\n",
        "        self.list_action_hash.append(ac.action_hash)"
      ],
      "execution_count": 435,
      "outputs": []
    },
    {
      "cell_type": "code",
      "metadata": {
        "id": "y-tQV_rctA8G"
      },
      "source": [
        "class Action:\n",
        "\n",
        "  def __init__(self, action_string):\n",
        "    self.action = action_string\n",
        "    self.action_hash = hash(action_string)\n",
        "    return\n",
        "\n",
        "  def perform_action(self, state):\n",
        "    if self.action == \"reassign\":\n",
        "      return Reassign.run(state)\n",
        "    elif self.action == \"promote_dr\":\n",
        "      return Promote_DR.run(state)\n",
        "    elif self.action == \"hire\":\n",
        "      return Hire.run(state)\n",
        "\n",
        "  def print_info(self):\n",
        "    print(self.action, self.action_hash)"
      ],
      "execution_count": 436,
      "outputs": []
    },
    {
      "cell_type": "code",
      "metadata": {
        "id": "9koOfG8U07-m"
      },
      "source": [
        "class Reassign:\n",
        "\n",
        "  def __init__(self):\n",
        "    #do nothing now\n",
        "    return\n",
        "\n",
        "  @classmethod\n",
        "  def run(self, state):\n",
        "    new_state = self.reassigned_leader(state)\n",
        "    return new_state\n",
        "\n",
        "  @classmethod\n",
        "  def reassigned_leader(self, state):\n",
        "    if state.dr_per_lead_gt_target_and_leaders_unutilised:\n",
        "      new_state = state.state_copy()\n",
        "      total_drs = state.total_leaders_leading * state.drs_per_lead\n",
        "      new_state.total_leaders_leading += 1\n",
        "      new_state.total_leader_grades_unutilised -= 1\n",
        "      total_drs -= 1\n",
        "      new_state.drs_per_lead = total_drs / new_state.total_leaders_leading\n",
        "      new_state.dr_per_lead_gt_target_and_leaders_unutilised = (new_state.drs_per_lead > new_state.target_dr_per_lead) and (new_state.total_leader_grades_unutilised > 0)\n",
        "      return new_state\n",
        "    else:\n",
        "      return state"
      ],
      "execution_count": 437,
      "outputs": []
    },
    {
      "cell_type": "code",
      "metadata": {
        "id": "pVGxtpS7f3lV"
      },
      "source": [
        "class Promote_DR:\n",
        "  def __init__(self):\n",
        "    return\n",
        "\n",
        "  @classmethod\n",
        "  def run(self, state):\n",
        "    new_state = state #do nothing for now so return the same state\n",
        "    return new_state"
      ],
      "execution_count": 438,
      "outputs": []
    },
    {
      "cell_type": "code",
      "metadata": {
        "id": "0rq4iR42gXTa"
      },
      "source": [
        "class Hire:\n",
        "  def __init__(self):\n",
        "    return\n",
        "\n",
        "  @classmethod\n",
        "  def run(self, state):\n",
        "    new_state = state #do nothing for now so return the same state\n",
        "    return new_state"
      ],
      "execution_count": 439,
      "outputs": []
    },
    {
      "cell_type": "code",
      "metadata": {
        "id": "15a8CaR7alQe"
      },
      "source": [
        "class Q_table:\n",
        "  \"\"\"\n",
        "  dict[key(state hash, action hash)] = q-values\n",
        "  \"\"\"\n",
        "  \n",
        "  def __init__(self):\n",
        "    self.Q = {}\n",
        "    return\n",
        "\n",
        "  def getStateActionHashPairKey(self, state_hash, action_hash):\n",
        "    \"\"\" Returns state-pair hash key, requires separate state and action hash keys first \"\"\"\n",
        "    # return state_hash*action_hash\n",
        "    return str(state_hash)+\" \"+str(action_hash)\n",
        "\n",
        "  def getActionHashListForNewState(self, actions):\n",
        "    list_action_hash = []\n",
        "    for action in actions:\n",
        "      list_action_hash.append(action.action_hash)\n",
        "    return list_action_hash\n",
        "\n",
        "  def getValueQ(self, state_hash, action_hash):\n",
        "    \"\"\" Get expected reward given an action in a given state,\n",
        "        returns 0 if the state-action pair has not been seen before.\n",
        "        Input is state and action hash key                          \"\"\"\n",
        "\n",
        "    state_action_key = self.getStateActionHashPairKey(state_hash, action_hash)\n",
        "    if state_action_key in self.Q:\n",
        "        return self.Q.get(state_action_key)\n",
        "    else:\n",
        "        self.Q[state_action_key] = 0\n",
        "        return 0\n",
        "\n",
        "  def setValueQ(self, state_hash, action_hash, value):\n",
        "    \"\"\" Set value in Q \"\"\"\n",
        "    state_action_key = self.getStateActionHashPairKey(state_hash, action_hash)\n",
        "    self.Q[state_action_key] = value\n",
        "\n",
        "  def getBestAction(self, state_hash, list_action_hash, list_actions):\n",
        "    \"\"\" Get best action given a set of possible actions in a given state \"\"\"\n",
        "\n",
        "    best_action = list_actions[0]\n",
        "\n",
        "    # Find action that given largest Q in given state\n",
        "    maxQ = 0\n",
        "    for a_hash, action in zip(list_action_hash, list_actions):\n",
        "        tmpQ = self.getValueQ(state_hash, a_hash)\n",
        "        if maxQ < tmpQ:\n",
        "          maxQ = tmpQ\n",
        "          best_action = action\n",
        "\n",
        "    return best_action\n",
        "\n",
        "  def getMaxQ(self, state_hash, list_action_hash):\n",
        "      \"\"\" Returns the maximum Q value given a state and list of actions (input is hash keys) \"\"\"\n",
        "      maxQ = 0\n",
        "      for a_hash in list_action_hash:\n",
        "          tmpQ = self.getValueQ(state_hash, a_hash) \n",
        "          if maxQ < tmpQ:\n",
        "              maxQ = tmpQ\n",
        "      return maxQ\n",
        "\n",
        "\n",
        "  def updateQ(self, old_state, action_to_perform, reward, new_state, next_possible_actions, discount_factor, learning_rate):\n",
        "    \"\"\" Implements Q-learning iterative algorithm \"\"\"\n",
        "\n",
        "    state_hash = old_state.state_hash()\n",
        "    action_hash = action_to_perform.action_hash\n",
        "\n",
        "    # Get current Q Value\n",
        "    old_q_value = self.getValueQ(state_hash, action_hash)\n",
        "\n",
        "    # Find max Q value given the possible set of actions in the next state\n",
        "    list_action_hash = self.getActionHashListForNewState(next_possible_actions)\n",
        "    max_nextQ = self.getMaxQ(new_state.state_hash(), list_action_hash) \n",
        "    \n",
        "    temporal_difference = reward + (discount_factor * max_nextQ) - old_q_value\n",
        "\n",
        "    #update the Q-value for the previous state and action pair\n",
        "    new_q_value = old_q_value + (learning_rate * temporal_difference)\n",
        "    self.setValueQ(state_hash, action_hash, new_q_value)\n",
        "    # print(\"updateQ\", state_hash, action_hash, new_q_value)\n",
        "\n",
        "  def print_info(self):\n",
        "    print(\"\\n\\nQ_table\")\n",
        "    print(self.Q)"
      ],
      "execution_count": 440,
      "outputs": []
    },
    {
      "cell_type": "code",
      "metadata": {
        "id": "IF9ooUc0wgII"
      },
      "source": [
        "class Reward:\n",
        "  def __init__(self):\n",
        "    return\n",
        "  \n",
        "  def reward_function(self, old_state, action_to_perform):\n",
        "    \"\"\" \n",
        "    Returns positive value if actions gets closer to target state and values are the size of step closer to the target, \n",
        "    Returns -ve value if action take away from target\n",
        "    \"\"\"\n",
        "    new_state = action_to_perform.perform_action(old_state)\n",
        "\n",
        "    if new_state.total_leader_grades_unutilised == 0:\n",
        "      reward = -100 #possible promotion scenario\n",
        "      return reward\n",
        "    \n",
        "    if new_state.drs_per_lead == 0:\n",
        "      reward = -100\n",
        "    elif new_state.drs_per_lead > 0 and new_state.drs_per_lead <= new_state.target_dr_per_lead:\n",
        "      reward = 100\n",
        "    else:\n",
        "      reward = old_state.drs_per_lead - new_state.drs_per_lead\n",
        "\n",
        "    return reward"
      ],
      "execution_count": 441,
      "outputs": []
    },
    {
      "cell_type": "code",
      "metadata": {
        "id": "Js8tHAviPKqA"
      },
      "source": [
        "class Environment:\n",
        "\n",
        "  def __init__(self):\n",
        "    self.business_rules = Business_Rules()\n",
        "    self.action_list = ActionList(self.business_rules.actions)\n",
        "    self.reward = Reward()\n",
        "\n",
        "  def possible_actions_in_state(self, state):\n",
        "    return self.action_list.actions\n",
        "\n",
        "  def hasReachedTerminalState(self, reward):\n",
        "    if reward == 100 or reward == -100:\n",
        "      return True\n",
        "    else:\n",
        "      return False"
      ],
      "execution_count": 442,
      "outputs": []
    },
    {
      "cell_type": "code",
      "metadata": {
        "id": "_R0KrqcKCfBS"
      },
      "source": [
        "class Episode:\n",
        "\n",
        "  preconditioned_episodes = [\n",
        "            {\"chapter\": \"Analyst\", \"total_leaders_leading\":2, \\\n",
        "             \"people_gradewise\" : {\"3\":0, \"4.1\":1, \"4.2\":6, \"4.3\":6, \"4.4\":1, \"5.1\":0, \"5.2\":2, \"MS\":7} },\n",
        "            {\"chapter\": \"ios\", \"total_leaders_leading\":1, \\\n",
        "             \"people_gradewise\" : {\"3\":0, \"4.1\":0, \"4.2\":5, \"4.3\":6, \"4.4\":2, \"5.1\":0, \"5.2\":0, \"MS\":14} },\n",
        "            {\"chapter\": \"android\", \"total_leaders_leading\":1, \\\n",
        "             \"people_gradewise\" : {\"3\":0, \"4.1\":0, \"4.2\":4, \"4.3\":4, \"4.4\":4, \"5.1\":0, \"5.2\":0, \"MS\":9} },\n",
        "            {\"chapter\": \"be engg\", \"total_leaders_leading\":2.5, \\\n",
        "             \"people_gradewise\" : {\"3\":2.5, \"4.1\":3, \"4.2\":4, \"4.3\":6, \"4.4\":5, \"5.1\":1, \"5.2\":2, \"MS\":27} },\n",
        "            {\"chapter\": \"delivery leads\", \"total_leaders_leading\":1, \\\n",
        "             \"people_gradewise\" : {\"3\":0, \"4.1\":1, \"4.2\":3.5, \"4.3\":0.5, \"4.4\":0.8, \"5.1\":0, \"5.2\":0, \"MS\":3} },\n",
        "            {\"chapter\": \"environment\", \"total_leaders_leading\":1, \\\n",
        "             \"people_gradewise\" : {\"3\":0, \"4.1\":0, \"4.2\":2, \"4.3\":1, \"4.4\":1, \"5.1\":0, \"5.2\":0, \"MS\":2} },\n",
        "            {\"chapter\": \"sre\", \"total_leaders_leading\":1, \\\n",
        "             \"people_gradewise\" : {\"3\":1, \"4.1\":1, \"4.2\":1, \"4.3\":7, \"4.4\":4, \"5.1\":0, \"5.2\":0, \"MS\":3} },\n",
        "            {\"chapter\": \"testing\", \"total_leaders_leading\":1, \\\n",
        "             \"people_gradewise\" : {\"3\":0, \"4.1\":0, \"4.2\":1.5, \"4.3\":3, \"4.4\":2, \"5.1\":1, \"5.2\":0, \"MS\":18} },\n",
        "            {\"chapter\": \"reassign wont work\", \"total_leaders_leading\":2.5, \\\n",
        "             \"people_gradewise\" : {\"3\":2.5, \"4.1\":3, \"4.2\":0, \"4.3\":0, \"4.4\":5, \"5.1\":1, \"5.2\":2, \"MS\":27} },\n",
        "  ]\n",
        "\n",
        "  def __init__(self, episode_number):\n",
        "    self.episode_number = episode_number\n",
        "    self.state = None\n",
        "    if self.episode_number < len(self.preconditioned_episodes):\n",
        "      business_rules = Business_Rules()\n",
        "      dict = self.preconditioned_episodes[self.episode_number]\n",
        "      print(\"preconditioned_episode :\\n\", dict)\n",
        "      chapter_stats = Chapter_Stats(dict[\"chapter\"], dict[\"total_leaders_leading\"], dict[\"people_gradewise\"])\n",
        "      self.state = State(chapter_stats, business_rules)\n",
        "    else:\n",
        "      business_rules = Business_Rules()\n",
        "      total_leaders_leading = np.random.randint(1,business_rules.ceil_total_leaders_leading)\n",
        "      people_gradewise={}\n",
        "      for grade in business_rules.grades:\n",
        "        people_gradewise[grade] = np.random.randint(business_rules.ceil_total_people_in_grade)\n",
        "      chapter_stats = Chapter_Stats(\"chapter\", total_leaders_leading, people_gradewise)\n",
        "      print(\"simulated episode data :\")\n",
        "      chapter_stats.print_info()\n",
        "      self.state = State(chapter_stats, business_rules)\n",
        "\n",
        "    return"
      ],
      "execution_count": 443,
      "outputs": []
    },
    {
      "cell_type": "code",
      "metadata": {
        "id": "TMVhamSFCC_w"
      },
      "source": [
        "class Trainer:\n",
        "\n",
        "  def __init__(self):\n",
        "    self.q_table = Q_table()\n",
        "    self.environment = Environment()\n",
        "\n",
        "    #define training parameters\n",
        "    self.epsilon = 0.9 #the percentage of time when we should take the best action (instead of a random action)\n",
        "    self.discount_factor = 0.9 #discount factor for future rewards\n",
        "    self.learning_rate = 0.9 #the rate at which the AI agent should learn\n",
        "    self.num_episodes = 15 #1000\n",
        "\n",
        "    for action in self.environment.action_list.actions:\n",
        "      action.print_info()\n",
        "\n",
        "    return\n",
        "\n",
        "  \n",
        "  #define an epsilon greedy algorithm that will choose which action to take next \n",
        "  def get_next_action(self, state_hash, list_action_hash, list_actions, epsilon):\n",
        "    #if a randomly chosen value between 0 and 1 is less than epsilon, \n",
        "    #then choose the most promising value from the Q-table for this state.\n",
        "    if np.random.random() < epsilon:\n",
        "      best_action = self.q_table.getBestAction(state_hash, list_action_hash, list_actions)\n",
        "      return best_action\n",
        "    else: #choose a random action\n",
        "      random_idx = np.random.choice(len(list_actions))\n",
        "      random_action = list_actions[random_idx]\n",
        "      return random_action\n",
        "\n",
        "  def train(self, should_print):\n",
        "    #run through 1000 training episodes\n",
        "    for episode_number in range(self.num_episodes):\n",
        "      #get the starting state for this episode\n",
        "      episode = Episode(episode_number)\n",
        "      print(\"episode_number : \", episode.episode_number)\n",
        "\n",
        "      #continue taking actions  until we reach a terminal state\n",
        "      #(i.e., until we reach the final team structure or hit a bad structure)\n",
        "      while True:\n",
        "\n",
        "        #choose which action to take \n",
        "        action_to_perform = self.get_next_action(episode.state.state_hash(), \\\n",
        "                                                 self.environment.action_list.list_action_hash, \\\n",
        "                                                 self.environment.action_list.actions, \\\n",
        "                                                 self.epsilon)\n",
        "\n",
        "        #perform the chosen action, and transition to the next state \n",
        "        old_state = episode.state\n",
        "        new_state = action_to_perform.perform_action(old_state)\n",
        "\n",
        "        #receive the reward for moving to the new state\n",
        "        reward = self.environment.reward.reward_function(old_state, action_to_perform)\n",
        "\n",
        "        if should_print:\n",
        "          print(\"episode state : \")\n",
        "          episode.state.print_info()        \n",
        "          print(\"\\n action_to_perform :\")\n",
        "          action_to_perform.print_info()\n",
        "          print(\"\\n new_state :\")\n",
        "          new_state.print_info()        \n",
        "          print(\"\\nreward:\", reward)\n",
        "\n",
        "        if self.environment.hasReachedTerminalState(reward):\n",
        "          episode.state = new_state\n",
        "          print(\"breaking... terminal state \\n\")\n",
        "          break\n",
        "\n",
        "        next_possible_actions = self.environment.possible_actions_in_state(new_state)\n",
        "        self.q_table.updateQ(old_state, action_to_perform, reward, new_state, next_possible_actions, self.discount_factor, self.learning_rate)\n",
        "\n",
        "        episode.state = new_state\n",
        "\n",
        " #Define a function that will get the shortest path between the starting out team structure and the most favorable team structure \n",
        "  def get_shortest_path(self, old_state):\n",
        "    i=0\n",
        "    shortest_path = []\n",
        "    shortest_path.append(old_state)\n",
        "    while True:\n",
        "      action_to_perform = self.get_next_action(old_state.state_hash(), \\\n",
        "                                               self.environment.action_list.list_action_hash, \\\n",
        "                                               self.environment.action_list.actions, \n",
        "                                               1.) #always the best action\n",
        "\n",
        "      new_state = action_to_perform.perform_action(old_state)\n",
        "      shortest_path.append(new_state)\n",
        "\n",
        "      reward = self.environment.reward.reward_function(old_state, action_to_perform)\n",
        "      print(\"reward :\", reward)\n",
        "      if self.environment.hasReachedTerminalState(reward):\n",
        "        episode.state = new_state\n",
        "        break\n",
        "\n",
        "      old_state = new_state\n",
        "    \n",
        "    for state in shortest_path:\n",
        "      state.print_info()"
      ],
      "execution_count": 453,
      "outputs": []
    },
    {
      "cell_type": "markdown",
      "metadata": {
        "id": "vZm3LDKKiUvi"
      },
      "source": [
        "# TESTING"
      ]
    },
    {
      "cell_type": "code",
      "metadata": {
        "colab": {
          "base_uri": "https://localhost:8080/"
        },
        "id": "7DNf8mSVIZrr",
        "outputId": "7dc81860-b10e-42ef-c358-819ec4e978a4"
      },
      "source": [
        "trainer = Trainer()\n",
        "\n",
        "trainer.train(False)"
      ],
      "execution_count": 454,
      "outputs": [
        {
          "output_type": "stream",
          "text": [
            "reassign 6845558906778704510\n",
            "promote_dr -5681847432539490348\n",
            "hire -8938540315845285804\n",
            "preconditioned_episode :\n",
            " {'chapter': 'Analyst', 'total_leaders_leading': 2, 'people_gradewise': {'3': 0, '4.1': 1, '4.2': 6, '4.3': 6, '4.4': 1, '5.1': 0, '5.2': 2, 'MS': 7}}\n",
            "10.5\n",
            "episode_number :  0\n",
            "breaking... terminal state \n",
            "\n",
            "preconditioned_episode :\n",
            " {'chapter': 'ios', 'total_leaders_leading': 1, 'people_gradewise': {'3': 0, '4.1': 0, '4.2': 5, '4.3': 6, '4.4': 2, '5.1': 0, '5.2': 0, 'MS': 14}}\n",
            "26.0\n",
            "episode_number :  1\n",
            "breaking... terminal state \n",
            "\n",
            "preconditioned_episode :\n",
            " {'chapter': 'android', 'total_leaders_leading': 1, 'people_gradewise': {'3': 0, '4.1': 0, '4.2': 4, '4.3': 4, '4.4': 4, '5.1': 0, '5.2': 0, 'MS': 9}}\n",
            "20.0\n",
            "episode_number :  2\n",
            "breaking... terminal state \n",
            "\n",
            "preconditioned_episode :\n",
            " {'chapter': 'be engg', 'total_leaders_leading': 2.5, 'people_gradewise': {'3': 2.5, '4.1': 3, '4.2': 4, '4.3': 6, '4.4': 5, '5.1': 1, '5.2': 2, 'MS': 27}}\n",
            "19.2\n",
            "episode_number :  3\n",
            "breaking... terminal state \n",
            "\n",
            "preconditioned_episode :\n",
            " {'chapter': 'delivery leads', 'total_leaders_leading': 1, 'people_gradewise': {'3': 0, '4.1': 1, '4.2': 3.5, '4.3': 0.5, '4.4': 0.8, '5.1': 0, '5.2': 0, 'MS': 3}}\n",
            "7.800000000000001\n",
            "episode_number :  4\n",
            "breaking... terminal state \n",
            "\n",
            "preconditioned_episode :\n",
            " {'chapter': 'environment', 'total_leaders_leading': 1, 'people_gradewise': {'3': 0, '4.1': 0, '4.2': 2, '4.3': 1, '4.4': 1, '5.1': 0, '5.2': 0, 'MS': 2}}\n",
            "5.0\n",
            "episode_number :  5\n",
            "breaking... terminal state \n",
            "\n",
            "preconditioned_episode :\n",
            " {'chapter': 'sre', 'total_leaders_leading': 1, 'people_gradewise': {'3': 1, '4.1': 1, '4.2': 1, '4.3': 7, '4.4': 4, '5.1': 0, '5.2': 0, 'MS': 3}}\n",
            "16.0\n",
            "episode_number :  6\n",
            "breaking... terminal state \n",
            "\n",
            "preconditioned_episode :\n",
            " {'chapter': 'testing', 'total_leaders_leading': 1, 'people_gradewise': {'3': 0, '4.1': 0, '4.2': 1.5, '4.3': 3, '4.4': 2, '5.1': 1, '5.2': 0, 'MS': 18}}\n",
            "24.5\n",
            "episode_number :  7\n",
            "breaking... terminal state \n",
            "\n",
            "preconditioned_episode :\n",
            " {'chapter': 'reassign wont work', 'total_leaders_leading': 2.5, 'people_gradewise': {'3': 2.5, '4.1': 3, '4.2': 0, '4.3': 0, '4.4': 5, '5.1': 1, '5.2': 2, 'MS': 27}}\n",
            "15.2\n",
            "episode_number :  8\n",
            "breaking... terminal state \n",
            "\n",
            "simulated episode data :\n",
            "Chapter_Stats\n",
            "chapter 8 198 {'3': 6, '4.1': 43, '4.2': 0, '4.3': 32, '4.4': 42, '5.1': 43, '5.2': 19, 'MS': 21} 81\n",
            "24.75\n",
            "episode_number :  9\n",
            "breaking... terminal state \n",
            "\n",
            "simulated episode data :\n",
            "Chapter_Stats\n",
            "chapter 4 156 {'3': 5, '4.1': 43, '4.2': 19, '4.3': 6, '4.4': 12, '5.1': 44, '5.2': 16, 'MS': 15} 73\n",
            "39.0\n",
            "episode_number :  10\n",
            "breaking... terminal state \n",
            "\n",
            "simulated episode data :\n",
            "Chapter_Stats\n",
            "chapter 5 175 {'3': 8, '4.1': 5, '4.2': 31, '4.3': 15, '4.4': 47, '5.1': 38, '5.2': 8, 'MS': 28} 59\n",
            "35.0\n",
            "episode_number :  11\n",
            "breaking... terminal state \n",
            "\n",
            "simulated episode data :\n",
            "Chapter_Stats\n",
            "chapter 7 209 {'3': 10, '4.1': 39, '4.2': 23, '4.3': 32, '4.4': 32, '5.1': 11, '5.2': 43, 'MS': 26} 104\n",
            "29.857142857142858\n",
            "episode_number :  12\n",
            "breaking... terminal state \n",
            "\n",
            "simulated episode data :\n",
            "Chapter_Stats\n",
            "chapter 3 211 {'3': 4, '4.1': 44, '4.2': 19, '4.3': 48, '4.4': 24, '5.1': 39, '5.2': 26, 'MS': 10} 115\n",
            "70.33333333333333\n",
            "episode_number :  13\n",
            "breaking... terminal state \n",
            "\n",
            "simulated episode data :\n",
            "Chapter_Stats\n",
            "chapter 1 139 {'3': 1, '4.1': 2, '4.2': 1, '4.3': 18, '4.4': 43, '5.1': 49, '5.2': 23, 'MS': 3} 22\n",
            "139.0\n",
            "episode_number :  14\n",
            "breaking... terminal state \n",
            "\n"
          ],
          "name": "stdout"
        }
      ]
    },
    {
      "cell_type": "code",
      "metadata": {
        "colab": {
          "base_uri": "https://localhost:8080/"
        },
        "id": "SvsLjsk8cOea",
        "outputId": "cbbc8dc9-d2f6-4b1f-f29b-89f1d4650295"
      },
      "source": [
        "trainer.q_table.print_info()"
      ],
      "execution_count": 455,
      "outputs": [
        {
          "output_type": "stream",
          "text": [
            "\n",
            "\n",
            "Q_table\n",
            "{'5285223899660918271 6845558906778704510': 3.6, '5285223899660918271 -5681847432539490348': 0, '5285223899660918271 -8938540315845285804': 0, '-4678231873890659421 6845558906778704510': 0, '-4678231873890659421 -5681847432539490348': 0, '-4678231873890659421 -8938540315845285804': 0, '-7636548818605238522 6845558906778704510': 12.15, '-7636548818605238522 -5681847432539490348': 0, '-7636548818605238522 -8938540315845285804': 0, '-2340752886812058080 6845558906778704510': 4.05, '-2340752886812058080 -5681847432539490348': 0, '-2340752886812058080 -8938540315845285804': 0, '-2746232271926472364 6845558906778704510': 2.025, '-2746232271926472364 -5681847432539490348': 0, '-2746232271926472364 -8938540315845285804': 0, '-621711864479958001 6845558906778704510': 0, '-621711864479958001 -5681847432539490348': 0, '-621711864479958001 -8938540315845285804': 0, '-391274547413878359 6845558906778704510': 9.450000000000001, '-391274547413878359 -5681847432539490348': 0, '-391274547413878359 -8938540315845285804': 0, '6276661450666005572 6845558906778704510': 3.15, '6276661450666005572 -5681847432539490348': 0, '6276661450666005572 -8938540315845285804': 0, '2168224927722619051 6845558906778704510': 0, '2168224927722619051 -5681847432539490348': 0, '2168224927722619051 -8938540315845285804': 0, '8818083701115155444 6845558906778704510': 5.4, '8818083701115155444 -5681847432539490348': 0, '8818083701115155444 -8938540315845285804': 0, '-4364286048732535986 6845558906778704510': 3.0000000000000004, '-4364286048732535986 -5681847432539490348': 0, '-4364286048732535986 -8938540315845285804': 0, '-3573071620916825938 6845558906778704510': 1.909090909090909, '-3573071620916825938 -5681847432539490348': 0, '-3573071620916825938 -8938540315845285804': 0, '1106996170326715608 6845558906778704510': 1.3216783216783214, '1106996170326715608 -5681847432539490348': 0, '1106996170326715608 -8938540315845285804': 0, '-43438011094144707 6845558906778704510': 0.969230769230769, '-43438011094144707 -5681847432539490348': 0, '-43438011094144707 -8938540315845285804': 0, '-2873278448929307482 6845558906778704510': 0.7411764705882351, '-2873278448929307482 -5681847432539490348': 0, '-2873278448929307482 -8938540315845285804': 0, '6578375596048645171 6845558906778704510': 0, '6578375596048645171 -5681847432539490348': 0, '6578375596048645171 -8938540315845285804': 0, '745259727057675722 6845558906778704510': 0, '745259727057675722 -5681847432539490348': 0, '745259727057675722 -8938540315845285804': 0, '3238893052370992250 6845558906778704510': 0, '3238893052370992250 -5681847432539490348': 0, '3238893052370992250 -8938540315845285804': 0, '-1275876177975837901 6845558906778704510': 7.65, '-1275876177975837901 -5681847432539490348': 0, '-1275876177975837901 -8938540315845285804': 0, '-4437718441280043516 6845558906778704510': 0, '-4437718441280043516 -5681847432539490348': 0, '-4437718441280043516 -8938540315845285804': 0, '-5739007161468111326 6845558906778704510': 11.700000000000001, '-5739007161468111326 -5681847432539490348': 0, '-5739007161468111326 -8938540315845285804': 0, '-548714849950100641 6845558906778704510': 3.9, '-548714849950100641 -5681847432539490348': 0, '-548714849950100641 -8938540315845285804': 0, '9075299619974901428 6845558906778704510': 1.9500000000000004, '9075299619974901428 -5681847432539490348': 0, '9075299619974901428 -8938540315845285804': 0, '327293183134951652 6845558906778704510': 0, '327293183134951652 -5681847432539490348': 0, '327293183134951652 -8938540315845285804': 0, '-6971373482006478842 6845558906778704510': 4.371428571428572, '-6971373482006478842 -5681847432539490348': 0, '-6971373482006478842 -8938540315845285804': 0, '-7016161428602517193 6845558906778704510': 2.428571428571428, '-7016161428602517193 -5681847432539490348': 0, '-7016161428602517193 -8938540315845285804': 0, '4070215236414697730 6845558906778704510': 0, '4070215236414697730 -5681847432539490348': 0, '4070215236414697730 -8938540315845285804': 0, '7650903839787621041 6845558906778704510': 2.6000000000000005, '7650903839787621041 -5681847432539490348': 0, '7650903839787621041 -8938540315845285804': 0, '-3961374933178078904 6845558906778704510': 2.079999999999999, '-3961374933178078904 -5681847432539490348': 0, '-3961374933178078904 -8938540315845285804': 0, '7420220481722760419 6845558906778704510': 1.7018181818181817, '7420220481722760419 -5681847432539490348': 0, '7420220481722760419 -8938540315845285804': 0, '-6966812940391391235 6845558906778704510': 1.4181818181818202, '-6966812940391391235 -5681847432539490348': 0, '-6966812940391391235 -8938540315845285804': 0, '-7373613839159681282 6845558906778704510': 1.199999999999999, '-7373613839159681282 -5681847432539490348': 0, '-7373613839159681282 -8938540315845285804': 0, '-5328070367493579761 6845558906778704510': 1.0285714285714282, '-5328070367493579761 -5681847432539490348': 0, '-5328070367493579761 -8938540315845285804': 0, '-1912104625481534803 6845558906778704510': 0.8914285714285715, '-1912104625481534803 -5681847432539490348': 0, '-1912104625481534803 -8938540315845285804': 0, '-4309763533895314714 6845558906778704510': 0.7800000000000005, '-4309763533895314714 -5681847432539490348': 0, '-4309763533895314714 -8938540315845285804': 0, '-5306295880462449670 6845558906778704510': 0.6882352941176478, '-5306295880462449670 -5681847432539490348': 0, '-5306295880462449670 -8938540315845285804': 0, '-8295454464066914469 6845558906778704510': 0.6117647058823524, '-8295454464066914469 -5681847432539490348': 0, '-8295454464066914469 -8938540315845285804': 0.0, '2556276707592451700 6845558906778704510': 0.5473684210526312, '2556276707592451700 -5681847432539490348': 0, '2556276707592451700 -8938540315845285804': 0, '4399753796566158101 6845558906778704510': 0.49263157894736836, '4399753796566158101 -5681847432539490348': 0, '4399753796566158101 -8938540315845285804': 0, '-8709549488403153271 6845558906778704510': 0.44571428571428573, '-8709549488403153271 -5681847432539490348': 0, '-8709549488403153271 -8938540315845285804': 0, '-4798015210129509458 6845558906778704510': 0.40519480519480505, '-4798015210129509458 -5681847432539490348': 0, '-4798015210129509458 -8938540315845285804': 0, '5295522808414078234 6845558906778704510': 0.3699604743083015, '5295522808414078234 -5681847432539490348': 0, '5295522808414078234 -8938540315845285804': 0, '4778532716086197090 6845558906778704510': 0.3391304347826094, '4778532716086197090 -5681847432539490348': 0, '4778532716086197090 -8938540315845285804': 0, '2394054558970661943 6845558906778704510': 0.312, '2394054558970661943 -5681847432539490348': 0, '2394054558970661943 -8938540315845285804': 0, '516409160833457391 6845558906778704510': 0.2879999999999995, '516409160833457391 -5681847432539490348': 0, '516409160833457391 -8938540315845285804': 0, '-1323153849454606696 6845558906778704510': 0.26666666666666705, '-1323153849454606696 -5681847432539490348': 0, '-1323153849454606696 -8938540315845285804': 0.0, '1954485446976607004 6845558906778704510': 0.24761904761904702, '1954485446976607004 -5681847432539490348': 0, '1954485446976607004 -8938540315845285804': 0, '7678035764371877356 6845558906778704510': 0.2305418719211824, '7678035764371877356 -5681847432539490348': 0, '7678035764371877356 -8938540315845285804': 0, '3709668674002734112 6845558906778704510': 0.21517241379310334, '3709668674002734112 -5681847432539490348': 0, '3709668674002734112 -8938540315845285804': 0, '-3481486862569958075 6845558906778704510': 0.20129032258064514, '-3481486862569958075 -5681847432539490348': 0.0, '-3481486862569958075 -8938540315845285804': 0, '7296735559433899073 6845558906778704510': 0.18870967741935507, '7296735559433899073 -5681847432539490348': 0, '7296735559433899073 -8938540315845285804': 0, '-7266168575087875195 6845558906778704510': 0.17727272727272753, '-7266168575087875195 -5681847432539490348': 0, '-7266168575087875195 -8938540315845285804': 0, '-4029629228645710423 6845558906778704510': 0.16684491978609559, '-4029629228645710423 -5681847432539490348': 0, '-4029629228645710423 -8938540315845285804': 0, '-6200919322543877523 6845558906778704510': 0, '-6200919322543877523 -5681847432539490348': 0, '-6200919322543877523 -8938540315845285804': 0, '2852266914039681223 6845558906778704510': 7.2, '2852266914039681223 -5681847432539490348': 0, '2852266914039681223 -8938540315845285804': 0, '620291547236249639 6845558906778704510': 4.799999999999999, '620291547236249639 -5681847432539490348': 0, '620291547236249639 -8938540315845285804': 0, '-291005061268875079 6845558906778704510': 3.4285714285714293, '-291005061268875079 -5681847432539490348': 0.0, '-291005061268875079 -8938540315845285804': 0, '-4263259700625365623 6845558906778704510': 2.571428571428572, '-4263259700625365623 -5681847432539490348': 0, '-4263259700625365623 -8938540315845285804': 0, '-8776694486091645917 6845558906778704510': 1.9999999999999993, '-8776694486091645917 -5681847432539490348': 0, '-8776694486091645917 -8938540315845285804': 0, '-4358170498363082538 6845558906778704510': 1.6000000000000008, '-4358170498363082538 -5681847432539490348': 0, '-4358170498363082538 -8938540315845285804': 0, '-7759102053525800337 6845558906778704510': 1.3090909090909095, '-7759102053525800337 -5681847432539490348': 0, '-7759102053525800337 -8938540315845285804': 0, '1593778015476647457 6845558906778704510': 1.09090909090909, '1593778015476647457 -5681847432539490348': 0, '1593778015476647457 -8938540315845285804': 0.0, '6588965982109753290 6845558906778704510': 0.923076923076923, '6588965982109753290 -5681847432539490348': 0, '6588965982109753290 -8938540315845285804': 0, '-6627111684101048405 6845558906778704510': 0.7912087912087916, '-6627111684101048405 -5681847432539490348': 0, '-6627111684101048405 -8938540315845285804': 0, '-4581923552599032556 6845558906778704510': 0.6857142857142865, '-4581923552599032556 -5681847432539490348': 0, '-4581923552599032556 -8938540315845285804': 0, '5016508973341308573 6845558906778704510': 0.5999999999999995, '5016508973341308573 -5681847432539490348': 0, '5016508973341308573 -8938540315845285804': 0, '572350306417014905 6845558906778704510': 0.5294117647058821, '572350306417014905 -5681847432539490348': 0, '572350306417014905 -8938540315845285804': 0, '5453819682154352030 6845558906778704510': 0.4705882352941176, '5453819682154352030 -5681847432539490348': 0, '5453819682154352030 -8938540315845285804': 0, '1286294858469476583 6845558906778704510': 0.42105263157894735, '1286294858469476583 -5681847432539490348': 0, '1286294858469476583 -8938540315845285804': 0, '3089385832297580127 6845558906778704510': 0.37894736842105303, '3089385832297580127 -5681847432539490348': 0, '3089385832297580127 -8938540315845285804': 0, '8823263353361030855 6845558906778704510': 0.34285714285714325, '8823263353361030855 -5681847432539490348': 0, '8823263353361030855 -8938540315845285804': 0, '-3162930521540958632 6845558906778704510': 0.3116883116883115, '-3162930521540958632 -5681847432539490348': 0, '-3162930521540958632 -8938540315845285804': 0, '-3723402724363020904 6845558906778704510': 0.2845849802371541, '-3723402724363020904 -5681847432539490348': 0, '-3723402724363020904 -8938540315845285804': 0, '2359718282950493657 6845558906778704510': 0.26086956521739085, '2359718282950493657 -5681847432539490348': 0.0, '2359718282950493657 -8938540315845285804': 0, '5348498764997262621 6845558906778704510': 0.23999999999999996, '5348498764997262621 -5681847432539490348': 0, '5348498764997262621 -8938540315845285804': 0, '3873334092330778593 6845558906778704510': 0.22153846153846155, '3873334092330778593 -5681847432539490348': 0, '3873334092330778593 -8938540315845285804': 0, '2776391866850346069 6845558906778704510': 0, '2776391866850346069 -5681847432539490348': 0, '2776391866850346069 -8938540315845285804': 0, '-7348073850335616903 6845558906778704510': 5.4, '-7348073850335616903 -5681847432539490348': 0, '-7348073850335616903 -8938540315845285804': 0, '-5147465567348644341 6845558906778704510': 3.8571428571428563, '-5147465567348644341 -5681847432539490348': 0, '-5147465567348644341 -8938540315845285804': 0, '-8376444091426894596 6845558906778704510': 2.8928571428571437, '-8376444091426894596 -5681847432539490348': 0, '-8376444091426894596 -8938540315845285804': 0, '751071566374037895 6845558906778704510': 2.25, '751071566374037895 -5681847432539490348': 0, '751071566374037895 -8938540315845285804': 0, '6639575419572404017 6845558906778704510': 1.8, '6639575419572404017 -5681847432539490348': 0, '6639575419572404017 -8938540315845285804': 0, '7792599639046603839 6845558906778704510': 1.472727272727273, '7792599639046603839 -5681847432539490348': 0, '7792599639046603839 -8938540315845285804': 0, '-6809687422023545423 6845558906778704510': 1.227272727272727, '-6809687422023545423 -5681847432539490348': 0, '-6809687422023545423 -8938540315845285804': 0, '-3266719201409759450 6845558906778704510': 1.038461538461538, '-3266719201409759450 -5681847432539490348': 0, '-3266719201409759450 -8938540315845285804': 0.0, '4735911993316578872 6845558906778704510': 0.8901098901098902, '4735911993316578872 -5681847432539490348': 0, '4735911993316578872 -8938540315845285804': 0, '-4247274195651351931 6845558906778704510': 0.7714285714285719, '-4247274195651351931 -5681847432539490348': 0, '-4247274195651351931 -8938540315845285804': 0, '-4070097669912128299 6845558906778704510': 0.675, '-4070097669912128299 -5681847432539490348': 0, '-4070097669912128299 -8938540315845285804': 0, '8682271569858355930 6845558906778704510': 0.595588235294118, '8682271569858355930 -5681847432539490348': 0, '8682271569858355930 -8938540315845285804': 0, '4887492661615076647 6845558906778704510': 0.5294117647058821, '4887492661615076647 -5681847432539490348': 0, '4887492661615076647 -8938540315845285804': 0, '1840755725414735735 6845558906778704510': 0.4736842105263165, '1840755725414735735 -5681847432539490348': 0, '1840755725414735735 -8938540315845285804': 0, '-5349852506837680444 6845558906778704510': 0.42631578947368354, '-5349852506837680444 -5681847432539490348': 0, '-5349852506837680444 -8938540315845285804': 0, '1811840599243954004 6845558906778704510': 0.38571428571428595, '1811840599243954004 -5681847432539490348': 0, '1811840599243954004 -8938540315845285804': 0, '-9143662978632601451 6845558906778704510': 0.3506493506493506, '-9143662978632601451 -5681847432539490348': 0, '-9143662978632601451 -8938540315845285804': 0, '2667184400842794881 6845558906778704510': 0.3201581027667982, '2667184400842794881 -5681847432539490348': 0, '2667184400842794881 -8938540315845285804': 0, '-3395159336894353646 6845558906778704510': 0.29347826086956535, '-3395159336894353646 -5681847432539490348': 0.0, '-3395159336894353646 -8938540315845285804': 0, '119735901041809998 6845558906778704510': 0.26999999999999985, '119735901041809998 -5681847432539490348': 0, '119735901041809998 -8938540315845285804': 0, '-2972741058683784022 6845558906778704510': 0.24923076923076914, '-2972741058683784022 -5681847432539490348': 0, '-2972741058683784022 -8938540315845285804': 0, '2546114981873683235 6845558906778704510': 0.23076923076923075, '2546114981873683235 -5681847432539490348': 0, '2546114981873683235 -8938540315845285804': 0, '5267501809372991199 6845558906778704510': 0.21428571428571433, '5267501809372991199 -5681847432539490348': 0, '5267501809372991199 -8938540315845285804': 0, '-362669942201797697 6845558906778704510': 0.19950738916256183, '-362669942201797697 -5681847432539490348': 0, '-362669942201797697 -8938540315845285804': 0, '6534788968781002955 6845558906778704510': 0, '6534788968781002955 -5681847432539490348': 0, '6534788968781002955 -8938540315845285804': 0, '-3989640324094294557 6845558906778704510': 3.4875000000000003, '-3989640324094294557 -5681847432539490348': 0, '-3989640324094294557 -8938540315845285804': 0, '-1542057046495330723 6845558906778704510': 2.7125000000000004, '-1542057046495330723 -5681847432539490348': 0, '-1542057046495330723 -8938540315845285804': 0, '-3074583778012498428 6845558906778704510': 2.1700000000000004, '-3074583778012498428 -5681847432539490348': 0, '-3074583778012498428 -8938540315845285804': 0, '-5762989968924702861 6845558906778704510': 1.7754545454545454, '-5762989968924702861 -5681847432539490348': 0, '-5762989968924702861 -8938540315845285804': 0, '4938631936011673351 6845558906778704510': 1.4795454545454552, '4938631936011673351 -5681847432539490348': 0, '4938631936011673351 -8938540315845285804': 0, '7721109594247566300 6845558906778704510': 1.2519230769230765, '7721109594247566300 -5681847432539490348': 0, '7721109594247566300 -8938540315845285804': 0, '5010514273882524940 6845558906778704510': 1.0730769230769226, '5010514273882524940 -5681847432539490348': 0, '5010514273882524940 -8938540315845285804': 0, '1965557344144745021 6845558906778704510': 0.9299999999999999, '1965557344144745021 -5681847432539490348': 0, '1965557344144745021 -8938540315845285804': 0, '-6933221778019374850 6845558906778704510': 0.8137500000000001, '-6933221778019374850 -5681847432539490348': 0, '-6933221778019374850 -8938540315845285804': 0, '-3919269434778698625 6845558906778704510': 0.7180147058823522, '-3919269434778698625 -5681847432539490348': 0, '-3919269434778698625 -8938540315845285804': 0, '4291844587906805928 6845558906778704510': 0.638235294117648, '4291844587906805928 -5681847432539490348': 0, '4291844587906805928 -8938540315845285804': 0, '4948290473174765462 6845558906778704510': 0.5710526315789476, '4948290473174765462 -5681847432539490348': 0, '4948290473174765462 -8938540315845285804': 0, '8231291450500165935 6845558906778704510': 0.5139473684210526, '8231291450500165935 -5681847432539490348': 0, '8231291450500165935 -8938540315845285804': 0, '4626267935058077188 6845558906778704510': 0.46499999999999914, '4626267935058077188 -5681847432539490348': 0, '4626267935058077188 -8938540315845285804': 0, '-5289784060949051258 6845558906778704510': 0.42272727272727356, '-5289784060949051258 -5681847432539490348': 0, '-5289784060949051258 -8938540315845285804': 0, '5496163379997832367 6845558906778704510': 0.3859683794466399, '5496163379997832367 -5681847432539490348': 0, '5496163379997832367 -8938540315845285804': 0, '-7970164967155598243 6845558906778704510': 0.35380434782608766, '-7970164967155598243 -5681847432539490348': 0, '-7970164967155598243 -8938540315845285804': 0, '6957727996935625955 6845558906778704510': 0.32549999999999973, '6957727996935625955 -5681847432539490348': 0, '6957727996935625955 -8938540315845285804': 0, '-7598542733040816076 6845558906778704510': 0.3004615384615385, '-7598542733040816076 -5681847432539490348': 0, '-7598542733040816076 -8938540315845285804': 0, '3592464721529497290 6845558906778704510': 0.27820512820512777, '3592464721529497290 -5681847432539490348': 0, '3592464721529497290 -8938540315845285804': 0, '-395659412255232280 6845558906778704510': 0.25833333333333347, '-395659412255232280 -5681847432539490348': 0, '-395659412255232280 -8938540315845285804': 0, '-6956420885507048463 6845558906778704510': 0.2405172413793107, '-6956420885507048463 -5681847432539490348': 0, '-6956420885507048463 -8938540315845285804': 0, '8555920676018643163 6845558906778704510': 0.22448275862068928, '8555920676018643163 -5681847432539490348': 0, '8555920676018643163 -8938540315845285804': 0, '-5240556870072735067 6845558906778704510': 0.21000000000000005, '-5240556870072735067 -5681847432539490348': 0, '-5240556870072735067 -8938540315845285804': 0, '6827383423684596475 6845558906778704510': 0.196875, '6827383423684596475 -5681847432539490348': 0, '6827383423684596475 -8938540315845285804': 0, '3360046468396600704 6845558906778704510': 0.18494318181818148, '3360046468396600704 -5681847432539490348': 0, '3360046468396600704 -8938540315845285804': 0, '-6373236090123129046 6845558906778704510': 0.17406417112299463, '-6373236090123129046 -5681847432539490348': 0, '-6373236090123129046 -8938540315845285804': 0, '7661214536837667304 6845558906778704510': 0.16411764705882376, '7661214536837667304 -5681847432539490348': 0, '7661214536837667304 -8938540315845285804': 0, '-1234506996549009146 6845558906778704510': 0.15500000000000025, '-1234506996549009146 -5681847432539490348': 0, '-1234506996549009146 -8938540315845285804': 0, '6954682744422796760 6845558906778704510': 0, '6954682744422796760 -5681847432539490348': 0, '6954682744422796760 -8938540315845285804': 0, '-5824623991314325999 6845558906778704510': 16.2, '-5824623991314325999 -5681847432539490348': 0, '-5824623991314325999 -8938540315845285804': 0, '-42775467097466217 6845558906778704510': 9.719999999999997, '-42775467097466217 -5681847432539490348': 0, '-42775467097466217 -8938540315845285804': 0.0, '-6810209986194697818 6845558906778704510': 6.480000000000003, '-6810209986194697818 -5681847432539490348': 0, '-6810209986194697818 -8938540315845285804': 0, '1140410897595721589 6845558906778704510': 4.628571428571428, '1140410897595721589 -5681847432539490348': 0, '1140410897595721589 -8938540315845285804': 0, '5002279975873998487 6845558906778704510': 3.471428571428572, '5002279975873998487 -5681847432539490348': 0, '5002279975873998487 -8938540315845285804': 0, '-5395010719534957694 6845558906778704510': 2.7, '-5395010719534957694 -5681847432539490348': 0, '-5395010719534957694 -8938540315845285804': 0, '-6490867148800140331 6845558906778704510': 2.159999999999999, '-6490867148800140331 -5681847432539490348': 0, '-6490867148800140331 -8938540315845285804': 0, '4421172855998205984 6845558906778704510': 1.7672727272727282, '4421172855998205984 -5681847432539490348': 0, '4421172855998205984 -8938540315845285804': 0, '8243605203691284630 6845558906778704510': 1.472727272727273, '8243605203691284630 -5681847432539490348': 0, '8243605203691284630 -8938540315845285804': 0, '-7934274025752166197 6845558906778704510': 1.2461538461538466, '-7934274025752166197 -5681847432539490348': 0, '-7934274025752166197 -8938540315845285804': 0, '5079518692398340005 6845558906778704510': 1.0681318681318677, '5079518692398340005 -5681847432539490348': 0.0, '5079518692398340005 -8938540315845285804': 0, '-4904911372742642434 6845558906778704510': 0.9257142857142856, '-4904911372742642434 -5681847432539490348': 0, '-4904911372742642434 -8938540315845285804': 0, '5555555512646896455 6845558906778704510': 0.8100000000000004, '5555555512646896455 -5681847432539490348': 0, '5555555512646896455 -8938540315845285804': 0, '6238888195672346192 6845558906778704510': 0.7147058823529419, '6238888195672346192 -5681847432539490348': 0, '6238888195672346192 -8938540315845285804': 0, '-2170287129086406223 6845558906778704510': 0.6352941176470582, '-2170287129086406223 -5681847432539490348': 0, '-2170287129086406223 -8938540315845285804': 0, '3935558305858793725 6845558906778704510': 0.5684210526315792, '3935558305858793725 -5681847432539490348': 0, '3935558305858793725 -8938540315845285804': 0, '-5333951498580194626 6845558906778704510': 0.5115789473684202, '-5333951498580194626 -5681847432539490348': 0, '-5333951498580194626 -8938540315845285804': 0, '-4050698388104002829 6845558906778704510': 0.4628571428571428, '-4050698388104002829 -5681847432539490348': 0, '-4050698388104002829 -8938540315845285804': 0, '-7348500845075125553 6845558906778704510': 0.42077922077921975, '-7348500845075125553 -5681847432539490348': 0, '-7348500845075125553 -8938540315845285804': 0, '-4476198899298767524 6845558906778704510': 0.3841897233201575, '-4476198899298767524 -5681847432539490348': 0, '-4476198899298767524 -8938540315845285804': 0, '3284249309388841572 6845558906778704510': 0.35217391304347906, '3284249309388841572 -5681847432539490348': 0, '3284249309388841572 -8938540315845285804': 0, '4334696504421683188 6845558906778704510': 0.3239999999999995, '4334696504421683188 -5681847432539490348': 0, '4334696504421683188 -8938540315845285804': 0, '-1716621656325757435 6845558906778704510': 0.29907692307692296, '-1716621656325757435 -5681847432539490348': 0, '-1716621656325757435 -8938540315845285804': 0, '-61020221688743063 6845558906778704510': 0.27692307692307755, '-61020221688743063 -5681847432539490348': 0, '-61020221688743063 -8938540315845285804': 0, '-4460172685130962799 6845558906778704510': 0.25714285714285706, '-4460172685130962799 -5681847432539490348': 0, '-4460172685130962799 -8938540315845285804': 0, '-6047832904413609706 6845558906778704510': 0.23940886699507422, '-6047832904413609706 -5681847432539490348': 0, '-6047832904413609706 -8938540315845285804': 0, '7549622809893421834 6845558906778704510': 0.2234482758620686, '7549622809893421834 -5681847432539490348': 0, '7549622809893421834 -8938540315845285804': 0, '113998437620446646 6845558906778704510': 0.20903225806451628, '113998437620446646 -5681847432539490348': 0, '113998437620446646 -8938540315845285804': 0, '3251013147142413631 6845558906778704510': 0.1959677419354839, '3251013147142413631 -5681847432539490348': 0, '3251013147142413631 -8938540315845285804': 0, '-5590812446503146897 6845558906778704510': 0.18409090909090953, '-5590812446503146897 -5681847432539490348': 0, '-5590812446503146897 -8938540315845285804': 0, '5825917867086242003 6845558906778704510': 0.1732620320855614, '5825917867086242003 -5681847432539490348': 0, '5825917867086242003 -8938540315845285804': 0, '4872261935632476315 6845558906778704510': 0.16336134453781456, '4872261935632476315 -5681847432539490348': 0, '4872261935632476315 -8938540315845285804': 0, '-4379281143016634505 6845558906778704510': 0.15428571428571375, '-4379281143016634505 -5681847432539490348': 0, '-4379281143016634505 -8938540315845285804': 0, '7377892178787695303 6845558906778704510': 0, '7377892178787695303 -5681847432539490348': 0, '7377892178787695303 -8938540315845285804': 0, '3283198700121071234 6845558906778704510': 63.0, '3283198700121071234 -5681847432539490348': 0, '3283198700121071234 -8938540315845285804': 0, '2645609436625250818 6845558906778704510': 21.000000000000004, '2645609436625250818 -5681847432539490348': 0, '2645609436625250818 -8938540315845285804': 0, '-8321030775786920984 6845558906778704510': 10.499999999999998, '-8321030775786920984 -5681847432539490348': 0, '-8321030775786920984 -8938540315845285804': 0, '-7618685963851478117 6845558906778704510': 6.3, '-7618685963851478117 -5681847432539490348': 0, '-7618685963851478117 -8938540315845285804': 0, '3682047517978458594 6845558906778704510': 4.200000000000001, '3682047517978458594 -5681847432539490348': 0, '3682047517978458594 -8938540315845285804': 0, '-1952460177393021905 6845558906778704510': 2.999999999999999, '-1952460177393021905 -5681847432539490348': 0, '-1952460177393021905 -8938540315845285804': 0, '8896222384526344306 6845558906778704510': 2.25, '8896222384526344306 -5681847432539490348': 0, '8896222384526344306 -8938540315845285804': 0, '-2227026895043715123 6845558906778704510': 1.7500000000000002, '-2227026895043715123 -5681847432539490348': 0, '-2227026895043715123 -8938540315845285804': 0, '9042704332373089225 6845558906778704510': 1.4, '9042704332373089225 -5681847432539490348': 0, '9042704332373089225 -8938540315845285804': 0, '5451937999842069338 6845558906778704510': 1.1454545454545462, '5451937999842069338 -5681847432539490348': 0, '5451937999842069338 -8938540315845285804': 0, '2437177388459946586 6845558906778704510': 0.9545454545454545, '2437177388459946586 -5681847432539490348': 0, '2437177388459946586 -8938540315845285804': 0, '364371931660090819 6845558906778704510': 0.8076923076923065, '364371931660090819 -5681847432539490348': 0, '364371931660090819 -8938540315845285804': 0, '-155824001613323540 6845558906778704510': 0.6923076923076915, '-155824001613323540 -5681847432539490348': 0, '-155824001613323540 -8938540315845285804': 0, '-6488980232213784746 6845558906778704510': 0.5999999999999995, '-6488980232213784746 -5681847432539490348': 0, '-6488980232213784746 -8938540315845285804': 0, '184542440985132939 6845558906778704510': 0.5250000000000006, '184542440985132939 -5681847432539490348': 0, '184542440985132939 -8938540315845285804': 0, '6554727574545555228 6845558906778704510': 0.463235294117647, '6554727574545555228 -5681847432539490348': 0, '6554727574545555228 -8938540315845285804': 0, '7101741251888675822 6845558906778704510': 0.4117647058823531, '7101741251888675822 -5681847432539490348': 0, '7101741251888675822 -8938540315845285804': 0, '-5930745246428229385 6845558906778704510': 0.36842105263157904, '-5930745246428229385 -5681847432539490348': 0, '-5930745246428229385 -8938540315845285804': 0, '6478951804614949509 6845558906778704510': 0.3315789473684209, '6478951804614949509 -5681847432539490348': 0.0, '6478951804614949509 -8938540315845285804': 0, '-3689197053453147713 6845558906778704510': 0.30000000000000054, '-3689197053453147713 -5681847432539490348': 0, '-3689197053453147713 -8938540315845285804': 0.0, '5442266008459454184 6845558906778704510': 0, '5442266008459454184 -5681847432539490348': 0, '5442266008459454184 -8938540315845285804': 0}\n"
          ],
          "name": "stdout"
        }
      ]
    },
    {
      "cell_type": "code",
      "metadata": {
        "colab": {
          "base_uri": "https://localhost:8080/"
        },
        "id": "weDH9KaFZTLD",
        "outputId": "39915251-5d56-4639-8ed1-4e361401fdc1"
      },
      "source": [
        "episode = Episode(8)\n",
        "trainer.get_shortest_path(episode.state)"
      ],
      "execution_count": 456,
      "outputs": [
        {
          "output_type": "stream",
          "text": [
            "preconditioned_episode :\n",
            " {'chapter': 'reassign wont work', 'total_leaders_leading': 2.5, 'people_gradewise': {'3': 2.5, '4.1': 3, '4.2': 0, '4.3': 0, '4.4': 5, '5.1': 1, '5.2': 2, 'MS': 27}}\n",
            "15.2\n",
            "reward : 4.857142857142858\n",
            "reward : 2.6984126984126977\n",
            "reward : -100\n",
            "\n",
            "\n",
            "total_leaders_leading 2.5 \n",
            "drs_per_lead 16 \n",
            "total_leader_grades_unutilised 3.0 \n",
            "target_dr_per_lead 5 \n",
            "dr_per_lead_gt_target_and_leaders_unutilised True\n",
            "\n",
            "\n",
            "total_leaders_leading 3.5 \n",
            "drs_per_lead 11.142857142857142 \n",
            "total_leader_grades_unutilised 2.0 \n",
            "target_dr_per_lead 5 \n",
            "dr_per_lead_gt_target_and_leaders_unutilised True\n",
            "\n",
            "\n",
            "total_leaders_leading 4.5 \n",
            "drs_per_lead 8.444444444444445 \n",
            "total_leader_grades_unutilised 1.0 \n",
            "target_dr_per_lead 5 \n",
            "dr_per_lead_gt_target_and_leaders_unutilised True\n",
            "\n",
            "\n",
            "total_leaders_leading 5.5 \n",
            "drs_per_lead 6.7272727272727275 \n",
            "total_leader_grades_unutilised 0.0 \n",
            "target_dr_per_lead 5 \n",
            "dr_per_lead_gt_target_and_leaders_unutilised False\n"
          ],
          "name": "stdout"
        }
      ]
    },
    {
      "cell_type": "code",
      "metadata": {
        "colab": {
          "base_uri": "https://localhost:8080/"
        },
        "id": "JVl01lW7a-bb",
        "outputId": "99cb77ea-7cc3-4c09-8428-1dc75e87b80b"
      },
      "source": [
        "#Test Chapter_Stats\n",
        "cs = Chapter_Stats(\"Analyst\",2,{\"3\":0, \"4.1\":1, \"4.2\":6, \"4.3\":6, \"4.4\":1, \"5.1\":0, \"5.2\":2, \"MS\":7})\n",
        "cs.print_info()"
      ],
      "execution_count": 448,
      "outputs": [
        {
          "output_type": "stream",
          "text": [
            "Chapter_Stats\n",
            "Analyst 2 21 {'3': 0, '4.1': 1, '4.2': 6, '4.3': 6, '4.4': 1, '5.1': 0, '5.2': 2, 'MS': 7} 13\n"
          ],
          "name": "stdout"
        }
      ]
    },
    {
      "cell_type": "code",
      "metadata": {
        "colab": {
          "base_uri": "https://localhost:8080/"
        },
        "id": "6QMKQkpsctEV",
        "outputId": "247672e8-1090-4e36-8332-bef1d0bbb285"
      },
      "source": [
        "#Test State\n",
        "st=State(cs,Business_Rules())\n",
        "st.print_info()\n",
        "\n",
        "print(round(1.5))\n",
        "print(round(2.5))\n",
        "\n",
        "print(st)\n",
        "st2 = Reassign.reassigned_leader(st)\n",
        "st2.print_info()"
      ],
      "execution_count": 449,
      "outputs": [
        {
          "output_type": "stream",
          "text": [
            "10.5\n",
            "\n",
            "\n",
            "total_leaders_leading 2 \n",
            "drs_per_lead 11 \n",
            "total_leader_grades_unutilised 11 \n",
            "target_dr_per_lead 5 \n",
            "dr_per_lead_gt_target_and_leaders_unutilised True\n",
            "2\n",
            "2\n",
            "<__main__.State object at 0x7f96ae2d2ad0>\n",
            "\n",
            "\n",
            "total_leaders_leading 3 \n",
            "drs_per_lead 7.0 \n",
            "total_leader_grades_unutilised 10 \n",
            "target_dr_per_lead 5 \n",
            "dr_per_lead_gt_target_and_leaders_unutilised True\n"
          ],
          "name": "stdout"
        }
      ]
    },
    {
      "cell_type": "code",
      "metadata": {
        "colab": {
          "base_uri": "https://localhost:8080/"
        },
        "id": "9WoR_UNAjYR1",
        "outputId": "ffecc734-bfcb-4bff-b064-098a9cb9cfbc"
      },
      "source": [
        "st1=State(cs,Business_Rules())\n",
        "st1.total_leaders_leading = 100\n",
        "st1.drs_per_lead = 100\n",
        "st1.total_leader_grades_unutilised = 100\n",
        "\n",
        "\n",
        "st2=State(cs,Business_Rules())\n",
        "st2.total_leaders_leading = 100\n",
        "st2.drs_per_lead = 100\n",
        "st2.total_leader_grades_unutilised = 100\n",
        "\n",
        "print(hash((100,100,100,4,1)))\n",
        "\n",
        "print(hash((100,100,100,4,True)))\n",
        "\n",
        "print(hash((50,200,100,4,True)))\n",
        "\n",
        "print(hash(st1))\n",
        "print(hash(st2))\n",
        "\n",
        "print(st1.state_hash())\n",
        "print(st2.state_hash())\n"
      ],
      "execution_count": 450,
      "outputs": [
        {
          "output_type": "stream",
          "text": [
            "10.5\n",
            "10.5\n",
            "-7260956807247127806\n",
            "-7260956807247127806\n",
            "-8208932399249847992\n",
            "8767821500933\n",
            "8767821500985\n",
            "-7260955147838557169\n",
            "-7260955147838557169\n"
          ],
          "name": "stdout"
        }
      ]
    },
    {
      "cell_type": "code",
      "metadata": {
        "colab": {
          "base_uri": "https://localhost:8080/"
        },
        "id": "ZXdzCr8vt7XG",
        "outputId": "1144fb84-8a67-4cba-fbe2-efb7660c44b8"
      },
      "source": [
        "al = ActionList(Business_Rules().actions)\n",
        "print(al.actions)\n",
        "print(al.list_action_hash)"
      ],
      "execution_count": 451,
      "outputs": [
        {
          "output_type": "stream",
          "text": [
            "[<__main__.Action object at 0x7f96ae341950>, <__main__.Action object at 0x7f96b252f150>, <__main__.Action object at 0x7f96b252f810>]\n",
            "[6845558906778704510, -5681847432539490348, -8938540315845285804]\n"
          ],
          "name": "stdout"
        }
      ]
    },
    {
      "cell_type": "code",
      "metadata": {
        "colab": {
          "base_uri": "https://localhost:8080/"
        },
        "id": "zJEcfuHM_u7C",
        "outputId": "46363fdb-7828-452d-fe6e-cd5bfacbeb40"
      },
      "source": [
        "rw = Reward()\n",
        "act = Action(\"reassign\")\n",
        "\n",
        "st.print_info()\n",
        "\n",
        "value = rw.reward_function(st, act)\n",
        "print(\"next\", 2)\n",
        "print(value)\n",
        "new_state = act.perform_action(st)\n",
        "new_state.print_info()\n",
        "\n",
        "value = rw.reward_function(new_state, act)\n",
        "print(\"next\", 3)\n",
        "print(value)\n",
        "new_state = act.perform_action(new_state)\n",
        "new_state.print_info()\n",
        "\n",
        "value = rw.reward_function(new_state, act)\n",
        "print(\"next\", 4)\n",
        "print(value)\n",
        "new_state = act.perform_action(new_state)\n",
        "new_state.print_info()\n",
        "\n",
        "value = rw.reward_function(new_state, act)\n",
        "print(\"next\", 5)\n",
        "print(value)"
      ],
      "execution_count": 452,
      "outputs": [
        {
          "output_type": "stream",
          "text": [
            "\n",
            "\n",
            "total_leaders_leading 2 \n",
            "drs_per_lead 11 \n",
            "total_leader_grades_unutilised 11 \n",
            "target_dr_per_lead 5 \n",
            "dr_per_lead_gt_target_and_leaders_unutilised True\n",
            "next 2\n",
            "4.0\n",
            "\n",
            "\n",
            "total_leaders_leading 3 \n",
            "drs_per_lead 7.0 \n",
            "total_leader_grades_unutilised 10 \n",
            "target_dr_per_lead 5 \n",
            "dr_per_lead_gt_target_and_leaders_unutilised True\n",
            "next 3\n",
            "100\n",
            "\n",
            "\n",
            "total_leaders_leading 4 \n",
            "drs_per_lead 5.0 \n",
            "total_leader_grades_unutilised 9 \n",
            "target_dr_per_lead 5 \n",
            "dr_per_lead_gt_target_and_leaders_unutilised False\n",
            "next 4\n",
            "100\n",
            "\n",
            "\n",
            "total_leaders_leading 4 \n",
            "drs_per_lead 5.0 \n",
            "total_leader_grades_unutilised 9 \n",
            "target_dr_per_lead 5 \n",
            "dr_per_lead_gt_target_and_leaders_unutilised False\n",
            "next 5\n",
            "100\n"
          ],
          "name": "stdout"
        }
      ]
    }
  ]
}